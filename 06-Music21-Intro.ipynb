{
 "cells": [
  {
   "cell_type": "markdown",
   "metadata": {},
   "source": [
    "# Welcome to music21!\n",
    "This notebook presents a very brief and short introduction to music21. Therefore, before reading this notebook, watch and try to understand the concepts explained in the video [CMiE'20 - 03: Introducing and installing music21](https://youtu.be/wrREb68FwNM). Especially make sure that:\n",
    "\n",
    "- you have [installed music21](https://youtu.be/wrREb68FwNM?t=4012), and\n",
    "- you understand the [basic concepts in music21](https://youtu.be/wrREb68FwNM?t=4762).\n",
    "\n",
    "Together with this notebook, you have a new folder called `lsxp-WoBenShi-KongChengJi`. This folder contains three versions of the same score, one with the extension `.mscz`, which is a MuseScore file, a `.pdf` file and a `.xml` file. This score is a transcription of one of the most famous arias of jingju (also known as Peking opera), namely, “我本是卧龙岗散淡的人” (*Wo ben shi Wo Long Gang sandan de ren*, I am an idle man from the Hills of the Crouching Dragon), from the play 《空城计》 (*Kong cheng ji*, The 'empy fort' strategy). Here you have [a recording of this aria performed by Zhang Ke](https://youtu.be/rsg0epYHY6I?t=4484) (from minute 1:14:44 to 1:20:30). You might notice some differences between this recordings and the score. This is normal in jingju, since it is an orally transmitted tradition, and scores are just transcriptions of particular performances. This particular score is taken from the following source:\n",
    "\n",
    "- Cao Baorong 曹宝荣. 2010. *Jingju changqiang banshi jiedu* 京剧唱腔板式解读 \\[Deciphering banshi in jingju arias\\] Vol. 2, 22-26. Beijing Renmin yinyue chubanshe.\n",
    "\n",
    "From this printed version, which uses [jianpu notation](https://en.wikipedia.org/wiki/Numbered_musical_notation), I created a machine readble score using MuseScore, and then exported it both as `.pdf` and `.xml`. As you might have noticed, the name of the file contains the first three Chinese characters of the aria, `WoBenShi`, and the name of the play, `KongChengJi`. The first four letters `lsxp` indicate, first, the role type that sings the aria, in this case *laosheng* (`ls`), and also the *shengqiang* (or melodic schema) in which the aria is arranged, in this case, *xipi* (`xp`). In fact, this score is taken from a collection of machine readable scores created for the computational study of jingju music, in which all scores are named following this standard. If you are interested in learning more about this collection, you can read the following paper:\n",
    "\n",
    "- Rafael Caro Repetto and Xavier Serra . 2017. \"A Collection of music scores for corpus based jingju singing research.\" In *Proceedings of the 18th International Society for Music Information Retrieval Conference, ISMIR 2017, Suzhou, China, October 23-27, 2017*, edited by Sally Jo Cunningham, Zhiyao Duan, Xiao Hu, Douglas Turnbull, 46-52. http://hdl.handle.net/10230/32603\n",
    "\n",
    "For this and the follwoing notebooks we will be working with the `.xml` version of this score (`lsxp-WoBenShi-KongChengJi.xml`). You can also use the `.pdf` version of the score for easier consultation."
   ]
  },
  {
   "cell_type": "markdown",
   "metadata": {},
   "source": [
    "So, let's start! To work with music21, we need to import it first (if you are not familiar with what this means, you can read Notebook 5). From now on, all your scripts that work with music21 will start like this.\n",
    "\n",
    "⇒ **Note**: remember to run this notebook from the Conda environment where you installed music21."
   ]
  },
  {
   "cell_type": "code",
   "execution_count": 1,
   "metadata": {},
   "outputs": [],
   "source": [
    "from music21 import *"
   ]
  },
  {
   "cell_type": "markdown",
   "metadata": {},
   "source": [
    "Now we are ready to start using music21! To load our score, we need the path to it. (For a detailed explanation of this, read notebook 5).\n",
    "\n",
    "⇒ **Note**: the path in the following cell assumes that you have the folder `lsxp-WoBenShi-KongChengJi` in the same folder as this notebook. If you moved that folder somewhere else, you would need to modify the path, according to what it is explained in notebook 5."
   ]
  },
  {
   "cell_type": "code",
   "execution_count": 2,
   "metadata": {},
   "outputs": [
    {
     "name": "stdout",
     "output_type": "stream",
     "text": [
      "./lsxp-WoBenShi-KongChengJi/lsxp-WoBenShi-KongChengJi.xml\n"
     ]
    }
   ],
   "source": [
    "# Path of the folder that contains the score to be loaded\n",
    "path = './lsxp-WoBenShi-KongChengJi/'\n",
    "\n",
    "# Name of the score\n",
    "file_name = 'lsxp-WoBenShi-KongChengJi.xml'\n",
    "\n",
    "# Join the path of the folder with the file name to get the full path\n",
    "fn = path + file_name\n",
    "\n",
    "# Print the path just to be sure that it is correct (optional)\n",
    "print(fn)"
   ]
  },
  {
   "cell_type": "markdown",
   "metadata": {},
   "source": [
    "Now we can load the score with music21. For that, we can use the function `converter.parse()`, giving the path to the score that we just saved in the variable `fn` as parameter. The whole score will be saved in the variable `s` (initial of 'score')."
   ]
  },
  {
   "cell_type": "code",
   "execution_count": 3,
   "metadata": {},
   "outputs": [],
   "source": [
    "s = converter.parse(fn)"
   ]
  },
  {
   "cell_type": "markdown",
   "metadata": {},
   "source": [
    "Let's open the score in the score editor that you linked to music21 using the `.show()` method (it might take a little while).\n",
    "\n",
    "⇒ **Note**: if you get an error in the following cell, check the introductory video mentioned at the beginning and also the notebook \"Music21-Settings\" to find ideas for solving it. If it still doesn't work, you can skip the following cell, and all the cells where the `.show()` method is called, and continue with the rest of the notebook. But get in contact with me to solve the issue."
   ]
  },
  {
   "cell_type": "code",
   "execution_count": 4,
   "metadata": {},
   "outputs": [],
   "source": [
    "s.show()"
   ]
  },
  {
   "cell_type": "markdown",
   "metadata": {},
   "source": [
    "As you saw in the introductory video, music21 handles scores as streams. In fact, our loaded score saved in variable `s` is a stream of type `score`. All streams in music21 have an attribute called `.elements` that you can call to see the elements contained in that stream, just buy attaching it to the variable in which that stream is saved. In this case, our score is saved in variable `s`, so we can call `s.elements`. Let's see how many and which elements are contained in this score.\n",
    "\n",
    "⇒ **Note**: `.elements` is an attribute of a music21 stream, not a method. Therefore, it doesn't require parenthesis."
   ]
  },
  {
   "cell_type": "code",
   "execution_count": 5,
   "metadata": {},
   "outputs": [
    {
     "name": "stdout",
     "output_type": "stream",
     "text": [
      "This score contatins 7 elements:\n",
      "\n",
      "<music21.text.TextBox \"“我本是卧龙岗散淡的...\">\n",
      "<music21.text.TextBox \"《空城计》（诸葛亮）\">\n",
      "<music21.text.TextBox \"曹宝荣，编著《京剧唱...\">\n",
      "<music21.metadata.Metadata object at 0x000002B9109615B0>\n",
      "<music21.stream.Part Piano>\n",
      "<music21.stream.Part Piano>\n",
      "<music21.layout.ScoreLayout>\n"
     ]
    }
   ],
   "source": [
    "# First print how many elements are contained in the score. s.elements is called within the .format() method\n",
    "print(\"This score contatins {} elements:\".format(len(s.elements)))\n",
    "print()\n",
    "\n",
    "# Then, print each element, by looping over s.elements\n",
    "for element in s.elements:\n",
    "    print(element)"
   ]
  },
  {
   "cell_type": "markdown",
   "metadata": {},
   "source": [
    "As you can see, this score, when loaded with music21, contains 7 elements. The first 3 are text boxes, containing the title, subtitle and footer of the score. We are not interested in that. The fourth element is a metadata object, containing information about the score. We also are not interested in that. The last element is a layout object, containing information (like sizes and distances between the score elements) for visually displaying the score using a score editor or similar software. But we want to work with the music. And that is stored in the fifth and sixth elements. As you can see, they are two streams of the type `part`. They have an instrument assigned to them, `piano`, which is assigned by default (not important). These two parts correspond to the two staves contained in our score, the first one for the instrumental accompaniment, and the second one for the vocal line (you can check it in the `.pdf` version of the score).\n",
    "\n",
    "Music21 has an attribute for retrieving only the parts of a score, that is, only the staves, and ignore all text boxes, metadata and layout objects. This attribute is conveniently called `.parts`, and can be called directly on the `score` stream, in this case, `s.parts`.\n",
    "\n",
    "When you retrive objects from a music21 stream using an attribute such as `.parts` or others, music21 likes you to save them in a variable as a new stream. So, in order to do that, you can just add the method `.stream()` at the end, like this: `s.parts.stream()`. This command retrives only the streams of type `part` from the `score` stream and stores them in a new stream. This stream is not of the type `score`, nor `part` nor `measure`, it is just an artificial stream that contains whichever objects we want to store in it. Since it is a stream, we can also call the `.elements` attribute on it to access the elements contained in this new stream.\n",
    "\n",
    "⇒ **Note**: when creating variables, avoid calling them the same way as functions, methods, attributes or other pre-existent elements in the system. For example, now we are going to retrive the parts from the score and save them in a variable. It seems logical to call that variable `parts`. However, `.parts` is a music21 attribute for scores, so this can create problems. I personally like initials, like `s` for score, `p` for part, `m` for measure, `n` for note and so on. And I double the initial when I create a variable that contains more than one of those items, like `pp` for a stream of parts, `mm` for a stream of measures and so on. But this is only my style, you might have a different one!"
   ]
  },
  {
   "cell_type": "code",
   "execution_count": 6,
   "metadata": {},
   "outputs": [
    {
     "name": "stdout",
     "output_type": "stream",
     "text": [
      "This score containts 2 parts:\n",
      "\n",
      "<music21.stream.Part Piano>\n",
      "<music21.stream.Part Piano>\n"
     ]
    }
   ],
   "source": [
    "# Save the part streams from the score stream in the variable pp as a new stream\n",
    "pp = s.parts.stream()\n",
    "\n",
    "# Check the content of the variable pp using the .elements attribute\n",
    "## Print how many elements are contained\n",
    "print(\"This score containts {} parts:\".format(len(pp.elements)))\n",
    "print()\n",
    "\n",
    "## Loop over the elements and print them out\n",
    "for element in pp.elements:\n",
    "    print(element)"
   ]
  },
  {
   "cell_type": "markdown",
   "metadata": {},
   "source": [
    "Since we know (from looking at the `.pdf` score) that the first of these parts correspond to instrumental accompaniment and the second one to the vocal line, let's save each part in an independent variable."
   ]
  },
  {
   "cell_type": "code",
   "execution_count": 7,
   "metadata": {},
   "outputs": [],
   "source": [
    "p_instr = pp[0] # instrumental part\n",
    "p_vocal = pp[1] # vocal part"
   ]
  },
  {
   "cell_type": "markdown",
   "metadata": {},
   "source": [
    "The `.show()` function, used at the beginning, can be call on any stream. This will show the content of that stream in your score editor. Let's just open the vocal part in our score editor using the `.show()` method, to double chek that we saved the vocal line in that variable."
   ]
  },
  {
   "cell_type": "code",
   "execution_count": 8,
   "metadata": {},
   "outputs": [],
   "source": [
    "p_vocal.show()"
   ]
  },
  {
   "cell_type": "markdown",
   "metadata": {},
   "source": [
    "Both the instrumental and vocal parts respectively saved in the variables `p_instr` and `p_vocal` are streams. So we can call the `.elements` attribute to access the elements contained in those parts. Let's see now how many elements are contained in each part."
   ]
  },
  {
   "cell_type": "code",
   "execution_count": 9,
   "metadata": {},
   "outputs": [
    {
     "name": "stdout",
     "output_type": "stream",
     "text": [
      "The instrumental part contains 176 elements.\n",
      "The vocal part contains 279 elements.\n"
     ]
    }
   ],
   "source": [
    "print(\"The instrumental part contains {} elements.\".format(len(p_instr.elements)))\n",
    "print(\"The vocal part contains {} elements.\".format(len(p_vocal.elements)))"
   ]
  },
  {
   "cell_type": "markdown",
   "metadata": {},
   "source": [
    "This is surprising! According to the `.pdf` score, both parts, instrumental and vocal, are equally long. So, why does the vocal part contain many more elements than the instrumental one? Let's print out the elements contained in the vocal part, with their index, for better referencing."
   ]
  },
  {
   "cell_type": "code",
   "execution_count": 10,
   "metadata": {},
   "outputs": [
    {
     "name": "stdout",
     "output_type": "stream",
     "text": [
      "0 P2: Piano: Piano\n",
      "1 <music21.stream.Measure 0 offset=0.0>\n",
      "2 <music21.spanner.Slur <music21.note.Note G#><music21.note.Note G#>>\n",
      "3 <music21.spanner.Slur <music21.note.Note G#><music21.note.Note F#>>\n",
      "4 <music21.spanner.Slur <music21.note.Note B><music21.note.Note F#>>\n",
      "5 <music21.spanner.Slur <music21.note.Note G#><music21.note.Note G#>>\n",
      "6 <music21.spanner.Slur <music21.note.Note B><music21.note.Note G#>>\n",
      "7 <music21.spanner.Slur <music21.note.Note E><music21.note.Note F#>>\n",
      "8 <music21.spanner.Slur <music21.note.Note E><music21.note.Note F#>>\n",
      "9 <music21.spanner.Slur <music21.note.Note G#><music21.note.Note G#>>\n",
      "10 <music21.spanner.Slur <music21.note.Note G#><music21.note.Note E>>\n",
      "11 <music21.spanner.Slur <music21.note.Note B><music21.note.Note G#>>\n",
      "12 <music21.spanner.Slur <music21.note.Note G#><music21.note.Note E>>\n",
      "13 <music21.spanner.Slur <music21.note.Note E><music21.note.Note C#>>\n",
      "14 <music21.spanner.Slur <music21.note.Note C#><music21.note.Note F#>>\n",
      "15 <music21.spanner.Slur <music21.note.Note C#><music21.note.Note E>>\n",
      "16 <music21.spanner.Slur <music21.note.Note G#><music21.note.Note F#>>\n",
      "17 <music21.spanner.Slur <music21.note.Note E><music21.note.Note F#>>\n",
      "18 <music21.spanner.Slur <music21.note.Note G#><music21.note.Note F#>>\n",
      "19 <music21.spanner.Slur <music21.note.Note B><music21.note.Note F#>>\n",
      "20 <music21.spanner.Slur <music21.note.Note C#><music21.note.Note F#>>\n",
      "21 <music21.spanner.Slur <music21.note.Note E><music21.note.Note F#>>\n",
      "22 <music21.spanner.Slur <music21.note.Note G#><music21.note.Note G#>>\n",
      "23 <music21.spanner.Slur <music21.note.Note G#><music21.note.Note F#>>\n",
      "24 <music21.spanner.Slur <music21.note.Note D#><music21.note.Note G#>>\n",
      "25 <music21.spanner.Slur <music21.note.Note B><music21.note.Note B>>\n",
      "26 <music21.spanner.Slur <music21.note.Note B><music21.note.Note C#>>\n",
      "27 <music21.spanner.Slur <music21.note.Note B><music21.note.Note F#>>\n",
      "28 <music21.spanner.Slur <music21.note.Note C#><music21.note.Note G#>>\n",
      "29 <music21.spanner.Slur <music21.note.Note F#><music21.note.Note E>>\n",
      "30 <music21.spanner.Slur <music21.note.Note C#><music21.note.Note E>>\n",
      "31 <music21.spanner.Slur <music21.note.Note E><music21.note.Note C#>>\n",
      "32 <music21.spanner.Slur <music21.note.Note E><music21.note.Note B>>\n",
      "33 <music21.spanner.Slur <music21.note.Note G#><music21.note.Note B>>\n",
      "34 <music21.spanner.Slur <music21.note.Note C#><music21.note.Note C#>>\n",
      "35 <music21.spanner.Slur <music21.note.Note G#><music21.note.Note B>>\n",
      "36 <music21.spanner.Slur <music21.note.Note B><music21.note.Note D#>>\n",
      "37 <music21.spanner.Slur <music21.note.Note F#><music21.note.Note D#>>\n",
      "38 <music21.spanner.Slur <music21.note.Note C#><music21.note.Note C#>>\n",
      "39 <music21.spanner.Slur <music21.note.Note C#><music21.note.Note F#>>\n",
      "40 <music21.spanner.Slur <music21.note.Note F#><music21.note.Note F#>>\n",
      "41 <music21.spanner.Slur <music21.note.Note C#><music21.note.Note C#>>\n",
      "42 <music21.spanner.Slur <music21.note.Note D#><music21.note.Note D#>>\n",
      "43 <music21.spanner.Slur <music21.note.Note D#><music21.note.Note C#>>\n",
      "44 <music21.spanner.Slur <music21.note.Note G#><music21.note.Note B>>\n",
      "45 <music21.spanner.Slur <music21.note.Note B><music21.note.Note F#>>\n",
      "46 <music21.spanner.Slur <music21.note.Note D#><music21.note.Note B>>\n",
      "47 <music21.spanner.Slur <music21.note.Note C#><music21.note.Note E>>\n",
      "48 <music21.spanner.Slur <music21.note.Note G#><music21.note.Note F#>>\n",
      "49 <music21.spanner.Slur <music21.note.Note E><music21.note.Note F#>>\n",
      "50 <music21.spanner.Slur <music21.note.Note C#><music21.note.Note E>>\n",
      "51 <music21.spanner.Slur <music21.note.Note B><music21.note.Note F#>>\n",
      "52 <music21.spanner.Slur <music21.note.Note C#><music21.note.Note G#>>\n",
      "53 <music21.spanner.Slur <music21.note.Note E><music21.note.Note C#>>\n",
      "54 <music21.spanner.Slur <music21.note.Note G#><music21.note.Note F#>>\n",
      "55 <music21.spanner.Slur <music21.note.Note A><music21.note.Note G#>>\n",
      "56 <music21.spanner.Slur <music21.note.Note G#><music21.note.Note G#>>\n",
      "57 <music21.spanner.Slur <music21.note.Note G#><music21.note.Note G#>>\n",
      "58 <music21.spanner.Slur <music21.note.Note B><music21.note.Note G#>>\n",
      "59 <music21.spanner.Slur <music21.note.Note F#><music21.note.Note E>>\n",
      "60 <music21.spanner.Slur <music21.note.Note D#><music21.note.Note B>>\n",
      "61 <music21.spanner.Slur <music21.note.Note B><music21.note.Note C#>>\n",
      "62 <music21.spanner.Slur <music21.note.Note B><music21.note.Note E>>\n",
      "63 <music21.spanner.Slur <music21.note.Note C#><music21.note.Note E>>\n",
      "64 <music21.spanner.Slur <music21.note.Note F#><music21.note.Note B>>\n",
      "65 <music21.spanner.Slur <music21.note.Note G#><music21.note.Note F#>>\n",
      "66 <music21.spanner.Slur <music21.note.Note A><music21.note.Note G#>>\n",
      "67 <music21.spanner.Slur <music21.note.Note G#><music21.note.Note G#>>\n",
      "68 <music21.spanner.Slur <music21.note.Note G#><music21.note.Note G#>>\n",
      "69 <music21.spanner.Slur <music21.note.Note B><music21.note.Note G#>>\n",
      "70 <music21.spanner.Slur <music21.note.Note F#><music21.note.Note F#>>\n",
      "71 <music21.spanner.Slur <music21.note.Note G#><music21.note.Note G#>>\n",
      "72 <music21.spanner.Slur <music21.note.Note G#><music21.note.Note F#>>\n",
      "73 <music21.spanner.Slur <music21.note.Note C#><music21.note.Note E>>\n",
      "74 <music21.spanner.Slur <music21.note.Note B><music21.note.Note G#>>\n",
      "75 <music21.spanner.Slur <music21.note.Note E><music21.note.Note E>>\n",
      "76 <music21.spanner.Slur <music21.note.Note F#><music21.note.Note E>>\n",
      "77 <music21.spanner.Slur <music21.note.Note E><music21.note.Note F#>>\n",
      "78 <music21.spanner.Slur <music21.note.Note F#><music21.note.Note G#>>\n",
      "79 <music21.spanner.Slur <music21.note.Note B><music21.note.Note G#>>\n",
      "80 <music21.spanner.Slur <music21.note.Note G#><music21.note.Note F#>>\n",
      "81 <music21.spanner.Slur <music21.note.Note E><music21.note.Note F#>>\n",
      "82 <music21.spanner.Slur <music21.note.Note C#><music21.note.Note G#>>\n",
      "83 <music21.spanner.Slur <music21.note.Note E><music21.note.Note B>>\n",
      "84 <music21.spanner.Slur <music21.note.Note G#><music21.note.Note F#>>\n",
      "85 <music21.spanner.Slur <music21.note.Note G#><music21.note.Note B>>\n",
      "86 <music21.spanner.Slur <music21.note.Note E><music21.note.Note F#>>\n",
      "87 <music21.spanner.Slur <music21.note.Note D#><music21.note.Note B>>\n",
      "88 <music21.spanner.Slur <music21.note.Note C#><music21.note.Note F#>>\n",
      "89 <music21.spanner.Slur <music21.note.Note E><music21.note.Note F#>>\n",
      "90 <music21.spanner.Slur <music21.note.Note C#><music21.note.Note E>>\n",
      "91 <music21.spanner.Slur <music21.note.Note G#><music21.note.Note G#>>\n",
      "92 <music21.spanner.Slur <music21.note.Note B><music21.note.Note F#>>\n",
      "93 <music21.spanner.Slur <music21.note.Note G#><music21.note.Note B>>\n",
      "94 <music21.spanner.Slur <music21.note.Note B><music21.note.Note C#>>\n",
      "95 <music21.spanner.Slur <music21.note.Note E><music21.note.Note C#>>\n",
      "96 <music21.spanner.Slur <music21.note.Note C#><music21.note.Note E>>\n",
      "97 <music21.spanner.Slur <music21.note.Note C#><music21.note.Note F#>>\n",
      "98 <music21.spanner.Slur <music21.note.Note F#><music21.note.Note F#>>\n",
      "99 <music21.spanner.Slur <music21.note.Note F#><music21.note.Note B>>\n",
      "100 <music21.spanner.Slur <music21.note.Note G#><music21.note.Note G#>>\n",
      "101 <music21.spanner.Slur <music21.note.Note C#><music21.note.Note D#>>\n",
      "102 <music21.spanner.Slur <music21.note.Note C#><music21.note.Note C#>>\n",
      "103 <music21.spanner.Slur <music21.note.Note C#><music21.note.Note C#>>\n",
      "104 <music21.spanner.Slur <music21.note.Note F#><music21.note.Note D#>>\n",
      "105 <music21.spanner.Slur <music21.note.Note D#><music21.note.Note C#>>\n",
      "106 <music21.spanner.Slur <music21.note.Note B><music21.note.Note F#>>\n",
      "107 <music21.spanner.Slur <music21.note.Note D#><music21.note.Note D#>>\n",
      "108 <music21.spanner.Slur <music21.note.Note D#><music21.note.Note C#>>\n",
      "109 <music21.spanner.Slur <music21.note.Note D#><music21.note.Note F#>>\n",
      "110 <music21.spanner.Slur <music21.note.Note G#><music21.note.Note F#>>\n",
      "111 <music21.spanner.Slur <music21.note.Note F#><music21.note.Note C#>>\n",
      "112 <music21.spanner.Slur <music21.note.Note F#><music21.note.Note F#>>\n",
      "113 <music21.spanner.Slur <music21.note.Note F#><music21.note.Note F#>>\n",
      "114 <music21.spanner.Slur <music21.note.Note F#><music21.note.Note E>>\n",
      "115 <music21.spanner.Slur <music21.note.Note F#><music21.note.Note F#>>\n",
      "116 <music21.spanner.Slur <music21.note.Note A><music21.note.Note E>>\n",
      "117 <music21.spanner.Slur <music21.note.Note F#><music21.note.Note E>>\n",
      "118 <music21.spanner.Slur <music21.note.Note E><music21.note.Note E>>\n",
      "119 <music21.stream.Measure 1 offset=2.0>\n",
      "120 <music21.stream.Measure 2 offset=6.0>\n",
      "121 <music21.stream.Measure 3 offset=10.0>\n",
      "122 <music21.stream.Measure 4 offset=14.0>\n",
      "123 <music21.stream.Measure 5 offset=18.0>\n",
      "124 <music21.stream.Measure 6 offset=22.0>\n",
      "125 <music21.stream.Measure 7 offset=26.0>\n",
      "126 <music21.stream.Measure 8 offset=30.0>\n",
      "127 <music21.stream.Measure 9 offset=34.0>\n",
      "128 <music21.stream.Measure 10 offset=38.0>\n",
      "129 <music21.stream.Measure 11 offset=42.0>\n",
      "130 <music21.stream.Measure 12 offset=46.0>\n",
      "131 <music21.stream.Measure 13 offset=50.0>\n",
      "132 <music21.stream.Measure 14 offset=54.0>\n",
      "133 <music21.stream.Measure 15 offset=58.0>\n",
      "134 <music21.stream.Measure 16 offset=62.0>\n",
      "135 <music21.stream.Measure 17 offset=66.0>\n",
      "136 <music21.stream.Measure 18 offset=70.0>\n",
      "137 <music21.stream.Measure 19 offset=74.0>\n",
      "138 <music21.stream.Measure 20 offset=78.0>\n",
      "139 <music21.stream.Measure 21 offset=82.0>\n",
      "140 <music21.stream.Measure 22 offset=86.0>\n",
      "141 <music21.stream.Measure 23 offset=90.0>\n",
      "142 <music21.stream.Measure 24 offset=94.0>\n",
      "143 <music21.stream.Measure 25 offset=98.0>\n",
      "144 <music21.stream.Measure 26 offset=102.0>\n",
      "145 <music21.stream.Measure 27 offset=106.0>\n",
      "146 <music21.stream.Measure 28 offset=110.0>\n",
      "147 <music21.stream.Measure 29 offset=114.0>\n",
      "148 <music21.stream.Measure 30 offset=118.0>\n",
      "149 <music21.stream.Measure 31 offset=122.0>\n",
      "150 <music21.stream.Measure 32 offset=126.0>\n",
      "151 <music21.stream.Measure 33 offset=130.0>\n",
      "152 <music21.stream.Measure 34 offset=134.0>\n",
      "153 <music21.stream.Measure 35 offset=138.0>\n",
      "154 <music21.stream.Measure 36 offset=142.0>\n",
      "155 <music21.stream.Measure 37 offset=146.0>\n",
      "156 <music21.stream.Measure 38 offset=150.0>\n",
      "157 <music21.stream.Measure 39 offset=154.0>\n",
      "158 <music21.stream.Measure 40 offset=158.0>\n",
      "159 <music21.stream.Measure 41 offset=162.0>\n",
      "160 <music21.stream.Measure 42 offset=166.0>\n",
      "161 <music21.stream.Measure 43 offset=170.0>\n",
      "162 <music21.stream.Measure 44 offset=174.0>\n",
      "163 <music21.stream.Measure 45 offset=178.0>\n",
      "164 <music21.stream.Measure 46 offset=182.0>\n",
      "165 <music21.stream.Measure 47 offset=186.0>\n",
      "166 <music21.stream.Measure 48 offset=190.0>\n",
      "167 <music21.stream.Measure 49 offset=194.0>\n",
      "168 <music21.stream.Measure 50 offset=198.0>\n",
      "169 <music21.stream.Measure 51 offset=202.0>\n",
      "170 <music21.stream.Measure 52 offset=206.0>\n",
      "171 <music21.stream.Measure 53 offset=210.0>\n",
      "172 <music21.stream.Measure 54 offset=214.0>\n",
      "173 <music21.stream.Measure 55 offset=218.0>\n",
      "174 <music21.stream.Measure 56 offset=222.0>\n",
      "175 <music21.stream.Measure 57 offset=226.0>\n",
      "176 <music21.stream.Measure 58 offset=230.0>\n",
      "177 <music21.stream.Measure 59 offset=234.0>\n",
      "178 <music21.stream.Measure 60 offset=238.0>\n",
      "179 <music21.stream.Measure 61 offset=242.0>\n",
      "180 <music21.stream.Measure 62 offset=246.0>\n",
      "181 <music21.stream.Measure 63 offset=250.0>\n",
      "182 <music21.stream.Measure 64 offset=254.0>\n",
      "183 <music21.stream.Measure 65 offset=258.0>\n",
      "184 <music21.stream.Measure 66 offset=262.0>\n",
      "185 <music21.stream.Measure 67 offset=266.0>\n",
      "186 <music21.stream.Measure 68 offset=270.0>\n",
      "187 <music21.stream.Measure 69 offset=274.0>\n",
      "188 <music21.stream.Measure 70 offset=278.0>\n",
      "189 <music21.stream.Measure 71 offset=282.0>\n",
      "190 <music21.stream.Measure 72 offset=286.0>\n",
      "191 <music21.stream.Measure 73 offset=290.0>\n",
      "192 <music21.stream.Measure 74 offset=294.0>\n",
      "193 <music21.stream.Measure 75 offset=298.0>\n",
      "194 <music21.stream.Measure 76 offset=302.0>\n",
      "195 <music21.stream.Measure 77 offset=306.0>\n",
      "196 <music21.stream.Measure 78 offset=310.0>\n",
      "197 <music21.stream.Measure 79 offset=314.0>\n",
      "198 <music21.stream.Measure 80 offset=318.0>\n",
      "199 <music21.stream.Measure 81 offset=322.0>\n",
      "200 <music21.stream.Measure 82 offset=326.0>\n",
      "201 <music21.stream.Measure 83 offset=330.0>\n",
      "202 <music21.stream.Measure 84 offset=334.0>\n",
      "203 <music21.stream.Measure 85 offset=338.0>\n",
      "204 <music21.stream.Measure 86 offset=342.0>\n",
      "205 <music21.stream.Measure 87 offset=346.0>\n",
      "206 <music21.stream.Measure 88 offset=350.0>\n",
      "207 <music21.stream.Measure 89 offset=354.0>\n",
      "208 <music21.stream.Measure 90 offset=358.0>\n",
      "209 <music21.stream.Measure 91 offset=362.0>\n",
      "210 <music21.stream.Measure 92 offset=366.0>\n",
      "211 <music21.stream.Measure 93 offset=370.0>\n",
      "212 <music21.stream.Measure 94 offset=374.0>\n",
      "213 <music21.stream.Measure 95 offset=378.0>\n",
      "214 <music21.stream.Measure 96 offset=382.0>\n",
      "215 <music21.stream.Measure 97 offset=386.0>\n",
      "216 <music21.stream.Measure 98 offset=390.0>\n",
      "217 <music21.stream.Measure 99 offset=394.0>\n",
      "218 <music21.stream.Measure 100 offset=398.0>\n",
      "219 <music21.stream.Measure 101 offset=402.0>\n",
      "220 <music21.stream.Measure 102 offset=406.0>\n",
      "221 <music21.stream.Measure 103 offset=410.0>\n",
      "222 <music21.stream.Measure 104 offset=414.0>\n",
      "223 <music21.stream.Measure 105 offset=418.0>\n",
      "224 <music21.stream.Measure 106 offset=422.0>\n",
      "225 <music21.stream.Measure 107 offset=426.0>\n",
      "226 <music21.stream.Measure 108 offset=430.0>\n",
      "227 <music21.stream.Measure 109 offset=434.0>\n",
      "228 <music21.stream.Measure 110 offset=438.0>\n",
      "229 <music21.stream.Measure 111 offset=442.0>\n",
      "230 <music21.stream.Measure 112 offset=446.0>\n",
      "231 <music21.stream.Measure 113 offset=450.0>\n",
      "232 <music21.stream.Measure 114 offset=454.0>\n",
      "233 <music21.stream.Measure 115 offset=458.0>\n",
      "234 <music21.stream.Measure 116 offset=462.0>\n",
      "235 <music21.stream.Measure 117 offset=466.0>\n",
      "236 <music21.stream.Measure 118 offset=470.0>\n",
      "237 <music21.stream.Measure 119 offset=474.0>\n",
      "238 <music21.stream.Measure 120 offset=478.0>\n",
      "239 <music21.stream.Measure 121 offset=482.0>\n",
      "240 <music21.stream.Measure 122 offset=486.0>\n",
      "241 <music21.stream.Measure 123 offset=490.0>\n",
      "242 <music21.stream.Measure 124 offset=494.0>\n",
      "243 <music21.stream.Measure 125 offset=498.0>\n",
      "244 <music21.stream.Measure 126 offset=502.0>\n",
      "245 <music21.stream.Measure 127 offset=506.0>\n",
      "246 <music21.stream.Measure 128 offset=510.0>\n",
      "247 <music21.stream.Measure 129 offset=514.0>\n",
      "248 <music21.stream.Measure 130 offset=518.0>\n",
      "249 <music21.stream.Measure 131 offset=522.0>\n",
      "250 <music21.stream.Measure 132 offset=526.0>\n",
      "251 <music21.stream.Measure 133 offset=530.0>\n",
      "252 <music21.stream.Measure 134 offset=532.0>\n",
      "253 <music21.stream.Measure 135 offset=534.0>\n",
      "254 <music21.stream.Measure 136 offset=536.0>\n",
      "255 <music21.stream.Measure 137 offset=538.0>\n",
      "256 <music21.stream.Measure 138 offset=540.0>\n",
      "257 <music21.stream.Measure 139 offset=542.0>\n",
      "258 <music21.stream.Measure 140 offset=544.0>\n",
      "259 <music21.stream.Measure 141 offset=546.0>\n",
      "260 <music21.stream.Measure 142 offset=548.0>\n",
      "261 <music21.stream.Measure 143 offset=550.0>\n",
      "262 <music21.stream.Measure 144 offset=552.0>\n",
      "263 <music21.stream.Measure 145 offset=554.0>\n",
      "264 <music21.stream.Measure 146 offset=556.0>\n",
      "265 <music21.stream.Measure 147 offset=558.0>\n",
      "266 <music21.stream.Measure 148 offset=560.0>\n",
      "267 <music21.stream.Measure 149 offset=562.0>\n",
      "268 <music21.stream.Measure 150 offset=564.0>\n",
      "269 <music21.stream.Measure 151 offset=566.0>\n",
      "270 <music21.stream.Measure 152 offset=568.0>\n",
      "271 <music21.stream.Measure 153 offset=570.0>\n",
      "272 <music21.stream.Measure 154 offset=572.0>\n",
      "273 <music21.stream.Measure 155 offset=574.0>\n",
      "274 <music21.stream.Measure 156 offset=576.0>\n",
      "275 <music21.stream.Measure 157 offset=578.0>\n",
      "276 <music21.stream.Measure 158 offset=580.0>\n",
      "277 <music21.stream.Measure 159 offset=582.0>\n",
      "278 <music21.stream.Measure 160 offset=584.0>\n"
     ]
    }
   ],
   "source": [
    "# Loop over the indexes of the vocal part\n",
    "for i in range(len(p_vocal.elements)):\n",
    "    print(i, p_vocal.elements[i]) # print the index and the element in that index position"
   ]
  },
  {
   "cell_type": "markdown",
   "metadata": {},
   "source": [
    "The first element contained in the vocal part, at index 0, is an instrument object, in this case, `piano`. This is done by default, and is used just for the midi playback of the score. Not important for us. The second element, at index 1, is a stream of the type `measure`. And this is important for us! But from index 2 to index 118, all those elements are, as you can see, slur objects. And this is one of the weird issues with music21. All the slurs in the score, are loaded as independent objects separated from the notes they embrace. Even though this is extrange and inconvenient if you want to work with the slurs, it shows that for music21 the essential information of a score are the notes, and the rest is secondary.\n",
    "\n",
    "So, from index 119 on, all the elements are streams of the type `measure`. And this is what we want! Because these measures contain the notes. To retrive only the measures from a part, we can use an interesting method call `.getElementByClass()`. This method retrives all the elements of the class that you give it as input which are contained in the strem on which you call it. So, let's retrive all the measures of the instrumental part and save them in a variable called `mm_instr` (`mm` for 'measures'), and the same for the vocal part. And remember, whenever you retrieve elements from a stream, music21 likes you to save them as a new stream. Finally, let's see if this streams that we created containing only measures are of equal length."
   ]
  },
  {
   "cell_type": "code",
   "execution_count": 11,
   "metadata": {},
   "outputs": [
    {
     "name": "stdout",
     "output_type": "stream",
     "text": [
      "The instrumental part contains 161 measures.\n",
      "The vocal part contains 161 measures.\n"
     ]
    }
   ],
   "source": [
    "mm_instr = p_instr.getElementsByClass('Measure').stream()\n",
    "mm_vocal = p_vocal.getElementsByClass('Measure').stream()\n",
    "\n",
    "print(\"The instrumental part contains {} measures.\".format(len(mm_instr.elements)))\n",
    "print(\"The vocal part contains {} measures.\".format(len(mm_vocal.elements)))"
   ]
  },
  {
   "cell_type": "markdown",
   "metadata": {},
   "source": [
    "Now it makes sense! Both instrumental and vocal parts contain the same number of measures.\n",
    "\n",
    "Let's check something. If the slurs are contained in the part stream separated from the measures, and therefore the stream that we assigned to variable `mm_vocal` only contains measures, if we open this stream in our score editor using the `.show()` method, we won't see any slur."
   ]
  },
  {
   "cell_type": "code",
   "execution_count": 12,
   "metadata": {},
   "outputs": [],
   "source": [
    "mm_vocal.show()"
   ]
  },
  {
   "cell_type": "markdown",
   "metadata": {},
   "source": [
    "To double check that everything is ok, let's print out all the elements contained in the `mm_instr` variable, together with their index:"
   ]
  },
  {
   "cell_type": "code",
   "execution_count": 13,
   "metadata": {},
   "outputs": [
    {
     "name": "stdout",
     "output_type": "stream",
     "text": [
      "0 <music21.stream.Measure 0 offset=0.0>\n",
      "1 <music21.stream.Measure 1 offset=2.0>\n",
      "2 <music21.stream.Measure 2 offset=6.0>\n",
      "3 <music21.stream.Measure 3 offset=10.0>\n",
      "4 <music21.stream.Measure 4 offset=14.0>\n",
      "5 <music21.stream.Measure 5 offset=18.0>\n",
      "6 <music21.stream.Measure 6 offset=22.0>\n",
      "7 <music21.stream.Measure 7 offset=26.0>\n",
      "8 <music21.stream.Measure 8 offset=30.0>\n",
      "9 <music21.stream.Measure 9 offset=34.0>\n",
      "10 <music21.stream.Measure 10 offset=38.0>\n",
      "11 <music21.stream.Measure 11 offset=42.0>\n",
      "12 <music21.stream.Measure 12 offset=46.0>\n",
      "13 <music21.stream.Measure 13 offset=50.0>\n",
      "14 <music21.stream.Measure 14 offset=54.0>\n",
      "15 <music21.stream.Measure 15 offset=58.0>\n",
      "16 <music21.stream.Measure 16 offset=62.0>\n",
      "17 <music21.stream.Measure 17 offset=66.0>\n",
      "18 <music21.stream.Measure 18 offset=70.0>\n",
      "19 <music21.stream.Measure 19 offset=74.0>\n",
      "20 <music21.stream.Measure 20 offset=78.0>\n",
      "21 <music21.stream.Measure 21 offset=82.0>\n",
      "22 <music21.stream.Measure 22 offset=86.0>\n",
      "23 <music21.stream.Measure 23 offset=90.0>\n",
      "24 <music21.stream.Measure 24 offset=94.0>\n",
      "25 <music21.stream.Measure 25 offset=98.0>\n",
      "26 <music21.stream.Measure 26 offset=102.0>\n",
      "27 <music21.stream.Measure 27 offset=106.0>\n",
      "28 <music21.stream.Measure 28 offset=110.0>\n",
      "29 <music21.stream.Measure 29 offset=114.0>\n",
      "30 <music21.stream.Measure 30 offset=118.0>\n",
      "31 <music21.stream.Measure 31 offset=122.0>\n",
      "32 <music21.stream.Measure 32 offset=126.0>\n",
      "33 <music21.stream.Measure 33 offset=130.0>\n",
      "34 <music21.stream.Measure 34 offset=134.0>\n",
      "35 <music21.stream.Measure 35 offset=138.0>\n",
      "36 <music21.stream.Measure 36 offset=142.0>\n",
      "37 <music21.stream.Measure 37 offset=146.0>\n",
      "38 <music21.stream.Measure 38 offset=150.0>\n",
      "39 <music21.stream.Measure 39 offset=154.0>\n",
      "40 <music21.stream.Measure 40 offset=158.0>\n",
      "41 <music21.stream.Measure 41 offset=162.0>\n",
      "42 <music21.stream.Measure 42 offset=166.0>\n",
      "43 <music21.stream.Measure 43 offset=170.0>\n",
      "44 <music21.stream.Measure 44 offset=174.0>\n",
      "45 <music21.stream.Measure 45 offset=178.0>\n",
      "46 <music21.stream.Measure 46 offset=182.0>\n",
      "47 <music21.stream.Measure 47 offset=186.0>\n",
      "48 <music21.stream.Measure 48 offset=190.0>\n",
      "49 <music21.stream.Measure 49 offset=194.0>\n",
      "50 <music21.stream.Measure 50 offset=198.0>\n",
      "51 <music21.stream.Measure 51 offset=202.0>\n",
      "52 <music21.stream.Measure 52 offset=206.0>\n",
      "53 <music21.stream.Measure 53 offset=210.0>\n",
      "54 <music21.stream.Measure 54 offset=214.0>\n",
      "55 <music21.stream.Measure 55 offset=218.0>\n",
      "56 <music21.stream.Measure 56 offset=222.0>\n",
      "57 <music21.stream.Measure 57 offset=226.0>\n",
      "58 <music21.stream.Measure 58 offset=230.0>\n",
      "59 <music21.stream.Measure 59 offset=234.0>\n",
      "60 <music21.stream.Measure 60 offset=238.0>\n",
      "61 <music21.stream.Measure 61 offset=242.0>\n",
      "62 <music21.stream.Measure 62 offset=246.0>\n",
      "63 <music21.stream.Measure 63 offset=250.0>\n",
      "64 <music21.stream.Measure 64 offset=254.0>\n",
      "65 <music21.stream.Measure 65 offset=258.0>\n",
      "66 <music21.stream.Measure 66 offset=262.0>\n",
      "67 <music21.stream.Measure 67 offset=266.0>\n",
      "68 <music21.stream.Measure 68 offset=270.0>\n",
      "69 <music21.stream.Measure 69 offset=274.0>\n",
      "70 <music21.stream.Measure 70 offset=278.0>\n",
      "71 <music21.stream.Measure 71 offset=282.0>\n",
      "72 <music21.stream.Measure 72 offset=286.0>\n",
      "73 <music21.stream.Measure 73 offset=290.0>\n",
      "74 <music21.stream.Measure 74 offset=294.0>\n",
      "75 <music21.stream.Measure 75 offset=298.0>\n",
      "76 <music21.stream.Measure 76 offset=302.0>\n",
      "77 <music21.stream.Measure 77 offset=306.0>\n",
      "78 <music21.stream.Measure 78 offset=310.0>\n",
      "79 <music21.stream.Measure 79 offset=314.0>\n",
      "80 <music21.stream.Measure 80 offset=318.0>\n",
      "81 <music21.stream.Measure 81 offset=322.0>\n",
      "82 <music21.stream.Measure 82 offset=326.0>\n",
      "83 <music21.stream.Measure 83 offset=330.0>\n",
      "84 <music21.stream.Measure 84 offset=334.0>\n",
      "85 <music21.stream.Measure 85 offset=338.0>\n",
      "86 <music21.stream.Measure 86 offset=342.0>\n",
      "87 <music21.stream.Measure 87 offset=346.0>\n",
      "88 <music21.stream.Measure 88 offset=350.0>\n",
      "89 <music21.stream.Measure 89 offset=354.0>\n",
      "90 <music21.stream.Measure 90 offset=358.0>\n",
      "91 <music21.stream.Measure 91 offset=362.0>\n",
      "92 <music21.stream.Measure 92 offset=366.0>\n",
      "93 <music21.stream.Measure 93 offset=370.0>\n",
      "94 <music21.stream.Measure 94 offset=374.0>\n",
      "95 <music21.stream.Measure 95 offset=378.0>\n",
      "96 <music21.stream.Measure 96 offset=382.0>\n",
      "97 <music21.stream.Measure 97 offset=386.0>\n",
      "98 <music21.stream.Measure 98 offset=390.0>\n",
      "99 <music21.stream.Measure 99 offset=394.0>\n",
      "100 <music21.stream.Measure 100 offset=398.0>\n",
      "101 <music21.stream.Measure 101 offset=402.0>\n",
      "102 <music21.stream.Measure 102 offset=406.0>\n",
      "103 <music21.stream.Measure 103 offset=410.0>\n",
      "104 <music21.stream.Measure 104 offset=414.0>\n",
      "105 <music21.stream.Measure 105 offset=418.0>\n",
      "106 <music21.stream.Measure 106 offset=422.0>\n",
      "107 <music21.stream.Measure 107 offset=426.0>\n",
      "108 <music21.stream.Measure 108 offset=430.0>\n",
      "109 <music21.stream.Measure 109 offset=434.0>\n",
      "110 <music21.stream.Measure 110 offset=438.0>\n",
      "111 <music21.stream.Measure 111 offset=442.0>\n",
      "112 <music21.stream.Measure 112 offset=446.0>\n",
      "113 <music21.stream.Measure 113 offset=450.0>\n",
      "114 <music21.stream.Measure 114 offset=454.0>\n",
      "115 <music21.stream.Measure 115 offset=458.0>\n",
      "116 <music21.stream.Measure 116 offset=462.0>\n",
      "117 <music21.stream.Measure 117 offset=466.0>\n",
      "118 <music21.stream.Measure 118 offset=470.0>\n",
      "119 <music21.stream.Measure 119 offset=474.0>\n",
      "120 <music21.stream.Measure 120 offset=478.0>\n",
      "121 <music21.stream.Measure 121 offset=482.0>\n",
      "122 <music21.stream.Measure 122 offset=486.0>\n",
      "123 <music21.stream.Measure 123 offset=490.0>\n",
      "124 <music21.stream.Measure 124 offset=494.0>\n",
      "125 <music21.stream.Measure 125 offset=498.0>\n",
      "126 <music21.stream.Measure 126 offset=502.0>\n",
      "127 <music21.stream.Measure 127 offset=506.0>\n",
      "128 <music21.stream.Measure 128 offset=510.0>\n",
      "129 <music21.stream.Measure 129 offset=514.0>\n",
      "130 <music21.stream.Measure 130 offset=518.0>\n",
      "131 <music21.stream.Measure 131 offset=522.0>\n",
      "132 <music21.stream.Measure 132 offset=526.0>\n",
      "133 <music21.stream.Measure 133 offset=530.0>\n",
      "134 <music21.stream.Measure 134 offset=532.0>\n",
      "135 <music21.stream.Measure 135 offset=534.0>\n",
      "136 <music21.stream.Measure 136 offset=536.0>\n",
      "137 <music21.stream.Measure 137 offset=538.0>\n",
      "138 <music21.stream.Measure 138 offset=540.0>\n",
      "139 <music21.stream.Measure 139 offset=542.0>\n",
      "140 <music21.stream.Measure 140 offset=544.0>\n",
      "141 <music21.stream.Measure 141 offset=546.0>\n",
      "142 <music21.stream.Measure 142 offset=548.0>\n",
      "143 <music21.stream.Measure 143 offset=550.0>\n",
      "144 <music21.stream.Measure 144 offset=552.0>\n",
      "145 <music21.stream.Measure 145 offset=554.0>\n",
      "146 <music21.stream.Measure 146 offset=556.0>\n",
      "147 <music21.stream.Measure 147 offset=558.0>\n",
      "148 <music21.stream.Measure 148 offset=560.0>\n",
      "149 <music21.stream.Measure 149 offset=562.0>\n",
      "150 <music21.stream.Measure 150 offset=564.0>\n",
      "151 <music21.stream.Measure 151 offset=566.0>\n",
      "152 <music21.stream.Measure 152 offset=568.0>\n",
      "153 <music21.stream.Measure 153 offset=570.0>\n",
      "154 <music21.stream.Measure 154 offset=572.0>\n",
      "155 <music21.stream.Measure 155 offset=574.0>\n",
      "156 <music21.stream.Measure 156 offset=576.0>\n",
      "157 <music21.stream.Measure 157 offset=578.0>\n",
      "158 <music21.stream.Measure 158 offset=580.0>\n",
      "159 <music21.stream.Measure 159 offset=582.0>\n",
      "160 <music21.stream.Measure 160 offset=584.0>\n"
     ]
    }
   ],
   "source": [
    "for i in range(len(mm_instr.elements)):\n",
    "    print(i, mm_instr.elements[i])"
   ]
  },
  {
   "cell_type": "markdown",
   "metadata": {},
   "source": [
    "Notice that all measures have a number. The measure numbering starts with the first downbeat of the score, that is, measure numeber `1` is the measure with the first downbeat. This score, however, starts with anacrusis. So, the notes of this anacrusis are stored in a measure with number `0`, because they occur before the first downbeat of measure number `1`. Consequently, in the scores that start with anacrusis, the measure number and the measure index are the same. However, if a score does not start with anacrusis, but starts with the first downbeat, the first measure would be number `1`, and there won't be a measure with the number `0`. In those cases, the first measure, that is, the measure at index `0`, would be the measure number `1`, and the index of each measure would be one intenger less than the measure number.\n",
    "\n",
    "So, now that we have all the measures, let's finally go to the notes! For that, let's randomly take measure number `4` (in this case, also at index `4`) from the instrumental part. We will save it in a variable called `im_04` (`i`nstrumental `m`easure number `04`)."
   ]
  },
  {
   "cell_type": "code",
   "execution_count": 14,
   "metadata": {},
   "outputs": [],
   "source": [
    "im_04 = mm_instr[4]"
   ]
  },
  {
   "cell_type": "markdown",
   "metadata": {},
   "source": [
    "Since a measure is also a stream, we can call the `.elements` attribute and see what is contained in that measure."
   ]
  },
  {
   "cell_type": "code",
   "execution_count": 15,
   "metadata": {},
   "outputs": [
    {
     "name": "stdout",
     "output_type": "stream",
     "text": [
      "This measure contains 8 elements:\n",
      "\n",
      "<music21.note.Note F#>\n",
      "<music21.note.Note G#>\n",
      "<music21.note.Note B>\n",
      "<music21.note.Note E>\n",
      "<music21.note.Note C#>\n",
      "<music21.note.Note B>\n",
      "<music21.note.Note G#>\n",
      "<music21.note.Note F#>\n"
     ]
    }
   ],
   "source": [
    "print(\"This measure contains {} elements:\".format(len(im_04.elements)))\n",
    "print()\n",
    "for element in im_04.elements:\n",
    "    print(element)"
   ]
  },
  {
   "cell_type": "markdown",
   "metadata": {},
   "source": [
    "Finally we got to the notes! You can double check that we indeed got measure 4 by comparing the pitches of those notes with the fourth measure of the instrumental part in the `.pdf` file.\n",
    "\n",
    "Or more conveniently, since a measure is a stream, we can also open it in our score editor using the `.show()` method."
   ]
  },
  {
   "cell_type": "code",
   "execution_count": 16,
   "metadata": {},
   "outputs": [],
   "source": [
    "im_04.show()"
   ]
  },
  {
   "cell_type": "markdown",
   "metadata": {},
   "source": [
    "Now only this single measure was open. But if you realised, the key signature is no longer there. Why is that?\n",
    "\n",
    "If you remember from the introductory video, clefs, key signatures and time signatures are objects contained in the first measure. So let's retrive the first measure from the instrumental part (in this case, both with index and number `0`), and see which elements are contained there."
   ]
  },
  {
   "cell_type": "code",
   "execution_count": 17,
   "metadata": {},
   "outputs": [
    {
     "name": "stdout",
     "output_type": "stream",
     "text": [
      "The first measure of the instrumental part contains 9 elements:\n",
      "\n",
      "0 <music21.layout.SystemLayout>\n",
      "1 <music21.clef.TrebleClef>\n",
      "2 <music21.key.KeySignature of 4 sharps>\n",
      "3 <music21.meter.TimeSignature 4/4>\n",
      "4 <music21.note.Rest rest>\n",
      "5 <music21.note.Note C#>\n",
      "6 <music21.note.Note B>\n",
      "7 <music21.note.Note G#>\n",
      "8 <music21.note.Note B>\n"
     ]
    }
   ],
   "source": [
    "im_01 = mm_instr[0]\n",
    "\n",
    "print(\"The first measure of the instrumental part contains {} elements:\".format(len(im_01.elements)))\n",
    "print()\n",
    "for i in range(len(im_01.elements)):\n",
    "    print(i, im_01.elements[i])"
   ]
  },
  {
   "cell_type": "markdown",
   "metadata": {},
   "source": [
    "The first element (index `0`) in the first measure is a layout object, not important for us. Then, objects at indexes `1`, `2`, and `3` respectively are a clef object, a key signature object and a time signature object. And from index `4` on we have notes, including one rest, which, for music21, is a special kind of note. We will work in more detail with clefs, key signatures, time signatures and rests in the next notebooks.\n",
    "\n",
    "Now, let's focus on the notes. We can access just the notes in a measure stream with the attribute `.notes`, which works exactly in the same way as the attribute `.parts` for accessing the parts of a score stream. So, let's retrieve all the notes from the first measure and save them in the variable `nn`."
   ]
  },
  {
   "cell_type": "code",
   "execution_count": 18,
   "metadata": {},
   "outputs": [
    {
     "name": "stdout",
     "output_type": "stream",
     "text": [
      "This measure contains 4 notes\n",
      "\n",
      "<music21.note.Note C#>\n",
      "<music21.note.Note B>\n",
      "<music21.note.Note G#>\n",
      "<music21.note.Note B>\n"
     ]
    }
   ],
   "source": [
    "nn = im_01.notes.stream()\n",
    "\n",
    "print(\"This measure contains {} notes\".format(len(nn.elements)))\n",
    "print()\n",
    "for n in nn.elements:\n",
    "    print(n)"
   ]
  },
  {
   "cell_type": "markdown",
   "metadata": {},
   "source": [
    "As you see, the stream saved in the variable `nn` only contains notes, not clef, key signature, time signature, nor rests.\n",
    "\n",
    "Most of the work with music21 consists in retrieving information from notes, so this would be the major task for learning to use music21, and we will work on that in detail in the next notebooks. But let's have now just a glimpse of what can be done. Notes are very complex objects, which have many attributes and methods. Here, we will use one attribute for retriving the pitch class and octave of a note, called `.nameWithOctave`. Then, we will use another one for retrieving the duration of a note, called `.quarterLength`. This attribute has this name because duration in music21 is measured in terms of quarter notes. So, the attribute `.quarterLength` returns a number corresponding to how many quarter notes a note is performed (if it is smaller than a quarter note, then a decimal number is returned).\n",
    "\n",
    "So, let's take the first note from the notes of the first measure of the instrumental part, that were saved in the variable `nn`, and save it in the variable `n_01`, so that we can call the methods `.nameWithOctave` and `.quarterLength` on it."
   ]
  },
  {
   "cell_type": "code",
   "execution_count": 19,
   "metadata": {},
   "outputs": [
    {
     "name": "stdout",
     "output_type": "stream",
     "text": [
      "The pitch of this note, including octave, is C#5\n",
      "The duration of this note, in terms of quarter notes, is 0.5\n"
     ]
    }
   ],
   "source": [
    "n_01 = nn[0]\n",
    "\n",
    "print(\"The pitch of this note, including octave, is\", n_01.nameWithOctave)\n",
    "print(\"The duration of this note, in terms of quarter notes, is\", n_01.quarterLength)"
   ]
  },
  {
   "cell_type": "markdown",
   "metadata": {},
   "source": [
    "We can also loop over all the notes in the variable `nn` and print the pitch and duration of each of them."
   ]
  },
  {
   "cell_type": "code",
   "execution_count": 20,
   "metadata": {},
   "outputs": [
    {
     "name": "stdout",
     "output_type": "stream",
     "text": [
      "Note 1: pitch C#5, duration 0.5\n",
      "Note 2: pitch B4, duration 0.5\n",
      "Note 3: pitch G#4, duration 0.0\n",
      "Note 4: pitch B4, duration 0.5\n"
     ]
    }
   ],
   "source": [
    "for i in range(len(nn)):\n",
    "    n = nn[i]\n",
    "    np = n.nameWithOctave\n",
    "    nd = n.quarterLength\n",
    "    print(\"Note {}: pitch {}, duration {}\".format(i+1, np, nd))"
   ]
  },
  {
   "cell_type": "markdown",
   "metadata": {},
   "source": [
    "This is already quite something! Now you know how to retrieve the parts of a score ignoring all text boxes, metadata and layout objects. For each of the parts of a score, you know how to retrieve the measures, ignoring the instrument and slur objects. For each measure, you know how to retrieve the notes, ignoring layout, clef, key signature, time signature and rest objects. And for each note, you know how to retrieve the pitch and the duration. Not bad! Now you can apply all the python you know to start implementing your analyses!"
   ]
  },
  {
   "cell_type": "code",
   "execution_count": 21,
   "metadata": {},
   "outputs": [
    {
     "name": "stdout",
     "output_type": "stream",
     "text": [
      "This measure contains 12 elements:\n",
      "\n",
      "<music21.note.Note F#>\n",
      "<music21.note.Rest rest>\n",
      "<music21.note.Note C#>\n",
      "<music21.note.Note B>\n",
      "<music21.note.Note G#>\n",
      "<music21.note.Note B>\n",
      "<music21.note.Note F#>\n",
      "<music21.note.Note G#>\n",
      "<music21.note.Note B>\n",
      "<music21.note.Note D#>\n",
      "<music21.note.Note C#>\n",
      "<music21.note.Note E>\n"
     ]
    }
   ],
   "source": [
    "# Your code here (optional)\n",
    "\n",
    "im_22 = mm_instr[22]\n",
    "\n",
    "print(\"This measure contains {} elements:\".format(len(im_22.elements)))\n",
    "print()\n",
    "for element in im_22.elements:\n",
    "    print(element)\n",
    "    \n",
    "im_22.show()"
   ]
  },
  {
   "cell_type": "code",
   "execution_count": 22,
   "metadata": {},
   "outputs": [
    {
     "name": "stdout",
     "output_type": "stream",
     "text": [
      "This measure contains 11 notes\n",
      "\n",
      "<music21.note.Note F#>\n",
      "<music21.note.Note C#>\n",
      "<music21.note.Note B>\n",
      "<music21.note.Note G#>\n",
      "<music21.note.Note B>\n",
      "<music21.note.Note F#>\n",
      "<music21.note.Note G#>\n",
      "<music21.note.Note B>\n",
      "<music21.note.Note D#>\n",
      "<music21.note.Note C#>\n",
      "<music21.note.Note E>\n"
     ]
    }
   ],
   "source": [
    "nn = im_22.notes.stream()\n",
    "\n",
    "print(\"This measure contains {} notes\".format(len(nn.elements)))\n",
    "print()\n",
    "for n in nn.elements:\n",
    "    print(n)"
   ]
  },
  {
   "cell_type": "code",
   "execution_count": 23,
   "metadata": {},
   "outputs": [
    {
     "name": "stdout",
     "output_type": "stream",
     "text": [
      "Note 1: pitch F#4, duration 0.5\n",
      "Note 2: pitch C#5, duration 0.25\n",
      "Note 3: pitch B4, duration 0.5\n",
      "Note 4: pitch G#4, duration 0.0\n",
      "Note 5: pitch B4, duration 0.5\n",
      "Note 6: pitch F#4, duration 0.25\n",
      "Note 7: pitch G#4, duration 0.25\n",
      "Note 8: pitch B4, duration 0.5\n",
      "Note 9: pitch D#4, duration 0.25\n",
      "Note 10: pitch C#4, duration 0.25\n",
      "Note 11: pitch E4, duration 0.5\n"
     ]
    }
   ],
   "source": [
    "n_22 = nn[0]\n",
    "\n",
    "for i in range(len(nn)):\n",
    "    n = nn[i]\n",
    "    np = n.nameWithOctave\n",
    "    nd = n.quarterLength\n",
    "    print(\"Note {}: pitch {}, duration {}\".format(i+1, np, nd))"
   ]
  },
  {
   "cell_type": "code",
   "execution_count": null,
   "metadata": {},
   "outputs": [],
   "source": []
  }
 ],
 "metadata": {
  "kernelspec": {
   "display_name": "Python 3",
   "language": "python",
   "name": "python3"
  },
  "language_info": {
   "codemirror_mode": {
    "name": "ipython",
    "version": 3
   },
   "file_extension": ".py",
   "mimetype": "text/x-python",
   "name": "python",
   "nbconvert_exporter": "python",
   "pygments_lexer": "ipython3",
   "version": "3.8.1"
  }
 },
 "nbformat": 4,
 "nbformat_minor": 2
}
