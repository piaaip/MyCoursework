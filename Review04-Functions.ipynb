{
 "cells": [
  {
   "cell_type": "markdown",
   "metadata": {},
   "source": [
    "# Review 4. Functions\n",
    "This notebook reviews Python functions, presented in notebook 4. As it is explained there, the docstrings (between triple quotation marks) do not affect the performance of the fucntion, but they are very useful when someone else (or even yourself!) want to understand what the function does. Pay attention to how the function outputs the result of their operation, as stated in the docstrings. Usually they either `print()` a message or `return` an element. Therefore, this has implications for using the function."
   ]
  },
  {
   "cell_type": "markdown",
   "metadata": {},
   "source": [
    "## Exercise 1. Debugging\n",
    "You know what to do! Read the docstrings of the functions to understand what they are supposed to do. In every cell, a function is defined, and then called three times."
   ]
  },
  {
   "cell_type": "markdown",
   "metadata": {},
   "source": [
    "### 1.1"
   ]
  },
  {
   "cell_type": "code",
   "execution_count": 2,
   "metadata": {},
   "outputs": [
    {
     "name": "stdout",
     "output_type": "stream",
     "text": [
      "Hip hip hooray!\n",
      "Hip hip hooray!\n",
      "Hip hip hooray!\n"
     ]
    }
   ],
   "source": [
    "# Function definition\n",
    "def cheer():\n",
    "    \"\"\"\n",
    "    Prints the string 'Hip hip hooray!'\n",
    "        \n",
    "    >>> cheer()\n",
    "    Hip hip hooray!\n",
    "    \"\"\"\n",
    "    print(\"Hip hip hooray!\")\n",
    "\n",
    "# Calls to the function\n",
    "cheer()\n",
    "cheer()\n",
    "cheer()"
   ]
  },
  {
   "cell_type": "markdown",
   "metadata": {},
   "source": [
    "### 1.2"
   ]
  },
  {
   "cell_type": "code",
   "execution_count": 4,
   "metadata": {},
   "outputs": [
    {
     "name": "stdout",
     "output_type": "stream",
     "text": [
      "May the force be with you.\n",
      "May the force be with you.\n",
      "May the force be with you.\n"
     ]
    }
   ],
   "source": [
    "# Function definition\n",
    "def jedi():\n",
    "    '''\n",
    "    Prints the string \"May the force be with you.\"\n",
    "        \n",
    "    >>> jedi()\n",
    "    May the force be with you.\n",
    "    '''\n",
    "    print(\"May the force be with you.\")\n",
    "\n",
    "# Calls to the function\n",
    "jedi()\n",
    "jedi()\n",
    "jedi()"
   ]
  },
  {
   "cell_type": "markdown",
   "metadata": {},
   "source": [
    "### 1.3"
   ]
  },
  {
   "cell_type": "code",
   "execution_count": 5,
   "metadata": {},
   "outputs": [
    {
     "name": "stdout",
     "output_type": "stream",
     "text": [
      "Eureka!\n",
      "Eureka!\n",
      "Eureka!\n"
     ]
    }
   ],
   "source": [
    "# Function definition\n",
    "def got_it():\n",
    "    \"\"\"\n",
    "    Prints the string 'Eureka!'\n",
    "        \n",
    "    >>> got_it()\n",
    "    Eureka!\n",
    "    \"\"\"\n",
    "    print(\"Eureka!\")\n",
    "\n",
    "# Calls to the function\n",
    "got_it()\n",
    "got_it()\n",
    "got_it()"
   ]
  },
  {
   "cell_type": "markdown",
   "metadata": {},
   "source": [
    "### 1.4"
   ]
  },
  {
   "cell_type": "code",
   "execution_count": 7,
   "metadata": {},
   "outputs": [
    {
     "name": "stdout",
     "output_type": "stream",
     "text": [
      "Happy birthday to you,\n",
      "happy birthday to you,\n",
      "happy birthday, dear Ludwig,\n",
      "happy birthday to you.\n",
      "\n",
      "Happy birthday to you,\n",
      "happy birthday to you,\n",
      "happy birthday, dear Jean,\n",
      "happy birthday to you.\n",
      "\n",
      "Happy birthday to you,\n",
      "happy birthday to you,\n",
      "happy birthday, dear Maximilian,\n",
      "happy birthday to you.\n"
     ]
    }
   ],
   "source": [
    "# Function definition\n",
    "def happyBirthday(friend):\n",
    "    \"\"\"\n",
    "    Prints the song Happy Birthday dedicated to friend\n",
    "    \n",
    "    Args:\n",
    "        friend (str): the name of the person to whom the song will be sung\n",
    "    \n",
    "    >>> happyBirthday(\"Katy\")\n",
    "    Happy birthday to you,\n",
    "    happy birthday to you,\n",
    "    happy birthday, dear Katy,\n",
    "    happy birthday to you.\n",
    "    \n",
    "    \"\"\"\n",
    "    print(\"Happy birthday to you,\")\n",
    "    print(\"happy birthday to you,\")\n",
    "    print(\"happy birthday, dear {},\".format(friend))\n",
    "    print(\"happy birthday to you.\")\n",
    "\n",
    "# Calls to the function\n",
    "happyBirthday(\"Ludwig\")\n",
    "print()\n",
    "happyBirthday(\"Jean\")\n",
    "print()\n",
    "happyBirthday(\"Maximilian\")"
   ]
  },
  {
   "cell_type": "markdown",
   "metadata": {},
   "source": [
    "### 1.5"
   ]
  },
  {
   "cell_type": "code",
   "execution_count": 9,
   "metadata": {},
   "outputs": [
    {
     "name": "stdout",
     "output_type": "stream",
     "text": [
      "Ethnomusicology has 15 letters.\n",
      "Supercalifragilisticexpialidocious has 34 letters.\n",
      "Donaudampfschiffahrtsgesellschaftskapitän has 41 letters.\n"
     ]
    }
   ],
   "source": [
    "# Function definition\n",
    "def letters(word):\n",
    "    '''\n",
    "    Prints a message with the number of letters of the given word\n",
    "    \n",
    "    Args:\n",
    "        word (str): string whose letters will be counted\n",
    "    \n",
    "    >>> letters(\"Programming\")\n",
    "    Programming has 11 letters.\n",
    "    '''\n",
    "    print(\"{} has {} letters.\".format(word, len(word)))\n",
    "\n",
    "# Calls to the function\n",
    "letters('Ethnomusicology')\n",
    "letters('Supercalifragilisticexpialidocious')\n",
    "letters('Donaudampfschiffahrtsgesellschaftskapitän')"
   ]
  },
  {
   "cell_type": "markdown",
   "metadata": {},
   "source": [
    "### 1.6"
   ]
  },
  {
   "cell_type": "code",
   "execution_count": 10,
   "metadata": {},
   "outputs": [
    {
     "name": "stdout",
     "output_type": "stream",
     "text": [
      "Ethnomusicology has 15 letters.\n",
      "Supercalifragilisticexpialidocious has 34 letters.\n",
      "Donaudampfschiffahrtsgesellschaftskapitän has 41 letters.\n"
     ]
    }
   ],
   "source": [
    "# Function definition\n",
    "def word_length(word):\n",
    "    \"\"\"\n",
    "    Returns the number of letters of the given word\n",
    "    \n",
    "    Args:\n",
    "        word (str): string whose letters will be counted\n",
    "        \n",
    "    Returns:\n",
    "        letters (int): number of letters of the given word\n",
    "        \n",
    "    >>> word_length(\"Prgramming\")\n",
    "    11\n",
    "    \"\"\"\n",
    "    return len(word)\n",
    "\n",
    "# Calls to the function\n",
    "word_1 = \"Ethnomusicology\"\n",
    "word_2 = \"Supercalifragilisticexpialidocious\"\n",
    "word_3 = \"Donaudampfschiffahrtsgesellschaftskapitän\"\n",
    "\n",
    "print(\"Ethnomusicology has {} letters.\".format(word_length(\"Ethnomusicology\")))\n",
    "print(\"Supercalifragilisticexpialidocious has {} letters.\".format(word_length(\"Supercalifragilisticexpialidocious\")))\n",
    "print(\"Donaudampfschiffahrtsgesellschaftskapitän has {} letters.\".format(word_length(\"Donaudampfschiffahrtsgesellschaftskapitän\")))"
   ]
  },
  {
   "cell_type": "markdown",
   "metadata": {},
   "source": [
    "### 1.7"
   ]
  },
  {
   "cell_type": "code",
   "execution_count": 15,
   "metadata": {},
   "outputs": [
    {
     "name": "stdout",
     "output_type": "stream",
     "text": [
      "odd\n",
      "even\n",
      "even\n"
     ]
    }
   ],
   "source": [
    "# Function definition\n",
    "def even_odd(word):\n",
    "    '''\n",
    "    Returns if the number of letters of the given word is even or odd\n",
    "    \n",
    "    Args:\n",
    "        word (str): string whose letters will be counted\n",
    "        \n",
    "    Returns:\n",
    "        \"even\" or \"odd\" (str)\n",
    "    \n",
    "    >>> even_odd(\"dog\")\n",
    "    odd\n",
    "    \n",
    "    >>> even_odd(\"Hund\")\n",
    "    even\n",
    "    '''\n",
    "    # Divide the length of word by 2. If the remainder is 0, the number of letters is even\n",
    "    letters = len(word)\n",
    "    remainder = letters % 2\n",
    "    if remainder == 0:\n",
    "        return \"even\"\n",
    "    else:\n",
    "        return \"odd\"\n",
    "\n",
    "# Calls to the function\n",
    "print(even_odd(\"music\"))\n",
    "print(even_odd(\"Graz\"))\n",
    "print(even_odd(\"violin\"))"
   ]
  },
  {
   "cell_type": "markdown",
   "metadata": {},
   "source": [
    "### 1.8"
   ]
  },
  {
   "cell_type": "code",
   "execution_count": 17,
   "metadata": {},
   "outputs": [
    {
     "name": "stdout",
     "output_type": "stream",
     "text": [
      "irreversible\n",
      "neverending\n",
      "conscientious\n"
     ]
    }
   ],
   "source": [
    "# Function definition\n",
    "def longer(word_01, word_02):\n",
    "    '''\n",
    "    Returns the longest of the two given words.\n",
    "    \n",
    "    Args:\n",
    "        word_01 (str)\n",
    "        word_02 (str)\n",
    "    \n",
    "    Returns:\n",
    "        word (str): the longest of the two given words\n",
    "    \n",
    "    >>> longer(\"cat\", \"hippopotamus\")\n",
    "    hippopotamus\n",
    "    \n",
    "    >>> longer(\"Brettzither\", \"qin\")\n",
    "    Brettzither\n",
    "    '''\n",
    "    if len(word_01) > len(word_02):\n",
    "        return word_01\n",
    "    elif len(word_01) < len(word_02):\n",
    "        return word_02\n",
    "\n",
    "# Calls to the function\n",
    "print(longer(\"punctuality\", \"irreversible\"))\n",
    "print(longer(\"ecological\", \"neverending\"))\n",
    "print(longer(\"conscientious\", \"pandemonious\"))"
   ]
  },
  {
   "cell_type": "markdown",
   "metadata": {},
   "source": [
    "⇒ **Optional**: what should the previous function do if the length of the two words is the same?"
   ]
  },
  {
   "cell_type": "markdown",
   "metadata": {},
   "source": [
    "### 1.9"
   ]
  },
  {
   "cell_type": "code",
   "execution_count": 20,
   "metadata": {},
   "outputs": [
    {
     "name": "stdout",
     "output_type": "stream",
     "text": [
      "20\n",
      "100\n",
      "46\n"
     ]
    }
   ],
   "source": [
    "# Function definition\n",
    "def percentage(value, total):\n",
    "    \"\"\"\n",
    "    Returns which percentage of the given total is the given value\n",
    "    \n",
    "    Args:\n",
    "        value (int)\n",
    "        total (int)\n",
    "    \n",
    "    Returns\n",
    "        percentage (float)\n",
    "    \n",
    "    >>> percentage(40, 200)\n",
    "    20\n",
    "    \"\"\"\n",
    "    result = value * 100 // total\n",
    "    return result\n",
    "\n",
    "# Calls to the function\n",
    "print(percentage(40, 200))\n",
    "print(percentage(3987, 3987))\n",
    "print(percentage(22, 47))"
   ]
  },
  {
   "cell_type": "markdown",
   "metadata": {},
   "source": [
    "### 1.10\n",
    "The formula for calculating the body mass index and the corresponding scales are taken from this [Wikipedia page](https://en.wikipedia.org/wiki/Body_mass_index)."
   ]
  },
  {
   "cell_type": "code",
   "execution_count": 22,
   "metadata": {},
   "outputs": [
    {
     "name": "stdout",
     "output_type": "stream",
     "text": [
      "Manuel's body mass index is 18.00: underweight.\n",
      "Irina's body mass index is 25.00: overweight.\n",
      "Fatoumata's body mass index is 22.00: normal weight.\n"
     ]
    }
   ],
   "source": [
    "# Function definition\n",
    "def body_mass_index(name, height, mass):\n",
    "    '''\n",
    "    Calculates the body mass index and prints a message regarding weight\n",
    "    \n",
    "    Args:\n",
    "        name (str): name of the person\n",
    "        height (float): body height in meters\n",
    "        weight (float): body mass in kilograms\n",
    "        \n",
    "    >>> bmi(\"Amin\", 1.82, 95.3)\n",
    "    Amin's body mass index is 28.77: overweight.\n",
    "    \n",
    "    >>> bmi(\"Toko\", 1.63, 62.5)\n",
    "    Toko's body mass index is 23.52: normal weight.\n",
    "    '''\n",
    "    # Calculate the body mass index\n",
    "    bmi = mass // height ** 2\n",
    "    \n",
    "    # Evaluate the weight\n",
    "    if bmi < 18.5:\n",
    "        weight = \"underweight\"\n",
    "    elif bmi < 25:\n",
    "        weight = \"normal weight\"\n",
    "    elif bmi < 30:\n",
    "        weight = \"overweight\"\n",
    "    else:\n",
    "        weight = \"obese\"\n",
    "    \n",
    "    # Print the result\n",
    "    print(\"{}'s body mass index is {:.2f}: {}.\".format(name, bmi, weight))\n",
    "\n",
    "# Calls to the function\n",
    "body_mass_index(\"Manuel\", 1.93, 67.3)\n",
    "body_mass_index(\"Irina\", 1.71, 75.2)\n",
    "body_mass_index(\"Fatoumata\", 1.82, 73)"
   ]
  },
  {
   "cell_type": "markdown",
   "metadata": {},
   "source": [
    "### 1.11"
   ]
  },
  {
   "cell_type": "code",
   "execution_count": 24,
   "metadata": {},
   "outputs": [
    {
     "name": "stdout",
     "output_type": "stream",
     "text": [
      "Your total is 71.84\n",
      "Your total is 169.75\n",
      "Your total is 117.59\n"
     ]
    }
   ],
   "source": [
    "# Function definition\n",
    "def final_price(price_list, vat=20):\n",
    "    \"\"\"\n",
    "    Returns the final price from summing all the prices in the price list\n",
    "    and applying the given percentage of the value-added tax.\n",
    "    \n",
    "    Args:\n",
    "        price_lies(list): list of floats with prices\n",
    "        vat(float): percentage of the value-added tax to be added\n",
    "    \n",
    "    Returns:\n",
    "        total (float)\n",
    "        \n",
    "    >>> final_price([10, 20, 30, 40])\n",
    "    120.0\n",
    "    \n",
    "    >>> final_price([25, 25, 50], vat=13)\n",
    "    113.0\n",
    "    \"\"\"\n",
    "    # Sum all the prices in the list\n",
    "    subtotal = 0\n",
    "    for price in price_list:\n",
    "        subtotal += price\n",
    "    \n",
    "    # Calculate percentage of vat\n",
    "    taxes = subtotal * vat / 100\n",
    "    \n",
    "    # Add vat to subtotal\n",
    "    total = subtotal + taxes\n",
    "    return total\n",
    "\n",
    "# Save price lists in variables\n",
    "tools = [25.75, 12, 5.12, 17]\n",
    "clothes = [29.99, 14.99, 48.99, 12.50, 34.99]\n",
    "books = [17.50, 21.25, 22.30, 8.10, 11, 26.75]\n",
    "\n",
    "# Calls to the function\n",
    "print(\"Your total is {:.2f}\".format(final_price(tools)))\n",
    "print(\"Your total is {:.2f}\".format(final_price(clothes)))\n",
    "print(\"Your total is {:.2f}\".format(final_price(books, vat=10)))"
   ]
  },
  {
   "cell_type": "markdown",
   "metadata": {},
   "source": [
    "### 1.12"
   ]
  },
  {
   "cell_type": "code",
   "execution_count": 25,
   "metadata": {},
   "outputs": [
    {
     "name": "stdout",
     "output_type": "stream",
     "text": [
      "5\n",
      "4\n",
      "4\n"
     ]
    }
   ],
   "source": [
    "# Function definition\n",
    "def pitch_counter(melody, pitch='c'):\n",
    "    '''\n",
    "    Returns the number of occurrences of pitch in melody\n",
    "    \n",
    "    Args:\n",
    "        melody (str): a melody given as a string of pitches\n",
    "        pitch (str): pitch to be searched for and counted in the melody\n",
    "    Returns:\n",
    "        occurrence (int)\n",
    "    \n",
    "    >>> pitch_counter('cGGAGBc')\n",
    "    2\n",
    "    \n",
    "    >>> pitch_counter('cGGAGBc', pitch='G')\n",
    "    3\n",
    "    '''\n",
    "    # Create a counter\n",
    "    occurrence = 0\n",
    "    \n",
    "    # Search for pitch in the counter\n",
    "    for note in melody:\n",
    "        if note == pitch:\n",
    "            occurrence += 1\n",
    "    \n",
    "    return occurrence\n",
    "\n",
    "# Melodies\n",
    "happy_birthday = 'GGAGcBGGAGdcGGgecBAffecdc'\n",
    "ode_to_joy = 'f#gaagf#edef#f#eef#gaagf#edef#edd'\n",
    "te_deum = 'Addef#daf#f#gagf#gaedef#e'\n",
    "\n",
    "# Calls to the function\n",
    "print(pitch_counter(happy_birthday))\n",
    "print(pitch_counter(ode_to_joy, pitch='d'))\n",
    "print(pitch_counter(te_deum, pitch='d'))"
   ]
  },
  {
   "cell_type": "markdown",
   "metadata": {},
   "source": [
    "### 1.13"
   ]
  },
  {
   "cell_type": "code",
   "execution_count": 26,
   "metadata": {},
   "outputs": [
    {
     "name": "stdout",
     "output_type": "stream",
     "text": [
      "4\n",
      "4\n",
      "2\n"
     ]
    }
   ],
   "source": [
    "# Function definition\n",
    "def filtering(sizes_list, threshold=3):\n",
    "    '''\n",
    "    Returns how many numbers from a list are beyond a given threshold\n",
    "    \n",
    "    Args:\n",
    "        sizes_list (list): list of floating points\n",
    "        threshold (float)\n",
    "        \n",
    "    Returns:\n",
    "        quantity (int): number of items that are bigger than the given threshold\n",
    "        \n",
    "    >>> filtering([2.1, 5.9, 4, 1.8, 3])\n",
    "    2\n",
    "    \n",
    "    >>> filtering([2.1, 5.9, 4, 1.8, 3], threshold=2)\n",
    "    4\n",
    "    '''\n",
    "    # Counter\n",
    "    quantity = 0\n",
    "    \n",
    "    for item in sizes_list:\n",
    "        if item > threshold:    ### colon ###\n",
    "            quantity += 1\n",
    "    \n",
    "    return quantity\n",
    "\n",
    "# Define lists\n",
    "numbers = [4.2, 3.2, 1.5, 2.77, 3.5, 0.15, 4.5, 2.3, 1.87]\n",
    "ages = [16, 19, 21, 14, 14, 15, 18, 17, 20, 15, 13, 14]\n",
    "temperatures = [37.2, 36.9, 37, 36.8, 38, 37.2, 37.1, 36.7, 39.2, 36.5]\n",
    "\n",
    "# Calls to the function\n",
    "print(filtering(numbers))\n",
    "print(filtering(ages, threshold=17))\n",
    "print(filtering(temperatures, threshold=37.5))"
   ]
  },
  {
   "cell_type": "markdown",
   "metadata": {},
   "source": [
    "### 1.14\n",
    "⇒ **Note**: `bool` is the abbreviation of `boolean`"
   ]
  },
  {
   "cell_type": "code",
   "execution_count": 28,
   "metadata": {},
   "outputs": [
    {
     "name": "stdout",
     "output_type": "stream",
     "text": [
      "4.2\n",
      "42920.493566538746\n",
      "2.1637692444973236\n"
     ]
    }
   ],
   "source": [
    "# Function definition\n",
    "def crazy_math(a, b, c, d, e, square=False):\n",
    "    '''\n",
    "    Adds a and b, and c and d, multiply the results, and divide it by e. It is raised to the square if square is True\n",
    "    \n",
    "    Args:\n",
    "        a, b, c, d, e (int)\n",
    "        square (bool)\n",
    "    \n",
    "    Returns:\n",
    "        result (float)\n",
    "        \n",
    "    >>> crazy_math(8, 5, 3, 10, 4)\n",
    "    42.25\n",
    "    \n",
    "    >>> crazy_math(8, 5, 3, 10, 4, square=True)\n",
    "    1785.0625\n",
    "    '''\n",
    "    x = a + b\n",
    "    y = c + d\n",
    "    z = x * y\n",
    "    result = z / e\n",
    "    \n",
    "    # Check if square is True or False\n",
    "    if square:\n",
    "        result = result ** 2\n",
    "    \n",
    "    return result\n",
    "\n",
    "# Calls to the function\n",
    "print(crazy_math(1, 2, 3, 4, 5))\n",
    "print(crazy_math(235, 78.5, 157.3, 95.14, 382, square=True))\n",
    "print(crazy_math(0.3, 0.81, 1.13, 0.5, 1.23, square=True))"
   ]
  },
  {
   "cell_type": "markdown",
   "metadata": {},
   "source": [
    "### 1.15"
   ]
  },
  {
   "cell_type": "code",
   "execution_count": 29,
   "metadata": {},
   "outputs": [
    {
     "name": "stdout",
     "output_type": "stream",
     "text": [
      "2h:46m:40s\n",
      "1h:44m:43s\n",
      "1h:38m\n"
     ]
    }
   ],
   "source": [
    "# Function definition\n",
    "def pretty_time(seconds, print_seconds=True):\n",
    "    \"\"\"\n",
    "    Given a duration in seconds, it prints it in hours and minutes.\n",
    "    If print_seconds is True, it also prints the remaining seconds.\n",
    "    \n",
    "    Args:\n",
    "        seconds (int)\n",
    "        print_seconds (bool)\n",
    "    \n",
    "    >>> pretty_time(7489)\n",
    "    2h:04m:49s\n",
    "    \n",
    "    >>> pretty_time(7489, print_seconds=False)\n",
    "    2h:04m\n",
    "    \"\"\"\n",
    "    hours = seconds // 3600\n",
    "    minutes = seconds // 60 - hours * 60\n",
    "    remaining_seconds = seconds % 60\n",
    "    \n",
    "    if print_seconds:\n",
    "        print('{}h:{:02d}m:{:02d}s'.format(hours, minutes, remaining_seconds))\n",
    "    else:\n",
    "        print('{}h:{:02d}m'.format(hours, minutes))\n",
    "\n",
    "# Calls to the function\n",
    "pretty_time(10000)\n",
    "pretty_time(6283)\n",
    "pretty_time(5915, print_seconds=False)"
   ]
  },
  {
   "cell_type": "markdown",
   "metadata": {},
   "source": [
    "## Exercise 2. Flawed logic\n",
    "Is the code in the following cells doing what it really should be doing? Read the docstrings of the functions to understand what they should do, and correct the problems."
   ]
  },
  {
   "cell_type": "markdown",
   "metadata": {},
   "source": [
    "### 2.1\n",
    "Expected result:\n",
    "\n",
    "    I see a ghost\n",
    "    I see a rainbow\n",
    "    I see a landscape"
   ]
  },
  {
   "cell_type": "code",
   "execution_count": 31,
   "metadata": {},
   "outputs": [
    {
     "name": "stdout",
     "output_type": "stream",
     "text": [
      "I see a ghost\n",
      "I see a rainbow\n",
      "I see a landscape\n"
     ]
    }
   ],
   "source": [
    "# Function definition\n",
    "def i_see(thing):\n",
    "    '''\n",
    "    Prints a message whith the thing you see\n",
    "    \n",
    "    Args:\n",
    "        thing (str): the thing that you see\n",
    "    \n",
    "    >>> i_see(\"carrot\")\n",
    "    I see a carrot\n",
    "    '''\n",
    "    print(\"I see a {}\".format(thing))\n",
    "\n",
    "# Calls to the function\n",
    "i_see(\"ghost\")\n",
    "i_see(\"rainbow\")\n",
    "i_see(\"landscape\")"
   ]
  },
  {
   "cell_type": "markdown",
   "metadata": {},
   "source": [
    "### 2.2\n",
    "Expected result:\n",
    "\n",
    "    1.81436948\n",
    "    0.226796185\n",
    "    64.41011654"
   ]
  },
  {
   "cell_type": "code",
   "execution_count": 33,
   "metadata": {},
   "outputs": [
    {
     "name": "stdout",
     "output_type": "stream",
     "text": [
      "1.81436948\n",
      "0.226796185\n",
      "64.41011654\n"
     ]
    }
   ],
   "source": [
    "# Function definition\n",
    "def lb2kg(lb):\n",
    "    '''\n",
    "    Returns pounds converted to kilograms\n",
    "    \n",
    "    Args:\n",
    "        lb (int or float): the value of pounds\n",
    "        \n",
    "    Returns:\n",
    "        kg (float): the same value in kilograms\n",
    "    \n",
    "    >>> lb2kg(5.2)\n",
    "    2.3586803240000003\n",
    "    '''\n",
    "    kg = lb * 0.45359237\n",
    "    return (kg)\n",
    "\n",
    "# Calls to the function\n",
    "print(lb2kg(4))\n",
    "print(lb2kg(0.5))\n",
    "print(lb2kg(142))"
   ]
  },
  {
   "cell_type": "markdown",
   "metadata": {},
   "source": [
    "### 2.3\n",
    "Expected result:\n",
    "\n",
    "    Duangkamol is older than Suyin\n",
    "    Chava is older than Zeynep\n",
    "    Maialen is older than Itziar"
   ]
  },
  {
   "cell_type": "code",
   "execution_count": 36,
   "metadata": {},
   "outputs": [
    {
     "name": "stdout",
     "output_type": "stream",
     "text": [
      "Duangkamol is older than Suyin\n",
      "Chava is older than Zeynep\n",
      "Maialen is older than Itziar\n"
     ]
    }
   ],
   "source": [
    "# Function definition\n",
    "def whos_older(name1, name2, age1, age2):\n",
    "    \"\"\"\n",
    "    Prints a message saying who is older than whom\n",
    "    \n",
    "    Args:\n",
    "        name1 (str): name of the first person\n",
    "        name2 (str): name of the second person\n",
    "        age1 (int): age of the first person\n",
    "        age2 (int): age of the second person\n",
    "    \n",
    "    >>> whos_older('Anton', 'Teresa', 37, 42)\n",
    "    Teresa is older than Anton\n",
    "    \"\"\"\n",
    "    if age1 > age2:\n",
    "        print('{} is older than {}'.format(name1, name2))\n",
    "    elif age1 < age2:\n",
    "        print('{} is older than {}'.format(name2, name1))\n",
    "\n",
    "# Calls to the function\n",
    "whos_older('Duangkamol', 'Suyin', 87, 5)\n",
    "whos_older('Zeynep', 'Chava', 49, 62)\n",
    "whos_older('Itziar', 'Maialen', 15, 17)"
   ]
  },
  {
   "cell_type": "markdown",
   "metadata": {},
   "source": [
    "### 2.4\n",
    "Expected result:\n",
    "\n",
    "    194.6\n",
    "    27206\n",
    "    2.83"
   ]
  },
  {
   "cell_type": "code",
   "execution_count": 38,
   "metadata": {},
   "outputs": [
    {
     "name": "stdout",
     "output_type": "stream",
     "text": [
      "194.6\n",
      "27206\n",
      "2.83\n"
     ]
    }
   ],
   "source": [
    "# Function definition\n",
    "def sum_numbers(numberList):\n",
    "    '''\n",
    "    Returns the sum of all the numbers given in numberList\n",
    "    \n",
    "    Args:\n",
    "        numberList (list): a list with numbers, either integers or floating points\n",
    "        \n",
    "    Returns:\n",
    "        sum (int or float): summation of all the numbers in the list\n",
    "    \n",
    "    >>> sum_numbers([1, 2, 3, 4])\n",
    "    10\n",
    "    '''\n",
    "    # Variable with the first number of the list\n",
    "    total = numberList[0]\n",
    "    \n",
    "    for i in range(1, len(numberList)):    # Iterantion from the second number of the list\n",
    "        number = numberList[i]\n",
    "        total += number\n",
    "    \n",
    "    return total\n",
    "\n",
    "# Lists of numbers\n",
    "list_1 = [25.2, 31.7, 55.3, 14, 68.4]\n",
    "list_2 = [1234, 5234, 3201, 4325, 6003, 7209]\n",
    "list_3 = [0.3, 0.8, 0.73, 0.15, 0.04, 0.81]\n",
    "\n",
    "# Calls to the function\n",
    "print(sum_numbers(list_1))\n",
    "print(sum_numbers(list_2))\n",
    "print(sum_numbers(list_3))"
   ]
  },
  {
   "cell_type": "markdown",
   "metadata": {},
   "source": [
    "### 2.5\n",
    "Expected result:\n",
    "\n",
    "    3 long names were found:\n",
    "    - Margarida\n",
    "    - Frederic\n",
    "    - Montserrat\n",
    "    \n",
    "    4 long animal names were found:\n",
    "    - alpaca\n",
    "    - tiger\n",
    "    - elephant\n",
    "    - koala\n",
    "    \n",
    "    3 long country names were found:\n",
    "    - Liechtenstein\n",
    "    - Afghanistan\n",
    "    - Philippines"
   ]
  },
  {
   "cell_type": "code",
   "execution_count": 39,
   "metadata": {},
   "outputs": [
    {
     "name": "stdout",
     "output_type": "stream",
     "text": [
      "3 long names were found:\n",
      "- Margarida\n",
      "- Frederic\n",
      "- Montserrat\n",
      "\n",
      "4 long animal names were found:\n",
      "- alpaca\n",
      "- tiger\n",
      "- elephant\n",
      "- koala\n",
      "\n",
      "3 long country names were found:\n",
      "- Liechtenstein\n",
      "- Afghanistan\n",
      "- Philippines\n"
     ]
    }
   ],
   "source": [
    "# Function definition\n",
    "def long_words(wordList, threshold=8):\n",
    "    '''\n",
    "    Returns a list with the words in the given wordList which are longer than or same as the given threshold\n",
    "    \n",
    "    Args:\n",
    "        wordList (list): a list of strings\n",
    "        threshold (int)\n",
    "    \n",
    "    Returns\n",
    "        words (list): a list of strings\n",
    "    \n",
    "    >>> long_words(['zippy', 'appreciate', 'story', 'license', 'pop', 'apparatus'])\n",
    "    ['appreciate', 'apparatus']\n",
    "    \n",
    "    >>> long_words(['improve', 'spoon', 'volcano', 'glue', 'huge', 'short'], threshold=4)\n",
    "    ['improve', 'spoon', 'volcano', 'short']\n",
    "    '''\n",
    "    # Empty list for story words longer than or same as the threshold\n",
    "    words = []\n",
    "    \n",
    "    for word in wordList:\n",
    "        if len(word) >= threshold:\n",
    "            words.append(word)\n",
    "    \n",
    "    return words\n",
    "\n",
    "# Lists\n",
    "names = ['Arnau', 'Oriol', 'Margarida', 'Frederic', 'Pilar', 'Montserrat']\n",
    "animals = ['alpaca', 'crab', 'dove', 'tiger', 'elephant', 'koala']\n",
    "countries = ['Ethiopia', 'Liechtenstein', 'Afghanistan', 'Guatemala', 'Venezuela', 'Philippines']\n",
    "\n",
    "# Calls to the function, and save the returned output in variables\n",
    "longNames = long_words(names)\n",
    "longAnimals = long_words(animals, threshold=5)\n",
    "longCountries = long_words(countries, threshold=11)\n",
    "\n",
    "# Print the results\n",
    "print(\"{} long names were found:\".format(len(longNames)))\n",
    "for name in longNames:\n",
    "    print(\"-\", name)\n",
    "\n",
    "print()\n",
    "print(\"{} long animal names were found:\".format(len(longAnimals)))\n",
    "for animal in longAnimals:\n",
    "    print(\"-\", animal)\n",
    "    \n",
    "print()\n",
    "print(\"{} long country names were found:\".format(len(longCountries)))\n",
    "for country in longCountries:\n",
    "    print(\"-\", country)"
   ]
  },
  {
   "cell_type": "markdown",
   "metadata": {},
   "source": [
    "### 2.6\n",
    "Expected result:\n",
    "\n",
    "    The difference in cents between 440Hz and 220Hz is:\n",
    "    -1200.0\n",
    "\n",
    "    The difference in cents between 220Hz and 329.62Hz is:\n",
    "    699.9603099481229\n",
    "\n",
    "    The difference in cents between 330Hz and 440Hz is:\n",
    "    498.04499913461245\n",
    "\n",
    "⇒ **Note**: The formula is taken from the [Wikipedia page for cent](http://www.sengpielaudio.com/calculator-centsratio.htm).\n",
    "\n",
    "⇒ **Note**: To compute this formula is necessary to calculate an logarithm. For that, the Python built-in `math` module should be imported. You can read about imported modules in Notebook 5. Don't worry about that. The problem in the following cell is not in the formula."
   ]
  },
  {
   "cell_type": "code",
   "execution_count": 40,
   "metadata": {},
   "outputs": [
    {
     "name": "stdout",
     "output_type": "stream",
     "text": [
      "The difference in cents between 440Hz and 220Hz is:\n",
      "-1200.0\n",
      "\n",
      "The difference in cents between 220Hz and 329.62Hz is:\n",
      "699.9603099481229\n",
      "\n",
      "The difference in cents between 330Hz and 440Hz is:\n",
      "498.04499913461245\n"
     ]
    }
   ],
   "source": [
    "# import the math module to be able to calculate algorithms\n",
    "import math\n",
    "\n",
    "# Function definition\n",
    "def hertz2cents(freq1, freq2):\n",
    "    \"\"\"\n",
    "    Prints the difference in cents between the given two frequencies in Hertz\n",
    "    \n",
    "    Args:\n",
    "        freq1, freq2 (int or float): frequencies in Hertz\n",
    "        \n",
    "    >>> hertz2cents(220, 440)\n",
    "    1200\n",
    "    \"\"\"\n",
    "    # Formula\n",
    "    cents = 1200 * math.log2(freq2 / freq1)\n",
    "    print(cents)\n",
    "\n",
    "# Calls to the function\n",
    "print(\"The difference in cents between 440Hz and 220Hz is:\")\n",
    "hertz2cents(440, 220)\n",
    "print()\n",
    "print(\"The difference in cents between 220Hz and 329.62Hz is:\")\n",
    "hertz2cents(220, 329.62)\n",
    "print()\n",
    "print(\"The difference in cents between 330Hz and 440Hz is:\")\n",
    "hertz2cents(330, 440)"
   ]
  },
  {
   "cell_type": "markdown",
   "metadata": {},
   "source": [
    "### 2.7\n",
    "Expected result:\n",
    "\n",
    "    The perfect fourth about 440Hz is 587.33Hz\n",
    "    The perfect fourth below 440Hz is 329.63Hz\n",
    "    A quarter tone over 440Hz is 452.89Hz\n",
    "\n",
    "⇒ **Note**: The following cell assumes that you are familiar with the concept of **cents**. If not, it is just a unit for measuring intervals, so that a semitone is divided into 100 cents. You have more information in the [Wikipedia page for cent](http://www.sengpielaudio.com/calculator-centsratio.htm), from where I took the corresponding formula.\n",
    "\n",
    "⇒ **Note**: The problem in the following cell is not in the formula."
   ]
  },
  {
   "cell_type": "code",
   "execution_count": 42,
   "metadata": {},
   "outputs": [
    {
     "name": "stdout",
     "output_type": "stream",
     "text": [
      "The perfect fourth about 440Hz is 587.33Hz\n",
      "The perfect fourth below 440Hz is 329.63Hz\n",
      "A quarter tone over 440Hz is 452.89Hz\n"
     ]
    }
   ],
   "source": [
    "# Function definition\n",
    "def cents2hertz(freq, cents):\n",
    "    \"\"\"\n",
    "    Returns the frequency that lies at the distance of the given cents\n",
    "    \n",
    "    Args:\n",
    "        freq (int or float): frequency in Hertz\n",
    "        cents (int)\n",
    "        \n",
    "    Return:\n",
    "        frequency (float)\n",
    "        \n",
    "    >>> cents2herz(220, 1200)\n",
    "    440\n",
    "    \"\"\"\n",
    "    # Formula\n",
    "    frequency = freq * 2 ** (cents / 1200)\n",
    "    \n",
    "    return(frequency)\n",
    "\n",
    "# Calls to the function\n",
    "print(\"The perfect fourth about 440Hz is {:.2f}Hz\".format(cents2hertz(440, 500)))    ### 440, 500 ###\n",
    "print(\"The perfect fourth below 440Hz is {:.2f}Hz\".format(cents2hertz(440, -500)))   ### 440, -500 ###\n",
    "print(\"A quarter tone over 440Hz is {:.2f}Hz\".format(cents2hertz(440, 50)))          ### 440, 50 ###"
   ]
  },
  {
   "cell_type": "markdown",
   "metadata": {},
   "source": [
    "### 2.8\n",
    "\n",
    "Expected result:\n",
    "\n",
    "    [1, 1, 2, 3, 5, 8, 13, 21, 34, 55, 89, 144, 233, 377, 610, 987, 1597, 2584, 4181, 6765]\n",
    "    [100, 100, 200, 300, 500]\n",
    "    [0.15, 0.15, 0.3, 0.44999999999999996, 0.75, 1.2, 1.95, 3.15, 5.1, 8.25, 13.35, 21.6]\n",
    "\n",
    "⇒ **Note**: the following code assumes that you are familiar with the [Fibonacci sequence](https://www.mathsisfun.com/numbers/fibonacci-sequence.html), used by some 20th century composers (or [here](https://youtu.be/Zc7WMbVW-3s))."
   ]
  },
  {
   "cell_type": "code",
   "execution_count": 43,
   "metadata": {},
   "outputs": [
    {
     "name": "stdout",
     "output_type": "stream",
     "text": [
      "[1, 1, 2, 3, 5, 8, 13, 21, 34, 55, 89, 144, 233, 377, 610, 987, 1597, 2584, 4181, 6765]\n",
      "[100, 100, 200, 300, 500]\n",
      "[0.15, 0.15, 0.3, 0.44999999999999996, 0.75, 1.2, 1.95, 3.15, 5.1, 8.25, 13.35, 21.6]\n"
     ]
    }
   ],
   "source": [
    "# Function definition\n",
    "def fibonacci(length, start=1):\n",
    "    \"\"\"\n",
    "    Creates a Fibonacci sequence of the given length starting in the given number\n",
    "    \n",
    "    Args:\n",
    "        length (int): length of the Fibonacci series to be created\n",
    "        start (int or float): the starting number of the series\n",
    "        \n",
    "    Returns\n",
    "        sequence (list): a list with the numbers of the created series\n",
    "        \n",
    "    >>> fibonacci(7):\n",
    "    [1, 1, 2, 3, 5, 8, 13]\n",
    "    \n",
    "    >>> fibonacci(5, start=3)\n",
    "    [3, 3, 6, 9, 15]\n",
    "    \"\"\"\n",
    "    # Beginning of the sequence. It starts with the value of the default parameter `start` twice\n",
    "    sequence = [start, start]\n",
    "    \n",
    "    # Iteration (since the sequence already contains the first two numbers, the iteration should start in the third index, that is, 2)\n",
    "    for i in range(2, length):\n",
    "        new_number = sequence[-2] + sequence[-1]\n",
    "        sequence.append(new_number)\n",
    "    \n",
    "    return sequence\n",
    "\n",
    "# Calls to the function\n",
    "print(fibonacci(20))\n",
    "print(fibonacci(5, start=100))\n",
    "print(fibonacci(12, start=0.15))"
   ]
  },
  {
   "cell_type": "markdown",
   "metadata": {},
   "source": [
    "### 2.9\n",
    "Expected result:\n",
    "\n",
    "    The sudents who passed the first assignment are 7:\n",
    "    - Merida\n",
    "    - Yiqun\n",
    "    - Tashi\n",
    "    - Alexandra\n",
    "    - Ouahiba\n",
    "    - Carmen\n",
    "    - Cuong\n",
    "\n",
    "    The sudents who passed the first assignment are 5:\n",
    "    - Merida\n",
    "    - Tashi\n",
    "    - Haruto\n",
    "    - Alexandra\n",
    "    - Ouahiba\n",
    "\n",
    "    The sudents who passed the first assignment are 6:\n",
    "    - Merida\n",
    "    - Tashi\n",
    "    - Alexandra\n",
    "    - Ouahiba\n",
    "    - Maryam\n",
    "    - Cuong"
   ]
  },
  {
   "cell_type": "code",
   "execution_count": 44,
   "metadata": {},
   "outputs": [
    {
     "name": "stdout",
     "output_type": "stream",
     "text": [
      "The sudents who passed the first assignment are 7:\n",
      "- Merida\n",
      "- Yiqun\n",
      "- Tashi\n",
      "- Alexandra\n",
      "- Ouahiba\n",
      "- Carmen\n",
      "- Cuong\n",
      "\n",
      "The sudents who passed the second assignment are 5:\n",
      "- Merida\n",
      "- Tashi\n",
      "- Haruto\n",
      "- Alexandra\n",
      "- Ouahiba\n",
      "\n",
      "The sudents who passed the thirs assignment are 6:\n",
      "- Merida\n",
      "- Tashi\n",
      "- Alexandra\n",
      "- Ouahiba\n",
      "- Maryam\n",
      "- Cuong\n"
     ]
    }
   ],
   "source": [
    "# Function definition\n",
    "def pass_students(namesList, gradesList, passMark=60):\n",
    "    '''\n",
    "    Given a list of names and a list of grades in the same order than the names (so that the grade from the gradesList\n",
    "    in a given index corresponds to the name in the same index in the namesList), returns the list of those names who\n",
    "    obtained a grade equal to or over the passMark.\n",
    "    \n",
    "    Args:\n",
    "        namesList (list): list of strings\n",
    "        gradesList (list): list of integers or floating points\n",
    "        passMark (int)\n",
    "        \n",
    "    Returns:\n",
    "        successful students (list)\n",
    "    \n",
    "    >>> pass_students(['Lukas', 'Isabelle', 'Jyoti', 'Abdoulaye'], [51, 82, 95, 36])\n",
    "    ['Isabelle', 'Abdoulaye']\n",
    "    \n",
    "    >>> pass_students(['Tiange', 'Cristina', 'Donald', 'Barak'], [55, 32, 13, 50], passMark=50)\n",
    "    ['Tiange', 'Barak']\n",
    "    '''\n",
    "    # Create empty list\n",
    "    successful = []\n",
    "    \n",
    "    for i in range(len(gradesList)):\n",
    "        grade = gradesList[i]\n",
    "        name = namesList[i]\n",
    "        if grade >= passMark:\n",
    "            successful.append(name)\n",
    "    \n",
    "    return successful\n",
    "\n",
    "# Create lists\n",
    "students = ['Merida', 'Yiqun', 'Tashi', 'Haruto', 'Alexandra', 'Ouahiba', 'Maryam', 'Bahram', 'Carmen', 'Cuong']\n",
    "\n",
    "assignment_01 = [72, 65, 83, 52, 92, 98, 43, 50, 78, 81]\n",
    "assignment_02 = [2.7, 2, 3.1, 2.5, 5, 5, 1.3, 1, 2.3, 1.8]\n",
    "assignment_03 = [8.3, 3.5, 6.2, 1, 10, 9.5, 7, 4, 2.8, 5]\n",
    "\n",
    "# Calls to the function\n",
    "results_01 = pass_students(students, assignment_01)\n",
    "results_02 = pass_students(students, assignment_02, passMark=2.5)\n",
    "results_03 = pass_students(students, assignment_03, passMark=5)      ### results_03 ###\n",
    "\n",
    "# Print results\n",
    "print(\"The sudents who passed the first assignment are {}:\".format(len(results_01)))\n",
    "for name in results_01:\n",
    "    print(\"-\", name)\n",
    "    \n",
    "print()\n",
    "print(\"The sudents who passed the second assignment are {}:\".format(len(results_02)))    ### results_02 ###\n",
    "for name in results_02:                                                                 ### results_02 ###\n",
    "    print(\"-\", name)\n",
    "\n",
    "print()\n",
    "print(\"The sudents who passed the thirs assignment are {}:\".format(len(results_03)))\n",
    "for name in results_03:\n",
    "    print(\"-\", name)"
   ]
  },
  {
   "cell_type": "markdown",
   "metadata": {},
   "source": [
    "### 2.10\n",
    "Expected result:\n",
    "\n",
    "    77.0\n",
    "    81.0\n",
    "    124\n",
    "\n",
    "I take the formulas for the ideal body weight from this [Wikipedia page](https://en.wikipedia.org/wiki/Human_body_weight)."
   ]
  },
  {
   "cell_type": "code",
   "execution_count": 47,
   "metadata": {},
   "outputs": [
    {
     "name": "stdout",
     "output_type": "stream",
     "text": [
      "77.0\n",
      "81.0\n",
      "124\n"
     ]
    }
   ],
   "source": [
    "# Function definition\n",
    "def ideal_body_weight(height, sex, unit='kg', method='Devine'):\n",
    "    '''\n",
    "    Returns the ideal body weight for the given height and sex.\n",
    "    \n",
    "    Args:\n",
    "        height (float): height in centimeters\n",
    "        sex (str): it only accepts \"male\" or \"female\"\n",
    "        unit (str): unit of mass. It only accepts \"kg\" or \"lb\"\n",
    "        method (str): methdo for computing ideal_body_weight. It only accepts \"Devine\" or \"Hamwi\"\n",
    "    \n",
    "    Returns:\n",
    "        weight (float)\n",
    "    \n",
    "    >>> ideal_body_weight(176, 'male')\n",
    "    71.6\n",
    "    \n",
    "    >>> ideal_body_weight(169, 'female', unit='lb', method='Hamwi')\n",
    "    134\n",
    "    '''\n",
    "    # Define factors 1 and 2 depending on sex, method and mass unit\n",
    "    if sex == 'male':\n",
    "        if method == 'Devine':\n",
    "            if unit == 'kg':\n",
    "                factor_1 = 50\n",
    "                factor_2 = 0.9\n",
    "            elif unit == 'lb':\n",
    "                factor_1 = 110\n",
    "                factor_2 = 2\n",
    "        elif method == 'Hamwi':\n",
    "            if unit == 'kg':\n",
    "                factor_1 = 48\n",
    "                factor_2 = 1.1\n",
    "            elif unit == 'lb':\n",
    "                factor_1 = 106\n",
    "                factor_2 = 2.4\n",
    "    elif sex == 'female':\n",
    "        if method == 'Devine':\n",
    "            if unit == 'kg':\n",
    "                factor_1 = 45.5\n",
    "                factor_2 = 0.9\n",
    "            elif unit == 'lb':\n",
    "                factor_1 = 100\n",
    "                factor_2 = 2\n",
    "        elif method == 'Hamwi':\n",
    "            if unit == 'kg':\n",
    "                factor_1 = 45.4\n",
    "                factor_2 = 0.9\n",
    "            elif unit == 'lb':\n",
    "                factor_1 = 100\n",
    "                factor_2 = 2\n",
    "    \n",
    "    # Calculate ideal body weight\n",
    "    ibw = factor_1 + factor_2 * (height - 152)\n",
    "    \n",
    "    return ibw\n",
    "\n",
    "# Calls to the function\n",
    "print(ideal_body_weight(182, 'male'))\n",
    "print(ideal_body_weight(182, 'male', method='Hamwi'))\n",
    "print(ideal_body_weight(164, 'female', unit='lb', method='Hamwi'))"
   ]
  },
  {
   "cell_type": "markdown",
   "metadata": {},
   "source": [
    "## Exercise 3. Write your own functions\n",
    "In the following exercises, you have to write your own functions. Each exercise contains an explanation of what the function should do, including the name of the function and how many parameters it should have. It also indicates how many default parameters are needed, including their name and default value. Finally, it also gives you the expected result.\n",
    "\n",
    "In the following cell, write your function where it is indicated. You will see that after the space for writing your function, there is three calls to that function. **Do not change that**. If your function is correct, when you run the cell, you should get the same output as the expected result. In order for this to work, your function must have the same name as the one given in the explanation of the exercise. And if default parameters are required, they also must have the same name and default value as the ones stated in the explanation.\n",
    "\n",
    "Go for it!"
   ]
  },
  {
   "cell_type": "markdown",
   "metadata": {},
   "source": [
    "### 3.1\n",
    "Write a function called `great()` that prints the message `I feel great today!`.\n",
    "\n",
    "Expected result:\n",
    "\n",
    "    I feel great today!\n",
    "    I feel great today!\n",
    "    I feel great today!"
   ]
  },
  {
   "cell_type": "code",
   "execution_count": 48,
   "metadata": {},
   "outputs": [
    {
     "name": "stdout",
     "output_type": "stream",
     "text": [
      "I feel great today!\n",
      "I feel great today!\n",
      "I feel great today!\n"
     ]
    }
   ],
   "source": [
    "# Write your function here\n",
    "def great():\n",
    "    print(\"I feel great today!\")\n",
    "\n",
    "\n",
    "# Calls to the function\n",
    "great()\n",
    "great()\n",
    "great()"
   ]
  },
  {
   "cell_type": "markdown",
   "metadata": {},
   "source": [
    "### 3.2\n",
    "Write a function called `myCalculation()` with **1 parameter**, an integer or a floating point. The function adds `9` to that number, multiplies the result by `0.85`, and returns the final result.\n",
    "\n",
    "Expected result:\n",
    "\n",
    "    20.4\n",
    "    204.0\n",
    "    8.17989"
   ]
  },
  {
   "cell_type": "code",
   "execution_count": 49,
   "metadata": {},
   "outputs": [
    {
     "name": "stdout",
     "output_type": "stream",
     "text": [
      "20.4\n",
      "204.0\n",
      "8.17989\n"
     ]
    }
   ],
   "source": [
    "# Write your function here\n",
    "def myCalculation(parameter):\n",
    "    result = (parameter + 9) * 0.85\n",
    "    return result\n",
    "\n",
    "\n",
    "# Calls to the function\n",
    "print(myCalculation(15))\n",
    "print(myCalculation(231))\n",
    "print(myCalculation(0.6234))"
   ]
  },
  {
   "cell_type": "markdown",
   "metadata": {},
   "source": [
    "### 3.3\n",
    "Write a function called `comparator()` with **2 parameters**, two strings. The function prints if the two strings have the same number of letters.\n",
    "\n",
    "Expected result:\n",
    "\n",
    "    These two words are equally long.\n",
    "    These two words are not equally long.\n",
    "    These two words are equally long."
   ]
  },
  {
   "cell_type": "code",
   "execution_count": 50,
   "metadata": {},
   "outputs": [
    {
     "name": "stdout",
     "output_type": "stream",
     "text": [
      "These two words are equally long.\n",
      "These two words are not equally long.\n",
      "These two words are equally long.\n"
     ]
    }
   ],
   "source": [
    "# Write your function here\n",
    "def comparator(p_1, p_2):\n",
    "    if len(p_1) == len(p_2):\n",
    "        print(\"These two words are equally long.\")\n",
    "    else:\n",
    "        print(\"These two words are not equally long.\")\n",
    "\n",
    "\n",
    "# Calls to the function\n",
    "comparator(\"enjoying\", \"friendly\")\n",
    "comparator(\"Donau\", \"Mississippi\")\n",
    "comparator(\"architecture\", \"organization\")"
   ]
  },
  {
   "cell_type": "markdown",
   "metadata": {},
   "source": [
    "### 3.4\n",
    "Write a function called `myFriend()`, with **3 parameters**, one for the name (a string), one for the country (a string) and one for the age (an integer). It should print a presentation line.\n",
    "\n",
    "Expected result:\n",
    "\n",
    "    My friend Maite is from Chile and is 52 years old.\n",
    "    My friend Alia is from Egypt and is 28 years old.\n",
    "    My friend Sarawut is from Thailand and is 12 years old."
   ]
  },
  {
   "cell_type": "code",
   "execution_count": 51,
   "metadata": {},
   "outputs": [
    {
     "name": "stdout",
     "output_type": "stream",
     "text": [
      "My friend Maite is from Chile and is 52 years old.\n",
      "My friend Alia is from Egypt and is 28 years old.\n",
      "My friend Sarawut is from Thailand and is 12 years old.\n"
     ]
    }
   ],
   "source": [
    "# Write your function here\n",
    "def myFriend(name, country, age):\n",
    "    print(\"My friend {} is from {} and is {} years old.\".format(name, country, age))\n",
    "\n",
    "\n",
    "\n",
    "# Calls to the function\n",
    "myFriend('Maite', 'Chile', 52)\n",
    "myFriend(\"Alia\", \"Egypt\", 28)\n",
    "myFriend(\"Sarawut\", \"Thailand\", 12)"
   ]
  },
  {
   "cell_type": "markdown",
   "metadata": {},
   "source": [
    "### 3.5\n",
    "Write a function called `vowelsCount()` with **1 parameter** for a word (string), that returns the number of vowels contained in that word.\n",
    "\n",
    "Expected result:\n",
    "\n",
    "    Austria has 4 vowels\n",
    "    Confinement has 4 vowels\n",
    "    Education has 5 vowels."
   ]
  },
  {
   "cell_type": "code",
   "execution_count": 52,
   "metadata": {},
   "outputs": [
    {
     "name": "stdout",
     "output_type": "stream",
     "text": [
      "Austria has 4 vowels\n",
      "Confinement has 4 vowels\n",
      "Education has 5 vowels.\n"
     ]
    }
   ],
   "source": [
    "# Write your function here\n",
    "def vowelsCount(word):\n",
    "    counter= 0\n",
    "    vowels = \"aAeEiIoOuU\"\n",
    "    for letter in word:\n",
    "        if letter in vowels:\n",
    "            counter += 1\n",
    "    return counter\n",
    "\n",
    "\n",
    "# Calls to the function\n",
    "print('Austria has {} vowels'.format(vowelsCount('Austria')))\n",
    "print('Confinement has {} vowels'.format(vowelsCount('Confinement')))\n",
    "print('Education has {} vowels.'.format(vowelsCount('Education')))"
   ]
  },
  {
   "cell_type": "markdown",
   "metadata": {},
   "source": [
    "### 3.6\n",
    "Write a function called `euros2dollars()` with **1 parameter**, an integer or a floating point indicating a quantity of euros, and **1 default parameter** called `rate`, with a default value of `1.09` (floating point). The function should return the given quantity of euros converted to dolloars, by multiplying it by the default parameter `rate`.\n",
    "\n",
    "Expected result:\n",
    "\n",
    "    Today, I exchanged 100 euros for 109.00 dollars.\n",
    "    Last week, I exchanged 150 euros for 160.50 dollars.\n",
    "    Last month, I exchanged 125 euros for 138.75 dollars."
   ]
  },
  {
   "cell_type": "code",
   "execution_count": 53,
   "metadata": {},
   "outputs": [
    {
     "name": "stdout",
     "output_type": "stream",
     "text": [
      "Today, I exchanged 100 euros for 109.00 dollars.\n",
      "Last week, I exchanged 150 euros for 160.50 dollars.\n",
      "Last month, I exchanged 125 euros for 138.75 dollars.\n"
     ]
    }
   ],
   "source": [
    "# Write your function here\n",
    "def euros2dollars(euros, rate = 1.09):\n",
    "    dollars = euros * rate\n",
    "    return dollars\n",
    "\n",
    "\n",
    "\n",
    "# Calls to the function\n",
    "print(\"Today, I exchanged 100 euros for {:.2f} dollars.\".format(euros2dollars(100)))\n",
    "print(\"Last week, I exchanged 150 euros for {:.2f} dollars.\".format(euros2dollars(150, rate=1.07)))\n",
    "print(\"Last month, I exchanged 125 euros for {:.2f} dollars.\".format(euros2dollars(125, rate=1.11)))"
   ]
  },
  {
   "cell_type": "markdown",
   "metadata": {},
   "source": [
    "### 3.7\n",
    "Write a function called `demand()` with **1 parameter**, a string for an object, and **1 default parameter** called `polite`, with the default value of `True` (remember that `True` and `False` are special data types, booleans). The function should print a sentence asking for the given object. If `polite` is `True`, the sentence should be polite. Otherwise, the sentence can be more rude.\n",
    "\n",
    "Expected result:\n",
    "\n",
    "    Could you pass me the salt, please?\n",
    "    Could you pass me the sauce, please?\n",
    "    Give me the wine, now!"
   ]
  },
  {
   "cell_type": "code",
   "execution_count": 55,
   "metadata": {},
   "outputs": [
    {
     "name": "stdout",
     "output_type": "stream",
     "text": [
      "Could you pass me the salt, please?\n",
      "Could you pass me the sauce, please?\n",
      "Give me the wine, now!\n"
     ]
    }
   ],
   "source": [
    "# Write your function here\n",
    "def demand(thing, polite=True):\n",
    "    if polite == True: \n",
    "        print(\"Could you pass me the {}, please?\".format(thing))\n",
    "    else:\n",
    "        print(\"Give me the {}, now!\".format(thing))\n",
    "\n",
    "\n",
    "\n",
    "# Calls to the function\n",
    "demand(\"salt\")\n",
    "demand(\"sauce\")\n",
    "demand(\"wine\", polite=False)"
   ]
  },
  {
   "cell_type": "markdown",
   "metadata": {},
   "source": [
    "### 3.8\n",
    "Write a function called `restaurant_bill` with **3 parameters**, each of them floating points, indicating the price of a starter, a main dish, and a dessert. Add also **1 default parameter** called `tip` with a default value of `10`. The function should sum the prices of the starter, main dish and dessert, and add the percentage of tip indicated in the default parameter `tip` (that is, if `tip=10`, then you have to add the 10% of tip).\n",
    "\n",
    "Expected result:\n",
    "\n",
    "    30.8\n",
    "    64.4\n",
    "    8.5\n",
    "\n",
    "⇒ *Hint*: get inspired by exercise 1.11"
   ]
  },
  {
   "cell_type": "code",
   "execution_count": 56,
   "metadata": {},
   "outputs": [
    {
     "name": "stdout",
     "output_type": "stream",
     "text": [
      "30.8\n",
      "64.4\n",
      "8.5\n"
     ]
    }
   ],
   "source": [
    "# Write your function here\n",
    "def restaurant_bill(starter_p, maindish_p, dessert_p, tip=10):\n",
    "    price = starter_p + maindish_p + dessert_p\n",
    "    percentage = tip / 100\n",
    "    total = price + price * percentage\n",
    "    return total\n",
    "\n",
    "\n",
    "\n",
    "# Calls to the function\n",
    "print(restaurant_bill(8.30, 15.50, 4.20))\n",
    "print(restaurant_bill(16.90, 28.30, 12.30, tip=12))\n",
    "print(restaurant_bill(2.50, 6, 0, tip=0))"
   ]
  },
  {
   "cell_type": "markdown",
   "metadata": {},
   "source": [
    "### 3.9\n",
    "Write a function called `shout()` with **1 parameter**, a string, and **1 default parameter** called `expand` with the default value of 5. The function adds at the end of the given string the last letter of that string as many times as the number in the parameter `expand`. For example, if the given string is `'Hello'` and `expand=5` you should print `Hello` with 5 oes at the end: `Heloooooo`.\n",
    "\n",
    "Expected result:\n",
    "\n",
    "    Eurekaaaaaa\n",
    "    I love youuuuuuuuuuuuuuuu\n",
    "    Leave me aloneeeeeeeeeeeeeeeeeeeeeeeeeeeeeee\n",
    "   \n",
    "⇒ *Hint*: access the last letter with indexing and save it in a variable. Remember that you can add new strings to the end of a string with the `+=` operator. Loop over the range of the default parameter `expand` to add the last letter that many times."
   ]
  },
  {
   "cell_type": "code",
   "execution_count": 58,
   "metadata": {
    "scrolled": true
   },
   "outputs": [
    {
     "name": "stdout",
     "output_type": "stream",
     "text": [
      "Eurekaaaaaa\n",
      "I love youuuuuuuuuuuuuuuu\n",
      "Leave me aloneeeeeeeeeeeeeeeeeeeeeeeeeeeeeee\n"
     ]
    }
   ],
   "source": [
    "# Write your function here\n",
    "def shout(phrase, expand=5):\n",
    "    last_letter = phrase[-1]\n",
    "    print(phrase + last_letter * expand)\n",
    "\n",
    "\n",
    "\n",
    "# Calls to the function\n",
    "shout('Eureka')\n",
    "shout('I love you', expand=15)\n",
    "shout('Leave me alone', expand=30)"
   ]
  },
  {
   "cell_type": "markdown",
   "metadata": {},
   "source": [
    "### 3.10 Challenge!\n",
    "Write a function called `vowelFinder()` that takes **1 parameter**, a list of strings, and **1 default parameter** called `num_vowels`, with the default value of `3`. The function returns a list with those words that have as many or more vowels than the given integer.\n",
    "\n",
    "Expected result:\n",
    "\n",
    "    In the first list, 4 words have 3 or more vowels:\n",
    "    - bruise\n",
    "    - questionable\n",
    "    - useless\n",
    "    - exciting\n",
    "\n",
    "    In the second list, 2 words have 5 or more vowels:\n",
    "    - figurehead\n",
    "    - incongruous\n",
    "\n",
    "    In the third list, 6 words have 4 or more vowels:\n",
    "    - oatmeal\n",
    "    - recondite\n",
    "    - oceanic\n",
    "    - omniscient\n",
    "    - ludicrous\n",
    "    - pleasure\n",
    "\n",
    "⇒ *Hint*: You can use your `vowelsCount()` function from exercise 3.5 within this function!"
   ]
  },
  {
   "cell_type": "code",
   "execution_count": 59,
   "metadata": {},
   "outputs": [
    {
     "name": "stdout",
     "output_type": "stream",
     "text": [
      "In the first list, 4 words have 3 or more vowels:\n",
      "- bruise\n",
      "- questionable\n",
      "- useless\n",
      "- exciting\n",
      "\n",
      "In the second list, 2 words have 5 or more vowels:\n",
      "- figurehead\n",
      "- incongruous\n",
      "\n",
      "In the third list, 6 words have 4 or more vowels:\n",
      "- oatmeal\n",
      "- recondite\n",
      "- oceanic\n",
      "- omniscient\n",
      "- ludicrous\n",
      "- pleasure\n"
     ]
    }
   ],
   "source": [
    "# Write your function here\n",
    "def vowelFinder(words, num_vowels=3):\n",
    "    vowels = \"aAeEiIoOuU\"\n",
    "    total_vowels = []\n",
    "    for word in words:\n",
    "        counter = 0 \n",
    "        for letter in word:\n",
    "            if letter in vowels:\n",
    "                counter += 1\n",
    "        if counter >= num_vowels:\n",
    "            total_vowels.append(word)\n",
    "    return total_vowels\n",
    "\n",
    "\n",
    "\n",
    "# Define lists\n",
    "list_01 = ['bruise', 'wet', 'questionable', 'delight', 'doll', 'last', 'fine', 'war', 'root', 'useless', 'exciting', 'lavish']\n",
    "list_02 = ['perfidy', 'sequence', 'spear', 'cajole', 'obviate', 'turbid', 'cryptic', 'bequest', 'plea', 'disencumber', 'figurehead', 'incongruous']\n",
    "list_03 = ['zebra', 'oatmeal', 'doubtful', 'recondite', 'drink', 'oceanic', 'omniscient', 'lettuce', 'quiet', 'ludicrous', 'grouchy', 'pleasure']\n",
    "\n",
    "# Calls to the function\n",
    "results_01 = vowelFinder(list_01)\n",
    "results_02 = vowelFinder(list_02, num_vowels=5)\n",
    "results_03 = vowelFinder(list_03, num_vowels=4)\n",
    "\n",
    "# Print results\n",
    "print(\"In the first list, {} words have 3 or more vowels:\".format(len(results_01)))\n",
    "for word in results_01:\n",
    "    print(\"-\", word)\n",
    "    \n",
    "print()\n",
    "print(\"In the second list, {} words have 5 or more vowels:\".format(len(results_02)))\n",
    "for word in results_02:\n",
    "    print(\"-\", word)\n",
    "    \n",
    "print()\n",
    "print(\"In the third list, {} words have 4 or more vowels:\".format(len(results_03)))\n",
    "for word in results_03:\n",
    "    print(\"-\", word)"
   ]
  },
  {
   "cell_type": "code",
   "execution_count": null,
   "metadata": {},
   "outputs": [],
   "source": []
  }
 ],
 "metadata": {
  "kernelspec": {
   "display_name": "Python 3",
   "language": "python",
   "name": "python3"
  },
  "language_info": {
   "codemirror_mode": {
    "name": "ipython",
    "version": 3
   },
   "file_extension": ".py",
   "mimetype": "text/x-python",
   "name": "python",
   "nbconvert_exporter": "python",
   "pygments_lexer": "ipython3",
   "version": "3.8.1"
  }
 },
 "nbformat": 4,
 "nbformat_minor": 2
}
