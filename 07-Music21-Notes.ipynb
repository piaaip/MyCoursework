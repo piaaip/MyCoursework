{
 "cells": [
  {
   "cell_type": "markdown",
   "metadata": {},
   "source": [
    "# Music21: Retrieving and exploring notes\n",
    "This notebook presents how to work with the core element of a score, as music21 conceptualizes it: the note. For that, we will be working the same score as in the previous notebook, `lsxp-WoBenShi-KongChengJi.xml`. Together with new music functionalities, we will learn about a new Python feature, the `None` keyword.\n",
    "\n",
    "As always, we start by importing music21."
   ]
  },
  {
   "cell_type": "code",
   "execution_count": 3,
   "metadata": {},
   "outputs": [],
   "source": [
    "from music21 import *"
   ]
  },
  {
   "cell_type": "markdown",
   "metadata": {},
   "source": [
    "Once we have music21 imported, we load our score. Make sure that the path is correct if you moved the score to some other location."
   ]
  },
  {
   "cell_type": "code",
   "execution_count": 4,
   "metadata": {},
   "outputs": [],
   "source": [
    "# Path of the folder that contains the score to be loaded\n",
    "path = './lsxp-WoBenShi-KongChengJi/'\n",
    "\n",
    "# Name of the score\n",
    "file_name = 'lsxp-WoBenShi-KongChengJi.xml'\n",
    "\n",
    "# Join the path of the folder with the file name to get the full path\n",
    "fn = path + file_name\n",
    "\n",
    "# Load the score\n",
    "s = converter.parse(fn)"
   ]
  },
  {
   "cell_type": "markdown",
   "metadata": {},
   "source": [
    "## Retrieving notes\n",
    "In most of your analyses, you would like to work with all the notes of one or all the parts in your score. So, let's see how the notes can be retrieved.\n",
    "\n",
    "First of all, let's retrieve the parts of the score and save each of them in independent variables. Remember that for accessing the parts from the score stream, we can use the `.parts` attribute, and then indexing for access to the two parts present in this score."
   ]
  },
  {
   "cell_type": "code",
   "execution_count": 5,
   "metadata": {},
   "outputs": [],
   "source": [
    "p_instr = s.parts[0] # instrumental part\n",
    "p_vocal = s.parts[1] # vocal part"
   ]
  },
  {
   "cell_type": "markdown",
   "metadata": {},
   "source": [
    "Now we have the part stream for the vocal line in the `p_vocal` variable, and the part stream for the instrumental line in the `p_instr` variable. Let's work then with the vocal line. For that, we want to retrieve all the notes sung in the vocal line and save them in the `nn_vocal`.\n",
    "\n",
    "Music21 has an attribute for retrieving notes from a stream, the `.notes` attribute. Let's call it on the part stream for the vocal line, stored in the `p_vocal` variable. Remember that music21 likes you to save retrieved elements in a new stream with the `.stream()` method."
   ]
  },
  {
   "cell_type": "code",
   "execution_count": 6,
   "metadata": {},
   "outputs": [],
   "source": [
    "nn_vocal = p_vocal.notes.stream()"
   ]
  },
  {
   "cell_type": "markdown",
   "metadata": {},
   "source": [
    "That should be it! Let's see how many elements we have retrieved."
   ]
  },
  {
   "cell_type": "code",
   "execution_count": 7,
   "metadata": {},
   "outputs": [
    {
     "data": {
      "text/plain": [
       "0"
      ]
     },
     "execution_count": 7,
     "metadata": {},
     "output_type": "execute_result"
    }
   ],
   "source": [
    "len(nn_vocal.elements)"
   ]
  },
  {
   "cell_type": "markdown",
   "metadata": {},
   "source": [
    "Well, that's disappointing. What is the problem?\n",
    "\n",
    "The problem is that the part stream for the vocal line does not contain any notes. It contains only measures (and other objects, as we saw in notebook 6), and it is the measures those which contain the notes. So, if we want to retrieve the notes, we need to access the measures first. Therefore, let's get all the measures in the part stream from the vocal line calling the `.getElementsByClass()` method. And again, we save the result as a stream using the `.stream()` method."
   ]
  },
  {
   "cell_type": "code",
   "execution_count": 8,
   "metadata": {},
   "outputs": [
    {
     "data": {
      "text/plain": [
       "161"
      ]
     },
     "execution_count": 8,
     "metadata": {},
     "output_type": "execute_result"
    }
   ],
   "source": [
    "mm_vocal = p_vocal.getElementsByClass('Measure').stream()\n",
    "\n",
    "len(mm_vocal.elements)"
   ]
  },
  {
   "cell_type": "markdown",
   "metadata": {},
   "source": [
    "We have all the measures of the vocal part in the `mm_vocal` variable. As said before, the `.notes` attribute retrieves all the note objects in a stream that contains notes. So let's try this attribute in one single measure first. Let's take measure number 9 (look at it in the `.pdf` score to know which measure we are talking about). To do that, we could just use indexing on the stream of measures saved in the variable `mm_vocal`. Since this score starts with an anacrusis measure with number `0`, the measure number is the same as its index in `mm_vocal` variable. So the index for measure 9 would be for this score also 9.\n",
    "\n",
    "However, if we do not want to worry about indexes, we can directly use the measure number. For that, we can call the `.measure()` method on the stream of measures saved in the variable `mm_vocal`. And we give it as input the measure number. Let's try this out! We will save the retrieved measure in the variable `m_vocal_9` (`m`easure of the `vocal` part number `9`)."
   ]
  },
  {
   "cell_type": "code",
   "execution_count": 9,
   "metadata": {},
   "outputs": [
    {
     "name": "stdout",
     "output_type": "stream",
     "text": [
      "<music21.stream.Measure 9 offset=34.0>\n"
     ]
    }
   ],
   "source": [
    "m_vocal_9 = mm_vocal.measure(9)\n",
    "\n",
    "print(m_vocal_9)"
   ]
  },
  {
   "cell_type": "markdown",
   "metadata": {},
   "source": [
    "Now we have the measure number 9 in the variable `m_vocal_9`. Since a measure is a stream, let's see which elements are contained using the `.elements` attribute. Compare the output with the `.pdf` score to check that we indeed retrieved the measure we wanted."
   ]
  },
  {
   "cell_type": "code",
   "execution_count": 10,
   "metadata": {},
   "outputs": [
    {
     "name": "stdout",
     "output_type": "stream",
     "text": [
      "Measure 9 contains 6 elements:\n",
      "- <music21.note.Note G#>\n",
      "- <music21.note.Note F#>\n",
      "- <music21.note.Note G#>\n",
      "- <music21.note.Note B>\n",
      "- <music21.note.Note G#>\n",
      "- <music21.note.Rest rest>\n"
     ]
    }
   ],
   "source": [
    "print('Measure 9 contains {} elements:'.format(len(m_vocal_9.elements)))\n",
    "\n",
    "for element in m_vocal_9.elements:\n",
    "    print('-', element)"
   ]
  },
  {
   "cell_type": "markdown",
   "metadata": {},
   "source": [
    "As you see, this measure contains 5 notes and 1 rest. Let's call now the `.notes` attribute on the `m_vocal_9` variable, always saving the output as a stream. In this case, we will save the retrived notes in the `nn_vocal_9` variables."
   ]
  },
  {
   "cell_type": "code",
   "execution_count": 11,
   "metadata": {},
   "outputs": [
    {
     "name": "stdout",
     "output_type": "stream",
     "text": [
      "Measure 9 contains 5 notes:\n",
      "- <music21.note.Note G#>\n",
      "- <music21.note.Note F#>\n",
      "- <music21.note.Note G#>\n",
      "- <music21.note.Note B>\n",
      "- <music21.note.Note G#>\n"
     ]
    }
   ],
   "source": [
    "nn_vocal_9 = m_vocal_9.notes.stream()\n",
    "\n",
    "print('Measure 9 contains {} notes:'.format(len(nn_vocal_9)))\n",
    "\n",
    "for n in nn_vocal_9:\n",
    "    print('-', n)"
   ]
  },
  {
   "cell_type": "markdown",
   "metadata": {},
   "source": [
    "Finally we have reached the notes! But only for one single measure. However, we wanted to work with all the notes of the vocal part. What we can do is looping over all the measures that we saved in the variable `mm_vocal`, and retrieve all the notes in each measure using the `.notes` attribute. Then, we can loop over the notes and save them in a previously defined empty list. Let's take the same name as in the previous attempt, `nn_vocal`."
   ]
  },
  {
   "cell_type": "code",
   "execution_count": 12,
   "metadata": {},
   "outputs": [
    {
     "name": "stdout",
     "output_type": "stream",
     "text": [
      "The vocal part contains 404 notes.\n"
     ]
    }
   ],
   "source": [
    "# Define empty variable\n",
    "nn_vocal = []\n",
    "\n",
    "# Loop over all the measures of the vocal part\n",
    "for m in mm_vocal:\n",
    "    nn = m.notes.stream()\n",
    "    # Loop over all the notes of this particular measure\n",
    "    for n in nn:\n",
    "        # Append the note to the empty list\n",
    "        nn_vocal.append(n)\n",
    "        \n",
    "print('The vocal part contains {} notes.'.format(len(nn_vocal)))"
   ]
  },
  {
   "cell_type": "markdown",
   "metadata": {},
   "source": [
    "Great! Finally we got all the notes in one variable, `nn_vocal`. However, this is a quite bulky way for such a common task as retrieving all the notes of a part. Besides, `nn_vocal` is a list, so we lose all the functionalities of the music21 streams. For example, we cannot open this stream with the `.show()` method."
   ]
  },
  {
   "cell_type": "code",
   "execution_count": 13,
   "metadata": {},
   "outputs": [
    {
     "ename": "AttributeError",
     "evalue": "'list' object has no attribute 'show'",
     "output_type": "error",
     "traceback": [
      "\u001b[1;31m-----------------------------------------------------------------------\u001b[0m",
      "\u001b[1;31mAttributeError\u001b[0m                        Traceback (most recent call last)",
      "\u001b[1;32m<ipython-input-13-15aa21c64f49>\u001b[0m in \u001b[0;36m<module>\u001b[1;34m\u001b[0m\n\u001b[1;32m----> 1\u001b[1;33m \u001b[0mnn_vocal\u001b[0m\u001b[1;33m.\u001b[0m\u001b[0mshow\u001b[0m\u001b[1;33m(\u001b[0m\u001b[1;33m)\u001b[0m\u001b[1;33m\u001b[0m\u001b[1;33m\u001b[0m\u001b[0m\n\u001b[0m",
      "\u001b[1;31mAttributeError\u001b[0m: 'list' object has no attribute 'show'"
     ]
    }
   ],
   "source": [
    "nn_vocal.show()"
   ]
  },
  {
   "cell_type": "markdown",
   "metadata": {},
   "source": [
    "Luckily, music21 has thought of this. To simplify this task, we can use the `.flat` attribute. This attribute \"flattens\" all the substreams contained in a bigger stream so that we don't need to iterate over them. That is, if we call the `.flat` attribute on a part stream, the limits of all the measure streams disappear, and the objects contained in all the measure streams are now accessible directly from the part stream. The objects will now be located in the corresponding offset of the part stream.\n",
    "\n",
    "After calling the `.flat` attribute, we can directly call the `.notes` attribute, and save the output as a stream in a variable."
   ]
  },
  {
   "cell_type": "code",
   "execution_count": 14,
   "metadata": {},
   "outputs": [
    {
     "name": "stdout",
     "output_type": "stream",
     "text": [
      "The vocal part contains 404 notes.\n"
     ]
    }
   ],
   "source": [
    "nn_vocal = p_vocal.flat.notes.stream()\n",
    "\n",
    "print('The vocal part contains {} notes.'.format(len(nn_vocal)))"
   ]
  },
  {
   "cell_type": "markdown",
   "metadata": {},
   "source": [
    "We have indeed retrieved all the notes in the vocal part. Besides, now they are saved in a stream, so we can open them in our score editor."
   ]
  },
  {
   "cell_type": "code",
   "execution_count": 15,
   "metadata": {},
   "outputs": [],
   "source": [
    "nn_vocal.show()"
   ]
  },
  {
   "cell_type": "markdown",
   "metadata": {},
   "source": [
    "Now that we have all the notes in a variable as a stream, we can acess them through indexing. Let's, for example, check the first five notes."
   ]
  },
  {
   "cell_type": "code",
   "execution_count": 16,
   "metadata": {},
   "outputs": [
    {
     "name": "stdout",
     "output_type": "stream",
     "text": [
      "<music21.note.Note G#>\n",
      "<music21.note.Note B>\n",
      "<music21.note.Note G#>\n",
      "<music21.note.Note F#>\n",
      "<music21.note.Note B>\n"
     ]
    }
   ],
   "source": [
    "for n in nn_vocal[:5]:\n",
    "    print(n)"
   ]
  },
  {
   "cell_type": "markdown",
   "metadata": {},
   "source": [
    "## Retrieving information from notes\n",
    "\n",
    "Now that we accessed the notes, we can start working with them. Most of the work that we will do with our scores will consist in retrieving information from the notes. Let's have a look to the most basic information that can be retrieved from single notes. To do that, let's save one single note in a variable. For example, the 3rd note (with index 2) in the variable `n_vocal_3` (`n`ote from the `vocal` part number 3)."
   ]
  },
  {
   "cell_type": "code",
   "execution_count": 17,
   "metadata": {},
   "outputs": [
    {
     "name": "stdout",
     "output_type": "stream",
     "text": [
      "<music21.note.Note G#>\n"
     ]
    }
   ],
   "source": [
    "n_vocal_3 = nn_vocal[2]\n",
    "\n",
    "print(n_vocal_3)"
   ]
  },
  {
   "cell_type": "markdown",
   "metadata": {},
   "source": [
    "In music21, the note objects are very complex objects. Their most essential feature is that they contain a `pitch` and a `duration` object. Yes, `pitch` and `duration` are, in music21, individual objects, and you can work with them in isolation. However, more commonly, you will work with them from notes.\n",
    "\n",
    "The `pitch` object contained in a specific note can be accessed by calling `.pitch` on a particular note. Once we have accessed the `pitch` object in a note, we can extract a lot of information about it via many attributes. Let's have a look to the most frequent ones.\n",
    "\n",
    "⇒ **Note**: to know all the attributes and methods available for an object, write the name of the object followed by a period ( `.` ), and then click the tabulator."
   ]
  },
  {
   "cell_type": "code",
   "execution_count": 20,
   "metadata": {},
   "outputs": [
    {
     "name": "stdout",
     "output_type": "stream",
     "text": [
      "Frequency: 415.3046975799451 Hz\n",
      "Name: G#\n",
      "Step: G\n",
      "Octave: 4\n",
      "Name with octave: G#4\n",
      "Midi: 68\n",
      "Name in Spanish: sol sostenido\n"
     ]
    }
   ],
   "source": [
    "print('Frequency: {} Hz'.format(n_vocal_3.pitch.frequency))\n",
    "print('Name:', n_vocal_3.pitch.name)\n",
    "print('Step:', n_vocal_3.pitch.step)\n",
    "print('Octave:', n_vocal_3.pitch.octave)\n",
    "print('Name with octave:', n_vocal_3.pitch.nameWithOctave)\n",
    "print('Midi:', n_vocal_3.pitch.midi)\n",
    "print('Name in Spanish:', n_vocal_3.pitch.spanish)"
   ]
  },
  {
   "cell_type": "markdown",
   "metadata": {},
   "source": [
    "A particular attribute of a pitch object is `.accidental`, from where we can retrieve information about the accidental of a specific note. We can try the `.name` attribute, which returns the name of the accidental, and the `.alter` attribute, which returns how many semitones are added to the pitch of the note."
   ]
  },
  {
   "cell_type": "code",
   "execution_count": 21,
   "metadata": {},
   "outputs": [
    {
     "name": "stdout",
     "output_type": "stream",
     "text": [
      "Accidental: sharp\n",
      "Accidental value: 1.0\n"
     ]
    }
   ],
   "source": [
    "print('Accidental:', n_vocal_3.pitch.accidental.name)\n",
    "print('Accidental value:', n_vocal_3.pitch.accidental.alter)"
   ]
  },
  {
   "cell_type": "markdown",
   "metadata": {},
   "source": [
    "Great, let's do the same now with another note. For example, the 5th note."
   ]
  },
  {
   "cell_type": "code",
   "execution_count": 22,
   "metadata": {},
   "outputs": [
    {
     "name": "stdout",
     "output_type": "stream",
     "text": [
      "Frequency: 493.8833012561241 Hz\n",
      "Name: B\n",
      "Step: B\n",
      "Octave: 4\n",
      "Name with octave: B4\n",
      "Midi: 71\n",
      "Name in Spanish: si\n",
      "\n"
     ]
    },
    {
     "ename": "AttributeError",
     "evalue": "'NoneType' object has no attribute 'name'",
     "output_type": "error",
     "traceback": [
      "\u001b[1;31m-----------------------------------------------------------------------\u001b[0m",
      "\u001b[1;31mAttributeError\u001b[0m                        Traceback (most recent call last)",
      "\u001b[1;32m<ipython-input-22-fb2951694bad>\u001b[0m in \u001b[0;36m<module>\u001b[1;34m\u001b[0m\n\u001b[0;32m      9\u001b[0m \u001b[0mprint\u001b[0m\u001b[1;33m(\u001b[0m\u001b[1;34m'Name in Spanish:'\u001b[0m\u001b[1;33m,\u001b[0m \u001b[0mn_vocal_5\u001b[0m\u001b[1;33m.\u001b[0m\u001b[0mpitch\u001b[0m\u001b[1;33m.\u001b[0m\u001b[0mspanish\u001b[0m\u001b[1;33m)\u001b[0m\u001b[1;33m\u001b[0m\u001b[1;33m\u001b[0m\u001b[0m\n\u001b[0;32m     10\u001b[0m \u001b[0mprint\u001b[0m\u001b[1;33m(\u001b[0m\u001b[1;33m)\u001b[0m\u001b[1;33m\u001b[0m\u001b[1;33m\u001b[0m\u001b[0m\n\u001b[1;32m---> 11\u001b[1;33m \u001b[0mprint\u001b[0m\u001b[1;33m(\u001b[0m\u001b[1;34m'Accidental:'\u001b[0m\u001b[1;33m,\u001b[0m \u001b[0mn_vocal_5\u001b[0m\u001b[1;33m.\u001b[0m\u001b[0mpitch\u001b[0m\u001b[1;33m.\u001b[0m\u001b[0maccidental\u001b[0m\u001b[1;33m.\u001b[0m\u001b[0mname\u001b[0m\u001b[1;33m)\u001b[0m\u001b[1;33m\u001b[0m\u001b[1;33m\u001b[0m\u001b[0m\n\u001b[0m\u001b[0;32m     12\u001b[0m \u001b[0mprint\u001b[0m\u001b[1;33m(\u001b[0m\u001b[1;34m'Accidental value:'\u001b[0m\u001b[1;33m,\u001b[0m \u001b[0mn_vocal_5\u001b[0m\u001b[1;33m.\u001b[0m\u001b[0mpitch\u001b[0m\u001b[1;33m.\u001b[0m\u001b[0maccidental\u001b[0m\u001b[1;33m.\u001b[0m\u001b[0malter\u001b[0m\u001b[1;33m)\u001b[0m\u001b[1;33m\u001b[0m\u001b[1;33m\u001b[0m\u001b[0m\n",
      "\u001b[1;31mAttributeError\u001b[0m: 'NoneType' object has no attribute 'name'"
     ]
    }
   ],
   "source": [
    "n_vocal_5 = nn_vocal[4]\n",
    "\n",
    "print('Frequency: {} Hz'.format(n_vocal_5.pitch.frequency))\n",
    "print('Name:', n_vocal_5.pitch.name)\n",
    "print('Step:', n_vocal_5.pitch.step)\n",
    "print('Octave:', n_vocal_5.pitch.octave)\n",
    "print('Name with octave:', n_vocal_5.pitch.nameWithOctave)\n",
    "print('Midi:', n_vocal_5.pitch.midi)\n",
    "print('Name in Spanish:', n_vocal_5.pitch.spanish)\n",
    "print()\n",
    "print('Accidental:', n_vocal_5.pitch.accidental.name)\n",
    "print('Accidental value:', n_vocal_5.pitch.accidental.alter)"
   ]
  },
  {
   "cell_type": "markdown",
   "metadata": {},
   "source": [
    "Since the 5th note has no accidental, we logically cannot retrieve its name and alter. Therefore, if we ever want to iterate over all the notes of a part and retrieve information about their accidentals, we have to verify first that each note has an accidental before calling the `.name` and `.alter` attributes."
   ]
  },
  {
   "cell_type": "code",
   "execution_count": 23,
   "metadata": {},
   "outputs": [
    {
     "name": "stdout",
     "output_type": "stream",
     "text": [
      "Accidental: sharp\n",
      "Accidental value: 1.0\n",
      "\n",
      "This note has no accidental\n"
     ]
    }
   ],
   "source": [
    "if n_vocal_3.pitch.accidental:\n",
    "    print('Accidental:', n_vocal_3.pitch.accidental.name)\n",
    "    print('Accidental value:', n_vocal_3.pitch.accidental.alter)\n",
    "else:\n",
    "    print('This note has no aacidental')\n",
    "\n",
    "print()\n",
    "\n",
    "if n_vocal_5.pitch.accidental:\n",
    "    print('Accidental:', n_vocal_5.pitch.accidental.name)\n",
    "    print('Accidental value:', n_vocal_5.pitch.accidental.alter)\n",
    "else:\n",
    "    print('This note has no accidental')"
   ]
  },
  {
   "cell_type": "markdown",
   "metadata": {},
   "source": [
    "If an object does not contain an element, but we try to retrieve it, what is returned? Python uses a special element for this, the `None` keyword. This keyword indicates that the value of a specific object is null. Or put in other words, that the variable that contains that object is empty. Let's try that for the case of a note without accidental and we call the `.accidental` attribute:"
   ]
  },
  {
   "cell_type": "code",
   "execution_count": 24,
   "metadata": {},
   "outputs": [
    {
     "name": "stdout",
     "output_type": "stream",
     "text": [
      "None\n"
     ]
    }
   ],
   "source": [
    "print(n_vocal_5.pitch.accidental)"
   ]
  },
  {
   "cell_type": "markdown",
   "metadata": {},
   "source": [
    "In many cases, we can modify the value of an object by directly assigning a new value to it. This the case of the `.accidental` attribute. We can modify its value by assigning a new `.name` or `.alter` attributes using the `=` operator. Let's try first with the name."
   ]
  },
  {
   "cell_type": "code",
   "execution_count": 25,
   "metadata": {},
   "outputs": [],
   "source": [
    "n_vocal_5.pitch.accidental = 'flat'\n",
    "\n",
    "n_vocal_5.show()"
   ]
  },
  {
   "cell_type": "markdown",
   "metadata": {},
   "source": [
    "Now, let's print the same information about this note as for the previous ones."
   ]
  },
  {
   "cell_type": "code",
   "execution_count": 26,
   "metadata": {},
   "outputs": [
    {
     "name": "stdout",
     "output_type": "stream",
     "text": [
      "Frequency: 466.1637615180899 Hz\n",
      "Name: B-\n",
      "Step: B\n",
      "Octave: 4\n",
      "Name with octave: B-4\n",
      "Midi: 70\n",
      "Name in Spanish: si bèmol\n",
      "\n",
      "Accidental: flat\n",
      "Accidental value: -1.0\n"
     ]
    }
   ],
   "source": [
    "print('Frequency: {} Hz'.format(n_vocal_5.pitch.frequency))\n",
    "print('Name:', n_vocal_5.pitch.name)\n",
    "print('Step:', n_vocal_5.pitch.step)\n",
    "print('Octave:', n_vocal_5.pitch.octave)\n",
    "print('Name with octave:', n_vocal_5.pitch.nameWithOctave)\n",
    "print('Midi:', n_vocal_5.pitch.midi)\n",
    "print('Name in Spanish:', n_vocal_5.pitch.spanish)\n",
    "print()\n",
    "if n_vocal_5.pitch.accidental:\n",
    "    print('Accidental:', n_vocal_5.pitch.accidental.name)\n",
    "    print('Accidental value:', n_vocal_5.pitch.accidental.alter)\n",
    "else:\n",
    "    print('This note has no accidental')"
   ]
  },
  {
   "cell_type": "markdown",
   "metadata": {},
   "source": [
    "Notice that flats are indicated in the note name, both from the `.name` and from the `.nameWithOctave` attributes, with a minus sign `-`.\n",
    "\n",
    "Let's modify the accidental of this note again, now by assigning a new `.alter`, for example, `2`. Can you guess which accidental is this?"
   ]
  },
  {
   "cell_type": "code",
   "execution_count": 27,
   "metadata": {},
   "outputs": [],
   "source": [
    "n_vocal_5.pitch.accidental = 2\n",
    "\n",
    "n_vocal_5.show()"
   ]
  },
  {
   "cell_type": "markdown",
   "metadata": {},
   "source": [
    "And now, let's print all the information."
   ]
  },
  {
   "cell_type": "code",
   "execution_count": 28,
   "metadata": {},
   "outputs": [
    {
     "name": "stdout",
     "output_type": "stream",
     "text": [
      "Frequency: 554.3652619537443 Hz\n",
      "Name: B##\n",
      "Step: B\n",
      "Octave: 4\n",
      "Name with octave: B##4\n",
      "Midi: 73\n",
      "Name in Spanish: si doble sostenido\n",
      "\n",
      "Accidental: double-sharp\n",
      "Accidental value: 2.0\n"
     ]
    }
   ],
   "source": [
    "print('Frequency: {} Hz'.format(n_vocal_5.pitch.frequency))\n",
    "print('Name:', n_vocal_5.pitch.name)\n",
    "print('Step:', n_vocal_5.pitch.step)\n",
    "print('Octave:', n_vocal_5.pitch.octave)\n",
    "print('Name with octave:', n_vocal_5.pitch.nameWithOctave)\n",
    "print('Midi:', n_vocal_5.pitch.midi)\n",
    "print('Name in Spanish:', n_vocal_5.pitch.spanish)\n",
    "print()\n",
    "if n_vocal_5.pitch.accidental:\n",
    "    print('Accidental:', n_vocal_5.pitch.accidental.name)\n",
    "    print('Accidental value:', n_vocal_5.pitch.accidental.alter)\n",
    "else:\n",
    "    print('This note has no accidental')"
   ]
  },
  {
   "cell_type": "markdown",
   "metadata": {},
   "source": [
    "**Important**: we have the 5th note of the vocal part saved in our `n_vocal_5` variable. What is saved there is a \"call\" to that note in the score, not a new copy of it. That means that all the changes that we do in the variable `n_vocal_5` will be reflected in the score, and all the streams where that note is contained. To check that, let's open the whole score with our score editor, and pay attention to the 5th note of the vocal part. It should have a double sharp."
   ]
  },
  {
   "cell_type": "code",
   "execution_count": 29,
   "metadata": {},
   "outputs": [],
   "source": [
    "s.show()"
   ]
  },
  {
   "cell_type": "markdown",
   "metadata": {},
   "source": [
    "Since we were just experimenting, let's take our 5th note back to it's original status. How can we do that. Let's try by giving it an `.alter` value of `0`."
   ]
  },
  {
   "cell_type": "code",
   "execution_count": 30,
   "metadata": {},
   "outputs": [
    {
     "name": "stdout",
     "output_type": "stream",
     "text": [
      "Frequency: 493.8833012561241 Hz\n",
      "Name: B\n",
      "Step: B\n",
      "Octave: 4\n",
      "Name with octave: B4\n",
      "Midi: 71\n",
      "Name in Spanish: si\n",
      "\n",
      "Accidental: natural\n",
      "Accidental value: 0.0\n"
     ]
    }
   ],
   "source": [
    "n_vocal_5.pitch.accidental = 0\n",
    "\n",
    "print('Frequency: {} Hz'.format(n_vocal_5.pitch.frequency))\n",
    "print('Name:', n_vocal_5.pitch.name)\n",
    "print('Step:', n_vocal_5.pitch.step)\n",
    "print('Octave:', n_vocal_5.pitch.octave)\n",
    "print('Name with octave:', n_vocal_5.pitch.nameWithOctave)\n",
    "print('Midi:', n_vocal_5.pitch.midi)\n",
    "print('Name in Spanish:', n_vocal_5.pitch.spanish)\n",
    "print()\n",
    "if n_vocal_5.pitch.accidental:\n",
    "    print('Accidental:', n_vocal_5.pitch.accidental.name)\n",
    "    print('Accidental value:', n_vocal_5.pitch.accidental.alter)\n",
    "else:\n",
    "    print('This note has no accidental')\n",
    "\n",
    "n_vocal_5.show()"
   ]
  },
  {
   "cell_type": "markdown",
   "metadata": {},
   "source": [
    "Now the note is a `B4` again. However, it still contains an accidental, a natural, and originally it had none. So, what it needs to be done is assigning the `None` keyword to the `.accidental` attribute."
   ]
  },
  {
   "cell_type": "code",
   "execution_count": 31,
   "metadata": {},
   "outputs": [
    {
     "name": "stdout",
     "output_type": "stream",
     "text": [
      "Frequency: 493.8833012561241 Hz\n",
      "Name: B\n",
      "Step: B\n",
      "Octave: 4\n",
      "Name with octave: B4\n",
      "Midi: 71\n",
      "Name in Spanish: si\n",
      "\n",
      "This note has no accidental\n"
     ]
    }
   ],
   "source": [
    "n_vocal_5.pitch.accidental = None\n",
    "\n",
    "print('Frequency: {} Hz'.format(n_vocal_5.pitch.frequency))\n",
    "print('Name:', n_vocal_5.pitch.name)\n",
    "print('Step:', n_vocal_5.pitch.step)\n",
    "print('Octave:', n_vocal_5.pitch.octave)\n",
    "print('Name with octave:', n_vocal_5.pitch.nameWithOctave)\n",
    "print('Midi:', n_vocal_5.pitch.midi)\n",
    "print('Name in Spanish:', n_vocal_5.pitch.spanish)\n",
    "print()\n",
    "if n_vocal_5.pitch.accidental:\n",
    "    print('Accidental:', n_vocal_5.pitch.accidental.name)\n",
    "    print('Accidental value:', n_vocal_5.pitch.accidental.alter)\n",
    "else:\n",
    "    print('This note has no accidental')\n",
    "\n",
    "n_vocal_5.show()"
   ]
  },
  {
   "cell_type": "markdown",
   "metadata": {},
   "source": [
    "Let's move now to the `duration` object. As with the `pitch` object, we can access it by calling `.duration` on a specific note, and then, different attributes on it. Let's see some basic ones."
   ]
  },
  {
   "cell_type": "code",
   "execution_count": 32,
   "metadata": {},
   "outputs": [
    {
     "name": "stdout",
     "output_type": "stream",
     "text": [
      "Duration type: eighth\n",
      "Duration name: Eighth\n",
      "Duration as quarter length: 0.5\n"
     ]
    }
   ],
   "source": [
    "print('Duration type:', n_vocal_3.duration.type)\n",
    "print('Duration name:', n_vocal_3.duration.fullName)\n",
    "print('Duration as quarter length:', n_vocal_3.duration.quarterLength)"
   ]
  },
  {
   "cell_type": "markdown",
   "metadata": {},
   "source": [
    "From my experience, the most valuable duration information is the `.quarterLength` attribute. This attribute returns the duration value of a note in terms of quarter notes. In this case, since an eighth note lasts half of the duration of a quarter note, the returned value is `0.5`. By the way, this value is a floating point, so it can be used for mathematical operations.\n",
    "\n",
    "The duration information is very useful for detecting grace notes. These notes are conceived by music21 as notes with a `quarterLength` duration of `0.0`, and a duration type of `zero`. Let's check this with the first note of the vocal part, which happens to be a grace note."
   ]
  },
  {
   "cell_type": "code",
   "execution_count": 33,
   "metadata": {},
   "outputs": [
    {
     "name": "stdout",
     "output_type": "stream",
     "text": [
      "Duration type: zero\n",
      "Duration name: 16th\n",
      "Duration as quarter length: 0.0\n"
     ]
    }
   ],
   "source": [
    "n_vocal_0 = nn_vocal[0]\n",
    "\n",
    "print('Duration type:', n_vocal_0.duration.type)\n",
    "print('Duration name:', n_vocal_0.duration.fullName)\n",
    "print('Duration as quarter length:', n_vocal_0.duration.quarterLength)"
   ]
  },
  {
   "cell_type": "markdown",
   "metadata": {},
   "source": [
    "Finally, let's look at one final duration attribute, `.dots`. It returns how many duration dots a note contains. Let's call this attribute in our fifth note."
   ]
  },
  {
   "cell_type": "code",
   "execution_count": 34,
   "metadata": {},
   "outputs": [
    {
     "name": "stdout",
     "output_type": "stream",
     "text": [
      "This note has 0 dots.\n"
     ]
    }
   ],
   "source": [
    "print(\"This note has {} dots.\".format(n_vocal_5.duration.dots))"
   ]
  },
  {
   "cell_type": "markdown",
   "metadata": {},
   "source": [
    "Let's try it now with the first dotted note in the vocal part, the 21st note (index `20`)."
   ]
  },
  {
   "cell_type": "code",
   "execution_count": 35,
   "metadata": {},
   "outputs": [
    {
     "name": "stdout",
     "output_type": "stream",
     "text": [
      "This note has 1 dot.\n"
     ]
    }
   ],
   "source": [
    "n_vocal_21 = nn_vocal[20]\n",
    "\n",
    "print(\"This note has {} dot.\".format(n_vocal_21.duration.dots))\n",
    "\n",
    "n_vocal_21.show()"
   ]
  },
  {
   "cell_type": "markdown",
   "metadata": {},
   "source": [
    "Let's now print the duration information of this note."
   ]
  },
  {
   "cell_type": "code",
   "execution_count": 36,
   "metadata": {},
   "outputs": [
    {
     "name": "stdout",
     "output_type": "stream",
     "text": [
      "Duration type: quarter\n",
      "Duration name: Dotted Quarter\n",
      "Duration as quarter length: 1.5\n"
     ]
    }
   ],
   "source": [
    "print('Duration type:', n_vocal_21.duration.type)\n",
    "print('Duration name:', n_vocal_21.duration.fullName)\n",
    "print('Duration as quarter length:', n_vocal_21.duration.quarterLength)"
   ]
  },
  {
   "cell_type": "markdown",
   "metadata": {},
   "source": [
    "We have seen in the previous cells how to retrieve information about the `pitch` and `duration` objects contained in a note. To do that, we need to call the `.pitch` and `.duration` attributes on the note, and then the desired attribute of any of these objects. However, some of these items of information are so frequently used that they can be retrieved directly from the note. These are the following ones:"
   ]
  },
  {
   "cell_type": "code",
   "execution_count": 37,
   "metadata": {},
   "outputs": [
    {
     "name": "stdout",
     "output_type": "stream",
     "text": [
      "Name: B\n",
      "Step: B\n",
      "Octave: 4\n",
      "Name with octave: B4\n",
      "\n",
      "Duration as quarter length: 1.0\n"
     ]
    }
   ],
   "source": [
    "print('Name:', n_vocal_5.name)\n",
    "print('Step:', n_vocal_5.step)\n",
    "print('Octave:', n_vocal_5.octave)\n",
    "print('Name with octave:', n_vocal_5.nameWithOctave)\n",
    "print()\n",
    "print('Duration as quarter length:', n_vocal_5.quarterLength)"
   ]
  },
  {
   "cell_type": "markdown",
   "metadata": {},
   "source": [
    "## Exercises"
   ]
  },
  {
   "cell_type": "markdown",
   "metadata": {},
   "source": [
    "### Exercise 1. Debugging\n",
    "All the cells in this exercise are in a sequence. So you need to solve one before moving to the next one."
   ]
  },
  {
   "cell_type": "markdown",
   "metadata": {},
   "source": [
    "### 1.1"
   ]
  },
  {
   "cell_type": "code",
   "execution_count": 38,
   "metadata": {},
   "outputs": [],
   "source": [
    "from music21 import *"
   ]
  },
  {
   "cell_type": "markdown",
   "metadata": {},
   "source": [
    "### 1.2"
   ]
  },
  {
   "cell_type": "code",
   "execution_count": 39,
   "metadata": {},
   "outputs": [],
   "source": [
    "# This ccode requires the variable fn defined in the second cell of this notebook\n",
    "# Make sure to run that cell before running this one\n",
    "\n",
    "s = converter.parse(fn)"
   ]
  },
  {
   "cell_type": "markdown",
   "metadata": {},
   "source": [
    "### 1.3"
   ]
  },
  {
   "cell_type": "code",
   "execution_count": 41,
   "metadata": {},
   "outputs": [
    {
     "data": {
      "text/plain": [
       "<music21.stream.Part Piano>"
      ]
     },
     "execution_count": 41,
     "metadata": {},
     "output_type": "execute_result"
    }
   ],
   "source": [
    "# Retrieve the instrumental part\n",
    "s.parts[0]"
   ]
  },
  {
   "cell_type": "markdown",
   "metadata": {},
   "source": [
    "### 1.4"
   ]
  },
  {
   "cell_type": "code",
   "execution_count": 44,
   "metadata": {},
   "outputs": [],
   "source": [
    "# Retrieve all the measures in the part\n",
    "\n",
    "mm_instr = p_instr.getElementsByClass('Measure').stream()"
   ]
  },
  {
   "cell_type": "markdown",
   "metadata": {},
   "source": [
    "### 1.5"
   ]
  },
  {
   "cell_type": "code",
   "execution_count": 46,
   "metadata": {},
   "outputs": [],
   "source": [
    "# Retrieve all the notes in the part\n",
    "nn_instr = p_instr.flat.notes.stream()"
   ]
  },
  {
   "cell_type": "markdown",
   "metadata": {},
   "source": [
    "### Exercise 2. Flawed logic\n",
    "Assuming that the bugs of the previous cells have been fixed, we have all the notes from the instrumental part saved in the variable `nn_instr`. So, let's now try to compute some statistics. But pay attention! There are some problems in the logic of the code in the following cells."
   ]
  },
  {
   "cell_type": "markdown",
   "metadata": {},
   "source": [
    "### 2.1\n",
    "The score we are using, `lsxp-WoBenShi-KongChengJi.xml` is transcribed with an E major key signature. This does not imply any tonal assumption about this non tonal music. It only means that the melodic material of this score is built over a scale whose first degree is E. So, let's see how many times the pitch E occurs in the instrumental part of this score.\n",
    "\n",
    "Expected result:\n",
    "\n",
    "    The pitch E occurs 279 times in the instrumental part of this score."
   ]
  },
  {
   "cell_type": "code",
   "execution_count": 48,
   "metadata": {},
   "outputs": [
    {
     "name": "stdout",
     "output_type": "stream",
     "text": [
      "The pitch E occurs 279 times in the instrumental part of this score.\n"
     ]
    }
   ],
   "source": [
    "# This code uses the nn_instr variable defined in exercise 1.5\n",
    "# Make sure to run that cell (without bugs) before running this cell\n",
    "# (Notice that in order to run exercise 1.5 correctly, you need to fix the bugs from exercises 1.1 to 1.4)\n",
    "\n",
    "# Define counter\n",
    "e_counter = 0\n",
    "\n",
    "# Iterate over all the notes in nn_instr\n",
    "for n in nn_instr:\n",
    "    # Retrieve the pitch of note.\n",
    "    n_pitch = n.name\n",
    "    # Check if it is E\n",
    "    if n_pitch == 'E':\n",
    "        e_counter += 1\n",
    "\n",
    "# Print results\n",
    "print(\"The pitch E occurs {} times in the instrumental part of this score.\".format(e_counter))"
   ]
  },
  {
   "cell_type": "markdown",
   "metadata": {},
   "source": [
    "### 2.2\n",
    "Let's now see in which octaves the pitch E occurs in the instrumental part of this score.\n",
    "\n",
    "Expected result:\n",
    "\n",
    "    The instrumental part of this score contains the pitch E in the following octaves:\n",
    "    - E4\n",
    "    - E5"
   ]
  },
  {
   "cell_type": "code",
   "execution_count": 53,
   "metadata": {},
   "outputs": [
    {
     "name": "stdout",
     "output_type": "stream",
     "text": [
      "The instrumental part of this score contains the pitch E in the following octaves:\n",
      "- E4\n",
      "- E5\n"
     ]
    }
   ],
   "source": [
    "# This code uses the nn_instr variable defined in exercise 1.5\n",
    "# Make sure to run that cell (without bugs) before running this cell\n",
    "# (Notice that in order to run exercise 1.5 correctly, you need to fix the bugs from exercises 1.1 to 1.4)\n",
    "\n",
    "# Empty list to save different octaves\n",
    "e_octaves = []\n",
    "\n",
    "# Iterate over all the notes in nn_instr\n",
    "for n in nn_instr:\n",
    "    # Retrieve the pitch of the note\n",
    "    n_pitch = n.name\n",
    "    # Retrieve the pitch with octave information\n",
    "    n_pitch_octave = n.nameWithOctave\n",
    "    # Check if it is E\n",
    "    if n_pitch == 'E':\n",
    "        # Check that the pitch with octave is not yet included in the e_octaves list\n",
    "        if n_pitch_octave not in e_octaves:\n",
    "            e_octaves.append(n_pitch_octave)\n",
    "             \n",
    "# Print results\n",
    "print(\"The instrumental part of this score contains the pitch E in the following octaves:\")\n",
    "for e in e_octaves:\n",
    "    print('-', e)"
   ]
  },
  {
   "cell_type": "markdown",
   "metadata": {},
   "source": [
    "### 2.3\n",
    "Now that we know this information, let's compute the percentage in which each of these pitches occurs in the instrumental part of the score, both E without octave information, and E4 and E5.\n",
    "\n",
    "Expected result:\n",
    "\n",
    "    Pitch E accounts for 20.42% of the notes of the instrumental part of this score.\n",
    "    Specifically,\n",
    "    - E4 accounts for 16.11%\n",
    "    - E5 accounts for 4.32%\n"
   ]
  },
  {
   "cell_type": "code",
   "execution_count": 56,
   "metadata": {},
   "outputs": [
    {
     "name": "stdout",
     "output_type": "stream",
     "text": [
      "Pitch E accounts for 20.42% of the notes of the instrumental part of this score.\n",
      "Specifically,\n",
      "- E4 accounts for 16.11%\n",
      "- E5 accounts for 4.32%\n"
     ]
    }
   ],
   "source": [
    "# This code uses the nn_instr variable defined in exercise 1.5\n",
    "# Make sure to run that cell (without bugs) before running this cell\n",
    "# (Notice that in order to run exercise 1.5 correctly, you need to fix the bugs from exercises 1.1 to 1.4)\n",
    "\n",
    "# Counters\n",
    "e_counter = 0\n",
    "e4_counter = 0\n",
    "e5_counter = 0\n",
    "\n",
    "# Iterate over all the notes in nn_instr\n",
    "for n in nn_instr:\n",
    "    # Retrieve the pitch of the note\n",
    "    n_pitch = n.name\n",
    "    # Retrieve the pitch with octave information\n",
    "    n_pitch_octave = n.nameWithOctave\n",
    "    # Check if it is E\n",
    "    if n_pitch == 'E':\n",
    "        e_counter += 1\n",
    "        # Check the octave\n",
    "        if n_pitch_octave == 'E4':\n",
    "            e4_counter += 1\n",
    "        elif n_pitch_octave == 'E5':\n",
    "            e5_counter += 1\n",
    "\n",
    "# Compute percentages\n",
    "total_notes = len(nn_instr)\n",
    "e_percentage = e_counter / total_notes * 100\n",
    "e4_percentage = e4_counter / total_notes * 100\n",
    "e5_percentage = e5_counter / total_notes * 100\n",
    "\n",
    "# Print results\n",
    "print('Pitch E accounts for {:.2f}% of the notes of the instrumental part of this score.'.format(e_percentage))\n",
    "print('Specifically,')\n",
    "print('- E4 accounts for {:.2f}%'.format(e4_percentage))\n",
    "print('- E5 accounts for {:.2f}%'.format(e5_percentage))"
   ]
  },
  {
   "cell_type": "markdown",
   "metadata": {},
   "source": [
    "### 2.4\n",
    "Now we know how many notes have pitch E. However, this might not be the best way to evaluate its importance in this melody. Among other features, one perceptually important one is how long this note has been heard in comparison with the others. So let's compute the percentage of E in terms of its duration with respect with the total duration of the score. Remember that in music21 duration is measured in terms of quarter notes.\n",
    "\n",
    "Expected result:\n",
    "\n",
    "    The pitch E is played for a 20.36% of the total duration of the instrumental part of this score."
   ]
  },
  {
   "cell_type": "code",
   "execution_count": 58,
   "metadata": {},
   "outputs": [
    {
     "name": "stdout",
     "output_type": "stream",
     "text": [
      "The pitch E is played for a 20.36% of the total duration of the instrumental part of this score.\n"
     ]
    }
   ],
   "source": [
    "# This code uses the nn_instr variable defined in exercise 1.5\n",
    "# Make sure to run that cell (without bugs) before running this cell\n",
    "# (Notice that in order to run exercise 1.5 correctly, you need to fix the bugs from exercises 1.1 to 1.4)\n",
    "\n",
    "# Variable to store the total duration of the score\n",
    "total_duration = 0\n",
    "\n",
    "# Variable to store the aggregated duration of E\n",
    "e_duration = 0\n",
    "\n",
    "# Iterate over all the notes in nn_instr\n",
    "for n in nn_instr:\n",
    "    # Retrieve the pitch of the note\n",
    "    n_pitch = n.name\n",
    "    # Retrieve the duration of the note (it is a floating point)\n",
    "    n_duration = n.duration.quarterLength\n",
    "    # Add the duration to the total_duration variable, regardless of its pitch\n",
    "    total_duration += n_duration\n",
    "    # Check if it is E\n",
    "    if n_pitch == 'E':\n",
    "        # Add the duration to the e_duration variable\n",
    "        e_duration += n_duration\n",
    "        \n",
    "# Compute percentage\n",
    "e_percentage = e_duration / total_duration * 100\n",
    "\n",
    "# Print result\n",
    "print('The pitch E is played for a {:.2f}% of the total duration of the instrumental part of this score.'.format(e_percentage))"
   ]
  },
  {
   "cell_type": "markdown",
   "metadata": {},
   "source": [
    "### 2.5\n",
    "The main instrument of the instrumental accompaniment in jingju is a two-stringed bowed lute called jinghu. For the *shengqiang* or melodic schema used in this aria, namely *xipi*, the jinghu is tuned to 6th and 3rd degrees of the scale, in this case, C\\#4 and G\\#4. Let's see in which percentage these notes are played. In this case, let's compute the percentage in terms of duration.\n",
    "\n",
    "Expected result:\n",
    "\n",
    "    In the instrumental part of this score\n",
    "    - the pitch C#4 is played for a 11.27% of the total duration\n",
    "    - the pitch G#4 is played for a 17.16% of the total duration"
   ]
  },
  {
   "cell_type": "code",
   "execution_count": 59,
   "metadata": {},
   "outputs": [
    {
     "name": "stdout",
     "output_type": "stream",
     "text": [
      "In the instrumental part of this score\n",
      "- the pitch C#4 is played for a 11.27% of the total duration\n",
      "- the pitch G#4 is played for a 17.16% of the total duration\n"
     ]
    }
   ],
   "source": [
    "# This code uses the nn_instr variable defined in exercise 1.5\n",
    "# Make sure to run that cell (without bugs) before running this cell\n",
    "# (Notice that in order to run exercise 1.5 correctly, you need to fix the bugs from exercises 1.1 to 1.4)\n",
    "\n",
    "# Counter for the total duration of the part\n",
    "total_duration = 0\n",
    "\n",
    "# Counters for the duration of C#4 and G#4\n",
    "cs4_duration = 0\n",
    "gs4_duration = 0\n",
    "\n",
    "# Iterate over all notes in nn_instr\n",
    "for n in nn_instr:\n",
    "    # Retrieve pitch with octave of the note\n",
    "    n_pitch_octave = n.nameWithOctave\n",
    "    # Retrieve the duration of the note\n",
    "    n_duration = n.duration.quarterLength\n",
    "    # Add the duration to the total_duration variable, regardless of its pitch\n",
    "    total_duration += n_duration\n",
    "    # Check if it is C#4\n",
    "    if n_pitch_octave == 'C#4':\n",
    "        # Add the duration to the cs4_duration variable\n",
    "        cs4_duration += n_duration\n",
    "    # Check if it is G#4\n",
    "    elif n_pitch_octave == 'G#4':\n",
    "        # Add the duration to the gs4_duration variable\n",
    "        gs4_duration += n_duration\n",
    "        \n",
    "# Compute the percentages\n",
    "cs4_percentage = cs4_duration / total_duration * 100\n",
    "gs4_percentage = gs4_duration / total_duration * 100\n",
    "\n",
    "# Print results\n",
    "print('In the instrumental part of this score')\n",
    "print('- the pitch C#4 is played for a {:.2f}% of the total duration'.format(cs4_percentage))\n",
    "print('- the pitch G#4 is played for a {:.2f}% of the total duration'.format(gs4_percentage))"
   ]
  },
  {
   "cell_type": "markdown",
   "metadata": {},
   "source": [
    "### 2.6\n",
    "We know that jingju music uses a predomintaly pentatonic scale, that is, a heptatonic scale with emphasis on the notes that form the anhemitonic pentatonic scale from it. If the first degree in this score is E, the heptatonic scale would be: E, F#, G#, A, B, C#, D#, but with preference for the degrees that form the anhemitonic pentatonic scale, that is, E, F#, G#, B, C#. Let's test this hypothesis in this score, by checking the percentage in which all these notes are played.\n",
    "\n",
    "Expected result:\n",
    "\n",
    "    The pitches of the instrumental part of this score are played in the following percentage:\n",
    "    - E: 20.36%\n",
    "    - F#: 18.37%\n",
    "    - G#: 17.16%\n",
    "    - A: 2.43%\n",
    "    - B: 18.19%\n",
    "    - C#: 18.04%\n",
    "    - D#: 5.45%"
   ]
  },
  {
   "cell_type": "code",
   "execution_count": 63,
   "metadata": {},
   "outputs": [
    {
     "name": "stdout",
     "output_type": "stream",
     "text": [
      "The pitches of the instrumental part of this score are played in the following percentage:\n",
      "- E: 20.36%\n",
      "- F#: 18.37%\n",
      "- G#: 17.16%\n",
      "- A: 2.43%\n",
      "- B: 18.19%\n",
      "- C#: 18.04%\n",
      "- D#: 5.45%\n"
     ]
    }
   ],
   "source": [
    "# This code uses the nn_instr variable defined in exercise 1.5\n",
    "# Make sure to run that cell (without bugs) before running this cell\n",
    "# (Notice that in order to run exercise 1.5 correctly, you need to fix the bugs from exercises 1.1 to 1.4)\n",
    "\n",
    "# Variable to store the total duration of the score\n",
    "total_duration = 0\n",
    "\n",
    "# Variable to store the aggregated duration of each pitch\n",
    "e_duration = 0\n",
    "fs_duration = 0\n",
    "gs_duration = 0\n",
    "a_duration = 0\n",
    "b_duration = 0\n",
    "cs_duration = 0\n",
    "ds_duration = 0\n",
    "\n",
    "# Iterate over all the notes in nn_instr\n",
    "for n in nn_instr:\n",
    "    # Retrieve the pitch of the note\n",
    "    n_pitch = n.name\n",
    "    # Retrieve the duration of the note (it is a floating point)\n",
    "    n_duration = n.duration.quarterLength\n",
    "    # Add the duration to the total_duration variable, regardless of its pitch\n",
    "    total_duration += n_duration\n",
    "    # Check the pitch and update the duration\n",
    "    if n_pitch == 'E':\n",
    "        e_duration += n_duration\n",
    "    elif n_pitch == 'F#':\n",
    "        fs_duration += n_duration\n",
    "    elif n_pitch == 'G#':\n",
    "        gs_duration += n_duration\n",
    "    elif n_pitch == 'A':\n",
    "        a_duration += n_duration\n",
    "    elif n_pitch == 'B':\n",
    "        b_duration += n_duration\n",
    "    elif n_pitch == 'C#':\n",
    "        cs_duration += n_duration\n",
    "    elif n_pitch == 'D#':\n",
    "        ds_duration += n_duration\n",
    "    # Check if the note has an unexpected pitch\n",
    "    else:\n",
    "        print('Unexpected pitch:', n_pitch)\n",
    "\n",
    "# Compute percentages\n",
    "e_percentage = e_duration / total_duration * 100\n",
    "fs_percentage = fs_duration / total_duration * 100\n",
    "gs_percentage = gs_duration / total_duration * 100\n",
    "a_percentage = a_duration / total_duration * 100\n",
    "b_percentage = b_duration / total_duration * 100\n",
    "cs_percentage = cs_duration / total_duration * 100\n",
    "ds_percentage = ds_duration / total_duration * 100\n",
    "\n",
    "# Print results\n",
    "print('The pitches of the instrumental part of this score are played in the following percentage:')\n",
    "print('- E: {:.2f}%'.format(e_percentage))\n",
    "print('- F#: {:.2f}%'.format(fs_percentage))\n",
    "print('- G#: {:.2f}%'.format(gs_percentage))\n",
    "print('- A: {:.2f}%'.format(a_percentage))\n",
    "print('- B: {:.2f}%'.format(b_percentage))\n",
    "print('- C#: {:.2f}%'.format(cs_percentage))\n",
    "print('- D#: {:.2f}%'.format(ds_percentage))"
   ]
  },
  {
   "cell_type": "markdown",
   "metadata": {},
   "source": [
    "### 2.7\n",
    "Let's compute the pitch range of the instrumental part in our score. For that, we need to find the lowest note and the highest note. To check the note's pitch height, we can use either its frequency value or its midi value. Let's use the midi value here. The rest is just like exercise 1.14 from Review Notebook 3.\n",
    "\n",
    "Expected result:\n",
    "\n",
    "    The range of the instrumental part in this cores goes from B3 to F#5.\n",
    "    \n",
    "⇒ **Note**: music21 has a more concise, efficient and elegant way for computing pitch range, we will see that later. The good news is that with our current knowledge of Python and music21, we can already compute a lot of information, even though we do not know all the functionalities of neither Python nor music21."
   ]
  },
  {
   "cell_type": "code",
   "execution_count": 65,
   "metadata": {},
   "outputs": [
    {
     "name": "stdout",
     "output_type": "stream",
     "text": [
      "The range of the instrumental part in this cores goes from B3 to F#5.\n"
     ]
    }
   ],
   "source": [
    "# This code uses the nn_instr variable defined in exercise 1.5\n",
    "# Make sure to run that cell (without bugs) before running this cell\n",
    "# (Notice that in order to run exercise 1.5 correctly, you need to fix the bugs from exercises 1.1 to 1.4)\n",
    "\n",
    "# Variables to save the pitch and name of the lowest note\n",
    "low_midi = nn_instr[0].pitch.midi # Save the midi value of the first note\n",
    "low_name = nn_instr[0].nameWithOctave # Save the name with octave of the first note\n",
    "\n",
    "# Variables to save the pitch and name of the highest note\n",
    "high_midi = nn_instr[0].pitch.midi # Save the midi value of the first note\n",
    "high_name = nn_instr[0].nameWithOctave # Save the name with octave of the first note\n",
    "\n",
    "# Iterate over all notes, starting from the second one (index 1),\n",
    "# since the values for the first one are already stored in the previous variables\n",
    "for i in range(1, len(nn_instr)):\n",
    "    n = nn_instr[i]\n",
    "    # Retrieve midi value\n",
    "    n_midi = n.pitch.midi\n",
    "    # Retrieve name with octave\n",
    "    n_name = n.nameWithOctave\n",
    "    # Check if the midi value is lower than the current value in the variable low_midi:\n",
    "    if n_midi < low_midi:\n",
    "        # It is lower, so update the midi and name values of the lowest note:\n",
    "        low_midi = n_midi\n",
    "        low_name = n_name\n",
    "    # Check if the midi value is higher than the current value in the variable high_midi:\n",
    "    if n_midi > high_midi:\n",
    "        # It is higher, so update the midi and name values of the highest note:\n",
    "        high_midi = n_midi\n",
    "        high_name = n_name\n",
    "\n",
    "# Print results:\n",
    "print('The range of the instrumental part in this cores goes from {} to {}.'.format(low_name, high_name))"
   ]
  },
  {
   "cell_type": "markdown",
   "metadata": {},
   "source": [
    "## Exercise 3. Write your own code!\n",
    "Now, you will compute similar statistics to the previous ones, but for the vocal part. Let's go!"
   ]
  },
  {
   "cell_type": "markdown",
   "metadata": {},
   "source": [
    "### 3.1\n",
    "First of all, you need to save all the notes in a variable. To check that you did it right, print how many notes are contained in that variable.\n",
    "\n",
    "Expected result:\n",
    "\n",
    "    The vocal part has 404 notes."
   ]
  },
  {
   "cell_type": "code",
   "execution_count": 75,
   "metadata": {},
   "outputs": [
    {
     "name": "stdout",
     "output_type": "stream",
     "text": [
      "The vocal part has 404 notes.\n"
     ]
    }
   ],
   "source": [
    "# Import music21\n",
    "from music21 import *\n",
    "\n",
    "# Load the score using the converter.parse() function. The path to the file is in the variable fn\n",
    "# Make sure that you run the second cell of this notebook to define variable fn with the path to the score\n",
    "s = converter.parse(fn)\n",
    "\n",
    "# Retrieve just the vocal part and save it in a variable.\n",
    "# You can call the .parts attribute on the variable where you just saved the score\n",
    "# The vocal part is the second of the two parts in this score, that is the part with index 1.\n",
    "p_vocal = s.parts[1]\n",
    "\n",
    "# Retrieve all the notes from the vocal part and save them in a variable.\n",
    "# You can use the .notes attribute, but do not forget to \"flatten\" the part stream with the .flat attribute\n",
    "# Do not forget to save the notes as a stream with the .stream() method\n",
    "nn_vocal = p_vocal.flat.notes.stream()\n",
    "\n",
    "# Now, print how many notes you have retrieved\n",
    "\n",
    "print(\"The vocal part has {} notes.\".format(len(nn_vocal)))\n",
    "# Optional: open the stream of notes you just created in your score editor using the .show() method\n",
    "nn_vocal.show()"
   ]
  },
  {
   "cell_type": "markdown",
   "metadata": {},
   "source": [
    "### 3.2\n",
    "Now that you have all the notes of the vocal part in a variable, let's compute the percentage of the first degree, that is, pitch E, in terms of number of notes.\n",
    "\n",
    "Expected result:\n",
    "\n",
    "    A 17.33% of the notes in the vocal part of this score have the pitch E."
   ]
  },
  {
   "cell_type": "code",
   "execution_count": 74,
   "metadata": {},
   "outputs": [
    {
     "name": "stdout",
     "output_type": "stream",
     "text": [
      "A 17.33% of the notes in the vocal part of this score have the pitch E.\n"
     ]
    }
   ],
   "source": [
    "# (This code uses the variable defined in exercise 3.1 for storing all the notes of the vocal part)\n",
    "\n",
    "# Define a counter\n",
    "e_counter = 0\n",
    "\n",
    "# Iterate over all the notes, retrieve pitch, check if the pitch is E, and if so, update the counter.\n",
    "\n",
    "for n in nn_vocal:\n",
    "    n_pitch = n.name\n",
    "    if n_pitch == \"E\":\n",
    "        e_counter +=1\n",
    "\n",
    "\n",
    "# Compute the percentage over the total number of notes\n",
    "total_notes = len(nn_vocal)\n",
    "e_percentage = e_counter / total_notes * 100\n",
    "\n",
    "# Print the results\n",
    "print(\"A {:.2f}% of the notes in the vocal part of this score have the pitch E.\".format(e_percentage))"
   ]
  },
  {
   "cell_type": "markdown",
   "metadata": {},
   "source": [
    "### 3.3\n",
    "Let's count how many grace notes are present in the vocal part of this score.\n",
    "\n",
    "Expected result:\n",
    "\n",
    "    The vocal part of this score contains 55 grace notes.\n",
    "\n",
    "⇒ *Hint*: music21 considers grace notes as note with duration `0`."
   ]
  },
  {
   "cell_type": "code",
   "execution_count": 76,
   "metadata": {},
   "outputs": [
    {
     "name": "stdout",
     "output_type": "stream",
     "text": [
      "The vocal part of this score contains 55 grace notes.\n"
     ]
    }
   ],
   "source": [
    "# (This code uses the variable defined in exercise 3.1 for storing all the notes of the vocal part)\n",
    "\n",
    "# Counter for grace notes\n",
    "graceNotes = 0\n",
    "\n",
    "# Iterate over all notes. Retrieve the duration. If it is 0, update the counter\n",
    "\n",
    "for n in nn_vocal:\n",
    "    n_duration = n.duration.quarterLength\n",
    "    if n_duration == 0:\n",
    "        graceNotes += 1\n",
    "\n",
    "        \n",
    "# Print results\n",
    "print(\"The vocal part of this score contains {} grace notes.\".format(graceNotes))"
   ]
  },
  {
   "cell_type": "markdown",
   "metadata": {},
   "source": [
    "### 3.4\n",
    "**Challenge**: Let's compute the percentage of dotted notes over the total notes. However, let's exclude grace notes.\n",
    "\n",
    "Expected result:\n",
    "\n",
    "    Among the notes of the vocal part of this score that are not grace notes:\n",
    "    - 8.31% are dotted notes\n",
    "    - 91.69% are non dotted notes\n",
    "\n",
    "⇒ *Hint*: to see if a note is dotted, you can check if the output of the attributes `.duration.dots` is greater than `0`.\n",
    "\n",
    "⇒ *Hint*: since we are excluding grace notes, we cannot use the total length of notes in our variable for computing the percentage. We need to create a new counter for all the non grace notes."
   ]
  },
  {
   "cell_type": "code",
   "execution_count": 79,
   "metadata": {},
   "outputs": [
    {
     "name": "stdout",
     "output_type": "stream",
     "text": [
      "Among the notes of the vocal part of this score that are not grace notes:\n",
      "- 8.31% are dotted notes\n",
      "- 91.69% are non dotted notes\n"
     ]
    }
   ],
   "source": [
    "# (This code uses the variable defined in exercise 3.1 for storing all the notes of the vocal part)\n",
    "\n",
    "# Define a counter for all the notes that are not grace notes. This would be the new total number of notes\n",
    "notGraceNotes = 0\n",
    "\n",
    "# Define counters for dotted and non dotted notes\n",
    "dottedNotes = 0\n",
    "nonDottedNotes = 0\n",
    "\n",
    "# Iterate over all notes. Retrieve its duration and the number of dots.\n",
    "# If it is not a grace note, update the counter for all non grace notes.\n",
    "# Then, check if the number of dots is greater than 0.\n",
    "# If so, update the corresponding counter. Otherwise, update the other one.\n",
    "\n",
    "\n",
    "\n",
    "for n in nn_vocal:\n",
    "    n_duration = n.duration.quarterLength\n",
    "    n_dots = n.duration.dots\n",
    "    if n_duration != 0:\n",
    "        notGraceNotes += 1\n",
    "        if n_dots > 0:\n",
    "            dottedNotes += 1\n",
    "        else: \n",
    "            nonDottedNotes += 1\n",
    "\n",
    "\n",
    "# Compute the percentages\n",
    "\n",
    "dottedNotesPercentage = dottedNotes / notGraceNotes * 100\n",
    "nonDottedNotesPercentage = nonDottedNotes / notGraceNotes * 100\n",
    "\n",
    "\n",
    "# Print the results\n",
    "print(\"Among the notes of the vocal part of this score that are not grace notes:\")\n",
    "print(\"- {:.2f}% are dotted notes\".format(dottedNotesPercentage))\n",
    "print(\"- {:.2f}% are non dotted notes\".format(nonDottedNotesPercentage))\n",
    "\n"
   ]
  },
  {
   "cell_type": "markdown",
   "metadata": {},
   "source": [
    "### 3.5\n",
    "Compute the range of the vocal part.\n",
    "\n",
    "Expected result:\n",
    "\n",
    "    The range of the vocal part in this score goes from F#3 to B4.\n",
    "\n",
    "⇒ *Hint*: get inspired by exercise 2.7."
   ]
  },
  {
   "cell_type": "code",
   "execution_count": 80,
   "metadata": {},
   "outputs": [
    {
     "name": "stdout",
     "output_type": "stream",
     "text": [
      "The range of the vocal part in this cores goes from F#3 to B4.\n"
     ]
    }
   ],
   "source": [
    "# Your code here\n",
    "\n",
    "\n",
    "low_midi = nn_vocal[0].pitch.midi\n",
    "low_name = nn_vocal[0].nameWithOctave \n",
    "\n",
    "\n",
    "high_midi = nn_vocal[0].pitch.midi\n",
    "high_name = nn_vocal[0].nameWithOctave \n",
    "\n",
    "\n",
    "for i in range(1, len(nn_vocal)):\n",
    "    n = nn_vocal[i]\n",
    "   \n",
    "    n_midi = n.pitch.midi\n",
    "    n_name = n.nameWithOctave\n",
    "   \n",
    "    if n_midi < low_midi:\n",
    "        low_midi = n_midi\n",
    "        low_name = n_name\n",
    "    if n_midi > high_midi:\n",
    "        high_midi = n_midi\n",
    "        high_name = n_name\n",
    "\n",
    "# Print results:\n",
    "print('The range of the vocal part in this cores goes from {} to {}.'.format(low_name, high_name))\n",
    "\n"
   ]
  },
  {
   "cell_type": "code",
   "execution_count": null,
   "metadata": {},
   "outputs": [],
   "source": []
  }
 ],
 "metadata": {
  "kernelspec": {
   "display_name": "Python 3",
   "language": "python",
   "name": "python3"
  },
  "language_info": {
   "codemirror_mode": {
    "name": "ipython",
    "version": 3
   },
   "file_extension": ".py",
   "mimetype": "text/x-python",
   "name": "python",
   "nbconvert_exporter": "python",
   "pygments_lexer": "ipython3",
   "version": "3.8.1"
  }
 },
 "nbformat": 4,
 "nbformat_minor": 4
}
