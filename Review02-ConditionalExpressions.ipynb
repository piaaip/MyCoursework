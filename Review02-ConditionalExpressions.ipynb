{
 "cells": [
  {
   "cell_type": "markdown",
   "metadata": {},
   "source": [
    "# Review 2. Conditional expressions\n",
    "These are two simple exercises to review conditional expressions, which were presented in Notebook 3."
   ]
  },
  {
   "cell_type": "markdown",
   "metadata": {},
   "source": [
    "## Exercise 1. The truth...\n",
    "Complete the following statements using the conditional operators `==`, `!=`, `>`, `<`, `>=`, `<=`, `in` and `not in`, so that ***all*** of them return `True`.\n",
    "\n",
    "The expected output should be\n",
    "\n",
    "    01. True\n",
    "    02. True\n",
    "    03. True\n",
    "    04. True\n",
    "    05. True\n",
    "    ...\n",
    "\n",
    "... and so on and so forth until `30`.\n",
    "\n",
    "⇒ **Note**: besides conditional expressions, this exercises uses slicing, presented in Notebook 2, and the function `len()` for counting the length of a `string` (or a `list`), presented in Notebook 3. Remember that for learning how to use a function, you can run a cell with the name of the function followed by question mark `?` without the parenthesis."
   ]
  },
  {
   "cell_type": "code",
   "execution_count": null,
   "metadata": {},
   "outputs": [],
   "source": [
    "print(\"01.\", 23.8  11) # For example, for this statement, the operator > should be added: print(\"01.\", 23.8 > 11)\n",
    "print(\"02.\", 128  327)\n",
    "print(\"03.\", \"music\"  \"music\")\n",
    "print(\"04.\", -4  0.2)\n",
    "print(\"05.\", \"rap\"  \"music\")\n",
    "print(\"06.\", \"s\"  \"music\")\n",
    "print(\"07.\", \"Bach\"[1]  \"B\")\n",
    "print(\"08.\", 2020  2020)\n",
    "print(\"09.\", \"rope\"  \"Europe\")\n",
    "print(\"10.\", \"apple\"  [\"orange\", \"pear\", \"apple\", \"strawberry\", \"grapes\"])\n",
    "print(\"11.\", \"i\"  \"team\")\n",
    "print(\"12.\", \"money\"  \"happiness\")\n",
    "print(\"13.\", 4  [1, 3, 5, 7, 9])\n",
    "print(\"14.\", 12  (3*4))\n",
    "print(\"15.\", \"musicology\"[:5]  \"music\")\n",
    "print(\"16.\", len(\"cheesecake\")  [2, 4, 6, 8, 10, 12, 14, 16, 18, 20])\n",
    "print(\"17.\", 5  len(\"music\"))\n",
    "print(\"18.\", \"3.75\"  3.75)\n",
    "print(\"19.\", (10/4)  2.5)\n",
    "print(\"20.\", 12.5//5  [2.1, 2.2, 2.3, 2.4, 2.5])\n",
    "print(\"21.\", 8  (2**3))\n",
    "print(\"22.\", 2  (7/3))\n",
    "print(\"23.\", \"15\"  3*5)\n",
    "print(\"24.\", len(\"contrabass\")  len(\"violin\"))\n",
    "print(\"25.\", (5*7)  (10/4))\n",
    "print(\"26.\", len([10, 20, 30, 40])  len(\"Graz\"))\n",
    "print(\"27.\", (2-3*4)  (4/3+2))\n",
    "print(\"28.\", len([\"a\", \"e\", \"i\", \"o\", \"u\"])  len(\"Österreich\"))\n",
    "print(\"29.\", \"Painting\"[-3:]  \"ting\")\n",
    "print(\"30.\", len(\"Olympics\")  len([1992, 1996, 2000, 2008, 2012, 2016]))"
   ]
  },
  {
   "cell_type": "markdown",
   "metadata": {},
   "source": [
    "## Exercise 2. ...and only the truth\n",
    "Complete the following statements using the conditional operators `and` or `or`, so that all of them return `True`.\n",
    "\n",
    "The expected output should be\n",
    "\n",
    "    01. True\n",
    "    02. True\n",
    "    03. True\n",
    "    04. True\n",
    "    05. True\n",
    "    ...\n",
    "\n",
    "...and so on and so forth until `10`."
   ]
  },
  {
   "cell_type": "code",
   "execution_count": null,
   "metadata": {},
   "outputs": [],
   "source": [
    "print(\"01.\", (5 < 7)  (\"Paris\" == \"Paris\"))\n",
    "print(\"02.\", (25 >= 17)  (8+3 <= 11))\n",
    "print(\"03.\", (\"red\" in [\"yellow\", \"black\", \"yellow\", \"red\", \"blue\"])  (\"sugar\" in \"schnitzel\"))\n",
    "print(\"04.\", ((3*4) < len(\"ethnomusicology\"))  (\"bear\" != \"beard\"))\n",
    "print(\"05.\", ((10//4) == 2.5)  (34 not in [1, 1, 2, 3, 5, 8, 13, 21]))\n",
    "print(\"06.\", (len(\"Python\") > 3.8)  (\"mi\" in [\"do\", \"re\", \"mi\", \"fa\", \"sol\", \"la\", \"si\"])  (2.5 != \"2.5\"))\n",
    "print(\"07.\", ((len(\"script\") == len([23.5, 18.7, 21.3]))  (18%4 != 2))  (\"käse\" in \"leberkäse\"))\n",
    "print(\"08.\", (\"18.3\" == 18.3)  ((len(\"four\") >= 4)  (4**2 <= 4*4)))\n",
    "print(\"09.\", ((\"o\" not in \"banana\")  (15%4 < 15/4))  ((len([\"x\", \"y\", \"z\"]) > len(\"xyz\"))  (11 in [1, 2, 3, 5, 7, 11, 13, 17])))\n",
    "print(\"10.\", ((10**3 > 10*3)  (len(\"key\"+\"board\") > len(\"piano\")))  ((\" \" in \"The Sound of Music\")  (\"x\" in \"stress\")))"
   ]
  }
 ],
 "metadata": {
  "kernelspec": {
   "display_name": "Python 3",
   "language": "python",
   "name": "python3"
  },
  "language_info": {
   "codemirror_mode": {
    "name": "ipython",
    "version": 3
   },
   "file_extension": ".py",
   "mimetype": "text/x-python",
   "name": "python",
   "nbconvert_exporter": "python",
   "pygments_lexer": "ipython3",
   "version": "3.7.4"
  }
 },
 "nbformat": 4,
 "nbformat_minor": 2
}
