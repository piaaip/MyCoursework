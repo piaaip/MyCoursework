{
 "cells": [
  {
   "cell_type": "markdown",
   "metadata": {},
   "source": [
    "# Locations in music21 and Python dictionaries\n",
    "In this notebook we will expand our konwledge of both music21 and Python. Regarding music21, we will pay special attention to locating objects in their containing streams, but we will also have a look to how music21 handles lyrics and ties. Regarding Python, we will learn about a very powerful class, the dictionaries, which will help us organize information with a greater degree of efficiency.\n",
    "\n",
    "In this notebook, we will continue working with the score `lsxp-WoBenShi-KongChengJi.xml`. So let's load it. And since we are going to work with the music of the parts in this score, let's save each part in a corresponding variable."
   ]
  },
  {
   "cell_type": "code",
   "execution_count": 1,
   "metadata": {},
   "outputs": [],
   "source": [
    "from music21 import *"
   ]
  },
  {
   "cell_type": "code",
   "execution_count": 2,
   "metadata": {},
   "outputs": [],
   "source": [
    "# Path of the folder that contains the score to be loaded\n",
    "path = './lsxp-WoBenShi-KongChengJi/'\n",
    "\n",
    "# Name of the score\n",
    "file_name = 'lsxp-WoBenShi-KongChengJi.xml'\n",
    "\n",
    "# Join the path of the folder with the file name to get the full path\n",
    "fn = path + file_name\n",
    "\n",
    "# Load the score\n",
    "s = converter.parse(fn)\n",
    "\n",
    "# Retrieve parts\n",
    "p_instr = s.parts[0] # instrumental part\n",
    "p_vocal = s.parts[1] # vocal part"
   ]
  },
  {
   "cell_type": "markdown",
   "metadata": {},
   "source": [
    "## Locations in music21\n",
    "The key concept for locating objects in music21 streams is `offset`. To have an explanation about this concept, please watch [the \"Basic concepts in music21\" section of the introductory video to music21](https://youtu.be/wrREb68FwNM?t=4764). We already had a glimpse of offsets when we retrieved measures from a part. Let's do this again for the vocal part: retrieve all the measures and just print them out."
   ]
  },
  {
   "cell_type": "code",
   "execution_count": 3,
   "metadata": {},
   "outputs": [
    {
     "name": "stdout",
     "output_type": "stream",
     "text": [
      "<music21.stream.Measure 0 offset=0.0>\n",
      "<music21.stream.Measure 1 offset=2.0>\n",
      "<music21.stream.Measure 2 offset=6.0>\n",
      "<music21.stream.Measure 3 offset=10.0>\n",
      "<music21.stream.Measure 4 offset=14.0>\n",
      "<music21.stream.Measure 5 offset=18.0>\n",
      "<music21.stream.Measure 6 offset=22.0>\n",
      "<music21.stream.Measure 7 offset=26.0>\n",
      "<music21.stream.Measure 8 offset=30.0>\n",
      "<music21.stream.Measure 9 offset=34.0>\n",
      "<music21.stream.Measure 10 offset=38.0>\n",
      "<music21.stream.Measure 11 offset=42.0>\n",
      "<music21.stream.Measure 12 offset=46.0>\n",
      "<music21.stream.Measure 13 offset=50.0>\n",
      "<music21.stream.Measure 14 offset=54.0>\n",
      "<music21.stream.Measure 15 offset=58.0>\n",
      "<music21.stream.Measure 16 offset=62.0>\n",
      "<music21.stream.Measure 17 offset=66.0>\n",
      "<music21.stream.Measure 18 offset=70.0>\n",
      "<music21.stream.Measure 19 offset=74.0>\n",
      "<music21.stream.Measure 20 offset=78.0>\n",
      "<music21.stream.Measure 21 offset=82.0>\n",
      "<music21.stream.Measure 22 offset=86.0>\n",
      "<music21.stream.Measure 23 offset=90.0>\n",
      "<music21.stream.Measure 24 offset=94.0>\n",
      "<music21.stream.Measure 25 offset=98.0>\n",
      "<music21.stream.Measure 26 offset=102.0>\n",
      "<music21.stream.Measure 27 offset=106.0>\n",
      "<music21.stream.Measure 28 offset=110.0>\n",
      "<music21.stream.Measure 29 offset=114.0>\n",
      "<music21.stream.Measure 30 offset=118.0>\n",
      "<music21.stream.Measure 31 offset=122.0>\n",
      "<music21.stream.Measure 32 offset=126.0>\n",
      "<music21.stream.Measure 33 offset=130.0>\n",
      "<music21.stream.Measure 34 offset=134.0>\n",
      "<music21.stream.Measure 35 offset=138.0>\n",
      "<music21.stream.Measure 36 offset=142.0>\n",
      "<music21.stream.Measure 37 offset=146.0>\n",
      "<music21.stream.Measure 38 offset=150.0>\n",
      "<music21.stream.Measure 39 offset=154.0>\n",
      "<music21.stream.Measure 40 offset=158.0>\n",
      "<music21.stream.Measure 41 offset=162.0>\n",
      "<music21.stream.Measure 42 offset=166.0>\n",
      "<music21.stream.Measure 43 offset=170.0>\n",
      "<music21.stream.Measure 44 offset=174.0>\n",
      "<music21.stream.Measure 45 offset=178.0>\n",
      "<music21.stream.Measure 46 offset=182.0>\n",
      "<music21.stream.Measure 47 offset=186.0>\n",
      "<music21.stream.Measure 48 offset=190.0>\n",
      "<music21.stream.Measure 49 offset=194.0>\n",
      "<music21.stream.Measure 50 offset=198.0>\n",
      "<music21.stream.Measure 51 offset=202.0>\n",
      "<music21.stream.Measure 52 offset=206.0>\n",
      "<music21.stream.Measure 53 offset=210.0>\n",
      "<music21.stream.Measure 54 offset=214.0>\n",
      "<music21.stream.Measure 55 offset=218.0>\n",
      "<music21.stream.Measure 56 offset=222.0>\n",
      "<music21.stream.Measure 57 offset=226.0>\n",
      "<music21.stream.Measure 58 offset=230.0>\n",
      "<music21.stream.Measure 59 offset=234.0>\n",
      "<music21.stream.Measure 60 offset=238.0>\n",
      "<music21.stream.Measure 61 offset=242.0>\n",
      "<music21.stream.Measure 62 offset=246.0>\n",
      "<music21.stream.Measure 63 offset=250.0>\n",
      "<music21.stream.Measure 64 offset=254.0>\n",
      "<music21.stream.Measure 65 offset=258.0>\n",
      "<music21.stream.Measure 66 offset=262.0>\n",
      "<music21.stream.Measure 67 offset=266.0>\n",
      "<music21.stream.Measure 68 offset=270.0>\n",
      "<music21.stream.Measure 69 offset=274.0>\n",
      "<music21.stream.Measure 70 offset=278.0>\n",
      "<music21.stream.Measure 71 offset=282.0>\n",
      "<music21.stream.Measure 72 offset=286.0>\n",
      "<music21.stream.Measure 73 offset=290.0>\n",
      "<music21.stream.Measure 74 offset=294.0>\n",
      "<music21.stream.Measure 75 offset=298.0>\n",
      "<music21.stream.Measure 76 offset=302.0>\n",
      "<music21.stream.Measure 77 offset=306.0>\n",
      "<music21.stream.Measure 78 offset=310.0>\n",
      "<music21.stream.Measure 79 offset=314.0>\n",
      "<music21.stream.Measure 80 offset=318.0>\n",
      "<music21.stream.Measure 81 offset=322.0>\n",
      "<music21.stream.Measure 82 offset=326.0>\n",
      "<music21.stream.Measure 83 offset=330.0>\n",
      "<music21.stream.Measure 84 offset=334.0>\n",
      "<music21.stream.Measure 85 offset=338.0>\n",
      "<music21.stream.Measure 86 offset=342.0>\n",
      "<music21.stream.Measure 87 offset=346.0>\n",
      "<music21.stream.Measure 88 offset=350.0>\n",
      "<music21.stream.Measure 89 offset=354.0>\n",
      "<music21.stream.Measure 90 offset=358.0>\n",
      "<music21.stream.Measure 91 offset=362.0>\n",
      "<music21.stream.Measure 92 offset=366.0>\n",
      "<music21.stream.Measure 93 offset=370.0>\n",
      "<music21.stream.Measure 94 offset=374.0>\n",
      "<music21.stream.Measure 95 offset=378.0>\n",
      "<music21.stream.Measure 96 offset=382.0>\n",
      "<music21.stream.Measure 97 offset=386.0>\n",
      "<music21.stream.Measure 98 offset=390.0>\n",
      "<music21.stream.Measure 99 offset=394.0>\n",
      "<music21.stream.Measure 100 offset=398.0>\n",
      "<music21.stream.Measure 101 offset=402.0>\n",
      "<music21.stream.Measure 102 offset=406.0>\n",
      "<music21.stream.Measure 103 offset=410.0>\n",
      "<music21.stream.Measure 104 offset=414.0>\n",
      "<music21.stream.Measure 105 offset=418.0>\n",
      "<music21.stream.Measure 106 offset=422.0>\n",
      "<music21.stream.Measure 107 offset=426.0>\n",
      "<music21.stream.Measure 108 offset=430.0>\n",
      "<music21.stream.Measure 109 offset=434.0>\n",
      "<music21.stream.Measure 110 offset=438.0>\n",
      "<music21.stream.Measure 111 offset=442.0>\n",
      "<music21.stream.Measure 112 offset=446.0>\n",
      "<music21.stream.Measure 113 offset=450.0>\n",
      "<music21.stream.Measure 114 offset=454.0>\n",
      "<music21.stream.Measure 115 offset=458.0>\n",
      "<music21.stream.Measure 116 offset=462.0>\n",
      "<music21.stream.Measure 117 offset=466.0>\n",
      "<music21.stream.Measure 118 offset=470.0>\n",
      "<music21.stream.Measure 119 offset=474.0>\n",
      "<music21.stream.Measure 120 offset=478.0>\n",
      "<music21.stream.Measure 121 offset=482.0>\n",
      "<music21.stream.Measure 122 offset=486.0>\n",
      "<music21.stream.Measure 123 offset=490.0>\n",
      "<music21.stream.Measure 124 offset=494.0>\n",
      "<music21.stream.Measure 125 offset=498.0>\n",
      "<music21.stream.Measure 126 offset=502.0>\n",
      "<music21.stream.Measure 127 offset=506.0>\n",
      "<music21.stream.Measure 128 offset=510.0>\n",
      "<music21.stream.Measure 129 offset=514.0>\n",
      "<music21.stream.Measure 130 offset=518.0>\n",
      "<music21.stream.Measure 131 offset=522.0>\n",
      "<music21.stream.Measure 132 offset=526.0>\n",
      "<music21.stream.Measure 133 offset=530.0>\n",
      "<music21.stream.Measure 134 offset=532.0>\n",
      "<music21.stream.Measure 135 offset=534.0>\n",
      "<music21.stream.Measure 136 offset=536.0>\n",
      "<music21.stream.Measure 137 offset=538.0>\n",
      "<music21.stream.Measure 138 offset=540.0>\n",
      "<music21.stream.Measure 139 offset=542.0>\n",
      "<music21.stream.Measure 140 offset=544.0>\n",
      "<music21.stream.Measure 141 offset=546.0>\n",
      "<music21.stream.Measure 142 offset=548.0>\n",
      "<music21.stream.Measure 143 offset=550.0>\n",
      "<music21.stream.Measure 144 offset=552.0>\n",
      "<music21.stream.Measure 145 offset=554.0>\n",
      "<music21.stream.Measure 146 offset=556.0>\n",
      "<music21.stream.Measure 147 offset=558.0>\n",
      "<music21.stream.Measure 148 offset=560.0>\n",
      "<music21.stream.Measure 149 offset=562.0>\n",
      "<music21.stream.Measure 150 offset=564.0>\n",
      "<music21.stream.Measure 151 offset=566.0>\n",
      "<music21.stream.Measure 152 offset=568.0>\n",
      "<music21.stream.Measure 153 offset=570.0>\n",
      "<music21.stream.Measure 154 offset=572.0>\n",
      "<music21.stream.Measure 155 offset=574.0>\n",
      "<music21.stream.Measure 156 offset=576.0>\n",
      "<music21.stream.Measure 157 offset=578.0>\n",
      "<music21.stream.Measure 158 offset=580.0>\n",
      "<music21.stream.Measure 159 offset=582.0>\n",
      "<music21.stream.Measure 160 offset=584.0>\n"
     ]
    }
   ],
   "source": [
    "mm_vocal = p_vocal.getElementsByClass('Measure').stream()\n",
    "\n",
    "for m in mm_vocal.elements:\n",
    "    print(m)"
   ]
  },
  {
   "cell_type": "markdown",
   "metadata": {},
   "source": [
    "As you see, in music21 measure streams have both a number and an offset. To retrieve this information, we can conveniently call the attributes `.number` and `.offset` on a measure stream.\n",
    "\n",
    "Let's take, for example, measure number 10. We can retrieve it by calling the method `.measure()` on the variable where we stored the vocal part, and passing the number `10` as parameter. Then, we will call the attributes `.number` and `.offset` on the variable where we saved the retrieved measure."
   ]
  },
  {
   "cell_type": "code",
   "execution_count": 4,
   "metadata": {},
   "outputs": [
    {
     "name": "stdout",
     "output_type": "stream",
     "text": [
      "Measure number 10 of the vocal part starts at offset 38.0.\n"
     ]
    }
   ],
   "source": [
    "m_vocal_10 = mm_vocal.measure(10)\n",
    "\n",
    "print(\"Measure number {} of the vocal part starts at offset {}.\".format(m_vocal_10.number, m_vocal_10.offset))"
   ]
  },
  {
   "cell_type": "markdown",
   "metadata": {},
   "source": [
    "Let's now see what this measure contains."
   ]
  },
  {
   "cell_type": "code",
   "execution_count": 5,
   "metadata": {},
   "outputs": [
    {
     "name": "stdout",
     "output_type": "stream",
     "text": [
      "<music21.note.Note E>\n",
      "<music21.note.Note C#>\n",
      "<music21.note.Note F#>\n",
      "<music21.note.Note E>\n",
      "<music21.note.Note F#>\n",
      "<music21.note.Note G#>\n",
      "<music21.note.Note B>\n",
      "<music21.note.Note G#>\n",
      "<music21.note.Note F#>\n",
      "<music21.note.Note E>\n"
     ]
    }
   ],
   "source": [
    "for e in m_vocal_10.elements:\n",
    "    print(e)"
   ]
  },
  {
   "cell_type": "markdown",
   "metadata": {},
   "source": [
    "Measure 10 only contains notes. And these notes are contained within this measure in specific offsets. We can retrieve the offset of each note by calling the `.offset` attribute on each note."
   ]
  },
  {
   "cell_type": "code",
   "execution_count": 6,
   "metadata": {},
   "outputs": [
    {
     "name": "stdout",
     "output_type": "stream",
     "text": [
      "The note E4 starts at offset 0.0.\n",
      "The note C#4 starts at offset 0.25.\n",
      "The note F#4 starts at offset 0.75.\n",
      "The note E4 starts at offset 1.0.\n",
      "The note F#4 starts at offset 1.5.\n",
      "The note G#4 starts at offset 2.0.\n",
      "The note B4 starts at offset 2.0.\n",
      "The note G#4 starts at offset 2.0.\n",
      "The note F#4 starts at offset 3.0.\n",
      "The note E4 starts at offset 3.5.\n"
     ]
    }
   ],
   "source": [
    "for n in m_vocal_10.notes.stream():\n",
    "    print(\"The note {} starts at offset {}.\".format(n.nameWithOctave, n.offset))"
   ]
  },
  {
   "cell_type": "markdown",
   "metadata": {},
   "source": [
    "Notice that the offsets of the notes are related to their position within the measure stream that contains them.\n",
    "\n",
    "Let's now have a look to the offsets of the elements contained in the first measure of the score, which, in this case, has the number `0` because it is an anacrusis."
   ]
  },
  {
   "cell_type": "code",
   "execution_count": 7,
   "metadata": {},
   "outputs": [
    {
     "name": "stdout",
     "output_type": "stream",
     "text": [
      "At offset 0.0 there is a <music21.clef.TrebleClef>.\n",
      "At offset 0.0 there is a <music21.key.KeySignature of 4 sharps>.\n",
      "At offset 0.0 there is a <music21.meter.TimeSignature 4/4>.\n",
      "At offset 0.0 there is a <music21.layout.SystemLayout>.\n",
      "At offset 0.0 there is a <music21.layout.StaffLayout distance 65, staffNumber 1, staffSize None, staffLines None>.\n",
      "At offset 0.0 there is a <music21.note.Rest rest>.\n"
     ]
    }
   ],
   "source": [
    "# Retrieve the measure with the method .measure()\n",
    "m_vocal_0 = mm_vocal.measure(0)\n",
    "\n",
    "# Iterate over the elements of the measure\n",
    "for e in m_vocal_0.elements:\n",
    "    print(\"At offset {} there is a {}.\".format(e.offset, e))"
   ]
  },
  {
   "cell_type": "markdown",
   "metadata": {},
   "source": [
    "As you can see, this measure contains many elements, but none of them is a note. However, all of them are contained in the measure stream in a specific offset, the first one of the measure, and therefore, we can call the `.offset` method on them.\n",
    "\n",
    "However, we will probably won't want to work measure by measure. Instead, we will probably like to retrieve all notes from a part using the `.notes` attribute, applied to the \"flattened\" part. Let's retrieve all the notes from the vocal part, and, to be sure that we did it correctly, let's open them in our score editor."
   ]
  },
  {
   "cell_type": "code",
   "execution_count": 8,
   "metadata": {},
   "outputs": [],
   "source": [
    "nn_vocal = p_vocal.flat.notes.stream()\n",
    "\n",
    "nn_vocal.show()"
   ]
  },
  {
   "cell_type": "markdown",
   "metadata": {},
   "source": [
    "Now that we have all the notes of the vocal part in the stream stored in variable `nn_vocal`, let's retrieve there the notes from measure number 10, which, in `nn_vocal`, are the notes from indexes 10 to 19. To verify that these are the notes we want, let's print them out, and also show them in our score editor."
   ]
  },
  {
   "cell_type": "code",
   "execution_count": 9,
   "metadata": {},
   "outputs": [
    {
     "name": "stdout",
     "output_type": "stream",
     "text": [
      "<music21.note.Note E>\n",
      "<music21.note.Note C#>\n",
      "<music21.note.Note F#>\n",
      "<music21.note.Note E>\n",
      "<music21.note.Note F#>\n",
      "<music21.note.Note G#>\n",
      "<music21.note.Note B>\n",
      "<music21.note.Note G#>\n",
      "<music21.note.Note F#>\n",
      "<music21.note.Note E>\n"
     ]
    }
   ],
   "source": [
    "nn_vocal_m10 = nn_vocal[10:20]\n",
    "\n",
    "for n in nn_vocal_m10:\n",
    "    print(n)\n",
    "\n",
    "nn_vocal_m10.show()"
   ]
  },
  {
   "cell_type": "markdown",
   "metadata": {},
   "source": [
    "If you showed those notes in your score editor, you will have noticed that the score editor creates few empty measures before. Why is this? Well, it has to do with the note offsets. So let's check them:"
   ]
  },
  {
   "cell_type": "code",
   "execution_count": 10,
   "metadata": {},
   "outputs": [
    {
     "name": "stdout",
     "output_type": "stream",
     "text": [
      "The note E4 starts at offset 38.0.\n",
      "The note C#4 starts at offset 38.25.\n",
      "The note F#4 starts at offset 38.75.\n",
      "The note E4 starts at offset 39.0.\n",
      "The note F#4 starts at offset 39.5.\n",
      "The note G#4 starts at offset 40.0.\n",
      "The note B4 starts at offset 40.0.\n",
      "The note G#4 starts at offset 40.0.\n",
      "The note F#4 starts at offset 41.0.\n",
      "The note E4 starts at offset 41.5.\n"
     ]
    }
   ],
   "source": [
    "for n in nn_vocal_m10:\n",
    "    print(\"The note {} starts at offset {}.\".format(n.nameWithOctave, n.offset))"
   ]
  },
  {
   "cell_type": "markdown",
   "metadata": {},
   "source": [
    "As you can see, the first note starts at offset `38.0`, so the score editor, having this information, has to leave the space equivalent to 38 quarter notes free before the first note. But, why, if these are the same notes that we analysed before, the offset is now different? Because their container is also different. Previously, we retrieved these notes from their measure, so the offsets were related to that measure. However, now we are retrieving these notes from a stream that we created and saved in the variable `nn_vocal`, and this stream is created by \"flattening\" the vocal part saved in the variable `p_vocal`. Therefore, the offsets of the notes contained in `nn_vocal` are no longer related to the measures where they were originally contained, but to the entire part.\n",
    "\n",
    "However, having the notes in this new stream doesn't mean that we lost the measure information. We can still retrieve this information by calling the `.measure` attribute on a note. Besides, we can even know in which beat of the measure a note starts, by calling the `.beat` attribute. Let's retrieve the measure and beat information from the notes of measure 10 that we saved in the variable `nn_vocal_m10`."
   ]
  },
  {
   "cell_type": "code",
   "execution_count": 11,
   "metadata": {},
   "outputs": [
    {
     "name": "stdout",
     "output_type": "stream",
     "text": [
      "The note E4 is in measure 10, beat 1.0.\n",
      "The note C#4 is in measure 10, beat 1.25.\n",
      "The note F#4 is in measure 10, beat 1.75.\n",
      "The note E4 is in measure 10, beat 2.0.\n",
      "The note F#4 is in measure 10, beat 2.5.\n",
      "The note G#4 is in measure 10, beat 3.0.\n",
      "The note B4 is in measure 10, beat 3.0.\n",
      "The note G#4 is in measure 10, beat 3.0.\n",
      "The note F#4 is in measure 10, beat 4.0.\n",
      "The note E4 is in measure 10, beat 4.5.\n"
     ]
    }
   ],
   "source": [
    "for n in nn_vocal_m10:\n",
    "    print(\"The note {} is in measure {}, beat {}.\".format(n.nameWithOctave, n.measureNumber, n.beat))"
   ]
  },
  {
   "cell_type": "markdown",
   "metadata": {},
   "source": [
    "As we saw previously, everything that is contained in a measure is located in a specific position, which is indicated by an offset, but also by a beat. Therefore, all the objects contained in the first measure of the part also have measure and beat information. Let's call the `.measure` and `.beat` attributes on the objects of the first measure."
   ]
  },
  {
   "cell_type": "code",
   "execution_count": 12,
   "metadata": {},
   "outputs": [
    {
     "name": "stdout",
     "output_type": "stream",
     "text": [
      "The element <music21.clef.TrebleClef> is in measure 0, beat 3.0.\n",
      "The element <music21.key.KeySignature of 4 sharps> is in measure 0, beat 3.0.\n",
      "The element <music21.meter.TimeSignature 4/4> is in measure 0, beat 3.0.\n",
      "The element <music21.layout.SystemLayout> is in measure 0, beat 3.0.\n",
      "The element <music21.layout.StaffLayout distance 65, staffNumber 1, staffSize None, staffLines None> is in measure 0, beat 3.0.\n",
      "The element <music21.note.Rest rest> is in measure 0, beat 3.0.\n"
     ]
    }
   ],
   "source": [
    "for e in m_vocal_0.elements:\n",
    "    print(\"The element {} is in measure {}, beat {}.\".format(e, e.measureNumber, e.beat))"
   ]
  },
  {
   "cell_type": "markdown",
   "metadata": {},
   "source": [
    "As you can see, clefs, key signatures, time signatures and other objects also have information about the measure where they are contained, and in which specific beat.\n",
    "\n",
    "By the way, notice that all these objects in this anacrusis measure, which, remember, are all located at offset `0.0`, are stored in beat `3.0`. This shows that music21 is aware that this first measure is an anacrusis measure, with a time signature of 4/4, in which the first two beats are missing. Great!\n",
    "\n",
    "So, as we just saw, we can retrieve information from this non-note objects. So let's look a bit more in depth on that. First, let's focus on key signature. And first of all, let's retrieve all the key signatures present in the vocal part by calling the `.getElementsByClass()` method on the \"flattened\" part. And remember, music21 likes you to keep your retrieved objects in streams.\n",
    "\n",
    "⇒ **Note**: since key signatures are stored within measures, if do not use the `.flat` attribute we could only retrieve key signature objects from a measure stream. So, if we want to retrieve all the key signatures from a part, we need to use the `.flat` attribute."
   ]
  },
  {
   "cell_type": "code",
   "execution_count": 13,
   "metadata": {},
   "outputs": [
    {
     "name": "stdout",
     "output_type": "stream",
     "text": [
      "The vocal part contains 1 key signatures.\n"
     ]
    }
   ],
   "source": [
    "kss = p_vocal.flat.getElementsByClass('KeySignature').stream()\n",
    "\n",
    "print('The vocal part contains {} key signatures.'.format(len(kss)))"
   ]
  },
  {
   "cell_type": "markdown",
   "metadata": {},
   "source": [
    "The vocal part of this score only contains 1 key signature. So, let's save it into a variable to better work with it."
   ]
  },
  {
   "cell_type": "code",
   "execution_count": 14,
   "metadata": {},
   "outputs": [
    {
     "name": "stdout",
     "output_type": "stream",
     "text": [
      "<music21.key.KeySignature of 4 sharps>\n"
     ]
    }
   ],
   "source": [
    "ks = kss[0]\n",
    "\n",
    "print(ks)"
   ]
  },
  {
   "cell_type": "markdown",
   "metadata": {},
   "source": [
    "So now that we have the key signature saved in the variable `ks`, the next cell shows some of the information that can be retrieved from it. Pay attention to all the different attributes."
   ]
  },
  {
   "cell_type": "code",
   "execution_count": 15,
   "metadata": {},
   "outputs": [
    {
     "name": "stdout",
     "output_type": "stream",
     "text": [
      "Offset: 0.0\n",
      "Measure number: 0\n",
      "Beat: 3.0\n",
      "Number of altered pitches: 4\n",
      "List of altered pitches:\n",
      "- F#\n",
      "- C#\n",
      "- G#\n",
      "- D#\n",
      "Major key: E major\n",
      "Major key: c# minor\n",
      "Minor key: F# dorian\n"
     ]
    }
   ],
   "source": [
    "print('Offset:', ks.offset)\n",
    "print('Measure number:', ks.measureNumber)\n",
    "print('Beat:', ks.beat)\n",
    "print('Number of altered pitches:', ks.sharps)\n",
    "print('List of altered pitches:')\n",
    "for p in ks.alteredPitches:    # the attribute .alteredPitches retrieves a list of pitches\n",
    "    print('-', p.name)\n",
    "print('Major key:', ks.asKey('major'))\n",
    "print('Major key:', ks.asKey('minor'))\n",
    "print('Minor key:', ks.asKey('dorian'))"
   ]
  },
  {
   "cell_type": "markdown",
   "metadata": {},
   "source": [
    "Let's do now the same with time signatures. First, we retrieve all the time signatures in the part."
   ]
  },
  {
   "cell_type": "code",
   "execution_count": 16,
   "metadata": {},
   "outputs": [
    {
     "name": "stdout",
     "output_type": "stream",
     "text": [
      "The vocal part contains 2 time sigantures.\n"
     ]
    }
   ],
   "source": [
    "tss = p_vocal.flat.getElementsByClass('TimeSignature').stream()\n",
    "\n",
    "print('The vocal part contains {} time sigantures.'.format(len(tss)))"
   ]
  },
  {
   "cell_type": "markdown",
   "metadata": {},
   "source": [
    "In this case, this score has two time signatures. This might be useful to know for our analysis. Luckily, even though we retrived them from the \"flattened\" part, we still can know in which measure, and even beat, each time signature is located."
   ]
  },
  {
   "cell_type": "code",
   "execution_count": 17,
   "metadata": {},
   "outputs": [
    {
     "name": "stdout",
     "output_type": "stream",
     "text": [
      "The first time signature is in offset 0.0, measure 0, beat 3.0.\n",
      "The second time signature is in offset 530.0, measure 133, beat 1.0.\n"
     ]
    }
   ],
   "source": [
    "print('The first time signature is in offset {}, measure {}, beat {}.'.format(tss[0].offset, tss[0].measureNumber, tss[0].beat))\n",
    "print('The second time signature is in offset {}, measure {}, beat {}.'.format(tss[1].offset, tss[1].measureNumber, tss[1].beat))"
   ]
  },
  {
   "cell_type": "markdown",
   "metadata": {},
   "source": [
    "The most relevant information we can retrieve from a time signature is the number of beats per measure and the duration value for each beat. The former can be known from the `.numerator` of the time signature, and the latter from its `.denominator`, if we take the time signature as a fraction."
   ]
  },
  {
   "cell_type": "code",
   "execution_count": 18,
   "metadata": {},
   "outputs": [
    {
     "name": "stdout",
     "output_type": "stream",
     "text": [
      "The first time signature is a 4/4.\n",
      "The second time signature is a 2/4.\n"
     ]
    }
   ],
   "source": [
    "print('The first time signature is a {}/{}.'.format(tss[0].numerator, tss[0].denominator))\n",
    "print('The second time signature is a {}/{}.'.format(tss[1].numerator, tss[1].denominator))"
   ]
  },
  {
   "cell_type": "markdown",
   "metadata": {},
   "source": [
    "⇒ **Note**: Of course, much more information than this can be retrieved from a time signature. If you want to explore it, save one time signature in a variable and run the cell. Then write the name of the variable followed by a period and press the tabulator. A pop-up window will appear with all the options. You can select one and write a question mark `?` directly after it. A new window will apppear with the docstrings of that attribute or method.\n",
    "\n",
    "Finally, let's do the same for the clefs. First, we retrieve them."
   ]
  },
  {
   "cell_type": "code",
   "execution_count": 19,
   "metadata": {},
   "outputs": [
    {
     "name": "stdout",
     "output_type": "stream",
     "text": [
      "The vocal part contains 1 clef.\n"
     ]
    }
   ],
   "source": [
    "clefs = p_vocal.flat.getElementsByClass('Clef').stream()\n",
    "\n",
    "print('The vocal part contains {} clef.'.format(len(clefs)))"
   ]
  },
  {
   "cell_type": "markdown",
   "metadata": {},
   "source": [
    "To better work with the only clef of the score, we save it first in a variable. Pay attention to the attributes called in the next cell."
   ]
  },
  {
   "cell_type": "code",
   "execution_count": 20,
   "metadata": {},
   "outputs": [
    {
     "name": "stdout",
     "output_type": "stream",
     "text": [
      "Offset: 0.0\n",
      "Measure number: 0\n",
      "Beat: 3.0\n",
      "Name: treble\n",
      "Sing: G\n",
      "Line: 2\n"
     ]
    }
   ],
   "source": [
    "clef = clefs[0]\n",
    "\n",
    "print('Offset:', clef.offset)\n",
    "print('Measure number:', clef.measureNumber)\n",
    "print('Beat:', clef.beat)\n",
    "print('Name:', clef.name)\n",
    "print('Sing:', clef.sign)\n",
    "print('Line:', clef.line)"
   ]
  },
  {
   "cell_type": "markdown",
   "metadata": {},
   "source": [
    "## Lyrics and ties\n",
    "Before moving on to Python dictionaries, let's briefly look at two important elements in a score: lyrics and ties."
   ]
  },
  {
   "cell_type": "markdown",
   "metadata": {},
   "source": [
    "### Lyrics\n",
    "Lyrics are specific objects in music21, and as `pitch` and `duration` objects, they are contained in the `note` objects. So, to explore lyrics, let's take the first note of measure 10 and save it in a variable."
   ]
  },
  {
   "cell_type": "code",
   "execution_count": 21,
   "metadata": {},
   "outputs": [],
   "source": [
    "n_m10_0 = nn_vocal_m10[0]"
   ]
  },
  {
   "cell_type": "markdown",
   "metadata": {},
   "source": [
    "We can acces the lyrics of this note by calling the attribute `.lyrics`."
   ]
  },
  {
   "cell_type": "code",
   "execution_count": 22,
   "metadata": {},
   "outputs": [
    {
     "name": "stdout",
     "output_type": "stream",
     "text": [
      "[<music21.note.Lyric number=1 syllabic=single text=\"卧\">]\n"
     ]
    }
   ],
   "source": [
    "ll = n_m10_0.lyrics\n",
    "\n",
    "print(ll)"
   ]
  },
  {
   "cell_type": "markdown",
   "metadata": {},
   "source": [
    "Notice that what the `.lyrics` attribute retrieves is a list, as indicated by the square brackets `[ ]`. Why would a note contain a list of lyrics? This is thought for scores of melodies sung with different lyrics, as it is the case of many folk songs. In this cases, the score gives the different stanzas of lyrics to one line of notation. As a result, one note can have more than one line of lyrics.\n",
    "\n",
    "The retrieved list from the cell above contains only one lyric object. This object has three attributes. `number` indicates the number of the line, for those notes with more than one line of lyrics. `syllabic` indicates the position of the syllable contained in that note with the word to which it belongs. If we sing the word \"Despacito\", we will sing each syllable with one note. So, in the note containing the lyric \"Des-\", the value of `syllabic` will be `begin`. In the note with the lyric \"-to\", the value of `syllabic` will be `end`. And for \"-pa-\" and \"-ci-\" the value of `syllabic` will be `middle`. In the case of monosyllabic words, as it is the case for all Chinese characters, the `syllabic` value is `single`. And finally, `text` indicates the specific string of that particular lyric.\n",
    "\n",
    "We can access each item of information by calling the corresponding attribute on the lyric object. So let's save it first in a variable, and then call all these three attributes."
   ]
  },
  {
   "cell_type": "code",
   "execution_count": 23,
   "metadata": {},
   "outputs": [
    {
     "name": "stdout",
     "output_type": "stream",
     "text": [
      "Text: 卧\n",
      "Line: 1\n",
      "Syllabe with respect to word: single\n"
     ]
    }
   ],
   "source": [
    "l = ll[0]\n",
    "\n",
    "print('Text:', l.text)\n",
    "print('Line:', l.number)\n",
    "print('Syllabe with respect to word:', l.syllabic)"
   ]
  },
  {
   "cell_type": "markdown",
   "metadata": {},
   "source": [
    "However, most of the time, we will be just interested in the string of lyric. So we can retrieve it directly from the note with the attribute `.lyric`."
   ]
  },
  {
   "cell_type": "code",
   "execution_count": 24,
   "metadata": {},
   "outputs": [
    {
     "name": "stdout",
     "output_type": "stream",
     "text": [
      "The first note of measure 10 in the vocal part hast the lyric 卧.\n"
     ]
    }
   ],
   "source": [
    "print('The first note of measure 10 in the vocal part hast the lyric {}.'.format(n_m10_0.lyric))"
   ]
  },
  {
   "cell_type": "markdown",
   "metadata": {},
   "source": [
    "⇒ **Note**: in the case that a note have different lines of lyrics, the `.lyric` method will return all the lyrics from different lines in a single string, separated by the new line escape sequence (`\\n`).\n",
    "\n",
    "So, now that we know how to retrieve the lyrics from notes, let's print all the lyrics of the notes from measure 10. Remember that we stored them in variable `nn_vocal_m10`."
   ]
  },
  {
   "cell_type": "code",
   "execution_count": 25,
   "metadata": {},
   "outputs": [
    {
     "name": "stdout",
     "output_type": "stream",
     "text": [
      "卧\n",
      "None\n",
      "None\n",
      "龙\n",
      "None\n",
      "None\n",
      "None\n",
      "岗\n",
      "None\n",
      "None\n"
     ]
    }
   ],
   "source": [
    "for n in nn_vocal_m10:\n",
    "    print(n.lyric)"
   ]
  },
  {
   "cell_type": "markdown",
   "metadata": {},
   "source": [
    "Well, not all notes have lyrics. So, maybe we could check if a note has a lyric before trying to print it out."
   ]
  },
  {
   "cell_type": "code",
   "execution_count": 26,
   "metadata": {},
   "outputs": [
    {
     "name": "stdout",
     "output_type": "stream",
     "text": [
      "卧\n",
      "龙\n",
      "岗\n"
     ]
    }
   ],
   "source": [
    "# Iterate over the notes\n",
    "for n in nn_vocal_m10:\n",
    "    # Check if the value of the .lyric attribute is different from None\n",
    "    if n.lyric != None:\n",
    "        print(n.lyric)"
   ]
  },
  {
   "cell_type": "markdown",
   "metadata": {},
   "source": [
    "### Ties\n",
    "The duration object gives us information about how long a note is performed. However, what happens when two notes are tied? Note objects in music21 contain an attribute called `.tie` that contains the information about the note being tied or not.\n",
    "\n",
    "In our score, the last two notes of the vocal part are tied. So, let's save them in one variable each to better work with them. And just to compare them with not tied notes, let's also save the antepenultimate note in a variable."
   ]
  },
  {
   "cell_type": "code",
   "execution_count": 27,
   "metadata": {},
   "outputs": [
    {
     "name": "stdout",
     "output_type": "stream",
     "text": [
      "The antepenultimate note is a C#4 16th note.\n",
      "The penultimate note is a E4 Quarter note.\n",
      "The last note is a E4 Eighth note.\n"
     ]
    }
   ],
   "source": [
    "nx = nn_vocal[-3]\n",
    "ny = nn_vocal[-2]\n",
    "nz = nn_vocal[-1]\n",
    "\n",
    "# Print pitch and duration names to verify that we accessed the right notes\n",
    "print('The antepenultimate note is a {} {} note.'.format(nx.nameWithOctave, nx.duration.fullName))\n",
    "print('The penultimate note is a {} {} note.'.format(ny.nameWithOctave, ny.duration.fullName))\n",
    "print('The last note is a {} {} note.'.format(nz.nameWithOctave, nz.duration.fullName))"
   ]
  },
  {
   "cell_type": "markdown",
   "metadata": {},
   "source": [
    "So, to check if a note is part of a tie, we can call the attribute `.tie` on it. If it is NOT part of a tie, the value of this attribute will be `None`."
   ]
  },
  {
   "cell_type": "code",
   "execution_count": 28,
   "metadata": {},
   "outputs": [
    {
     "name": "stdout",
     "output_type": "stream",
     "text": [
      "Is the antepenultimate note part of a tie? False\n",
      "Is the penultimate note part of a tie? True\n",
      "Is the last note part of a tie? True\n"
     ]
    }
   ],
   "source": [
    "print('Is the antepenultimate note part of a tie?', nx.tie != None)\n",
    "print('Is the penultimate note part of a tie?', ny.tie != None)\n",
    "print('Is the last note part of a tie?', nz.tie != None)"
   ]
  },
  {
   "cell_type": "markdown",
   "metadata": {},
   "source": [
    "So now that we have verified that the penultimate and last notes are part of a tie, we can even know in which part of the tie they are, either the `start` or the `stop`."
   ]
  },
  {
   "cell_type": "code",
   "execution_count": 29,
   "metadata": {},
   "outputs": [
    {
     "name": "stdout",
     "output_type": "stream",
     "text": [
      "The antepenultimate note is start of a tie.\n",
      "The last note is stop of a tie.\n"
     ]
    }
   ],
   "source": [
    "print('The antepenultimate note is {} of a tie.'.format(ny.tie.type))\n",
    "print('The last note is {} of a tie.'.format(nz.tie.type))"
   ]
  },
  {
   "cell_type": "markdown",
   "metadata": {},
   "source": [
    "⇒ **Note**: if more than two notes are tied, the value fo the `.tie.type` attribute for the notes in the middle will be `continue`."
   ]
  },
  {
   "cell_type": "markdown",
   "metadata": {},
   "source": [
    "## Python dictionaries\n",
    "So far, we have been storing our collections of data in lists. However, Python has a more powerful way for storing data: dictionaries.\n",
    "\n",
    "Each item of data stored in a dictionary contains two elements, a `key` and a `value`. We will see in the next cell what is the meaning of this, but for the moment, let's just look at the format of a dictionary. If lits are indicated by square brackets (`[ ]`), dictionaries are defined by curly brackets (`{ }`). Then each item within the dictionary is separated by commas (`,`). And the two elements of each item, that is, the `key` and the `value` are separated by colon (`:`). The `key` always comes firts.\n",
    "\n",
    "Let's see an example. We will create a dictionary that contains personal information about a person, and we will assign it to a variable, `person_01`. We will add that information as `value`s, and we will \"label\" them with a corresponding `key`. To check which type of object is saved in the variable `person_01`, we will print the output of the `type()` function."
   ]
  },
  {
   "cell_type": "code",
   "execution_count": 30,
   "metadata": {},
   "outputs": [
    {
     "name": "stdout",
     "output_type": "stream",
     "text": [
      "<class 'dict'>\n"
     ]
    }
   ],
   "source": [
    "person_01 = {'name': 'John Smith', 'age': 35, 'height': 1.78, 'married': False}\n",
    "\n",
    "print(type(person_01))"
   ]
  },
  {
   "cell_type": "markdown",
   "metadata": {},
   "source": [
    "As you can see, we created a dictionary using the curly brackets, and we saved it in the variable `person_01`.\n",
    "\n",
    "The dictionary contains four items:\n",
    "\n",
    "1. In the first one, the `key` is `'name'` and the `value` is `'John Smith'`.\n",
    "2. In the second one, the `key` is `'age'` and the `value` is `35`.\n",
    "3. In the third one, the `key` is `'height'` and the `value` is `1.78`.\n",
    "4. In the fourth one, the `key` is `'married'` and the `value` is `False`.\n",
    "\n",
    "If we print the type of data that is contained in the variable `person_01`, we get indeed a `dict` (short form of `dictionary`).\n",
    "\n",
    "To understand the benefits of a dictionary, let's compare it with a list. We could have all the information about this person stored in a list in this way:\n",
    "\n",
    "    person_01 = ['John Smith', 35, 1.78, False]\n",
    "    \n",
    "So, if we want to retrieve any particular item of information, we will need to remember its index. However, with a dictionary, each item of information is \"labeled\" with a `key`, and we can retrieve that information, that is, that `value`, by calling its corresponding `key`. Let's retrieve, for example, this person's height."
   ]
  },
  {
   "cell_type": "code",
   "execution_count": 31,
   "metadata": {},
   "outputs": [
    {
     "data": {
      "text/plain": [
       "1.78"
      ]
     },
     "execution_count": 31,
     "metadata": {},
     "output_type": "execute_result"
    }
   ],
   "source": [
    "person_01['height']"
   ]
  },
  {
   "cell_type": "markdown",
   "metadata": {},
   "source": [
    "In the previous cell, we retrieved the information about height by calling the `key` `'height'` within square brackets right next to the name of the variable in which we saved the dictionary. The format looks very similar to indexing. But with dictionaries, we don't need to remeber the index of each item of information. We can conveniently call the `key` instead.\n",
    "\n",
    "In fact, dictionaries do not accept indexing. If we try to retrieve the same information using the index `2` we will get an error:"
   ]
  },
  {
   "cell_type": "code",
   "execution_count": 32,
   "metadata": {},
   "outputs": [
    {
     "ename": "KeyError",
     "evalue": "2",
     "output_type": "error",
     "traceback": [
      "\u001b[1;31m---------------------------------------------------------------------------\u001b[0m",
      "\u001b[1;31mKeyError\u001b[0m                                  Traceback (most recent call last)",
      "\u001b[1;32m<ipython-input-32-656f10c2afb1>\u001b[0m in \u001b[0;36m<module>\u001b[1;34m\u001b[0m\n\u001b[1;32m----> 1\u001b[1;33m \u001b[0mperson_01\u001b[0m\u001b[1;33m[\u001b[0m\u001b[1;36m2\u001b[0m\u001b[1;33m]\u001b[0m\u001b[1;33m\u001b[0m\u001b[1;33m\u001b[0m\u001b[0m\n\u001b[0m",
      "\u001b[1;31mKeyError\u001b[0m: 2"
     ]
    }
   ],
   "source": [
    "person_01[2]"
   ]
  },
  {
   "cell_type": "markdown",
   "metadata": {},
   "source": [
    "If you noticed, the type of error we got is a `KeyError`. This means that the code didn't consider `2` as an index, but as a `key`. Since the variable `person_01` contains a dictionary, if we use square brackets after it, Python understands that we are calling a `key`, not an index.\n",
    "\n",
    "By the way, pay attention to the types of data of the values of our dictionary. The first `value` (`'John Smith'`) is a string. The second (`35`) is an integer. The third (`1.78`) is a floating point and the fourth (`False`) is a boolean. Dictionary values can be of any sort of data type. Regarding keys, in our dictionary all of them are strings, but actually, they can be of any type. For example, here's a dictionary in which the keys are integers:"
   ]
  },
  {
   "cell_type": "code",
   "execution_count": 33,
   "metadata": {},
   "outputs": [
    {
     "name": "stdout",
     "output_type": "stream",
     "text": [
      "{2015: 23, 2016: 25, 2017: 21, 2018: 21, 2019: 21}\n"
     ]
    }
   ],
   "source": [
    "students_per_year = {2015: 23, 2016: 25, 2017: 21, 2018: 21, 2019: 21}\n",
    "print(students_per_year)"
   ]
  },
  {
   "cell_type": "markdown",
   "metadata": {},
   "source": [
    "⇒ **Note**: even though in the dictionary saved in the variable `person_01` and in the one in `students_per_year` all the keys are of the same data type, this does not necessarily have to be so. Keys of one dictionary can be of different data types.\n",
    "\n",
    "⇒ **Note**: a dictionary can have items of information with identical values, as you can see in the previous dictionary with the values of the keys `2017`, `2018` and `2019`. However, keys cannot be repeated, they have to be unique. And this makes logical sense: if a dictionary contains two identical keys, how would Python know to which one you are referring to when you call any of those?\n",
    "\n",
    "The information of this second dictionary can be retrieved in the same way as in the first one:"
   ]
  },
  {
   "cell_type": "code",
   "execution_count": 34,
   "metadata": {},
   "outputs": [
    {
     "name": "stdout",
     "output_type": "stream",
     "text": [
      "How many students were there in 2018?\n",
      "21\n"
     ]
    }
   ],
   "source": [
    "print('How many students were there in 2018?')\n",
    "print(students_per_year[2018])"
   ]
  },
  {
   "cell_type": "markdown",
   "metadata": {},
   "source": [
    "So, let's use all the information stored in the first dictionary:"
   ]
  },
  {
   "cell_type": "code",
   "execution_count": 35,
   "metadata": {},
   "outputs": [
    {
     "name": "stdout",
     "output_type": "stream",
     "text": [
      "The first person is called John Smith.\n",
      "He is 35 years old.\n",
      "He is 1.78 metres tall.\n",
      "He is not married.\n"
     ]
    }
   ],
   "source": [
    "print('The first person is called {}.'.format(person_01['name']))\n",
    "print('He is {} years old.'.format(person_01['age']))\n",
    "print('He is {} metres tall.'.format(person_01['height']))\n",
    "# Since the value of the key 'married' is a boolean, let's print a specific message accordingly\n",
    "if person_01['married']:\n",
    "    print('He is married.')\n",
    "else:\n",
    "    print('He is not married.')"
   ]
  },
  {
   "cell_type": "markdown",
   "metadata": {},
   "source": [
    "The `value` of a specific `key` can be modified, or, better said, re-defined by using the operator `=`:"
   ]
  },
  {
   "cell_type": "code",
   "execution_count": 36,
   "metadata": {},
   "outputs": [
    {
     "name": "stdout",
     "output_type": "stream",
     "text": [
      "He is married.\n"
     ]
    }
   ],
   "source": [
    "person_01['married'] = True\n",
    "\n",
    "# Same code as in the previous cell\n",
    "if person_01['married']:\n",
    "    print('He is married.')\n",
    "else:\n",
    "    print('He is not married.')"
   ]
  },
  {
   "cell_type": "markdown",
   "metadata": {},
   "source": [
    "Now, the `value` of the `key` `'married'` is no longer `False`, but `True`."
   ]
  },
  {
   "cell_type": "code",
   "execution_count": 37,
   "metadata": {},
   "outputs": [
    {
     "name": "stdout",
     "output_type": "stream",
     "text": [
      "{'name': 'John Smith', 'age': 35, 'height': 1.78, 'married': True}\n"
     ]
    }
   ],
   "source": [
    "print(person_01)"
   ]
  },
  {
   "cell_type": "markdown",
   "metadata": {},
   "source": [
    "In fact, we can modify the values of specific keys using all the operators, attributes and methods applicable to the data type of those values. For example, the `value` of the key `age` is an integer. So we can add `2` to that integer using the operator `+=`:"
   ]
  },
  {
   "cell_type": "code",
   "execution_count": 38,
   "metadata": {},
   "outputs": [
    {
     "name": "stdout",
     "output_type": "stream",
     "text": [
      "{'name': 'John Smith', 'age': 37, 'height': 1.78, 'married': True}\n"
     ]
    }
   ],
   "source": [
    "person_01['age'] += 2\n",
    "\n",
    "print(person_01)"
   ]
  },
  {
   "cell_type": "markdown",
   "metadata": {},
   "source": [
    "We can expand our dictionaries by adding new items of information. In order to do that, we call the new `key` in square brackes right after the name of the variable that stores the dictionary, and we assign a `value` to it using the `=` operator.\n",
    "\n",
    "Let's add the hobbies of this person to our dictionary. For that, we call the new key `'hobbies'` within square brackets on the dictionary saved in the variable `person_01`. That `key` doesn't exists yet in the dictionary, we will create it by assigning a `value` to it using the operator `=`.\n",
    "\n",
    "Usually, people have more than one hobby. So, since values in a dictionary can be of any data type, let's assign a list to the `key` `'hobbies'` containing all the hobbies of this person."
   ]
  },
  {
   "cell_type": "code",
   "execution_count": 39,
   "metadata": {},
   "outputs": [
    {
     "name": "stdout",
     "output_type": "stream",
     "text": [
      "{'name': 'John Smith', 'age': 37, 'height': 1.78, 'married': True, 'hobbies': ['painting', 'fencing', 'gardening']}\n"
     ]
    }
   ],
   "source": [
    "person_01['hobbies'] = ['painting', 'fencing', 'gardening']\n",
    "\n",
    "print(person_01)"
   ]
  },
  {
   "cell_type": "markdown",
   "metadata": {},
   "source": [
    "Now, our dictionary contains a new `key`, `'hobbies'`, with a list as `value`."
   ]
  },
  {
   "cell_type": "code",
   "execution_count": 40,
   "metadata": {},
   "outputs": [
    {
     "name": "stdout",
     "output_type": "stream",
     "text": [
      "['painting', 'fencing', 'gardening']\n"
     ]
    }
   ],
   "source": [
    "print(person_01['hobbies'])"
   ]
  },
  {
   "cell_type": "markdown",
   "metadata": {},
   "source": [
    "And we can use it as any other list."
   ]
  },
  {
   "cell_type": "code",
   "execution_count": 41,
   "metadata": {},
   "outputs": [
    {
     "name": "stdout",
     "output_type": "stream",
     "text": [
      "painting\n",
      "fencing\n",
      "gardening\n"
     ]
    }
   ],
   "source": [
    "for hobby in person_01['hobbies']:\n",
    "    print(hobby)"
   ]
  },
  {
   "cell_type": "markdown",
   "metadata": {},
   "source": [
    "As mentioned before, values can be modified using the operators, attributes and methods that are applicable to the data type of those values. Since the `value` of the `key` `'hobbies'` is a list, we can modify it using any of the list methods. For example, let's add a new hobby to the list of hobbies. The way of adding an item to a list is using the `.append()` method. So, let's call this method when calling the `key` `'hobbies'` on the `person_01` dictionary."
   ]
  },
  {
   "cell_type": "code",
   "execution_count": 42,
   "metadata": {},
   "outputs": [
    {
     "name": "stdout",
     "output_type": "stream",
     "text": [
      "['painting', 'fencing', 'gardening', 'knitting']\n"
     ]
    }
   ],
   "source": [
    "person_01['hobbies'].append('knitting')\n",
    "\n",
    "# Print the new value of the key 'hobbies' to see the changes\n",
    "print(person_01['hobbies'])"
   ]
  },
  {
   "cell_type": "markdown",
   "metadata": {},
   "source": [
    "Let's now create two new dictionaries for containing information about two new people. However, now we will create these dictionaries starting from an empty one, and we will be adding the `key` and `value` of each item one by one using the `=` operator."
   ]
  },
  {
   "cell_type": "code",
   "execution_count": 43,
   "metadata": {},
   "outputs": [
    {
     "name": "stdout",
     "output_type": "stream",
     "text": [
      "{'name': 'Carol Smith', 'age': 5, 'height': 0.95}\n",
      "{'name': 'Louise Smith', 'age': 2, 'height': 0.51}\n"
     ]
    }
   ],
   "source": [
    "# Dictionary for person_02\n",
    "## Define empty dictionary\n",
    "person_02 = {}\n",
    "\n",
    "## Add information\n",
    "person_02['name'] = 'Carol Smith'\n",
    "person_02['age'] = 5\n",
    "person_02['height'] = 0.95\n",
    "\n",
    "# Dictionary for person_03\n",
    "## Define empty dictionary\n",
    "person_03 = {}\n",
    "\n",
    "## Add information\n",
    "person_03['name'] = 'Louise Smith'\n",
    "person_03['age'] = 2\n",
    "person_03['height'] = 0.51\n",
    "\n",
    "# Print the dictionaries\n",
    "print(person_02)\n",
    "print(person_03)"
   ]
  },
  {
   "cell_type": "markdown",
   "metadata": {},
   "source": [
    "Dictionaries can be as complex as you want, since they are very versatile. For example, imagine that the dictionaries we just created correspond to the daughters of the person one. So, we can add that information in the `person_01` dictionary, as a list of containing the `person_02` and `person_03` dictionaries."
   ]
  },
  {
   "cell_type": "code",
   "execution_count": 44,
   "metadata": {},
   "outputs": [
    {
     "name": "stdout",
     "output_type": "stream",
     "text": [
      "{'name': 'John Smith', 'age': 37, 'height': 1.78, 'married': True, 'hobbies': ['painting', 'fencing', 'gardening', 'knitting'], 'offspring': [{'name': 'Carol Smith', 'age': 5, 'height': 0.95}, {'name': 'Louise Smith', 'age': 2, 'height': 0.51}]}\n"
     ]
    }
   ],
   "source": [
    "person_01['offspring'] = [person_02, person_03]\n",
    "\n",
    "print(person_01)"
   ]
  },
  {
   "cell_type": "markdown",
   "metadata": {},
   "source": [
    "So, the dictionary saved in the variable `person_01` contains an item whose value is list that contains two dictionaries. Wow!\n",
    "\n",
    "And now we can very conveniently retrieve all the different items of information saved in that dictionary."
   ]
  },
  {
   "cell_type": "code",
   "execution_count": 45,
   "metadata": {},
   "outputs": [
    {
     "name": "stdout",
     "output_type": "stream",
     "text": [
      "The first person has 2 daughters:\n",
      "- Carol Smith, 5 years old, 0.95 meters high.\n",
      "- Louise Smith, 2 years old, 0.51 meters high.\n"
     ]
    }
   ],
   "source": [
    "print('The first person has {} daughters:'.format(len(person_01['offspring'])))\n",
    "\n",
    "for daughter in person_01['offspring']:\n",
    "    print('- {}, {} years old, {} meters high.'.format(daughter['name'], daughter['age'], daughter['height']))"
   ]
  },
  {
   "cell_type": "markdown",
   "metadata": {},
   "source": [
    "I hope that you started gaining an idea of the potential of dictionaries for storing and organizing information.\n",
    "\n",
    "Dictionaries, as all Python objects, have their own methods. Arguably the most used ones are the `.keys()` and `.values()` methods. Each of them respectively returns all the keys of a dictionary and all the values of a dictionary.\n",
    "\n",
    "Let's see first all the keys of our dictionary `person_01`:"
   ]
  },
  {
   "cell_type": "code",
   "execution_count": 46,
   "metadata": {},
   "outputs": [
    {
     "name": "stdout",
     "output_type": "stream",
     "text": [
      "dict_keys(['name', 'age', 'height', 'married', 'hobbies', 'offspring'])\n"
     ]
    }
   ],
   "source": [
    "print(person_01.keys())"
   ]
  },
  {
   "cell_type": "markdown",
   "metadata": {},
   "source": [
    "And now, all its values:"
   ]
  },
  {
   "cell_type": "code",
   "execution_count": 47,
   "metadata": {},
   "outputs": [
    {
     "name": "stdout",
     "output_type": "stream",
     "text": [
      "dict_values(['John Smith', 37, 1.78, True, ['painting', 'fencing', 'gardening', 'knitting'], [{'name': 'Carol Smith', 'age': 5, 'height': 0.95}, {'name': 'Louise Smith', 'age': 2, 'height': 0.51}]])\n"
     ]
    }
   ],
   "source": [
    "print(person_01.values())"
   ]
  },
  {
   "cell_type": "markdown",
   "metadata": {},
   "source": [
    "Excellent! Dictionaries are great! But, how can they help us in our musicological research?\n",
    "\n",
    "A common use is gathering information for a series of elements that were unknown *a priory*. For example, in exercise 2.6 from notebook 7 we could count the aggregated duration of all the pitches of the score. However, that code requires that we know beforehand the pitches contained in a score. And then, we need to create a variable for each of them, check for each note if its pitch corresponds to any of those, etc. The result, is a quite lengthy code. With dictionaries we can do the same task much more efficiently, since we can have a dictionary with the pitch classes of the score as keys, and their aggregated duration as values. To do that, we can create an empty dictionary, then iterate over the notes, if the note's pitch is not among the keys in our dictionary, we create it defining the duration of the note as its value, but if it alreay is among the keys, then we update its value by adding the new duration.\n",
    "\n",
    "Better seen than explained:"
   ]
  },
  {
   "cell_type": "code",
   "execution_count": 48,
   "metadata": {},
   "outputs": [
    {
     "name": "stdout",
     "output_type": "stream",
     "text": [
      "{'G#': 48.25, 'B': 39.25, 'F#': 45.75, 'E': 40.75, 'C#': 37.75, 'D#': 12.5, 'A': 3.5}\n"
     ]
    }
   ],
   "source": [
    "# Create empty dictionary\n",
    "pitch_durations = {}\n",
    "\n",
    "# Iterate over all notes\n",
    "for n in nn_vocal:\n",
    "    # Retrive pitch and duration\n",
    "    n_pitch = n.name\n",
    "    n_dur = n.quarterLength\n",
    "    # Check if pitch is already a key in the dictionary\n",
    "    if n_pitch not in pitch_durations.keys():\n",
    "        # Since it is not, we create the key and assign the duration as value\n",
    "        pitch_durations[n_pitch] = n_dur\n",
    "    else:\n",
    "        # Since is already is, we update its value by adding the new duration\n",
    "        pitch_durations[n_pitch] += n_dur\n",
    "\n",
    "# Print the dictionary\n",
    "print(pitch_durations)"
   ]
  },
  {
   "cell_type": "markdown",
   "metadata": {},
   "source": [
    "Besides saving coding space, now we can retrieve detailed information at our convenience. For example, how long is the pitch E peformed?"
   ]
  },
  {
   "cell_type": "code",
   "execution_count": 49,
   "metadata": {},
   "outputs": [
    {
     "name": "stdout",
     "output_type": "stream",
     "text": [
      "Pitch E is performed for an aggregated duration of 40.75 quarter notes.\n"
     ]
    }
   ],
   "source": [
    "print('Pitch E is performed for an aggregated duration of {} quarter notes.'.format(pitch_durations['E']))"
   ]
  },
  {
   "cell_type": "markdown",
   "metadata": {},
   "source": [
    "What about the 4th and 7th degrees, in this case, A and D#?"
   ]
  },
  {
   "cell_type": "code",
   "execution_count": 50,
   "metadata": {},
   "outputs": [
    {
     "name": "stdout",
     "output_type": "stream",
     "text": [
      "Pitch A is performed for an aggregated duration of 3.5 quarter notes.\n",
      "Pitch D# is performed for an aggregated duration of 12.5 quarter notes.\n"
     ]
    }
   ],
   "source": [
    "print('Pitch A is performed for an aggregated duration of {} quarter notes.'.format(pitch_durations['A']))\n",
    "print('Pitch D# is performed for an aggregated duration of {} quarter notes.'.format(pitch_durations['D#']))"
   ]
  },
  {
   "cell_type": "markdown",
   "metadata": {},
   "source": [
    "Or we can even print all the information by iterating over the keys of the dictionary:"
   ]
  },
  {
   "cell_type": "code",
   "execution_count": 51,
   "metadata": {},
   "outputs": [
    {
     "name": "stdout",
     "output_type": "stream",
     "text": [
      "- G# is sung for 48.25 quarter notes.\n",
      "- B is sung for 39.25 quarter notes.\n",
      "- F# is sung for 45.75 quarter notes.\n",
      "- E is sung for 40.75 quarter notes.\n",
      "- C# is sung for 37.75 quarter notes.\n",
      "- D# is sung for 12.5 quarter notes.\n",
      "- A is sung for 3.5 quarter notes.\n"
     ]
    }
   ],
   "source": [
    "for p in pitch_durations.keys():\n",
    "    print('- {} is sung for {} quarter notes.'.format(p, pitch_durations[p]))"
   ]
  },
  {
   "cell_type": "markdown",
   "metadata": {},
   "source": [
    "## Exercises"
   ]
  },
  {
   "cell_type": "markdown",
   "metadata": {},
   "source": [
    "### Exercise 1. Debugging"
   ]
  },
  {
   "cell_type": "markdown",
   "metadata": {},
   "source": [
    "### 1.1"
   ]
  },
  {
   "cell_type": "code",
   "execution_count": 52,
   "metadata": {},
   "outputs": [
    {
     "name": "stdout",
     "output_type": "stream",
     "text": [
      "I have 3207 followers in Instagram.\n"
     ]
    }
   ],
   "source": [
    "followers = {'Facebook': 891, 'Twitter': 1786, 'Instagram': 3207}\n",
    "\n",
    "# Followers in Instagram\n",
    "print('I have {} followers in Instagram.'.format(followers['Instagram']))"
   ]
  },
  {
   "cell_type": "markdown",
   "metadata": {},
   "source": [
    "### 1.2"
   ]
  },
  {
   "cell_type": "code",
   "execution_count": 53,
   "metadata": {},
   "outputs": [
    {
     "name": "stdout",
     "output_type": "stream",
     "text": [
      "{'Facebook': 891, 'Twitter': 1795, 'Instagram': 3245, 'LinkedIn': 107, 'Academia': 12}\n",
      "\n",
      "I have 891 followers in Facebook and 107 followers in LinkedIn\n"
     ]
    }
   ],
   "source": [
    "# This cell uses the variable followers from exercise 1.1\n",
    "\n",
    "# Add followers in LinkedIn and Academia\n",
    "followers['LinkedIn'] = 107\n",
    "followers['Academia'] = 12\n",
    "\n",
    "# Update Twitter and Instagram followers\n",
    "\n",
    "followers['Twitter'] += 9\n",
    "followers['Instagram'] += 38 #I changed the second line from Twitter to Instagram - hopefully that's right?\n",
    "\n",
    "# Print the updated dictionary\n",
    "print(followers)\n",
    "print()\n",
    "\n",
    "# Print followers in Facebook and LinkedIn\n",
    "print('I have {} followers in Facebook and {} followers in LinkedIn'.format(followers['Facebook'], followers['LinkedIn']))"
   ]
  },
  {
   "cell_type": "markdown",
   "metadata": {},
   "source": [
    "### 1.3. Reading phone numbers"
   ]
  },
  {
   "cell_type": "code",
   "execution_count": 54,
   "metadata": {},
   "outputs": [
    {
     "name": "stdout",
     "output_type": "stream",
     "text": [
      "The number you dialed is:\n",
      "six\n",
      "six\n",
      "seven\n",
      "zero\n",
      "two\n",
      "seven\n",
      "zero\n",
      "eight\n",
      "four\n"
     ]
    }
   ],
   "source": [
    "# Dictionary with numbers and their pronunciation\n",
    "numbersDict = {0: 'zero', 1: 'one', 2: 'two', 3: 'three', 4: 'four', 5: 'five', 6: 'six', 7: 'seven', 8: 'eight', 9: 'nine'}\n",
    "\n",
    "# Target phone number\n",
    "phoneNumber = '667027084'\n",
    "print('The number you dialed is:')\n",
    "\n",
    "# Iterate over all the digits of the number\n",
    "for digit in phoneNumber:\n",
    "# Retrieve its pronunciation from the dictionary and print it out\n",
    "    print(numbersDict[int(digit)])"
   ]
  },
  {
   "cell_type": "markdown",
   "metadata": {},
   "source": [
    "### 1.4"
   ]
  },
  {
   "cell_type": "code",
   "execution_count": 55,
   "metadata": {},
   "outputs": [
    {
     "name": "stdout",
     "output_type": "stream",
     "text": [
      "{'name': 'Hermione', 10: 'ten', 'cities': ['New York', 'Moscow', 'Eggersdorf'], 2.3: 'New updated version with several improvements.', 'Happy?': True, 'Injuries': None}\n",
      "\n",
      "Hermione\n",
      "\n",
      "Zehn\n",
      "\n",
      "I have visited 4 cities.\n"
     ]
    }
   ],
   "source": [
    "# Create an empty dictionary\n",
    "myWeirdDict = {}\n",
    "\n",
    "# Add items\n",
    "myWeirdDict['name'] = 'Hermione'\n",
    "myWeirdDict[10] = 'ten'\n",
    "myWeirdDict['cities'] = ['New York', 'Moscow', 'Eggersdorf']\n",
    "myWeirdDict[2.3] = 'New updated version with several improvements.'\n",
    "myWeirdDict['Happy?'] = True\n",
    "myWeirdDict['Injuries'] = None\n",
    "\n",
    "# Print dictionary\n",
    "print(myWeirdDict)\n",
    "print()\n",
    "\n",
    "# Retrieve your name if you are happy\n",
    "if myWeirdDict['Happy?'] == True:\n",
    "    print(myWeirdDict['name'])\n",
    "\n",
    "print()\n",
    "\n",
    "# Change the pronunciation of 10 to German and print it out\n",
    "myWeirdDict[10] = 'Zehn'\n",
    "print(myWeirdDict[10])\n",
    "\n",
    "print()\n",
    "\n",
    "# Add Minas Tirith to the list of cities and print how many cities you have visited\n",
    "myWeirdDict['cities'].append('Minas Tirith')\n",
    "print('I have visited {} cities.'.format(len(myWeirdDict['cities'])))"
   ]
  },
  {
   "cell_type": "markdown",
   "metadata": {},
   "source": [
    "### 1.5. Counting vowels"
   ]
  },
  {
   "cell_type": "code",
   "execution_count": 56,
   "metadata": {
    "scrolled": true
   },
   "outputs": [
    {
     "name": "stdout",
     "output_type": "stream",
     "text": [
      "{'A': 1, 'a': 2, 'o': 3, 'e': 3, 'i': 3}\n",
      "{'i': 1, 'e': 5, 'a': 5, 'o': 3, 'I': 1}\n",
      "{'A': 1, 'o': 9, 'a': 2}\n",
      "\n",
      "Phrase 1 contains 3 oes.\n",
      "Phrase 2 contains 3 oes.\n",
      "Phrase 3 contains 9 oes.\n"
     ]
    }
   ],
   "source": [
    "# Define the counting vowels function\n",
    "def count_vowels(phrase):\n",
    "    '''\n",
    "    Returns a dictionary with the found vowels as keys and the number of occurrences of this vowel as values\n",
    "    \n",
    "    Args\n",
    "        phrase (str): a string whose vowels will be counted\n",
    "        \n",
    "    Returns\n",
    "        vowels_count (dict): a dictionary with the found vowels as kyes and the number of occurrences as values\n",
    "        \n",
    "    >>> count_vowels('Hakuna matata!')\n",
    "    {'a': 5, 'u': 1}\n",
    "    '''\n",
    "    \n",
    "    # All vowels variable\n",
    "    vowels = 'AEIOUaeiou'\n",
    "    \n",
    "    # Create an empty dictionary\n",
    "    vowels_count = {}\n",
    "    \n",
    "    # Iterate over all the letters of phrase\n",
    "    for letter in phrase:\n",
    "        # Check if it is a vowel\n",
    "        if letter in vowels:\n",
    "            # Check if that letter is NOT yet a key in the dictionary\n",
    "            if letter not in vowels_count.keys():\n",
    "                # It is not yet there, so create it with the value of 1\n",
    "                vowels_count[letter] = 1\n",
    "            else:\n",
    "                # It is already there, so update its value by 1\n",
    "                vowels_count[letter] += 1\n",
    "    \n",
    "    return vowels_count\n",
    "\n",
    "# Phrases to be tested\n",
    "phrase1 = 'Always look at the bright side of life.'\n",
    "phrase2 = 'Give me a place to stand, and I shall move the world.'\n",
    "phrase3 = 'A-bop-bop-a-loom-op a-lop-bop-boom!'\n",
    "\n",
    "# Calls to the function \n",
    "phrase1_vowels = count_vowels(phrase1)\n",
    "print(phrase1_vowels)\n",
    "phrase2_vowels = count_vowels(phrase2)\n",
    "print(phrase2_vowels)\n",
    "phrase3_vowels = count_vowels(phrase3)\n",
    "print(phrase3_vowels)\n",
    "\n",
    "print()\n",
    "\n",
    "# Results for the vowel 'o'\n",
    "print('Phrase 1 contains {} oes.'.format(phrase1_vowels['o']))\n",
    "print('Phrase 2 contains {} oes.'.format(phrase2_vowels['o']))\n",
    "print('Phrase 3 contains {} oes.'.format(phrase3_vowels['o']))"
   ]
  },
  {
   "cell_type": "markdown",
   "metadata": {},
   "source": [
    "⇒ **Challenge**: the function of the last cell counts uppercase and lowercase vowels separately. What could you do to avoid that? *Hint*: strings have a method which returns a lowercase copy of the given string (even if it was already lowercase)."
   ]
  },
  {
   "cell_type": "markdown",
   "metadata": {},
   "source": [
    "### Exercise 2. Flawed logic"
   ]
  },
  {
   "cell_type": "markdown",
   "metadata": {},
   "source": [
    "### 2.1\n",
    "In the exercise 3.5 from notebook 7 we learnt that the highest note in the vocal part is B4. Find all the occurrences of this pitch and print their measure and beat.\n",
    "\n",
    "Expected result:\n",
    "\n",
    "    The pitch B4 is reached in the following positions:\n",
    "    - Measure 8, beat 3.0\n",
    "    - Measure 8, beat 4.0\n",
    "    - Measure 9, beat 3.0\n",
    "    - Measure 10, beat 3.0\n",
    "    - Measure 13, beat 3.5\n",
    "    - Measure 24, beat 4.0\n",
    "    - Measure 26, beat 3.0\n",
    "    - Measure 37, beat 4.5\n",
    "    - Measure 40, beat 2.5\n",
    "    - Measure 70, beat 3.0\n",
    "    - Measure 75, beat 3.75\n",
    "    - Measure 87, beat 3.0\n",
    "    - Measure 88, beat 3.0\n",
    "    - Measure 90, beat 3.0\n",
    "    - Measure 90, beat 3.5\n",
    "    - Measure 100, beat 3.0\n",
    "    - Measure 106, beat 3.25\n",
    "    - Measure 106, beat 3.75\n",
    "    - Measure 118, beat 3.5\n",
    "    - Measure 119, beat 3.0\n",
    "    - Measure 119, beat 3.5\n",
    "    - Measure 152, beat 2.75"
   ]
  },
  {
   "cell_type": "code",
   "execution_count": 57,
   "metadata": {},
   "outputs": [
    {
     "name": "stdout",
     "output_type": "stream",
     "text": [
      "The pitch B4 is reached in the following positions:\n",
      "- Measure 8, beat 3.0\n",
      "- Measure 8, beat 4.0\n",
      "- Measure 9, beat 3.0\n",
      "- Measure 10, beat 3.0\n",
      "- Measure 13, beat 3.5\n",
      "- Measure 24, beat 4.0\n",
      "- Measure 26, beat 3.0\n",
      "- Measure 37, beat 4.5\n",
      "- Measure 40, beat 2.5\n",
      "- Measure 70, beat 3.0\n",
      "- Measure 75, beat 3.75\n",
      "- Measure 87, beat 3.0\n",
      "- Measure 88, beat 3.0\n",
      "- Measure 90, beat 3.0\n",
      "- Measure 90, beat 3.5\n",
      "- Measure 100, beat 3.0\n",
      "- Measure 106, beat 3.25\n",
      "- Measure 106, beat 3.75\n",
      "- Measure 118, beat 3.5\n",
      "- Measure 119, beat 3.0\n",
      "- Measure 119, beat 3.5\n",
      "- Measure 152, beat 2.75\n"
     ]
    }
   ],
   "source": [
    "# This cell uses the nn_vocal previously defined\n",
    "\n",
    "print('The pitch B4 is reached in the following positions:')\n",
    "\n",
    "for n in nn_vocal:\n",
    "    n_pitch = n.nameWithOctave\n",
    "    if n_pitch == 'B4':\n",
    "        print('- Measure {}, beat {}'.format(n.measureNumber, n.beat))"
   ]
  },
  {
   "cell_type": "markdown",
   "metadata": {},
   "source": [
    "### 2.2\n",
    "Let's check how many ties are present in the vocal part.\n",
    "\n",
    "Expected result:\n",
    "\n",
    "    The vocal part contains 12 ties.\n",
    "\n",
    "⇒ **Note**: To avoid counting the same tie for as many times as notes are contained in the tie, search only for notes with tie of the type `start` "
   ]
  },
  {
   "cell_type": "code",
   "execution_count": 59,
   "metadata": {},
   "outputs": [
    {
     "name": "stdout",
     "output_type": "stream",
     "text": [
      "The vocal part contains 12 ties.\n"
     ]
    }
   ],
   "source": [
    "# This cell uses the nn_vocal previously defined\n",
    "\n",
    "# Ties counter\n",
    "ties = 0\n",
    "\n",
    "# Iterate over the notes\n",
    "for n in nn_vocal:\n",
    "    # Check if the note has a tie and that it is of type 'start'\n",
    "    # (to avoid counting the same tie for as many times as notes involved)\n",
    "    if n.tie and n.tie.type == 'start':\n",
    "        ties += 1\n",
    "        \n",
    "print('The vocal part contains {} ties.'.format(ties))"
   ]
  },
  {
   "cell_type": "markdown",
   "metadata": {},
   "source": [
    "### 2.3\n",
    "Let's analyze the occurrences of each note duration in the vocal part.\n",
    "\n",
    "Expected result:\n",
    "\n",
    "    {'16th': 125, 'Eighth': 161, 'Quarter': 81, 'Dotted Quarter': 3, 'Dotted Eighth': 23, 'Half': 7, 'Whole': 1, 'Dotted Half': 3}\n",
    "\n",
    "    The vocal part contains 81 quarter notes and 161 eighth notes.\n",
    "\n",
    "⇒ **Note**: Since we don't know beforehand how many different types of note durations are present in the vocal part, we can start with an empty dictionary. In this dictionary, the keys will be names of the different note durations that we find in the vocal part, and their values the number of occurrences of each type of note duration."
   ]
  },
  {
   "cell_type": "code",
   "execution_count": 62,
   "metadata": {},
   "outputs": [
    {
     "name": "stdout",
     "output_type": "stream",
     "text": [
      "{'16th': 125, 'Eighth': 161, 'Quarter': 81, 'Dotted Quarter': 3, 'Dotted Eighth': 23, 'Half': 7, 'Whole': 1, 'Dotted Half': 3}\n",
      "\n",
      "The vocal part contains 81 quarter notes and 161 eighth notes.\n"
     ]
    }
   ],
   "source": [
    "# This cell uses the nn_vocal previously defined\n",
    "\n",
    "# Create an empty dictionary\n",
    "durations = {}\n",
    "\n",
    "# Iterate over all notes\n",
    "for n in nn_vocal:\n",
    "    # Retrieve the type of note duration\n",
    "    nd = n.duration.fullName\n",
    "    # Check if the duration type of the current note is NOT yet among the keys of the durations dictionary\n",
    "    if nd not in durations.keys():\n",
    "        # Add the duration type of the current note as a new key with an initial value of 1\n",
    "        durations[nd] = 1\n",
    "    else:\n",
    "        # The duration type is already among the keys of the durations dictionary\n",
    "        # Update its value by 1\n",
    "        durations[nd] += 1\n",
    "\n",
    "# Print the resulting dictionary\n",
    "print(durations)\n",
    "\n",
    "print()\n",
    "\n",
    "# Retrieve some information\n",
    "print('The vocal part contains {} quarter notes and {} eighth notes.'.format(durations['Quarter'], durations['Eighth']))"
   ]
  },
  {
   "cell_type": "markdown",
   "metadata": {},
   "source": [
    "### 2.4\n",
    "Let's see which are the preferred beats for singing lyrics.\n",
    "\n",
    "Expected result:\n",
    "\n",
    "    {3.0: 35, 4.0: 16, 2.0: 21, 1.0: 31, 3.5: 4, 4.5: 4, 4.75: 1, 2.75: 1, 2.5: 2, 1.5: 3}\n",
    "\n",
    "    - Beat 1.0: lyrics were sung 31 times\n",
    "    - Beat 1.5: lyrics were sung 3 times\n",
    "    - Beat 2.0: lyrics were sung 21 times\n",
    "    - Beat 2.5: lyrics were sung 2 times\n",
    "    - Beat 2.75: lyrics were sung 1 times\n",
    "    - Beat 3.0: lyrics were sung 35 times\n",
    "    - Beat 3.5: lyrics were sung 4 times\n",
    "    - Beat 4.0: lyrics were sung 16 times\n",
    "    - Beat 4.5: lyrics were sung 4 times\n",
    "    - Beat 4.75: lyrics were sung 1 times\n",
    "\n",
    "⇒ **Note**: Since we don't know beforehand in which beats lyrics are sung, we can start with an empty dictionary. In this dictionary, the keys will be the beat numbers where a lyric is sung, and the values the occurrences of a lyric being sung in that beat.\n",
    "\n",
    "⇒ **Note**: To print the results ordered, we can first order the keys of the dictionary with the `sorted()` function. This function returns a list, that we can save in a new variable. This variable will then contain a list with the ordered keys of our dictionary. Then, we can iterate over the list in this new variable, and call the values from the dictionary using the items of the list as keys."
   ]
  },
  {
   "cell_type": "code",
   "execution_count": 66,
   "metadata": {},
   "outputs": [
    {
     "name": "stdout",
     "output_type": "stream",
     "text": [
      "{3.0: 35, 4.0: 16, 2.0: 21, 1.0: 31, 3.5: 4, 4.5: 4, 4.75: 1, 2.75: 1, 2.5: 2, 1.5: 3}\n",
      "\n",
      "- Beat 1.0: lyrics were sung 31 times\n",
      "- Beat 1.5: lyrics were sung 3 times\n",
      "- Beat 2.0: lyrics were sung 21 times\n",
      "- Beat 2.5: lyrics were sung 2 times\n",
      "- Beat 2.75: lyrics were sung 1 times\n",
      "- Beat 3.0: lyrics were sung 35 times\n",
      "- Beat 3.5: lyrics were sung 4 times\n",
      "- Beat 4.0: lyrics were sung 16 times\n",
      "- Beat 4.5: lyrics were sung 4 times\n",
      "- Beat 4.75: lyrics were sung 1 times\n"
     ]
    }
   ],
   "source": [
    "# This cell uses the nn_vocal previously defined\n",
    "\n",
    "# Create empty dictionary\n",
    "lyrics_beats = {}\n",
    "\n",
    "# Iterate over all notes\n",
    "for n in nn_vocal:\n",
    "    # Check that the note has a lyric:\n",
    "    if n.lyric != None:\n",
    "        # Retrieve the beat\n",
    "        nb = n.beat\n",
    "        # Check if that beat is NOT yet a key in the lyrics_beats dictionary\n",
    "        if nb not in lyrics_beats.keys():\n",
    "            # Create a new key for the current beat and assign the value of 1\n",
    "            lyrics_beats[nb] = 1\n",
    "        else:\n",
    "            # Update the value of the current beat by 1\n",
    "            lyrics_beats[nb] += 1\n",
    "\n",
    "# Print the dictionary to check the results\n",
    "print(lyrics_beats)\n",
    "\n",
    "print()\n",
    "\n",
    "# Let's print the ordered results\n",
    "## Create a list with the sorted keys\n",
    "ordered_keys = sorted(lyrics_beats.keys())\n",
    "\n",
    "## Iterate over the ordered keys and use them to call the values in the dictionary\n",
    "for k in ordered_keys:\n",
    "    print('- Beat {}: lyrics were sung {} times'.format(k, lyrics_beats[k]))"
   ]
  },
  {
   "cell_type": "markdown",
   "metadata": {},
   "source": [
    "### 2.5. Challenge!\n",
    "We want to work with pitch predominance, and we want to compare the meaning of counting notes or computing aggregated duration. Therefore, we will create a dictionary for that. The keys of this dictionary will be the pitch classes that we find in the vocal part. And the value for each key will be another dictionary. This dictionaries assigned to each pitch class will have only two items. The first one will have the key `'notes'` and its value will be the count of notes with the corresponding pitch class. The second one will have the key `'dur'` (for duration) and its value will be the aggretated duration for that pitch class. Therefore, the result of this code has two, let's say, \"levels\" of dictionaries: one general dictionary whose keys are the pitch classes, and then many, let's call it, \"pitch dictionaries\", in the amount of one per pitch class. The \"pitch dictionaries\" have two items, one with the key `'notes'` and one with the key `'dur'`.\n",
    "\n",
    "Expected result:\n",
    "\n",
    "    {'G#': {'notes': 87, 'dur': 48.25}, 'B': {'notes': 65, 'dur': 39.25}, 'F#': {'notes': 89, 'dur': 45.75}, 'E': {'notes': 70, 'dur': 40.75}, 'C#': {'notes': 63, 'dur': 37.75}, 'D#': {'notes': 25, 'dur': 12.5}, 'A': {'notes': 5, 'dur': 3.5}}\n",
    "\n",
    "    G# is sung in 87 notes, with an aggregated duration of 48.25 quarter notes.\n",
    "    F# is sung in 89 notes, with an aggregated duration of 45.75 quarter notes."
   ]
  },
  {
   "cell_type": "code",
   "execution_count": 69,
   "metadata": {},
   "outputs": [
    {
     "name": "stdout",
     "output_type": "stream",
     "text": [
      "{'G#': {'notes': 87, 'dur': 48.25}, 'B': {'notes': 65, 'dur': 39.25}, 'F#': {'notes': 89, 'dur': 45.75}, 'E': {'notes': 70, 'dur': 40.75}, 'C#': {'notes': 63, 'dur': 37.75}, 'D#': {'notes': 25, 'dur': 12.5}, 'A': {'notes': 5, 'dur': 3.5}}\n",
      "\n",
      "G# is sung in 87 notes, with an aggregated duration of 48.25 quarter notes.\n",
      "F# is sung in 89 notes, with an aggregated duration of 45.75 quarter notes.\n"
     ]
    }
   ],
   "source": [
    "# This cell uses the nn_vocal previously defined\n",
    "\n",
    "# Create the general dictionary (empty)\n",
    "pitch_predominance = {}\n",
    "\n",
    "# Iterate over all notes\n",
    "for n in nn_vocal:\n",
    "    # Retrieve pitch and duration\n",
    "    np = n.name\n",
    "    ndur = n.quarterLength\n",
    "    # Check if the pitch of the current note is NOT yet among the keys of the general dictionary\n",
    "    if np not in pitch_predominance.keys():\n",
    "        # Create a new key for the pitch of the current note with the value of a \"pitch dictionary\"\n",
    "        # To initiate the \"pitch dictionary\", give the 'notes' key the value of one,\n",
    "        # and give the key 'dur' the value of the duration of the current note\n",
    "        pitch_predominance[np] = {'notes': 1, 'dur': ndur}\n",
    "    else:\n",
    "        # The pitch of the current note is already among the keys of the general dictionary\n",
    "        # Update its \"note dictionary\", by adding one to the value of 'notes',\n",
    "        # and adding the duration of the current note to the value of 'dur'\n",
    "        pitch_predominance[np]['notes'] += 1\n",
    "        pitch_predominance[np]['dur'] += ndur\n",
    "\n",
    "# Print the resulting dictionary\n",
    "print(pitch_predominance)\n",
    "\n",
    "print()\n",
    "\n",
    "# Now you can use some information:\n",
    "print('G# is sung in {} notes, with an aggregated duration of {} quarter notes.'.format(pitch_predominance['G#']['notes'], pitch_predominance['G#']['dur']))\n",
    "print('F# is sung in {} notes, with an aggregated duration of {} quarter notes.'.format(pitch_predominance['F#']['notes'], pitch_predominance['F#']['dur']))"
   ]
  },
  {
   "cell_type": "markdown",
   "metadata": {},
   "source": [
    "## Exercise 3. Write your own code!"
   ]
  },
  {
   "cell_type": "markdown",
   "metadata": {},
   "source": [
    "### 3.1\n",
    "Write a dictionary with the data for the following dog:\n",
    "\n",
    "- name: Linda\n",
    "- bride: labrador\n",
    "- age: 8\n",
    "- color: black\n",
    "- weight: 35.2\n",
    "- sex: female\n",
    "- toys: ball, bone, stuffed squirrel, plastic bottle\n",
    "- vaccined: false\n",
    "\n",
    "Print the dictionary, and build a sentence describing the dog using information from the dictionary.\n",
    "\n",
    "Expected result:\n",
    "\n",
    "    {'name': 'Linda', 'bride': 'labrador', 'age': 8, 'color': 'black', 'weight': 35.2, 'sex': 'female', 'toys': ['ball', 'bone', 'stuffed squirrel', 'plastic bottle'], 'vaccined': False}\n",
    "\n",
    "    Linda is a black labrador of 8 years old and 35.2 kg."
   ]
  },
  {
   "cell_type": "code",
   "execution_count": 71,
   "metadata": {},
   "outputs": [
    {
     "name": "stdout",
     "output_type": "stream",
     "text": [
      "{'name': 'Linda', 'bride': 'labrador', 'age': 8, 'color': 'black', 'weight': 35.2, 'sex': 'female', 'toys': ['ball', 'bone', 'stuffed squirrel', 'plastic bottle'], 'vaccined': False}\n",
      "\n",
      "Linda is a black labrador of 8 years old and 35.2 kg.\n"
     ]
    }
   ],
   "source": [
    "# Create the dictionary\n",
    "dog = {'name': 'Linda', 'bride': 'labrador', 'age': 8, 'color': 'black', 'weight': 35.2, 'sex': 'female', 'toys':['ball', 'bone', 'stuffed squirrel', 'plastic bottle'], 'vaccined': False}\n",
    "\n",
    "# Print the ditionary\n",
    "print(dog)\n",
    "\n",
    "# Print an empty line for better legibility\n",
    "print()\n",
    "\n",
    "# Print a sentece about the dog\n",
    "print(\"{} is a {} {} of {} years old and {} kg.\".format(dog['name'],dog ['color'], dog['bride'], dog['age'], dog['weight']))"
   ]
  },
  {
   "cell_type": "markdown",
   "metadata": {},
   "source": [
    "### 3.2\n",
    "Two years later, our lovely Linda has gained 2.7 kg., is totally vaccined, stopped playing with the plastic bottle, and now her favorites toys are a squeaky chicken and a knotted rope. Update the dictionary from exercise 3.1 with the new information, print it out and print the same presentation line from exercise 3.1.\n",
    "\n",
    "Expected result:\n",
    "\n",
    "    {'name': 'Linda', 'bride': 'labrador', 'age': 10, 'color': 'black', 'weight': 37.900000000000006, 'sex': 'female', 'toys': ['ball', 'bone', 'stuffed squirrel', 'squeaky chicken', 'knotted rope'], 'vaccined': True}\n",
    "\n",
    "    Linda is a black labrador of 10 years old and 37.900000000000006 kg.\n",
    "    \n",
    "⇒ **Note**: remember the problems with floating points. For the updated weight, you might get different decimals."
   ]
  },
  {
   "cell_type": "code",
   "execution_count": 83,
   "metadata": {},
   "outputs": [
    {
     "name": "stdout",
     "output_type": "stream",
     "text": [
      "{'name': 'Linda', 'bride': 'labrador', 'age': 10, 'color': 'black', 'weight': 37.900000000000006, 'sex': 'female', 'toys': ['ball', 'bone', 'stuffed squirrel', 'squeaky chicken', 'knotted rope'], 'vaccined': True}\n",
      "\n",
      "Linda is a black labrador of 10 years old and 37.900000000000006 kg.\n"
     ]
    }
   ],
   "source": [
    "# This cell requires the dictionary created in exercise 3.1\n",
    "\n",
    "# Update the different items\n",
    "\n",
    "dog['age'] += 2\n",
    "dog['weight'] += 2.7\n",
    "dog['vaccined'] = True\n",
    "dog['toys'].append('squeaky chicken') \n",
    "dog['toys'].append('knotted rope')\n",
    "dog['toys'].remove('plastic bottle')\n",
    "\n",
    "# Print the ditionary\n",
    "\n",
    "print(dog)\n",
    "# Print an empty line for better legibility\n",
    "print()\n",
    "\n",
    "# Print a sentece about the dog\n",
    "print(\"{} is a {} {} of {} years old and {} kg.\".format(dog['name'], dog['color'], dog['bride'], dog['age'], dog['weight']))"
   ]
  },
  {
   "cell_type": "markdown",
   "metadata": {},
   "source": [
    "### 3.3\n",
    "How many measures start with a tied note in the vocal part?\n",
    "\n",
    "Expected result:\n",
    "\n",
    "    The vocal part has 5 measures which start with a tied note.\n",
    "\n",
    "⇒ *Hint*: to do this, you can search for notes in beat 1 which have a tie of the type `stop` or `continue`."
   ]
  },
  {
   "cell_type": "code",
   "execution_count": 89,
   "metadata": {},
   "outputs": [
    {
     "name": "stdout",
     "output_type": "stream",
     "text": [
      "The voal part has 5 measures which start with a tied note.\n"
     ]
    }
   ],
   "source": [
    "# This cell uses the nn_vocal previously defined\n",
    "\n",
    "# Initiate a counter\n",
    "ties = 0\n",
    "\n",
    "# Iterate over all notes. Check if their beat is 1. If so, check if they have a tie, and\n",
    "# if the tie is of the type stop or continue. If so, update the counter\n",
    "for n in nn_vocal:\n",
    "    if n.beat == 1:\n",
    "        if n.tie and (n.tie.type == 'stop' or n.tie.type == 'continue'):\n",
    "            ties += 1\n",
    "            \n",
    "# Print results\n",
    "print(\"The voal part has {} measures which start with a tied note.\".format(ties))\n"
   ]
  },
  {
   "cell_type": "markdown",
   "metadata": {},
   "source": [
    "### 3.4\n",
    "Check how many notes with lyrics in the vocal part are preceded by a grace note.\n",
    "\n",
    "Expected result:\n",
    "\n",
    "    In the vocal part, 15 notes with lyrics are preceded by a grace note.\n",
    "\n",
    "⇒ *Hint*: since you need to find a note with lyrics and then check the previous note to that one, you better iterate over the notes using idexing. And do not start the iteration with the first note, for the following reasons of logic: if it is the first note, it cannot be preceded by any note, and if you compute the index before the first one, that is, the one before index `0`, you will be using index `-1`, so you will retrieve the last note! Therefore, start your iteration from index `1`."
   ]
  },
  {
   "cell_type": "code",
   "execution_count": 91,
   "metadata": {},
   "outputs": [
    {
     "name": "stdout",
     "output_type": "stream",
     "text": [
      "In the vocal part, 15 notes with lyrics are preceded by a grace note.\n"
     ]
    }
   ],
   "source": [
    "# This cell uses the nn_vocal previously defined\n",
    "\n",
    "# Initiate a counter\n",
    "grace_notes = 0\n",
    "\n",
    "# Iterate over the indexes of the ntoes starting from the second one. Then check if the note\n",
    "# in the current index has a lyric. If so, check if the note in previous index is a grace\n",
    "# note. And if it is a grace note, update the counter.\n",
    "\n",
    "\n",
    "for i in range(1, len(nn_vocal)):\n",
    "    note = nn_vocal[i]\n",
    "    if note.lyric != None:\n",
    "        pre_note = nn_vocal[i-1]\n",
    "        if pre_note.quarterLength == 0:\n",
    "            grace_notes += 1\n",
    "\n",
    "# Print the results\n",
    "print(\"In the vocal part, {} notes with lyrics are preceded by a grace note.\".format(grace_notes))"
   ]
  },
  {
   "cell_type": "markdown",
   "metadata": {},
   "source": [
    "⇒ **Optional**: can you compute which percentage of the total number of notes with lyrics are preceded by a grace note?"
   ]
  },
  {
   "cell_type": "markdown",
   "metadata": {},
   "source": [
    "### 3.5\n",
    "Are there preferred pitches for singing lyrics? Create a dictionary whose keys are the pitches found in the vocal part and their values the number of times that those pitches are sung with a lyric. Then print the dictionary and the results for the first degree of the scale (E) and the for the 4th and 7th degrees (A and D#).\n",
    "\n",
    "Expected result:\n",
    "\n",
    "    {'G#': 25, 'B': 23, 'E': 24, 'F#': 18, 'C#': 17, 'D#': 7, 'A': 4}\n",
    "\n",
    "    Lyrics are sung in E in 24 occasions.\n",
    "    Lyrics are sung in A in 4 occasions.\n",
    "    Lyrics are sung in D# in 7 occasions."
   ]
  },
  {
   "cell_type": "code",
   "execution_count": 93,
   "metadata": {},
   "outputs": [
    {
     "name": "stdout",
     "output_type": "stream",
     "text": [
      "{'G#': 25, 'B': 23, 'E': 24, 'F#': 18, 'C#': 17, 'D#': 7, 'A': 4}\n",
      "\n",
      "Lyrics are sung in E in 24 occasions.\n",
      "Lyrics are sung in A in 4 occasions.\n",
      "Lyrics are sung in D# in 7 occasions.\n"
     ]
    }
   ],
   "source": [
    "# This cell uses the nn_vocal previously defined\n",
    "\n",
    "# Create an empty dictionary\n",
    "pitches = {}\n",
    "\n",
    "# Iterate over all notes. Retrieve pitch. Check if it contains a lyric. If so,\n",
    "# check if the pitch is NOT yet among the dictionary keys. If so, add the pitch\n",
    "# of the current note as key with the initial value of 1. If it is already among\n",
    "# the keys of the dictionary, update its value by 1.\n",
    "\n",
    "for n in nn_vocal:\n",
    "    n_pitch = n.name\n",
    "    if n.lyric != None:\n",
    "        if n_pitch not in pitches.keys():\n",
    "            pitches[n_pitch] = 1\n",
    "        else:\n",
    "            pitches[n_pitch] += 1\n",
    "\n",
    "\n",
    "\n",
    "# Print the ditionary\n",
    "print(pitches)\n",
    "\n",
    "# Print an empty line for better legibility\n",
    "print()\n",
    "\n",
    "# Print results for E, A and D#\n",
    "\n",
    "print(\"Lyrics are sung in E in {} occasions.\".format(pitches['E']))\n",
    "print(\"Lyrics are sung in A in {} occasions.\".format(pitches['A']))\n",
    "print(\"Lyrics are sung in D# in {} occasions.\".format(pitches['D#']))\n"
   ]
  },
  {
   "cell_type": "code",
   "execution_count": null,
   "metadata": {},
   "outputs": [],
   "source": []
  }
 ],
 "metadata": {
  "kernelspec": {
   "display_name": "Python 3",
   "language": "python",
   "name": "python3"
  },
  "language_info": {
   "codemirror_mode": {
    "name": "ipython",
    "version": 3
   },
   "file_extension": ".py",
   "mimetype": "text/x-python",
   "name": "python",
   "nbconvert_exporter": "python",
   "pygments_lexer": "ipython3",
   "version": "3.8.1"
  }
 },
 "nbformat": 4,
 "nbformat_minor": 4
}
