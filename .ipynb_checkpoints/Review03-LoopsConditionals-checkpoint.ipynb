{
 "cells": [
  {
   "cell_type": "markdown",
   "metadata": {},
   "source": [
    "# Review 3. Loops and conditionals\n",
    "This notebook reviews the use of `for` loops in combination with conditional statements, which make use of conditional expressions (reviewed in the review notebook 2) within `if`, `elif`, `else` statements, as presented in notebook 3. The loops in these exercises are mostly used with lists, including the list method `.append()`, as introduced in notebook 4."
   ]
  },
  {
   "cell_type": "markdown",
   "metadata": {},
   "source": [
    "## Exercise 1. Debugging"
   ]
  },
  {
   "cell_type": "markdown",
   "metadata": {},
   "source": [
    "### 1.1\n",
    "This is our team of 30 people. Let's see which names have more than 6 letters."
   ]
  },
  {
   "cell_type": "code",
   "execution_count": 2,
   "metadata": {},
   "outputs": [
    {
     "name": "stdout",
     "output_type": "stream",
     "text": [
      "Courtney\n",
      "Jasmine\n",
      "Antonio\n",
      "Mercedes\n",
      "Corbin\n",
      "Peyman\n",
      "Shreya\n",
      "Joachim\n",
      "Seo-yun\n",
      "Svetlana\n",
      "Venkatesh\n",
      "Xiuying\n",
      "Miguel\n",
      "Louise\n",
      "Ousmane\n"
     ]
    }
   ],
   "source": [
    "team = [\"James\", \"Courtney\", \"Made\", \"Jasmine\", \"Antonio\", \"Karim\", \"Mercedes\", \"Corbin\", \"Jane\", \"Peyman\", \"Shreya\", \"Yiqun\", \"Judy\", \"Joachim\", \"Hawa\", \"Seo-yun\", \"Svetlana\", \"Venkatesh\", \"Jane\", \"Awad\", \"Xiuying\", \"Miguel\", \"Louise\", \"Jane\", \"James\", \"Olga\", \"Ahmed\", \"Ousmane\", \"James\", \"Jane\"]\n",
    "\n",
    "for name in team:\n",
    "    # Check if the word is equal or longer than 6 letters\n",
    "    if len(name) >= 6:\n",
    "        print(name)"
   ]
  },
  {
   "cell_type": "markdown",
   "metadata": {},
   "source": [
    "### 1.2\n",
    "Now, let's print those names that start with `\"J\"`."
   ]
  },
  {
   "cell_type": "code",
   "execution_count": 4,
   "metadata": {},
   "outputs": [
    {
     "name": "stdout",
     "output_type": "stream",
     "text": [
      "James\n",
      "Jasmine\n",
      "Jane\n",
      "Judy\n",
      "Joachim\n",
      "Jane\n",
      "Jane\n",
      "James\n",
      "James\n",
      "Jane\n"
     ]
    }
   ],
   "source": [
    "# The variable team from the previous cell is used here\n",
    "\n",
    "for name in team:\n",
    "    # Check if the first letter is equal to \"J\"\n",
    "    if name[0] == \"J\":\n",
    "        print(name)"
   ]
  },
  {
   "cell_type": "markdown",
   "metadata": {},
   "source": [
    "### 1.3\n",
    "Among those that start with `\"J\"` there are some repeated names. To avoid repetitions, let's save the names first in a new list."
   ]
  },
  {
   "cell_type": "code",
   "execution_count": 6,
   "metadata": {},
   "outputs": [
    {
     "name": "stdout",
     "output_type": "stream",
     "text": [
      "James\n",
      "Jasmine\n",
      "Jane\n",
      "Judy\n",
      "Joachim\n",
      "Jane\n",
      "Jane\n",
      "James\n",
      "James\n",
      "Jane\n"
     ]
    }
   ],
   "source": [
    "# The variable team from before is used here\n",
    "\n",
    "# An empty list is create to store the names that start with \"J\"\n",
    "j_names = []\n",
    "\n",
    "for name in team:\n",
    "    # Check if the first letter is equal to \"J\"\n",
    "    if name[0] == \"J\":\n",
    "        # Append the name to the j_names list using the .append() method\n",
    "        j_names.append(name)\n",
    "\n",
    "# Print all the names in the j_names list one by one\n",
    "for j_name in j_names:\n",
    "    print(j_name)"
   ]
  },
  {
   "cell_type": "markdown",
   "metadata": {},
   "source": [
    "### 1.4\n",
    "Now, before appending the name that starts with `\"J\"` to the `j_names` list, check first if that name is NOT already included in that list. This requires an `if` statement **nested** within another `if` statement. Pay attention to indentation!"
   ]
  },
  {
   "cell_type": "code",
   "execution_count": 15,
   "metadata": {},
   "outputs": [
    {
     "name": "stdout",
     "output_type": "stream",
     "text": [
      "In our team, there are 5 names that start with J.\n",
      "- James\n",
      "- Jasmine\n",
      "- Jane\n",
      "- Judy\n",
      "- Joachim\n"
     ]
    }
   ],
   "source": [
    "# The variable team from before is used here\n",
    "\n",
    "# An empty list is create to store the names that start with \"J\"\n",
    "j_names = []\n",
    "\n",
    "for name in team:\n",
    "    # Check if the first letter is equal to \"J\"\n",
    "    if name[0] == \"J\":\n",
    "        # Check that the name is NOT already in the j_names list\n",
    "        if name not in j_names:\n",
    "            # Append the name to the j_names list using the .append() method\n",
    "            j_names.append(name)\n",
    "            \n",
    "# Print how many names start with \"J\"\n",
    "print(\"In our team, there are {} names that start with J.\".format(len(j_names)))\n",
    "\n",
    "# Print all the names in the j_names list one by one\n",
    "for j_name in j_names:\n",
    "    print(\"-\", j_name)"
   ]
  },
  {
   "cell_type": "markdown",
   "metadata": {},
   "source": [
    "### 1.5\n",
    "Now we know that there are 5 names that start with `\"J\"`. But, how many people are called with any of these names? Let's count them"
   ]
  },
  {
   "cell_type": "code",
   "execution_count": 18,
   "metadata": {},
   "outputs": [
    {
     "name": "stdout",
     "output_type": "stream",
     "text": [
      "In our team, there are 5 names that start with J.\n",
      "- James\n",
      "- Jasmine\n",
      "- Jane\n",
      "- Judy\n",
      "- Joachim\n",
      "In our team, 10 people has a name that starts with J.\n"
     ]
    }
   ],
   "source": [
    "# The variable team from before is used here\n",
    "\n",
    "# An empty list is create to store the names that start with \"J\"\n",
    "j_names = []\n",
    "# Start a counter at 0\n",
    "j_people = 0\n",
    "\n",
    "for name in team:\n",
    "    # Check if the first letter is equal to \"J\"\n",
    "    if name[0] == \"J\":\n",
    "        # Update the counter\n",
    "        j_people += 1\n",
    "        # Check that the name is NOT already in the j_names list\n",
    "        if name not in j_names:\n",
    "            # Append the name to the j_names list using the .append() method\n",
    "            j_names.append(name)\n",
    "            \n",
    "# Print how many names start with \"J\"\n",
    "print(\"In our team, there are {} names that start with J.\".format(len(j_names)))\n",
    "\n",
    "# Print all the names in the j_names list one by one\n",
    "for j_name in j_names:\n",
    "    print(\"-\", j_name)\n",
    "    \n",
    "# Print how many people has any of those names\n",
    "print(\"In our team, {} people has a name that starts with J.\".format(j_people))"
   ]
  },
  {
   "cell_type": "markdown",
   "metadata": {},
   "source": [
    "### 1.6\n",
    "But, how many people has each of these names? Now that we know the names that start with `\"J\"`, let's count it."
   ]
  },
  {
   "cell_type": "code",
   "execution_count": 24,
   "metadata": {},
   "outputs": [
    {
     "name": "stdout",
     "output_type": "stream",
     "text": [
      "In our team:\n",
      "- 3 people are called James\n",
      "- 1 person is called Jasmine\n",
      "- 4 people are called Jane\n",
      "- 1 person is called Judy\n",
      "- 1 person is called Joachim\n"
     ]
    }
   ],
   "source": [
    "# The variable team from before is used here\n",
    "\n",
    "# Start a counter per name\n",
    "james = 0\n",
    "jasmine = 0\n",
    "jane = 0\n",
    "judy = 0\n",
    "joachim = 0\n",
    "\n",
    "for name in team:\n",
    "    if name == \"James\":\n",
    "        james += 1\n",
    "    elif name == \"Jasmine\":\n",
    "        jasmine += 1\n",
    "    elif name == \"Jane\":\n",
    "        jane += 1\n",
    "    elif name == \"Judy\":\n",
    "        judy += 1\n",
    "    elif name == \"Joachim\":\n",
    "        joachim += 1\n",
    "        \n",
    "print(\"In our team:\")\n",
    "print(\"- {} people are called James\".format(james))\n",
    "print(\"- {} person is called Jasmine\".format(jasmine))\n",
    "print(\"- {} people are called Jane\".format(jane))\n",
    "print(\"- {} person is called Judy\".format(judy))\n",
    "print(\"- {} person is called Joachim\".format(joachim))"
   ]
  },
  {
   "cell_type": "markdown",
   "metadata": {},
   "source": [
    "### 1.7\n",
    "Finally, how many people has a name that doesn't start with `\"J\"`. Let's complete the code in the previous cell."
   ]
  },
  {
   "cell_type": "code",
   "execution_count": 29,
   "metadata": {},
   "outputs": [
    {
     "name": "stdout",
     "output_type": "stream",
     "text": [
      "In our team:\n",
      "- 3 people are called James\n",
      "- 1 people are called Jasmine\n",
      "- 4 people are called Jane\n",
      "- 1 people are called Judy\n",
      "- 1 people are called Joachim\n",
      "- 20 people have names that don't start with J\n"
     ]
    }
   ],
   "source": [
    "# The variable team from before is used here\n",
    "\n",
    "# Start a counter per \"J\" name\n",
    "james = 0\n",
    "jasmine = 0\n",
    "jane = 0\n",
    "judy = 0\n",
    "joachim = 0\n",
    "# Start a counter for non \"J\" names\n",
    "others = 0\n",
    "\n",
    "for name in team:\n",
    "    if name == \"James\":\n",
    "        james += 1\n",
    "    elif name == \"Jasmine\":\n",
    "        jasmine += 1\n",
    "    elif name == \"Jane\":\n",
    "        jane += 1\n",
    "    elif name == \"Judy\":\n",
    "        judy += 1\n",
    "    elif name == \"Joachim\":\n",
    "        joachim += 1\n",
    "    else:\n",
    "        others += 1\n",
    "        \n",
    "print(\"In our team:\")\n",
    "print(\"- {} people are called James\".format(james))\n",
    "print(\"- {} people are called Jasmine\".format(jasmine))\n",
    "print(\"- {} people are called Jane\".format(jane))\n",
    "print(\"- {} people are called Judy\".format(judy))\n",
    "print(\"- {} people are called Joachim\".format(joachim))\n",
    "print(\"- {} people have names that don't start with J\".format(others))"
   ]
  },
  {
   "cell_type": "markdown",
   "metadata": {},
   "source": [
    "## 1.8\n",
    "This is the list of ages of our team. They are listed in the same order as the names, so that we can know how old is each member of our team. Let's see how many childrens (under 12), teenagers (all those whose age ends in \"teen\") and adults are present in our group."
   ]
  },
  {
   "cell_type": "code",
   "execution_count": 31,
   "metadata": {},
   "outputs": [
    {
     "name": "stdout",
     "output_type": "stream",
     "text": [
      "Our team has 6 children, 18 teenagers, and 6 adults.\n"
     ]
    }
   ],
   "source": [
    "ages = [15, 18, 17, 12, 19, 21, 16, 15, 8, 23, 18, 11, 18, 25, 14, 18, 9, 10, 17, 19, 15, 13, 15, 11, 20, 18, 14, 17, 22, 18]\n",
    "\n",
    "# Counters\n",
    "children = 0\n",
    "teens = 0\n",
    "adults = 0\n",
    "\n",
    "for age in ages:\n",
    "    if age <= 12:\n",
    "        children += 1\n",
    "    elif age > 13 and age <= 19:\n",
    "        teens += 1\n",
    "    else:\n",
    "        adults += 1\n",
    "        \n",
    "print(\"Our team has {} children, {} teenagers, and {} adults.\".format(children, teens, adults))"
   ]
  },
  {
   "cell_type": "markdown",
   "metadata": {},
   "source": [
    "### 1.9\n",
    "Combining the `team` and `ages` lists, and assuming that the names and ages are in the same order, we can know the ages of the people whose name starts with `\"J\"`."
   ]
  },
  {
   "cell_type": "code",
   "execution_count": 34,
   "metadata": {},
   "outputs": [
    {
     "name": "stdout",
     "output_type": "stream",
     "text": [
      "James is 15 years old.\n",
      "Jasmine is 12 years old.\n",
      "Jane is 8 years old.\n",
      "Judy is 18 years old.\n",
      "Joachim is 25 years old.\n",
      "Jane is 17 years old.\n",
      "Jane is 11 years old.\n",
      "James is 20 years old.\n",
      "James is 22 years old.\n",
      "Jane is 18 years old.\n"
     ]
    }
   ],
   "source": [
    "# The variables team and ages from previous cells are used here\n",
    "\n",
    "for i in range(len(team)):\n",
    "    name = team[i]\n",
    "    age = ages[i]\n",
    "    if name[0] == \"J\":\n",
    "        print(\"{} is {} years old.\".format(name, age))"
   ]
  },
  {
   "cell_type": "markdown",
   "metadata": {},
   "source": [
    "### 1.10\n",
    "Now we can know how many children, teenagers and adults have a name that start with `\"J\"`."
   ]
  },
  {
   "cell_type": "code",
   "execution_count": 36,
   "metadata": {},
   "outputs": [
    {
     "name": "stdout",
     "output_type": "stream",
     "text": [
      "In our team, there are 3 children, 4 teenagers and 3 adults whose name starts with J.\n"
     ]
    }
   ],
   "source": [
    "# The variables team and ages from previous cells are used here\n",
    "\n",
    "j_children = 0\n",
    "j_teens = 0\n",
    "j_adults = 0\n",
    "\n",
    "for i in range(len(team)):\n",
    "    name = team[i]\n",
    "    age = ages[i]\n",
    "    if name[0] == \"J\":\n",
    "        if age <= 12:\n",
    "            j_children += 1\n",
    "        elif age > 13 and age <= 19:\n",
    "            j_teens += 1\n",
    "        else:\n",
    "            j_adults += 1\n",
    "\n",
    "print(\"In our team, there are {} children, {} teenagers and {} adults whose name starts with J.\".format(j_children, j_teens, j_adults))"
   ]
  },
  {
   "cell_type": "markdown",
   "metadata": {},
   "source": [
    "### 1.11\n",
    "Let's now see exactly who among those whose name start with `\"J\"` is a child, a teenager or an adult."
   ]
  },
  {
   "cell_type": "code",
   "execution_count": 41,
   "metadata": {},
   "outputs": [
    {
     "name": "stdout",
     "output_type": "stream",
     "text": [
      "In our team\n",
      "the children whose name starts with J are:\n",
      "-  Jasmine\n",
      "-  Jane\n",
      "-  Jane\n",
      "the teenagers whose name starts with J are:\n",
      "-  James\n",
      "-  Judy\n",
      "-  Jane\n",
      "-  Jane\n",
      "the adults whose name starts with J are:\n",
      "- Joachim\n",
      "- James\n",
      "- James\n"
     ]
    }
   ],
   "source": [
    "# The variables team and ages from previous cells are used here\n",
    "\n",
    "j_children = []\n",
    "j_teens = []\n",
    "j_adults = []\n",
    "\n",
    "for i in range(len(team)):  # Loop over the indexes\n",
    "    name = team[i]          # Use the index in the list team to get the name\n",
    "    age = ages[i]           # Use the same index in the list age to get the age of that person\n",
    "    if name[0] == \"J\":\n",
    "        if age <= 12:\n",
    "            j_children.append(name)\n",
    "        elif age > 13 and age <= 19:\n",
    "            j_teens.append(name)\n",
    "        else:\n",
    "            j_adults.append(name)\n",
    "            \n",
    "print(\"In our team\")\n",
    "\n",
    "print(\"the children whose name starts with J are:\")\n",
    "for child in j_children:\n",
    "    print(\"- \", child)\n",
    "\n",
    "print(\"the teenagers whose name starts with J are:\")\n",
    "for teen in j_teens:\n",
    "    print(\"- \", teen)\n",
    "\n",
    "print(\"the adults whose name starts with J are:\")\n",
    "for adult in j_adults:\n",
    "    print(\"- {}\".format(adult))"
   ]
  },
  {
   "cell_type": "markdown",
   "metadata": {},
   "source": [
    "### 1.12\n",
    "Let's divide the names of our team between those that ends in vowel, nasal consonant, and the others."
   ]
  },
  {
   "cell_type": "code",
   "execution_count": 43,
   "metadata": {},
   "outputs": [
    {
     "name": "stdout",
     "output_type": "stream",
     "text": [
      "In our team\n",
      "there are 13 names that end with a vowel:\n",
      "['Made', 'Jasmine', 'Antonio', 'Jane', 'Shreya', 'Hawa', 'Svetlana', 'Jane', 'Louise', 'Jane', 'Olga', 'Ousmane', 'Jane']\n",
      "there are 13 names that end with a nasal:\n",
      "['Karim', 'Corbin', 'Peyman', 'Yiqun', 'Joachim', 'Seo-yun']\n",
      "and the remaining 11 names end with another consonant:\n",
      "['James', 'Courtney', 'Mercedes', 'Judy', 'Venkatesh', 'Awad', 'Xiuying', 'Miguel', 'James', 'Ahmed', 'James']\n"
     ]
    }
   ],
   "source": [
    "# The variable team from the first cell is used here\n",
    "\n",
    "# reference variables\n",
    "vowels = \"aeiou\"\n",
    "nasals = \"mn\"\n",
    "\n",
    "# empty lists\n",
    "end_vowels = []\n",
    "end_nasals = []\n",
    "end_others = []\n",
    "\n",
    "for name in team:\n",
    "    if name[-1] in vowels:\n",
    "        end_vowels.append(name)\n",
    "    elif name[-1] in nasals:\n",
    "        end_nasals.append(name)\n",
    "    else:\n",
    "        end_others.append(name)\n",
    "\n",
    "print(\"In our team\")\n",
    "print(\"there are {} names that end with a vowel:\".format(len(end_vowels)))\n",
    "print(end_vowels)\n",
    "print(\"there are {} names that end with a nasal:\".format(len(end_vowels)))\n",
    "print(end_nasals)\n",
    "print(\"and the remaining {} names end with another consonant:\".format(len(end_others)))\n",
    "print(end_others)"
   ]
  },
  {
   "cell_type": "markdown",
   "metadata": {},
   "source": [
    "### 1.13\n",
    "Let's see how the previous name division occurs specifically among the teenagers in our team."
   ]
  },
  {
   "cell_type": "code",
   "execution_count": 45,
   "metadata": {},
   "outputs": [
    {
     "name": "stdout",
     "output_type": "stream",
     "text": [
      "Among the teenagers in our team\n",
      "there are 9 of them whose name ends with a vowel:\n",
      "['Made', 'Antonio', 'Shreya', 'Hawa', 'Jane', 'Louise', 'Olga', 'Ousmane', 'Jane']\n",
      "there are 2 of them whose name ends with a nasal:\n",
      "['Corbin', 'Seo-yun']\n",
      "there are 8 of them whose name ends with another consonant:\n",
      "['James', 'Courtney', 'Mercedes', 'Judy', 'Awad', 'Xiuying', 'Miguel', 'Ahmed']\n"
     ]
    }
   ],
   "source": [
    "# Variables team, ages, vowels, and nasals from previous cells are used here\n",
    "\n",
    "teen_vowels = []\n",
    "teen_nasals = []\n",
    "teen_others = []\n",
    "\n",
    "for i in range(len(ages)):\n",
    "    age = ages[i]\n",
    "    name = team[i]\n",
    "    if age >= 13 and age <= 19:\n",
    "        if name[-1] in vowels:\n",
    "            teen_vowels.append(name)\n",
    "        elif name[-1] in nasals:\n",
    "            teen_nasals.append(name)\n",
    "        else:\n",
    "            teen_others.append(name)\n",
    "\n",
    "print(\"Among the teenagers in our team\")\n",
    "print(\"there are {} of them whose name ends with a vowel:\".format(len(teen_vowels)))\n",
    "print(teen_vowels)\n",
    "print(\"there are {} of them whose name ends with a nasal:\".format(len(teen_nasals)))\n",
    "print(teen_nasals)\n",
    "print(\"there are {} of them whose name ends with another consonant:\".format(len(teen_others)))\n",
    "print(teen_others)"
   ]
  },
  {
   "cell_type": "markdown",
   "metadata": {},
   "source": [
    "### 1.14\n",
    "Let's look for the oldest and youngest in our team. This is one way to do that. Let's start by finding the oldest. We create a variable for saving the oldest age. Then, we iterate over all the ages, and in each iteration we check if the current age is higher than the one saved in the variable. If it is not higher, we do nothing and let the loop move to the next iteration. But if the current age is higher, then we assign that age to the variable. To start this variable, we can assign the first age in the list. And with respect to the youngest, we do the same, but checking every time if the current age is lower than the one saved in its corresponding variable. And do not forget that we want to know who is the oldest and the youngest. So we will iterate over the indexes, and every time we find that the current year is higher than the oldest or lower than the youngest, we will assign the corresponding name (the name in the same index position) to a pre-defined variable."
   ]
  },
  {
   "cell_type": "code",
   "execution_count": 48,
   "metadata": {},
   "outputs": [
    {
     "name": "stdout",
     "output_type": "stream",
     "text": [
      "The oldest person in our team is Joachim at 25 years old,\n",
      "and the youngest is Jane at 8 years old.\n"
     ]
    }
   ],
   "source": [
    "# Variables team and ages from previous cells are used here\n",
    "\n",
    "# Define the variables with the first person, just to start comparing\n",
    "oldest_age = ages[0]\n",
    "oldest_person = team[0]\n",
    "\n",
    "youngest_age = ages[0]\n",
    "youngest_person = team[0]\n",
    "\n",
    "for i in range(1, len(ages)):    # Since we have the first person in the variables above, and we don't need to compare him/her with him/herself, we start the iteration from the second index\n",
    "    current_age = ages[i]\n",
    "    current_name = team[i]\n",
    "    if current_age > oldest_age:\n",
    "        oldest_age = current_age\n",
    "        oldest_person = current_name\n",
    "    if current_age < youngest_age:\n",
    "        youngest_age = current_age\n",
    "        youngest_person = current_name\n",
    "\n",
    "print(\"The oldest person in our team is {} at {} years old,\".format(oldest_person, oldest_age))\n",
    "print(\"and the youngest is {} at {} years old.\".format(youngest_person, youngest_age))"
   ]
  },
  {
   "cell_type": "markdown",
   "metadata": {},
   "source": [
    "### 1.15\n",
    "Finally, lets divide our team in three groups. We'll just go in order and assign each person to a differnt group: the first person to group A, the second to group B, the third to group C, the fourth again to group A, the fifth to group B, etc. To do that, we can iterate over the indexes of the list, divide the index by 3 and look at the remainder, when it is `0` the corresponding person is assigned to group A, when the remainder is `1` the corresponding person is assigned to group B and if it is `2` is assigned to group C. (Notice that dividing by 3 there cannot be other remainders).\n",
    "\n",
    "And let's see the mean age of each group."
   ]
  },
  {
   "cell_type": "code",
   "execution_count": 50,
   "metadata": {},
   "outputs": [
    {
     "name": "stdout",
     "output_type": "stream",
     "text": [
      "Group A has the following members:\n",
      "- James\n",
      "- Jasmine\n",
      "- Mercedes\n",
      "- Peyman\n",
      "- Judy\n",
      "- Seo-yun\n",
      "- Jane\n",
      "- Miguel\n",
      "- James\n",
      "- Ousmane\n",
      "\n",
      "Group B has the following members:\n",
      "- Courtney\n",
      "- Antonio\n",
      "- Corbin\n",
      "- Shreya\n",
      "- Joachim\n",
      "- Svetlana\n",
      "- Awad\n",
      "- Louise\n",
      "- Olga\n",
      "- James\n",
      "\n",
      "Group C has the following members:\n",
      "- Made\n",
      "- Karim\n",
      "- Jane\n",
      "- Yiqun\n",
      "- Hawa\n",
      "- Venkatesh\n",
      "- Xiuying\n",
      "- Jane\n",
      "- Ahmed\n",
      "- Jane\n"
     ]
    }
   ],
   "source": [
    "# Variables team and ages from previous cells are used here\n",
    "\n",
    "# Empty lists for groups\n",
    "group_A = []\n",
    "group_B = []\n",
    "group_C = []\n",
    "\n",
    "for i in range(len(team)):\n",
    "    name = team[i]\n",
    "    if i%3 == 0:\n",
    "        group_A.append(name)\n",
    "    elif i%3 == 1:\n",
    "        group_B.append(name)\n",
    "    elif i%3 == 2:\n",
    "        group_C.append(name)\n",
    "\n",
    "print(\"Group A has the following members:\")\n",
    "for a in group_A:\n",
    "    print(\"-\", a)\n",
    "\n",
    "print()\n",
    "\n",
    "print(\"Group B has the following members:\")\n",
    "for b in group_B:\n",
    "      print(\"-\", b)\n",
    "\n",
    "print()\n",
    "\n",
    "print(\"Group C has the following members:\")\n",
    "for c in group_C:\n",
    "      print(\"-\", c)"
   ]
  },
  {
   "cell_type": "markdown",
   "metadata": {},
   "source": [
    "## Exercise 2. Flawed logic\n",
    "All the following scripts work. Well, they don't return an error. However, they don't do what they are supposed to do. And this is going to happen to you (as it happens to all programmers)! During your research, you will write a piece of code that will work (I mean, it won't return an error), but this doesn't mean that the code is returning what it should. For example, if you want to compute the square of a number and you write `5 * 2`, this code is *grammatically* correct and will give you a result: `10`. But it is not correct *logically*! The square of `5` is `25`. You just forgot to write a second `*`, the code should be: `5 ** 2`.\n",
    "\n",
    "There are many ways to check the validity of the results of your code. In fact, evaluation is a whole section of computational work. But for now, for these simple scripts, let's just try to predict the output. That is, if I write a code to compute the square of a number, and I input `5`, I should return `25`. If I get other result, then something is not correct in the code.\n",
    "\n",
    "And this is what happens with the following pieces of code! They work, but not as they should. So read the purpose of each code, try to predict the output, see if the output is what it should be, and look for the problems. There might be more than one!"
   ]
  },
  {
   "cell_type": "markdown",
   "metadata": {},
   "source": [
    "### 2.1\n",
    "Let's check how many names in our team start with `\"A\"`."
   ]
  },
  {
   "cell_type": "code",
   "execution_count": 52,
   "metadata": {},
   "outputs": [
    {
     "name": "stdout",
     "output_type": "stream",
     "text": [
      "Antonio\n",
      "Awad\n",
      "Ahmed\n"
     ]
    }
   ],
   "source": [
    "team = [\"James\", \"Courtney\", \"Made\", \"Jasmine\", \"Antonio\", \"Karim\", \"Mercedes\", \"Corbin\", \"Jane\", \"Peyman\", \"Shreya\", \"Yiqun\", \"Judy\", \"Joachim\", \"Hawa\", \"Seo-yun\", \"Svetlana\", \"Venkatesh\", \"Jane\", \"Awad\", \"Xiuying\", \"Miguel\", \"Louise\", \"Jane\", \"James\", \"Olga\", \"Ahmed\", \"Ousmane\", \"James\", \"Jane\"]\n",
    "ages = [15, 18, 17, 12, 19, 21, 16, 15, 8, 23, 18, 11, 18, 25, 14, 18, 9, 10, 17, 19, 15, 13, 15, 11, 20, 18, 14, 17, 22, 18]\n",
    "\n",
    "for name in team:\n",
    "    if name[0] == \"A\":\n",
    "        print(name)"
   ]
  },
  {
   "cell_type": "markdown",
   "metadata": {},
   "source": [
    "### 2.2\n",
    "Let's see how many names start with vowels."
   ]
  },
  {
   "cell_type": "code",
   "execution_count": 58,
   "metadata": {},
   "outputs": [
    {
     "name": "stdout",
     "output_type": "stream",
     "text": [
      "There are 5 names that start with a vowel.\n"
     ]
    }
   ],
   "source": [
    "# The variable team from the previous cell is used here\n",
    "\n",
    "# A reference string with all vowels\n",
    "vowels = \"AEIOU\"\n",
    "\n",
    "# Counter\n",
    "v_names = 0\n",
    "\n",
    "for name in team:\n",
    "    if name[0] in vowels:\n",
    "        v_names += 1\n",
    "\n",
    "print(\"There are {} names that start with a vowel.\".format(v_names))"
   ]
  },
  {
   "cell_type": "markdown",
   "metadata": {},
   "source": [
    "### 2.3\n",
    "Now let's see which are the names that start with a vowel."
   ]
  },
  {
   "cell_type": "code",
   "execution_count": 61,
   "metadata": {},
   "outputs": [
    {
     "name": "stdout",
     "output_type": "stream",
     "text": [
      "In our team, the names that start with a vowel are:\n",
      "- Antonio\n",
      "- Awad\n",
      "- Olga\n",
      "- Ahmed\n",
      "- Ousmane\n"
     ]
    }
   ],
   "source": [
    "# The variable team from before is used here\n",
    "\n",
    "# A reference string with all vowels\n",
    "vowels = \"AEIOU\"\n",
    "\n",
    "# An empty list to save the names that start with a vowel\n",
    "v_names = []\n",
    "\n",
    "for name in team:\n",
    "    if name[0] in vowels:\n",
    "        v_names.append(name)\n",
    "        \n",
    "print(\"In our team, the names that start with a vowel are:\")\n",
    "\n",
    "for n in v_names:\n",
    "    print(\"-\", n)"
   ]
  },
  {
   "cell_type": "markdown",
   "metadata": {},
   "source": [
    "### 2.4\n",
    "Is there a name among the people in our team, whose number of letters exactly is half of his/her age?"
   ]
  },
  {
   "cell_type": "code",
   "execution_count": 67,
   "metadata": {},
   "outputs": [
    {
     "name": "stdout",
     "output_type": "stream",
     "text": [
      "We have found 2 people:\n",
      "- 'Mercedes' has 8 letters, and is 16 years old.\n",
      "- 'Jane' has 4 letters, and is 8 years old.\n"
     ]
    }
   ],
   "source": [
    "# The variables team and ages from previous cells are used here\n",
    "\n",
    "found_names = []\n",
    "found_ages = []\n",
    "\n",
    "for i in range(len(team)):\n",
    "    name = team[i]\n",
    "    age = ages[i]\n",
    "    if len(name) == age/2:\n",
    "        found_names.append(name)\n",
    "        found_ages.append(age)\n",
    "        \n",
    "print(\"We have found {} people:\".format(len(found_names)))\n",
    "for a in range(len(found_names)):\n",
    "    found_name = found_names[a]\n",
    "    found_age = found_ages[a]\n",
    "    print(\"- '{}' has {} letters, and is {} years old.\".format(found_name, len(found_name), found_age))"
   ]
  },
  {
   "cell_type": "markdown",
   "metadata": {},
   "source": [
    "### 2.5\n",
    "Let's compute the mean age of children, teenagers and adults in our team."
   ]
  },
  {
   "cell_type": "code",
   "execution_count": 72,
   "metadata": {},
   "outputs": [
    {
     "name": "stdout",
     "output_type": "stream",
     "text": [
      "In our team:\n",
      "- the mean age of the 6 children is 10.17 years old,\n",
      "- the mean age of the 19 teenagers is 52.33 years old,\n",
      "- the mean age of the 5 adults is 22.20 years old,\n"
     ]
    }
   ],
   "source": [
    "# The variables team and ages from previous cells are used here\n",
    "\n",
    "# First, save all the ages for each age range in specific list\n",
    "children_ages = []\n",
    "teens_ages = []\n",
    "adults_ages = []\n",
    "\n",
    "for age in ages:\n",
    "    if age <= 12:\n",
    "        children_ages.append(age)\n",
    "    elif age >= 13 and age <= 19:\n",
    "        teens_ages.append(age)\n",
    "    else:\n",
    "        adults_ages.append(age)\n",
    "\n",
    "# Second, get add up all the ages\n",
    "children_total = 0\n",
    "for child_age in children_ages:\n",
    "    children_total += child_age\n",
    "    \n",
    "teens_total = 0\n",
    "for teen_age in teens_ages:\n",
    "    teens_total += teen_age\n",
    "\n",
    "adults_total = 0\n",
    "for adult_age in adults_ages:\n",
    "    adults_total += adult_age\n",
    "    \n",
    "# Third, divide the total by the number of ages\n",
    "children_mean = children_total / len(children_ages)\n",
    "teens_mean = teens_total / len(children_ages)\n",
    "adults_mean = adults_total / len(adults_ages)\n",
    "\n",
    "# Print results\n",
    "print(\"In our team:\")\n",
    "print(\"- the mean age of the {} children is {:.2f} years old,\".format(len(children_ages), children_mean))\n",
    "print(\"- the mean age of the {} teenagers is {:.2f} years old,\".format(len(teens_ages), teens_mean))\n",
    "print(\"- the mean age of the {} adults is {:.2f} years old,\".format(len(adults_ages), adults_mean))"
   ]
  },
  {
   "cell_type": "markdown",
   "metadata": {},
   "source": [
    "### 2.6\n",
    "I want to organize my expenses. So I put all the expenses of this week in a list, and I want to divide them into small, medium and large expenses, and see how many of them are there and what is the total for each"
   ]
  },
  {
   "cell_type": "code",
   "execution_count": 75,
   "metadata": {},
   "outputs": [
    {
     "name": "stdout",
     "output_type": "stream",
     "text": [
      "I had 15 small expenses, summing a total of 106.18 euros.\n",
      "I had 3 medium expenses, summing a total of 96.02 euros.\n",
      "I had 2 large expenses, summing a total of 215.93 euros.\n"
     ]
    }
   ],
   "source": [
    "expenses = [6, 12.50, 1.50, 23, 8, 3.25, 31.70, 4, 7.75, 88.10, 1.50, 41.32, 8, 15.50, 2, 127.83, 5.15, 1.50, 18.33, 11.20]\n",
    "\n",
    "# Empty variables\n",
    "small = []\n",
    "medium = []\n",
    "large = []\n",
    "\n",
    "for expense in expenses:\n",
    "    if expense < 20:\n",
    "        small.append(expense)\n",
    "    elif expense >= 20 and expense < 50:\n",
    "        medium.append(expense)\n",
    "    else:\n",
    "        large.append(expense)\n",
    "\n",
    "# Counters\n",
    "small_total = 0\n",
    "medium_total = 0\n",
    "large_total = 0\n",
    "\n",
    "for s in small:\n",
    "    small_total += s\n",
    "    \n",
    "for m in medium:\n",
    "    medium_total += m\n",
    "    \n",
    "for l in large:\n",
    "    large_total += l\n",
    "\n",
    "print(\"I had {} small expenses, summing a total of {:.2f} euros.\".format(len(small), small_total))\n",
    "print(\"I had {} medium expenses, summing a total of {:.2f} euros.\".format(len(medium), medium_total))\n",
    "print(\"I had {} large expenses, summing a total of {:.2f} euros.\".format(len(large), large_total))"
   ]
  },
  {
   "cell_type": "markdown",
   "metadata": {},
   "source": [
    "### 2.7\n",
    "I know that I frequently buy bottles of water that cost `1.50` euros, burgers that cost `8` euros and pizzas that cost `12` euros. Let's find out how many bottles of water and burgers I bought in this last period."
   ]
  },
  {
   "cell_type": "code",
   "execution_count": 77,
   "metadata": {},
   "outputs": [
    {
     "name": "stdout",
     "output_type": "stream",
     "text": [
      "In this last period:\n",
      "- I bought 3 bottles of water\n",
      "- I bought 2 burgers\n",
      "- I didn't buy any pizza\n"
     ]
    }
   ],
   "source": [
    "# The expenses variable from the previous cell is used here\n",
    "\n",
    "water = 0\n",
    "burgers = 0\n",
    "pizzas = 0\n",
    "\n",
    "for expense in expenses:\n",
    "    if expense == 1.50:\n",
    "        water += 1\n",
    "    elif expense == 8:\n",
    "        burgers += 1\n",
    "    elif expense == 12:\n",
    "        pizzas += 1\n",
    "        \n",
    "# Print results\n",
    "print(\"In this last period:\")\n",
    "\n",
    "if water > 0:\n",
    "    print(\"- I bought {} bottles of water\".format(water))\n",
    "else:\n",
    "    print(\"- I didn't buy any bottle of water\")\n",
    "\n",
    "if burgers > 0:\n",
    "    print(\"- I bought {} burgers\".format(burgers))\n",
    "else:\n",
    "    print(\"- I didn't buy any burger\")\n",
    "    \n",
    "if pizzas > 0:\n",
    "    print(\"- I bought {} pizzas\".format(pizzas))\n",
    "else:\n",
    "    print(\"- I didn't buy any pizza\")"
   ]
  },
  {
   "cell_type": "markdown",
   "metadata": {},
   "source": [
    "### 2.9\n",
    "I have a list of notes forming a melody. Each note is a string with two parts, first a number indicating the duration, and second the pitch class. The duration is indicated with a one digit number that takes the **eighth note as duration unit**: so `1` is an eighth note, `2` a quarter note, `3` a dotted quarted note, and so on. The pitch class is indicated by the English letters, with an accidental if needed.\n",
    "\n",
    "Let's see how many different note values we have in our melody.\n",
    "\n",
    "⇒ **Note**: the following code has many mistakes in its logic. Please understand first how the melody is encoded, what the number of the duration means, and what the code aims to do. Try to predict the result, to see if what is printed as ouput is correct."
   ]
  },
  {
   "cell_type": "code",
   "execution_count": 82,
   "metadata": {},
   "outputs": [
    {
     "name": "stdout",
     "output_type": "stream",
     "text": [
      "\n",
      "This melody has:\n",
      "- 0 whole notes\n",
      "- 4 half notes\n",
      "- 18 quarter notes\n",
      "- 2 eighth notes\n",
      "- also 2 dotted quarter notes\n"
     ]
    }
   ],
   "source": [
    "melody = ['4F#', '2G', '2A', '2A', '2G', '2F#', '2E', '4D', '2E', '2F#', '3F#', '1E', '2E', '4F#', '2G', '2A', '2A', '2G', '2F#', '2E', '4D', '2E', '2F#', '3E', '1D', '2D']\n",
    "\n",
    "whole_notes = 0\n",
    "half_notes = 0\n",
    "quarter_notes = 0\n",
    "eighth_notes = 0\n",
    "dottedQuarter_notes = 0\n",
    "\n",
    "for note in melody:\n",
    "    duration = note[0]\n",
    "    if duration == \"1\":\n",
    "        eighth_notes += 1\n",
    "    elif duration == \"2\":\n",
    "        quarter_notes += 1\n",
    "    elif duration == \"3\":\n",
    "        dottedQuarter_notes += 1\n",
    "    elif duration == \"4\":\n",
    "        half_notes += 1\n",
    "    elif duration == \"8\":\n",
    "        whole_notes +=1\n",
    "    # Let's print a warning message if a note is found with a different duration to the previous ones\n",
    "  #  else:\n",
    "       # print(\"WARNING: Note {} has a special duration\".format(note))\n",
    "\n",
    "print()\n",
    "print(\"This melody has:\")\n",
    "print(\"- {} whole notes\".format(whole_notes))\n",
    "print(\"- {} half notes\".format(half_notes))\n",
    "print(\"- {} quarter notes\".format(quarter_notes))\n",
    "print(\"- {} eighth notes\".format(eighth_notes))\n",
    "print(\"- also {} dotted quarter notes\".format(dottedQuarter_notes))"
   ]
  },
  {
   "cell_type": "markdown",
   "metadata": {},
   "source": [
    "⇒ **Optional**: if the melody contains notes with special duration, can you tell which note value is that? Would you like to modify the code to count also those notes?"
   ]
  },
  {
   "cell_type": "markdown",
   "metadata": {},
   "source": [
    "### 2.9\n",
    "Let's see now which pitch is the most frequent one by percentage. By the way, we know that our melody is in D major."
   ]
  },
  {
   "cell_type": "code",
   "execution_count": 86,
   "metadata": {},
   "outputs": [
    {
     "name": "stdout",
     "output_type": "stream",
     "text": [
      "\n",
      "This melody has:\n",
      "- 15.38% of D\n",
      "- 26.92% of E\n",
      "- 26.92% of F#\n",
      "- 15.38% of G\n",
      "- 15.38% of A\n",
      "- 0.00% of B\n",
      "- 0.00% of C#\n"
     ]
    }
   ],
   "source": [
    "# The melody variable from the previous cell is used here\n",
    "\n",
    "# Counters for pitches (remember that variable names should not start with capial letters)\n",
    "d = 0\n",
    "e = 0\n",
    "f_sharp = 0\n",
    "g = 0\n",
    "a = 0\n",
    "b = 0\n",
    "c_sharp = 0\n",
    "\n",
    "for note in melody:\n",
    "    pitch = note[1:]\n",
    "    if pitch == 'D':\n",
    "        d += 1\n",
    "    elif pitch == 'E':\n",
    "        e += 1\n",
    "    elif pitch == 'F#':\n",
    "        f_sharp += 1\n",
    "    elif pitch == 'G':\n",
    "        g += 1\n",
    "    elif pitch == 'A':\n",
    "        a += 1\n",
    "    elif pitch == 'B':\n",
    "        b += 1\n",
    "    elif pitch == 'C#':\n",
    "        c_sharp += 1\n",
    "    # Let's print a warning message if a note is found with a different pitch\n",
    "    else:\n",
    "        print(\"WARNING: Note {} has a special pitch\".format(note))\n",
    "\n",
    "# Compute the percentage per note\n",
    "total_notes = len(melody)\n",
    "d_percent = d * 100 / total_notes\n",
    "e_percent = e * 100 / total_notes\n",
    "f_sharp_percent = f_sharp * 100 / total_notes\n",
    "g_percent = g * 100 / total_notes\n",
    "a_percent = a * 100 / total_notes\n",
    "b_percent = b * 100 / total_notes\n",
    "c_sharp_percent = c_sharp * 100 / total_notes\n",
    "\n",
    "# Print output\n",
    "print()\n",
    "print(\"This melody has:\")\n",
    "print(\"- {:.2f}% of D\".format(d_percent))\n",
    "print(\"- {:.2f}% of E\".format(e_percent))\n",
    "print(\"- {:.2f}% of F#\".format(f_sharp_percent))\n",
    "print(\"- {:.2f}% of G\".format(g_percent))\n",
    "print(\"- {:.2f}% of A\".format(a_percent))\n",
    "print(\"- {:.2f}% of B\".format(b_percent))\n",
    "print(\"- {:.2f}% of C#\".format(c_sharp_percent))"
   ]
  },
  {
   "cell_type": "markdown",
   "metadata": {},
   "source": [
    "### 2.10\n",
    "The code in the previous cell measures the percentage of pitch in terms of numbers of notes. However, for a perceptually accurate measurement of the percentage of a pitch in a melody, we can take duration into account. That is, summing all the durations of each pitch, to see how much time in total they have been heard by the listener. In order to compute the percentage of duration of a particular pitch with respect to the whole melody, we need to compute first how long is the melody. Remember that we are measuring duration in terms of eighth notes."
   ]
  },
  {
   "cell_type": "code",
   "execution_count": 91,
   "metadata": {},
   "outputs": [
    {
     "name": "stdout",
     "output_type": "stream",
     "text": [
      "This melody is 60 eighth notes long.\n",
      "\n",
      "In this melody:\n",
      "- D is played for a 18.33%\n",
      "- E is played for a 23.33%\n",
      "- F# is played for a 31.67%\n",
      "- G is played for a 13.33%\n",
      "- A is played for a 13.33%\n",
      "- B is played for a 0.00%\n",
      "- C# is played for a 0.00%\n"
     ]
    }
   ],
   "source": [
    "# The melody variable from before is used here\n",
    "\n",
    "d = 0\n",
    "e = 0\n",
    "f_sharp = 0\n",
    "g = 0\n",
    "a = 0\n",
    "b = 0\n",
    "c_sharp = 0\n",
    "\n",
    "# Counter for the total_duration of the piece\n",
    "total_duration = 0\n",
    "\n",
    "for note in melody:\n",
    "    note_duration = int(note[0])\n",
    "    note_pitch = note[1:]\n",
    "    \n",
    "    # Add the duration of this note to its corresponding pitch\n",
    "    if note_pitch == 'D':\n",
    "        d += note_duration\n",
    "    elif note_pitch == 'E':\n",
    "        e += note_duration\n",
    "    elif note_pitch == 'F#':\n",
    "        f_sharp += note_duration\n",
    "    elif note_pitch == 'G':\n",
    "        g += note_duration\n",
    "    elif note_pitch == 'A':\n",
    "        a += note_duration\n",
    "    elif note_pitch == 'B':\n",
    "        b += note_duration\n",
    "    elif note_pitch == 'C#':\n",
    "        c_sharp += note_duration\n",
    "    # Let's print a warning message if a note is found with a different pitch\n",
    "    else:\n",
    "        print(\"WARNING: Note {} has a special pitch\".format(note))\n",
    "        \n",
    "    # Add the duration of this note to the total duration of the melody\n",
    "    total_duration += note_duration\n",
    "    \n",
    "    # Let's print how long is this melody\n",
    "print(\"This melody is {} eighth notes long.\".format(total_duration))\n",
    "        \n",
    "# Compute the percentage per note\n",
    "d_percent = d * 100 / total_duration\n",
    "e_percent = e * 100 / total_duration\n",
    "f_sharp_percent = f_sharp * 100 / total_duration\n",
    "g_percent = g * 100 / total_duration\n",
    "a_percent = a * 100 / total_duration\n",
    "b_percent = b * 100 / total_duration\n",
    "c_sharp_percent = c_sharp * 100 / total_duration\n",
    "\n",
    "print()\n",
    "print(\"In this melody:\")\n",
    "print(\"- D is played for a {:.2f}%\".format(d_percent))\n",
    "print(\"- E is played for a {:.2f}%\".format(e_percent))\n",
    "print(\"- F# is played for a {:.2f}%\".format(f_sharp_percent))\n",
    "print(\"- G is played for a {:.2f}%\".format(g_percent))\n",
    "print(\"- A is played for a {:.2f}%\".format(a_percent))\n",
    "print(\"- B is played for a {:.2f}%\".format(b_percent))\n",
    "print(\"- C# is played for a {:.2f}%\".format(c_sharp_percent))"
   ]
  },
  {
   "cell_type": "markdown",
   "metadata": {},
   "source": [
    "## Exercise 3. Write your own code\n",
    "For each of the next exercises, read what your code is supposed to do, and write it in the following cell. You should get the same output as the one given as \"Expected result.\"\n",
    "\n",
    "Some of these exercises have hints. However, try to solve them first without reading the hints."
   ]
  },
  {
   "cell_type": "markdown",
   "metadata": {},
   "source": [
    "### 3.1\n",
    "Iterate over the given list of zip codes and print those who are smaller than `30000`.\n",
    "\n",
    "Expected result:\n",
    "\n",
    "    11372\n",
    "    07712\n",
    "    17201\n",
    "    20814\n",
    "    01201\n",
    "    28086\n",
    "\n",
    "⇒ *Hint*: notice that the numbers in the list are strings"
   ]
  },
  {
   "cell_type": "code",
   "execution_count": 97,
   "metadata": {},
   "outputs": [
    {
     "name": "stdout",
     "output_type": "stream",
     "text": [
      "11372\n",
      "07712\n",
      "17201\n",
      "20814\n",
      "01201\n",
      "28086\n"
     ]
    }
   ],
   "source": [
    "zipCodes = [\"60621\", \"30092\", \"11372\", \"07712\", \"37803\", \"17201\", \"20814\", \"80241\", \"01201\", \"28086\"]\n",
    "\n",
    "# Your code here\n",
    "\n",
    "for code in zipCodes:\n",
    "    if code < \"3000\":\n",
    "        print(code)\n"
   ]
  },
  {
   "cell_type": "markdown",
   "metadata": {},
   "source": [
    "### 3.2\n",
    "Count how many of these words are longer than 4 letters and how many have 4 letters or less.\n",
    "\n",
    "Expected result:\n",
    "\n",
    "    There are 8 words over 4 letters.\n",
    "    There are 4 words that have 4 letters or less."
   ]
  },
  {
   "cell_type": "code",
   "execution_count": 107,
   "metadata": {},
   "outputs": [
    {
     "name": "stdout",
     "output_type": "stream",
     "text": [
      "There are 8 words that have over 4 letters.\n",
      "There are 4 words that have 4 letters or less.\n"
     ]
    }
   ],
   "source": [
    "words = [\"actor\", \"scent\", \"thumb\", \"standing\", \"rest\", \"attract\", \"fang\", \"party\", \"slope\", \"faulty\", \"lean\", \"milk\"]\n",
    "\n",
    "# Start counters\n",
    "short_words = 0\n",
    "long_words = 0\n",
    "\n",
    "# Your code here\n",
    "\n",
    "for letters in words: \n",
    "    word = len(letters)\n",
    "    if word <= 4:\n",
    "        short_words += 1\n",
    "    else:\n",
    "        long_words += 1\n",
    "        \n",
    "print(\"There are {} words that have over 4 letters.\".format(long_words))\n",
    "print(\"There are {} words that have 4 letters or less.\".format(short_words))\n",
    "\n",
    "\n",
    "        \n",
    "# Print results\n",
    "\n"
   ]
  },
  {
   "cell_type": "markdown",
   "metadata": {},
   "source": [
    "### 3.3\n",
    "Classify the given ten animals in the following three groups:\n",
    "- those whose name has the vowel `a`,\n",
    "- those whose name has no `a` but has a vowel `o`,\n",
    "- and the rest.\n",
    "\n",
    "Print how many animals there are in each group, and also the name of the animals in each group.\n",
    "\n",
    "Expected result:\n",
    "\n",
    "    Animals whose name contains an 'a':\n",
    "    - snake\n",
    "    - cheetah\n",
    "    - bear\n",
    "    - buffalo\n",
    "    - gorilla\n",
    "\n",
    "    Animals whose name contains an 'o', but no 'a':\n",
    "    - horse\n",
    "    - monkey\n",
    "    - hedgehog\n",
    "\n",
    "    Animals whose name contains neither 'a' nor 'o':\n",
    "    - puppy\n",
    "    - deer\n",
    "    - squirrel"
   ]
  },
  {
   "cell_type": "code",
   "execution_count": 114,
   "metadata": {},
   "outputs": [
    {
     "name": "stdout",
     "output_type": "stream",
     "text": [
      "Animals whose name contains an 'a':\n",
      "- snake\n",
      "- cheetah\n",
      "- bear\n",
      "- buffalo\n",
      "- gorilla\n",
      "\n",
      "Animals whose name contains an 'o', but no 'a':\n",
      "- horse\n",
      "- monkey\n",
      "- hedgehog\n",
      "\n",
      "Animals whose name contains neither 'a' nor 'o':\n",
      "- puppy\n",
      "- deer\n",
      "- squirrel\n"
     ]
    }
   ],
   "source": [
    "animals = [\"puppy\", \"snake\", \"cheetah\", \"deer\", \"bear\", \"buffalo\", \"horse\", \"gorilla\", \"monkey\", \"squirrel\", \"hedgehog\"]\n",
    "\n",
    "# Create empty lists\n",
    "a_animals = []\n",
    "o_animals = []\n",
    "others = []\n",
    "\n",
    "\n",
    "# Your code here\n",
    "\n",
    "for category in animals: \n",
    "    if \"a\" in category:\n",
    "        a_animals.append(category)\n",
    "    elif \"o\" in category and \"a\" not in category:\n",
    "        o_animals.append(category)\n",
    "    else:\n",
    "        others.append(category)\n",
    "\n",
    "\n",
    "# Print results\n",
    "print(\"Animals whose name contains an 'a':\")\n",
    "for animal in a_animals:\n",
    "    print(\"- \" + animal)\n",
    "print()\n",
    "print(\"Animals whose name contains an 'o', but no 'a':\")\n",
    "for animal in o_animals:\n",
    "    print(\"- \" + animal)\n",
    "print()\n",
    "print(\"Animals whose name contains neither 'a' nor 'o':\")\n",
    "for animal in others:\n",
    "    print(\"- \" + animal)\n",
    "\n",
    "\n"
   ]
  },
  {
   "cell_type": "markdown",
   "metadata": {},
   "source": [
    "### 3.4\n",
    "Here you have temperature measurements over 10 days. Print how many days the temperature was under `20`º, and which were these days.\n",
    "\n",
    "Expected result:\n",
    "\n",
    "    In 6 days the temperature was over 20:\n",
    "    [1, 2, 3, 8, 9, 10]\n",
    "\n",
    "⇒ *Hint*: To know in which day the temperature was over `20`º, you can use its index. So, iterate over the indexes. And remember that indexes start at `0`, so to print which day it was, you might want to add `1`."
   ]
  },
  {
   "cell_type": "code",
   "execution_count": 127,
   "metadata": {},
   "outputs": [
    {
     "name": "stdout",
     "output_type": "stream",
     "text": [
      "In 6 days the temperature was over 20:\n",
      "[1, 2, 3, 8, 9, 10]\n"
     ]
    }
   ],
   "source": [
    "temperatures = [23.1, 22.4, 21.2, 19.0, 18.7, 16, 16.9, 20.3, 24, 23.7]\n",
    "\n",
    "# Create empty list\n",
    "days = []\n",
    "\n",
    "# Your code here\n",
    "\n",
    "for t in range(len(temperatures)):\n",
    "    if temperatures[t] > 20:\n",
    "        days.append(t+1)\n",
    "\n",
    "print(\"In {} days the temperature was over 20:\".format(len(days)))\n",
    "print(days)\n",
    "\n",
    "\n",
    "# Print your results\n",
    "\n",
    "\n"
   ]
  },
  {
   "cell_type": "markdown",
   "metadata": {},
   "source": [
    "### 3.5\n",
    "We received a donation of 10 instruments from Latin America, specifically from Mexico, Brazil and Peru. The information of the donation is in several lists. The first one has the name of the instruments and the second one the countries of origin, both in the same order. Group the instruments per country, and print how many instrumes per country have been donated, and which are the instruments from each country.\n",
    "\n",
    "Expected result:\n",
    "\n",
    "    We received 4 instruments from Mexico:\n",
    "    - vihuela\n",
    "    - maracas\n",
    "    - marimba\n",
    "    - violin\n",
    "\n",
    "    We received 3 instruments from Brazil:\n",
    "    - viola caipira\n",
    "    - pandeiro\n",
    "    - mandolin\n",
    "\n",
    "    We received 4 instruments from Peru:\n",
    "    - ocarina\n",
    "    - charango\n",
    "    - quena"
   ]
  },
  {
   "cell_type": "code",
   "execution_count": 142,
   "metadata": {},
   "outputs": [
    {
     "name": "stdout",
     "output_type": "stream",
     "text": [
      "We received 4 Instruments from Mexico:\n",
      "- vihuela\n",
      "- maracas\n",
      "- marimba\n",
      "- violin\n",
      "\n",
      "We received 3 Instruments from Brazil:\n",
      "- viola caipira\n",
      "- pandeiro\n",
      "- mandolin\n",
      "\n",
      "We received 3 Instruments from Peru:\n",
      "- ocarina\n",
      "- charango\n",
      "- quena\n"
     ]
    }
   ],
   "source": [
    "instruments = [\"viola caipira\", \"ocarina\", \"vihuela\", \"pandeiro\", \"charango\", \"quena\", \"maracas\", \"marimba\", \"violin\", \"mandolin\"]\n",
    "countries = [\"Brazil\", \"Peru\", \"Mexico\", \"Brazil\", \"Peru\", \"Peru\", \"Mexico\", \"Mexico\", \"Mexico\", \"Brazil\"]\n",
    "\n",
    "# Create an empty list per country\n",
    "mexico = []\n",
    "brazil = []\n",
    "peru = []\n",
    "\n",
    "\n",
    "# Your code here\n",
    "\n",
    "for c in range(len(countries)):\n",
    "        if countries[c] == \"Mexico\":\n",
    "            mexico.append(instruments[c])\n",
    "        elif countries[c] == \"Brazil\":\n",
    "            brazil.append(instruments[c])\n",
    "        elif countries[c] == \"Peru\":\n",
    "            peru.append(instruments[c])\n",
    "\n",
    "\n",
    "\n",
    "# Print your results\n",
    "\n",
    "\n",
    "print(\"We received {} Instruments from Mexico:\".format(len(mexico)))\n",
    "for c in mexico:\n",
    "    print(\"- \" + c)\n",
    "print()\n",
    "\n",
    "print(\"We received {} Instruments from Brazil:\".format(len(brazil)))\n",
    "for c in brazil:\n",
    "    print(\"- \" + c)\n",
    "print()\n",
    "\n",
    "print(\"We received {} Instruments from Peru:\".format(len(peru)))\n",
    "for c in peru:\n",
    "    print(\"- \" + c)\n"
   ]
  },
  {
   "cell_type": "markdown",
   "metadata": {},
   "source": [
    "### 3.6\n",
    "In another list, we got the years in which the instruments were made (also in the same order). Search for those instruments that are older than 30 years to take special care of them. Print their name, year and country of origin.\n",
    "\n",
    "Expected result:\n",
    "\n",
    "    We have 5 instruments older than 30 years:\n",
    "    - ocarina: 1915 (Peru)\n",
    "    - vihuela: 1948 (Mexico)\n",
    "    - charango: 1979 (Peru)\n",
    "    - marimba: 1965 (Mexico)\n",
    "    - violin: 1873 (Mexico)\n",
    "\n",
    "⇒ *Hint*: What needs to be compared is if the difference between this year (2020) and the year when the instrument was made is greater than `30`."
   ]
  },
  {
   "cell_type": "code",
   "execution_count": 152,
   "metadata": {},
   "outputs": [
    {
     "name": "stdout",
     "output_type": "stream",
     "text": [
      "We have 5 instruments older than 30 years:\n",
      "- ocarina: 1915 (Peru)\n",
      "- vihuela: 1948 (Mexico)\n",
      "- charango: 1979 (Peru)\n",
      "- marimba: 1965 (Mexico)\n",
      "- violin: 1873 (Mexico)\n"
     ]
    }
   ],
   "source": [
    "# The lists instruments and countries from the previous cell are used here\n",
    "years = [2005, 1915, 1948, 2013, 1979, 1999, 2008, 1965, 1873, 2019]\n",
    "\n",
    "# Create an empty list for the instruments to be retrieved, another for the year, and anohter for the country.\n",
    "\n",
    "instrument = []\n",
    "year = []\n",
    "country = []\n",
    "\n",
    "\n",
    "# Your code here:\n",
    "\n",
    "for x in range(len(years)):\n",
    "    if 2020 - years[x] >= 30:\n",
    "        instrument.append(instruments[x])\n",
    "        year.append(years[x])\n",
    "        country.append(countries[x])\n",
    "\n",
    "\n",
    "# Print your results\n",
    "\n",
    "print(\"We have {} instruments older than 30 years:\".format(len(year)))\n",
    "for x in range(len(instrument)):\n",
    "    instrument_n = instrument[x]\n",
    "    year_n = year[x]\n",
    "    country_n = country[x]\n",
    "    print(\"- {}: {} ({})\".format(instrument_n, year_n, country_n))"
   ]
  },
  {
   "cell_type": "markdown",
   "metadata": {},
   "source": [
    "### 3.7\n",
    "Now, let's find out which is the oldest and newest instrument and print out its name, year and country.\n",
    "\n",
    "Expected result:\n",
    "\n",
    "    The oldest instrument is the violin from Mexico (1873).\n",
    "    The newest instrument is the mandolin from Brazil (2019).\n",
    "\n",
    "⇒ *Hint*: Get inspired by exercises 1.14."
   ]
  },
  {
   "cell_type": "code",
   "execution_count": 153,
   "metadata": {},
   "outputs": [
    {
     "name": "stdout",
     "output_type": "stream",
     "text": [
      "The oldest instrument is the violin from Mexico (1873).\n",
      "The newest instrument is the mandolin from Brazil (2019).\n"
     ]
    }
   ],
   "source": [
    "# The lists instrumens, countries and years from the previous cells are used here\n",
    "\n",
    "# Variables for name, year and country of the oldest instrument\n",
    "\n",
    "instrument_o = instruments [0]\n",
    "year_o = years [0]\n",
    "country_o = countries[0]\n",
    "\n",
    "\n",
    "# Variables for name, yaear and country of the newest instrument\n",
    "\n",
    "instrument_y = instruments[0]\n",
    "year_y = years [0]\n",
    "country_y = countries [0]\n",
    "\n",
    "\n",
    "# Your code here:\n",
    "\n",
    "for x in range(len(years)):\n",
    "    if years[x] < year_o:\n",
    "        year_o = years[x]\n",
    "        instrument_o = instruments[x]\n",
    "        country_o = countries[x]\n",
    "    elif years[x] > year_y:\n",
    "        year_y = years[x]\n",
    "        instrument_y = instruments[x]\n",
    "        country_y = countries[x]\n",
    "\n",
    "\n",
    "# Print your results\n",
    "\n",
    "print(\"The oldest instrument is the {} from {} ({}).\".format(instrument_o, country_o, year_o))\n",
    "\n",
    "print(\"The newest instrument is the {} from {} ({}).\".format(instrument_y, country_y, year_y))"
   ]
  },
  {
   "cell_type": "markdown",
   "metadata": {},
   "source": [
    "### 3.8\n",
    "Here we have a melody as a list of notes. Each note is a string with two parts. The first part is a number indicating the duration of the note. The duration is measured in terms of eighth notes, so that `\"1\"` representes an eighth note, `\"2\"` represents a quarter note, `\"3\"` represents a dotted quarter note, and so on. The second part of the note string represents the pitch, including accidentals. The melody is in G major. The central octave is reprsented with uppercase letters, that is, from `\"G\"` to `\"F#\"`. The higher octave is represented with lowercase letters, starting from `\"g\"`. (So, can you guess which melody is it?)\n",
    "\n",
    "Let's see first how many times the tonic (`\"G\"`), the dominant (`\"D\"`) and the subdominant (`\"C\"`) are played in this melody.\n",
    "\n",
    "Expected result:\n",
    "\n",
    "    The tonic is played 5 times.\n",
    "    The dominant is played 3 times.\n",
    "    The subdimant is played 2 times.\n",
    "\n",
    "⇒ *Hint*: Get inspired by exercise 2.9."
   ]
  },
  {
   "cell_type": "code",
   "execution_count": 155,
   "metadata": {},
   "outputs": [
    {
     "name": "stdout",
     "output_type": "stream",
     "text": [
      "The tonic is played 5 times.\n",
      "The dominant is played 3 times.\n",
      "The subdominant is played 2 times.\n"
     ]
    }
   ],
   "source": [
    "melody = [\"2D\", \"1G\", \"1A\", \"1B\", \"1C\", \"2D\", \"2G\", \"2G\", \"2E\", \"1C\", \"1D\", \"1E\", \"1F#\", \"2g\", \"2G\", \"2G\"]\n",
    "\n",
    "# Create counters for tonic, dominant and subdominant\n",
    "\n",
    "tonic = 0\n",
    "dominant = 0\n",
    "subdominant = 0\n",
    "\n",
    "\n",
    "# Your code here\n",
    "\n",
    "for note in melody: \n",
    "    pitch = note[1:]\n",
    "    if pitch == \"G\":\n",
    "        tonic += 1\n",
    "    elif pitch == \"D\":\n",
    "        dominant += 1\n",
    "    elif pitch == \"C\":\n",
    "        subdominant += 1\n",
    "\n",
    "\n",
    "# Print your results\n",
    "\n",
    "print(\"The tonic is played {} times.\".format(tonic))\n",
    "print(\"The dominant is played {} times.\".format(dominant))\n",
    "print(\"The subdominant is played {} times.\".format(subdominant))\n",
    "\n",
    "# The melody variable from the previous cell is used here\n",
    "\n",
    "# Counters for pitches (remember that variable names should not start with capial letters)"
   ]
  },
  {
   "cell_type": "markdown",
   "metadata": {},
   "source": [
    "### 3.9\n",
    "Let's see how many times in this melody there is a dominant-tonic movement (that is, `\"D\"`-`\"G\"`).\n",
    "\n",
    "Expected result:\n",
    "\n",
    "    In this melody, the tonic-dominant movement occurs 2 times.\n",
    "\n",
    "⇒ *Hint*: Iterate over the indexes, but making sure that you can retrive the note at the current index, and the note in the previous index (so, consider from which index you should start iterating). Then, retrieve the pitch of each note, and finally check if the pitch of the previous note is `\"D\"` **and** the pitch of the current note is `\"G\"`. Every time this happens, update a counter."
   ]
  },
  {
   "cell_type": "code",
   "execution_count": 172,
   "metadata": {},
   "outputs": [
    {
     "name": "stdout",
     "output_type": "stream",
     "text": [
      "In this melody, the tonic-dominant movement occurs 2 times.\n"
     ]
    }
   ],
   "source": [
    "# The list melody from the previous cell is used here\n",
    "\n",
    "# Create a counter for dominant-tonic movements\n",
    "\n",
    "movement_dt = 0\n",
    "# Your code here\n",
    "\n",
    "for note in range(1, len(melody)): \n",
    "    pitch = melody[note][1]\n",
    "    if pitch == \"G\" and melody[note-1][1] == \"D\":\n",
    "        movement_dt += 1\n",
    "\n",
    "\n",
    "# Print the result\n",
    "print(\"In this melody, the tonic-dominant movement occurs {} times.\".format(movement_dt))"
   ]
  },
  {
   "cell_type": "markdown",
   "metadata": {},
   "source": [
    "### 3.10\n",
    "Finally, let's see in which percentage of duration the tonic, dominant and subminant are performed.\n",
    "\n",
    "Expected result:\n",
    "\n",
    "    The tonic is performed a 45.83% of the duration of the melody.\n",
    "    The dominant is performed a 20.83% of the duration of the melody.\n",
    "    The subdominant is performed a 8.33% of the duration of the melody.\n",
    "\n",
    "⇒ *Hint*: The tonic appears in the central octave (`\"G\"`) **and** the higher octave (`\"g\"`)\n",
    "\n",
    "⇒ *Hint*: Get inspired by exercise 2.10"
   ]
  },
  {
   "cell_type": "code",
   "execution_count": 189,
   "metadata": {},
   "outputs": [
    {
     "name": "stdout",
     "output_type": "stream",
     "text": [
      "The tonic is performed a 45.83% of the duration of the melody.\n",
      "The dominant is performed a 20.83% of the duration of the melody.\n",
      "The subdominant is performed a 8.33% of the duration of the melody.\n"
     ]
    }
   ],
   "source": [
    "# The list melody defined before is used here\n",
    "\n",
    "# Create a counter to sum the duration of all the occurrences of tonic, dominant and subdominant.\n",
    "\n",
    "t_duration = 0\n",
    "d_duration = 0\n",
    "s_duration = 0\n",
    "\n",
    "# Create a counter for the total duration of the melody\n",
    "melody_duration = 0\n",
    "\n",
    "# Your code here\n",
    "\n",
    "for note in melody: \n",
    "    note_duration = int(note[0])\n",
    "    note_pitch = note[1:]\n",
    "\n",
    "\n",
    "    if note_pitch == \"G\" or note_pitch == \"g\":\n",
    "        t_duration += note_duration\n",
    "    elif note_pitch == \"D\":\n",
    "        d_duration += note_duration\n",
    "    elif note_pitch == \"C\":\n",
    "        s_duration += note_duration\n",
    "    melody_duration += note_duration\n",
    "\n",
    "\n",
    "# Compute the percentage of duration for each degree\n",
    "\n",
    "t_percent = t_duration * 100 / melody_duration\n",
    "d_percent = d_duration * 100 / melody_duration\n",
    "s_percent = s_duration * 100 / melody_duration\n",
    "\n",
    "# Print results\n",
    "print(\"The tonic is performed a {:.2f}% of the duration of the melody.\".format(t_percent))\n",
    "print(\"The dominant is performed a {:.2f}% of the duration of the melody.\".format(d_percent))\n",
    "print(\"The subdominant is performed a {:.2f}% of the duration of the melody.\".format(s_percent))\n",
    "\n"
   ]
  },
  {
   "cell_type": "code",
   "execution_count": null,
   "metadata": {},
   "outputs": [],
   "source": []
  }
 ],
 "metadata": {
  "kernelspec": {
   "display_name": "Python 3",
   "language": "python",
   "name": "python3"
  },
  "language_info": {
   "codemirror_mode": {
    "name": "ipython",
    "version": 3
   },
   "file_extension": ".py",
   "mimetype": "text/x-python",
   "name": "python",
   "nbconvert_exporter": "python",
   "pygments_lexer": "ipython3",
   "version": "3.8.1"
  }
 },
 "nbformat": 4,
 "nbformat_minor": 2
}
