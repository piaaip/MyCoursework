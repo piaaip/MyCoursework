{
 "cells": [
  {
   "cell_type": "markdown",
   "metadata": {},
   "source": [
    "# Setting the music21 environment\n",
    "When working with music21, we will frequently want to have a look to the musical score we are working with or to the partial or final results we are getting at in the form of musical scores. In order to do that, we need to link our score editor with music21. Besides, if we want to access our score editor from a Jupyter Notebook, we also nee to set the music21 environment accordingly.\n",
    "\n",
    "First of all, let's import music21 (make sure that you installed it already and that you are running this notebook from the Conda environment where you installed music21)."
   ]
  },
  {
   "cell_type": "code",
   "execution_count": 3,
   "metadata": {},
   "outputs": [],
   "source": [
    "from music21 import *"
   ]
  },
  {
   "cell_type": "markdown",
   "metadata": {},
   "source": [
    "Sometimes, depending on your OS, the environment is automatically set. So, let's see if this is the case."
   ]
  },
  {
   "cell_type": "code",
   "execution_count": 11,
   "metadata": {},
   "outputs": [],
   "source": [
    "# We load a score from the music21 corpus, and assign it to the variable s\n",
    "s = corpus.parse('bach/bwv244.46')\n",
    "\n",
    "# Now, we call the .show() method to open the score in our score editor\n",
    "# This might take few seconds\n",
    "s.show()"
   ]
  },
  {
   "cell_type": "markdown",
   "metadata": {},
   "source": [
    "If your score editor opened showing the score of BWV 244/46, then everything is working! You can skip the rest of this notebook.\n",
    "\n",
    "If it didn't, or you got an error message, you need to modify some user settings. For that, first of all, you need to find the path to the executable file of your score editor. Then, run the following cell (you have to give the path to your score editor in the third line).\n",
    "\n",
    "⇒ **Note**: if you get the following error message `UserSettingsException: An environment configuration file already exists; simply set values to modify.`, then, comment the second line (by adding a hash symbol before it: `#us.create()`), and run the cell again."
   ]
  },
  {
   "cell_type": "code",
   "execution_count": 12,
   "metadata": {},
   "outputs": [
    {
     "ename": "UserSettingsException",
     "evalue": "attempting to set a value to a path that does not exist: C:\\Program Files (x86)\\MuseScore\\bin\\MuseScore 3.exe",
     "output_type": "error",
     "traceback": [
      "\u001b[1;31m---------------------------------------------------------------------------\u001b[0m",
      "\u001b[1;31mUserSettingsException\u001b[0m                     Traceback (most recent call last)",
      "\u001b[1;32m<ipython-input-12-3b12ca435d73>\u001b[0m in \u001b[0;36m<module>\u001b[1;34m\u001b[0m\n\u001b[0;32m      1\u001b[0m \u001b[0mus\u001b[0m \u001b[1;33m=\u001b[0m \u001b[0menvironment\u001b[0m\u001b[1;33m.\u001b[0m\u001b[0mUserSettings\u001b[0m\u001b[1;33m(\u001b[0m\u001b[1;33m)\u001b[0m\u001b[1;33m\u001b[0m\u001b[1;33m\u001b[0m\u001b[0m\n\u001b[0;32m      2\u001b[0m \u001b[1;31m#us.create()\u001b[0m\u001b[1;33m\u001b[0m\u001b[1;33m\u001b[0m\u001b[1;33m\u001b[0m\u001b[0m\n\u001b[1;32m----> 3\u001b[1;33m \u001b[0mus\u001b[0m\u001b[1;33m[\u001b[0m\u001b[1;34m\"musicxmlPath\"\u001b[0m\u001b[1;33m]\u001b[0m \u001b[1;33m=\u001b[0m \u001b[1;34m\"C:/Program Files (x86)/MuseScore/bin/MuseScore 3.exe\"\u001b[0m \u001b[1;31m# Write the path to your score editor here within the quotation marks\u001b[0m\u001b[1;33m\u001b[0m\u001b[1;33m\u001b[0m\u001b[0m\n\u001b[0m\u001b[0;32m      4\u001b[0m \u001b[0mus\u001b[0m\u001b[1;33m[\u001b[0m\u001b[1;34m\"ipythonShowFormat\"\u001b[0m\u001b[1;33m]\u001b[0m \u001b[1;33m=\u001b[0m \u001b[1;34m\"musicxml\"\u001b[0m\u001b[1;33m\u001b[0m\u001b[1;33m\u001b[0m\u001b[0m\n",
      "\u001b[1;32m~\\Miniconda3\\envs\\ComMethEthno\\lib\\site-packages\\music21\\environment.py\u001b[0m in \u001b[0;36m__setitem__\u001b[1;34m(self, key, value)\u001b[0m\n\u001b[0;32m   1299\u001b[0m                 \u001b[0mvalue\u001b[0m \u001b[1;33m=\u001b[0m \u001b[0mcommon\u001b[0m\u001b[1;33m.\u001b[0m\u001b[0mcleanpath\u001b[0m\u001b[1;33m(\u001b[0m\u001b[0mvalue\u001b[0m\u001b[1;33m,\u001b[0m \u001b[0mreturnPathlib\u001b[0m\u001b[1;33m=\u001b[0m\u001b[1;32mFalse\u001b[0m\u001b[1;33m)\u001b[0m\u001b[1;33m\u001b[0m\u001b[1;33m\u001b[0m\u001b[0m\n\u001b[0;32m   1300\u001b[0m                 \u001b[1;32mif\u001b[0m \u001b[1;32mnot\u001b[0m \u001b[0mos\u001b[0m\u001b[1;33m.\u001b[0m\u001b[0mpath\u001b[0m\u001b[1;33m.\u001b[0m\u001b[0mexists\u001b[0m\u001b[1;33m(\u001b[0m\u001b[0mvalue\u001b[0m\u001b[1;33m)\u001b[0m\u001b[1;33m:\u001b[0m\u001b[1;33m\u001b[0m\u001b[1;33m\u001b[0m\u001b[0m\n\u001b[1;32m-> 1301\u001b[1;33m                     raise UserSettingsException(\n\u001b[0m\u001b[0;32m   1302\u001b[0m                         'attempting to set a value to a path that does not exist: {}'.format(\n\u001b[0;32m   1303\u001b[0m                             value))\n",
      "\u001b[1;31mUserSettingsException\u001b[0m: attempting to set a value to a path that does not exist: C:\\Program Files (x86)\\MuseScore\\bin\\MuseScore 3.exe"
     ]
    }
   ],
   "source": [
    "us = environment.UserSettings()\n",
    "#us.create()\n",
    "us[\"musicxmlPath\"] = \"C:/Program Files (x86)/MuseScore/bin/MuseScore 3.exe\" # Write the path to your score editor here within the quotation marks\n",
    "us[\"ipythonShowFormat\"] = \"musicxml\""
   ]
  },
  {
   "cell_type": "markdown",
   "metadata": {},
   "source": [
    "Now, run the second cell (the one containing `s.show()`) again."
   ]
  }
 ],
 "metadata": {
  "kernelspec": {
   "display_name": "Python 3",
   "language": "python",
   "name": "python3"
  },
  "language_info": {
   "codemirror_mode": {
    "name": "ipython",
    "version": 3
   },
   "file_extension": ".py",
   "mimetype": "text/x-python",
   "name": "python",
   "nbconvert_exporter": "python",
   "pygments_lexer": "ipython3",
   "version": "3.8.1"
  }
 },
 "nbformat": 4,
 "nbformat_minor": 2
}
