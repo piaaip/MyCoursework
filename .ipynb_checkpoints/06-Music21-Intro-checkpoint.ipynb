{
 "cells": [
  {
   "cell_type": "markdown",
   "metadata": {},
   "source": [
    "# Welcome to music21!\n",
    "This notebook presents a very brief and short introduction to music21. Therefore, before reading this notebook, watch and try to understand the concepts explained in the video [CMiE'20 - 03: Introducing and installing music21](https://youtu.be/wrREb68FwNM). Especially make sure that:\n",
    "\n",
    "- you have [installed music21](https://youtu.be/wrREb68FwNM?t=4012), and\n",
    "- you understand the [basic concepts in music21](https://youtu.be/wrREb68FwNM?t=4762).\n",
    "\n",
    "Together with this notebook, you have a new folder called `lsxp-WoBenShi-KongChengJi`. This folder contains three versions of the same score, one with the extension `.mscz`, which is a MuseScore file, a `.pdf` file and a `.xml` file. This score is a transcription of one of the most famous arias of jingju (also known as Peking opera), namely, “我本是卧龙岗散淡的人” (*Wo ben shi Wo Long Gang sandan de ren*, I am an idle man from the Hills of the Crouching Dragon), from the play 《空城计》 (*Kong cheng ji*, The 'empy fort' strategy). Here you have [a recording of this aria performed by Zhang Ke](https://youtu.be/rsg0epYHY6I?t=4484) (from minute 1:14:44 to 1:20:30). You might notice some differences between this recordings and the score. This is normal in jingju, since it is an orally transmitted tradition, and scores are just transcriptions of particular performances. This particular score is taken from the following source:\n",
    "\n",
    "- Cao Baorong 曹宝荣. 2010. *Jingju changqiang banshi jiedu* 京剧唱腔板式解读 \\[Deciphering banshi in jingju arias\\] Vol. 2, 22-26. Beijing Renmin yinyue chubanshe.\n",
    "\n",
    "From this printed version, which uses [jianpu notation](https://en.wikipedia.org/wiki/Numbered_musical_notation), I created a machine readble score using MuseScore, and then exported it both as `.pdf` and `.xml`. As you might have noticed, the name of the file contains the first three Chinese characters of the aria, `WoBenShi`, and the name of the play, `KongChengJi`. The first four letters `lsxp` indicate, first, the role type that sings the aria, in this case *laosheng* (`ls`), and also the *shengqiang* (or melodic schema) in which the aria is arranged, in this case, *xipi* (`xp`). In fact, this score is taken from a collection of machine readable scores created for the computational study of jingju music, in which all scores are named following this standard. If you are interested in learning more about this collection, you can read the following paper:\n",
    "\n",
    "- Rafael Caro Repetto and Xavier Serra . 2017. \"A Collection of music scores for corpus based jingju singing research.\" In *Proceedings of the 18th International Society for Music Information Retrieval Conference, ISMIR 2017, Suzhou, China, October 23-27, 2017*, edited by Sally Jo Cunningham, Zhiyao Duan, Xiao Hu, Douglas Turnbull, 46-52. http://hdl.handle.net/10230/32603\n",
    "\n",
    "For this and the follwoing notebooks we will be working with the `.xml` version of this score (`lsxp-WoBenShi-KongChengJi.xml`). You can also use the `.pdf` version of the score for easier consultation."
   ]
  },
  {
   "cell_type": "markdown",
   "metadata": {},
   "source": [
    "So, let's start! To work with music21, we need to import it first (if you are not familiar with what this means, you can read Notebook 5). From now on, all your scripts that work with music21 will start like this.\n",
    "\n",
    "⇒ **Note**: remember to run this notebook from the Conda environment where you installed music21."
   ]
  },
  {
   "cell_type": "code",
   "execution_count": 1,
   "metadata": {},
   "outputs": [],
   "source": [
    "from music21 import *"
   ]
  },
  {
   "cell_type": "markdown",
   "metadata": {},
   "source": [
    "Now we are ready to start using music21! To load our score, we need the path to it. (For a detailed explanation of this, read notebook 5).\n",
    "\n",
    "⇒ **Note**: the path in the following cell assumes that you have the folder `lsxp-WoBenShi-KongChengJi` in the same folder as this notebook. If you moved that folder somewhere else, you would need to modify the path, according to what it is explained in notebook 5."
   ]
  },
  {
   "cell_type": "code",
   "execution_count": 2,
   "metadata": {},
   "outputs": [
    {
     "name": "stdout",
     "output_type": "stream",
     "text": [
      "./lsxp-WoBenShi-KongChengJi/lsxp-WoBenShi-KongChengJi.xml\n"
     ]
    }
   ],
   "source": [
    "# Path of the folder that contains the score to be loaded\n",
    "path = './lsxp-WoBenShi-KongChengJi/'\n",
    "\n",
    "# Name of the score\n",
    "file_name = 'lsxp-WoBenShi-KongChengJi.xml'\n",
    "\n",
    "# Join the path of the folder with the file name to get the full path\n",
    "fn = path + file_name\n",
    "\n",
    "# Print the path just to be sure that it is correct (optional)\n",
    "print(fn)"
   ]
  },
  {
   "cell_type": "markdown",
   "metadata": {},
   "source": [
    "Now we can load the score with music21. For that, we can use the function `converter.parse()`, giving the path to the score that we just saved in the variable `fn` as parameter. The whole score will be saved in the variable `s` (initial of 'score')."
   ]
  },
  {
   "cell_type": "code",
   "execution_count": 3,
   "metadata": {},
   "outputs": [
    {
     "ename": "ConverterException",
     "evalue": "File not found or no such format found for: ./lsxp-WoBenShi-KongChengJi/lsxp-WoBenShi-KongChengJi.xml",
     "output_type": "error",
     "traceback": [
      "\u001b[1;31m---------------------------------------------------------------------------\u001b[0m",
      "\u001b[1;31mConverterException\u001b[0m                        Traceback (most recent call last)",
      "\u001b[1;32m<ipython-input-3-4510470e69d2>\u001b[0m in \u001b[0;36m<module>\u001b[1;34m\u001b[0m\n\u001b[1;32m----> 1\u001b[1;33m \u001b[0ms\u001b[0m \u001b[1;33m=\u001b[0m \u001b[0mconverter\u001b[0m\u001b[1;33m.\u001b[0m\u001b[0mparse\u001b[0m\u001b[1;33m(\u001b[0m\u001b[0mfn\u001b[0m\u001b[1;33m)\u001b[0m\u001b[1;33m\u001b[0m\u001b[1;33m\u001b[0m\u001b[0m\n\u001b[0m",
      "\u001b[1;32m~\\Miniconda3\\envs\\ComMethEthno\\lib\\site-packages\\music21\\converter\\__init__.py\u001b[0m in \u001b[0;36mparse\u001b[1;34m(value, *args, **keywords)\u001b[0m\n\u001b[0;32m   1141\u001b[0m         \u001b[1;32mraise\u001b[0m \u001b[0mFileNotFoundError\u001b[0m\u001b[1;33m(\u001b[0m\u001b[1;34m'Cannot find file in {:s}'\u001b[0m\u001b[1;33m.\u001b[0m\u001b[0mformat\u001b[0m\u001b[1;33m(\u001b[0m\u001b[0mstr\u001b[0m\u001b[1;33m(\u001b[0m\u001b[0mvalue\u001b[0m\u001b[1;33m)\u001b[0m\u001b[1;33m)\u001b[0m\u001b[1;33m)\u001b[0m\u001b[1;33m\u001b[0m\u001b[1;33m\u001b[0m\u001b[0m\n\u001b[0;32m   1142\u001b[0m     \u001b[1;32melse\u001b[0m\u001b[1;33m:\u001b[0m\u001b[1;33m\u001b[0m\u001b[1;33m\u001b[0m\u001b[0m\n\u001b[1;32m-> 1143\u001b[1;33m         \u001b[1;32mreturn\u001b[0m \u001b[0mparseData\u001b[0m\u001b[1;33m(\u001b[0m\u001b[0mvalue\u001b[0m\u001b[1;33m,\u001b[0m \u001b[0mnumber\u001b[0m\u001b[1;33m=\u001b[0m\u001b[0mnumber\u001b[0m\u001b[1;33m,\u001b[0m \u001b[0mformat\u001b[0m\u001b[1;33m=\u001b[0m\u001b[0mm21Format\u001b[0m\u001b[1;33m,\u001b[0m \u001b[1;33m**\u001b[0m\u001b[0mkeywords\u001b[0m\u001b[1;33m)\u001b[0m\u001b[1;33m\u001b[0m\u001b[1;33m\u001b[0m\u001b[0m\n\u001b[0m\u001b[0;32m   1144\u001b[0m \u001b[1;33m\u001b[0m\u001b[0m\n\u001b[0;32m   1145\u001b[0m \u001b[1;33m\u001b[0m\u001b[0m\n",
      "\u001b[1;32m~\\Miniconda3\\envs\\ComMethEthno\\lib\\site-packages\\music21\\converter\\__init__.py\u001b[0m in \u001b[0;36mparseData\u001b[1;34m(dataStr, number, format, **keywords)\u001b[0m\n\u001b[0;32m   1017\u001b[0m     '''\n\u001b[0;32m   1018\u001b[0m     \u001b[0mv\u001b[0m \u001b[1;33m=\u001b[0m \u001b[0mConverter\u001b[0m\u001b[1;33m(\u001b[0m\u001b[1;33m)\u001b[0m\u001b[1;33m\u001b[0m\u001b[1;33m\u001b[0m\u001b[0m\n\u001b[1;32m-> 1019\u001b[1;33m     \u001b[0mv\u001b[0m\u001b[1;33m.\u001b[0m\u001b[0mparseData\u001b[0m\u001b[1;33m(\u001b[0m\u001b[0mdataStr\u001b[0m\u001b[1;33m,\u001b[0m \u001b[0mnumber\u001b[0m\u001b[1;33m=\u001b[0m\u001b[0mnumber\u001b[0m\u001b[1;33m,\u001b[0m \u001b[0mformat\u001b[0m\u001b[1;33m=\u001b[0m\u001b[0mformat\u001b[0m\u001b[1;33m,\u001b[0m \u001b[1;33m**\u001b[0m\u001b[0mkeywords\u001b[0m\u001b[1;33m)\u001b[0m\u001b[1;33m\u001b[0m\u001b[1;33m\u001b[0m\u001b[0m\n\u001b[0m\u001b[0;32m   1020\u001b[0m     \u001b[1;32mreturn\u001b[0m \u001b[0mv\u001b[0m\u001b[1;33m.\u001b[0m\u001b[0mstream\u001b[0m\u001b[1;33m\u001b[0m\u001b[1;33m\u001b[0m\u001b[0m\n\u001b[0;32m   1021\u001b[0m \u001b[1;33m\u001b[0m\u001b[0m\n",
      "\u001b[1;32m~\\Miniconda3\\envs\\ComMethEthno\\lib\\site-packages\\music21\\converter\\__init__.py\u001b[0m in \u001b[0;36mparseData\u001b[1;34m(self, dataStr, number, format, forceSource, **keywords)\u001b[0m\n\u001b[0;32m    605\u001b[0m                 \u001b[0museFormat\u001b[0m \u001b[1;33m=\u001b[0m \u001b[1;34m'romanText'\u001b[0m\u001b[1;33m\u001b[0m\u001b[1;33m\u001b[0m\u001b[0m\n\u001b[0;32m    606\u001b[0m             \u001b[1;32melse\u001b[0m\u001b[1;33m:\u001b[0m\u001b[1;33m\u001b[0m\u001b[1;33m\u001b[0m\u001b[0m\n\u001b[1;32m--> 607\u001b[1;33m                 raise ConverterException('File not found or no such format found for: %s' %\n\u001b[0m\u001b[0;32m    608\u001b[0m                                          dataStrMakeStr)\n\u001b[0;32m    609\u001b[0m \u001b[1;33m\u001b[0m\u001b[0m\n",
      "\u001b[1;31mConverterException\u001b[0m: File not found or no such format found for: ./lsxp-WoBenShi-KongChengJi/lsxp-WoBenShi-KongChengJi.xml"
     ]
    }
   ],
   "source": [
    "s = converter.parse(fn)"
   ]
  },
  {
   "cell_type": "markdown",
   "metadata": {},
   "source": [
    "Let's open the score in the score editor that you linked to music21 using the `.show()` method (it might take a little while).\n",
    "\n",
    "⇒ **Note**: if you get an error in the following cell, check the introductory video mentioned at the beginning and also the notebook \"Music21-Settings\" to find ideas for solving it. If it still doesn't work, you can skip the following cell, and all the cells where the `.show()` method is called, and continue with the rest of the notebook. But get in contact with me to solve the issue."
   ]
  },
  {
   "cell_type": "code",
   "execution_count": null,
   "metadata": {},
   "outputs": [],
   "source": [
    "s.show()"
   ]
  },
  {
   "cell_type": "markdown",
   "metadata": {},
   "source": [
    "As you saw in the introductory video, music21 handles scores as streams. In fact, our loaded score saved in variable `s` is a stream of type `score`. All streams in music21 have an attribute called `.elements` that you can call to see the elements contained in that stream, just buy attaching it to the variable in which that stream is saved. In this case, our score is saved in variable `s`, so we can call `s.elements`. Let's see how many and which elements are contained in this score.\n",
    "\n",
    "⇒ **Note**: `.elements` is an attribute of a music21 stream, not a method. Therefore, it doesn't require parenthesis."
   ]
  },
  {
   "cell_type": "code",
   "execution_count": null,
   "metadata": {},
   "outputs": [],
   "source": [
    "# First print how many elements are contained in the score. s.elements is called within the .format() method\n",
    "print(\"This score contatins {} elements:\".format(len(s.elements)))\n",
    "print()\n",
    "\n",
    "# Then, print each element, by looping over s.elements\n",
    "for element in s.elements:\n",
    "    print(element)"
   ]
  },
  {
   "cell_type": "markdown",
   "metadata": {},
   "source": [
    "As you can see, this score, when loaded with music21, contains 7 elements. The first 3 are text boxes, containing the title, subtitle and footer of the score. We are not interested in that. The fourth element is a metadata object, containing information about the score. We also are not interested in that. The last element is a layout object, containing information (like sizes and distances between the score elements) for visually displaying the score using a score editor or similar software. But we want to work with the music. And that is stored in the fifth and sixth elements. As you can see, they are two streams of the type `part`. They have an instrument assigned to them, `piano`, which is assigned by default (not important). These two parts correspond to the two staves contained in our score, the first one for the instrumental accompaniment, and the second one for the vocal line (you can check it in the `.pdf` version of the score).\n",
    "\n",
    "Music21 has an attribute for retrieving only the parts of a score, that is, only the staves, and ignore all text boxes, metadata and layout objects. This attribute is conveniently called `.parts`, and can be called directly on the `score` stream, in this case, `s.parts`.\n",
    "\n",
    "When you retrive objects from a music21 stream using an attribute such as `.parts` or others, music21 likes you to save them in a variable as a new stream. So, in order to do that, you can just add the method `.stream()` at the end, like this: `s.parts.stream()`. This command retrives only the streams of type `part` from the `score` stream and stores them in a new stream. This stream is not of the type `score`, nor `part` nor `measure`, it is just an artificial stream that contains whichever objects we want to store in it. Since it is a stream, we can also call the `.elements` attribute on it to access the elements contained in this new stream.\n",
    "\n",
    "⇒ **Note**: when creating variables, avoid calling them the same way as functions, methods, attributes or other pre-existent elements in the system. For example, now we are going to retrive the parts from the score and save them in a variable. It seems logical to call that variable `parts`. However, `.parts` is a music21 attribute for scores, so this can create problems. I personally like initials, like `s` for score, `p` for part, `m` for measure, `n` for note and so on. And I double the initial when I create a variable that contains more than one of those items, like `pp` for a stream of parts, `mm` for a stream of measures and so on. But this is only my style, you might have a different one!"
   ]
  },
  {
   "cell_type": "code",
   "execution_count": null,
   "metadata": {},
   "outputs": [],
   "source": [
    "# Save the part streams from the score stream in the variable pp as a new stream\n",
    "pp = s.parts.stream()\n",
    "\n",
    "# Check the content of the variable pp using the .elements attribute\n",
    "## Print how many elements are contained\n",
    "print(\"This score containts {} parts:\".format(len(pp.elements)))\n",
    "print()\n",
    "\n",
    "## Loop over the elements and print them out\n",
    "for element in pp.elements:\n",
    "    print(element)"
   ]
  },
  {
   "cell_type": "markdown",
   "metadata": {},
   "source": [
    "Since we know (from looking at the `.pdf` score) that the first of these parts correspond to instrumental accompaniment and the second one to the vocal line, let's save each part in an independent variable."
   ]
  },
  {
   "cell_type": "code",
   "execution_count": null,
   "metadata": {},
   "outputs": [],
   "source": [
    "p_instr = pp[0] # instrumental part\n",
    "p_vocal = pp[1] # vocal part"
   ]
  },
  {
   "cell_type": "markdown",
   "metadata": {},
   "source": [
    "The `.show()` function, used at the beginning, can be call on any stream. This will show the content of that stream in your score editor. Let's just open the vocal part in our score editor using the `.show()` method, to double chek that we saved the vocal line in that variable."
   ]
  },
  {
   "cell_type": "code",
   "execution_count": null,
   "metadata": {},
   "outputs": [],
   "source": [
    "p_vocal.show()"
   ]
  },
  {
   "cell_type": "markdown",
   "metadata": {},
   "source": [
    "Both the instrumental and vocal parts respectively saved in the variables `p_instr` and `p_vocal` are streams. So we can call the `.elements` attribute to access the elements contained in those parts. Let's see now how many elements are contained in each part."
   ]
  },
  {
   "cell_type": "code",
   "execution_count": null,
   "metadata": {},
   "outputs": [],
   "source": [
    "print(\"The instrumental part contains {} elements.\".format(len(p_instr.elements)))\n",
    "print(\"The vocal part contains {} elements.\".format(len(p_vocal.elements)))"
   ]
  },
  {
   "cell_type": "markdown",
   "metadata": {},
   "source": [
    "This is surprising! According to the `.pdf` score, both parts, instrumental and vocal, are equally long. So, why does the vocal part contain many more elements than the instrumental one? Let's print out the elements contained in the vocal part, with their index, for better referencing."
   ]
  },
  {
   "cell_type": "code",
   "execution_count": null,
   "metadata": {},
   "outputs": [],
   "source": [
    "# Loop over the indexes of the vocal part\n",
    "for i in range(len(p_vocal.elements)):\n",
    "    print(i, p_vocal.elements[i]) # print the index and the element in that index position"
   ]
  },
  {
   "cell_type": "markdown",
   "metadata": {},
   "source": [
    "The first element contained in the vocal part, at index 0, is an instrument object, in this case, `piano`. This is done by default, and is used just for the midi playback of the score. Not important for us. The second element, at index 1, is a stream of the type `measure`. And this is important for us! But from index 2 to index 118, all those elements are, as you can see, slur objects. And this is one of the weird issues with music21. All the slurs in the score, are loaded as independent objects separated from the notes they embrace. Even though this is extrange and inconvenient if you want to work with the slurs, it shows that for music21 the essential information of a score are the notes, and the rest is secondary.\n",
    "\n",
    "So, from index 119 on, all the elements are streams of the type `measure`. And this is what we want! Because these measures contain the notes. To retrive only the measures from a part, we can use an interesting method call `.getElementByClass()`. This method retrives all the elements of the class that you give it as input which are contained in the strem on which you call it. So, let's retrive all the measures of the instrumental part and save them in a variable called `mm_instr` (`mm` for 'measures'), and the same for the vocal part. And remember, whenever you retrieve elements from a stream, music21 likes you to save them as a new stream. Finally, let's see if this streams that we created containing only measures are of equal length."
   ]
  },
  {
   "cell_type": "code",
   "execution_count": null,
   "metadata": {},
   "outputs": [],
   "source": [
    "mm_instr = p_instr.getElementsByClass('Measure').stream()\n",
    "mm_vocal = p_vocal.getElementsByClass('Measure').stream()\n",
    "\n",
    "print(\"The instrumental part contains {} measures.\".format(len(mm_instr.elements)))\n",
    "print(\"The vocal part contains {} measures.\".format(len(mm_vocal.elements)))"
   ]
  },
  {
   "cell_type": "markdown",
   "metadata": {},
   "source": [
    "Now it makes sense! Both instrumental and vocal parts contain the same number of measures.\n",
    "\n",
    "Let's check something. If the slurs are contained in the part stream separated from the measures, and therefore the stream that we assigned to variable `mm_vocal` only contains measures, if we open this stream in our score editor using the `.show()` method, we won't see any slur."
   ]
  },
  {
   "cell_type": "code",
   "execution_count": null,
   "metadata": {},
   "outputs": [],
   "source": [
    "mm_vocal.show()"
   ]
  },
  {
   "cell_type": "markdown",
   "metadata": {},
   "source": [
    "To double check that everything is ok, let's print out all the elements contained in the `mm_instr` variable, together with their index:"
   ]
  },
  {
   "cell_type": "code",
   "execution_count": null,
   "metadata": {},
   "outputs": [],
   "source": [
    "for i in range(len(mm_instr.elements)):\n",
    "    print(i, mm_instr.elements[i])"
   ]
  },
  {
   "cell_type": "markdown",
   "metadata": {},
   "source": [
    "Notice that all measures have a number. The measure numbering starts with the first downbeat of the score, that is, measure numeber `1` is the measure with the first downbeat. This score, however, starts with anacrusis. So, the notes of this anacrusis are stored in a measure with number `0`, because they occur before the first downbeat of measure number `1`. Consequently, in the scores that start with anacrusis, the measure number and the measure index are the same. However, if a score does not start with anacrusis, but starts with the first downbeat, the first measure would be number `1`, and there won't be a measure with the number `0`. In those cases, the first measure, that is, the measure at index `0`, would be the measure number `1`, and the index of each measure would be one intenger less than the measure number.\n",
    "\n",
    "So, now that we have all the measures, let's finally go to the notes! For that, let's randomly take measure number `4` (in this case, also at index `4`) from the instrumental part. We will save it in a variable called `im_04` (`i`nstrumental `m`easure number `04`)."
   ]
  },
  {
   "cell_type": "code",
   "execution_count": null,
   "metadata": {},
   "outputs": [],
   "source": [
    "im_04 = mm_instr[4]"
   ]
  },
  {
   "cell_type": "markdown",
   "metadata": {},
   "source": [
    "Since a measure is also a stream, we can call the `.elements` attribute and see what is contained in that measure."
   ]
  },
  {
   "cell_type": "code",
   "execution_count": null,
   "metadata": {},
   "outputs": [],
   "source": [
    "print(\"This measure contains {} elements:\".format(len(im_04.elements)))\n",
    "print()\n",
    "for element in im_04.elements:\n",
    "    print(element)"
   ]
  },
  {
   "cell_type": "markdown",
   "metadata": {},
   "source": [
    "Finally we got to the notes! You can double check that we indeed got measure 4 by comparing the pitches of those notes with the fourth measure of the instrumental part in the `.pdf` file.\n",
    "\n",
    "Or more conveniently, since a measure is a stream, we can also open it in our score editor using the `.show()` method."
   ]
  },
  {
   "cell_type": "code",
   "execution_count": null,
   "metadata": {},
   "outputs": [],
   "source": [
    "im_04.show()"
   ]
  },
  {
   "cell_type": "markdown",
   "metadata": {},
   "source": [
    "Now only this single measure was open. But if you realised, the key signature is no longer there. Why is that?\n",
    "\n",
    "If you remember from the introductory video, clefs, key signatures and time signatures are objects contained in the first measure. So let's retrive the first measure from the instrumental part (in this case, both with index and number `0`), and see which elements are contained there."
   ]
  },
  {
   "cell_type": "code",
   "execution_count": null,
   "metadata": {},
   "outputs": [],
   "source": [
    "im_01 = mm_instr[0]\n",
    "\n",
    "print(\"The first measure of the instrumental part contains {} elements:\".format(len(im_01.elements)))\n",
    "print()\n",
    "for i in range(len(im_01.elements)):\n",
    "    print(i, im_01.elements[i])"
   ]
  },
  {
   "cell_type": "markdown",
   "metadata": {},
   "source": [
    "The first element (index `0`) in the first measure is a layout object, not important for us. Then, objects at indexes `1`, `2`, and `3` respectively are a clef object, a key signature object and a time signature object. And from index `4` on we have notes, including one rest, which, for music21, is a special kind of note. We will work in more detail with clefs, key signatures, time signatures and rests in the next notebooks.\n",
    "\n",
    "Now, let's focus on the notes. We can access just the notes in a measure stream with the attribute `.notes`, which works exactly in the same way as the attribute `.parts` for accessing the parts of a score stream. So, let's retrieve all the notes from the first measure and save them in the variable `nn`."
   ]
  },
  {
   "cell_type": "code",
   "execution_count": null,
   "metadata": {},
   "outputs": [],
   "source": [
    "nn = im_01.notes.stream()\n",
    "\n",
    "print(\"This measure contains {} notes\".format(len(nn.elements)))\n",
    "print()\n",
    "for n in nn.elements:\n",
    "    print(n)"
   ]
  },
  {
   "cell_type": "markdown",
   "metadata": {},
   "source": [
    "As you see, the stream saved in the variable `nn` only contains notes, not clef, key signature, time signature, nor rests.\n",
    "\n",
    "Most of the work with music21 consists in retrieving information from notes, so this would be the major task for learning to use music21, and we will work on that in detail in the next notebooks. But let's have now just a glimpse of what can be done. Notes are very complex objects, which have many attributes and methods. Here, we will use one attribute for retriving the pitch class and octave of a note, called `.nameWithOctave`. Then, we will use another one for retrieving the duration of a note, called `.quarterLength`. This attribute has this name because duration in music21 is measured in terms of quarter notes. So, the attribute `.quarterLength` returns a number corresponding to how many quarter notes a note is performed (if it is smaller than a quarter note, then a decimal number is returned).\n",
    "\n",
    "So, let's take the first note from the notes of the first measure of the instrumental part, that were saved in the variable `nn`, and save it in the variable `n_01`, so that we can call the methods `.nameWithOctave` and `.quarterLength` on it."
   ]
  },
  {
   "cell_type": "code",
   "execution_count": null,
   "metadata": {},
   "outputs": [],
   "source": [
    "n_01 = nn[0]\n",
    "\n",
    "print(\"The pitch of this note, including octave, is\", n_01.nameWithOctave)\n",
    "print(\"The duration of this note, in terms of quarter notes, is\", n_01.quarterLength)"
   ]
  },
  {
   "cell_type": "markdown",
   "metadata": {},
   "source": [
    "We can also loop over all the notes in the variable `nn` and print the pitch and duration of each of them."
   ]
  },
  {
   "cell_type": "code",
   "execution_count": null,
   "metadata": {},
   "outputs": [],
   "source": [
    "for i in range(len(nn)):\n",
    "    n = nn[i]\n",
    "    np = n.nameWithOctave\n",
    "    nd = n.quarterLength\n",
    "    print(\"Note {}: pitch {}, duration {}\".format(i+1, np, nd))"
   ]
  },
  {
   "cell_type": "markdown",
   "metadata": {},
   "source": [
    "This is already quite something! Now you know how to retrieve the parts of a score ignoring all text boxes, metadata and layout objects. For each of the parts of a score, you know how to retrieve the measures, ignoring the instrument and slur objects. For each measure, you know how to retrieve the notes, ignoring layout, clef, key signature, time signature and rest objects. And for each note, you know how to retrieve the pitch and the duration. Not bad! Now you can apply all the python you know to start implementing your analyses!"
   ]
  },
  {
   "cell_type": "code",
   "execution_count": null,
   "metadata": {},
   "outputs": [],
   "source": [
    "# Your code here (optional)\n",
    "\n",
    "\n"
   ]
  }
 ],
 "metadata": {
  "kernelspec": {
   "display_name": "Python 3",
   "language": "python",
   "name": "python3"
  },
  "language_info": {
   "codemirror_mode": {
    "name": "ipython",
    "version": 3
   },
   "file_extension": ".py",
   "mimetype": "text/x-python",
   "name": "python",
   "nbconvert_exporter": "python",
   "pygments_lexer": "ipython3",
   "version": "3.8.1"
  }
 },
 "nbformat": 4,
 "nbformat_minor": 2
}
