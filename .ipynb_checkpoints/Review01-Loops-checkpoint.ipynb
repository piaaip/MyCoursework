{
 "cells": [
  {
   "cell_type": "markdown",
   "metadata": {},
   "source": [
    "# Review 1. Loops\n",
    "This notebook reviews the use of the `for` loops with strings, as presented in Notebook 3, and also with lists, since the same logic is followed.\n",
    "\n",
    "These exercises use the functions `len()` and `range()`, also presented in Notebook 3."
   ]
  },
  {
   "cell_type": "markdown",
   "metadata": {},
   "source": [
    "## Exercise 1. Debugging\n",
    "⇒ **Note**: The goal of these exersices is to let you familiarize yourself with `for` loops before start using them on your own. So, before running the cell, read the code, try to understand what it aims to do, and therefore, try to predict the expected output, and also try to find the error and fix it before reading the `Error` message."
   ]
  },
  {
   "cell_type": "markdown",
   "metadata": {},
   "source": [
    "### 1.1"
   ]
  },
  {
   "cell_type": "code",
   "execution_count": 2,
   "metadata": {},
   "outputs": [
    {
     "name": "stdout",
     "output_type": "stream",
     "text": [
      "P\n",
      "y\n",
      "t\n",
      "h\n",
      "o\n",
      "n\n"
     ]
    }
   ],
   "source": [
    "word = \"Python\"\n",
    "\n",
    "for letter in word:\n",
    "    print(letter)"
   ]
  },
  {
   "cell_type": "markdown",
   "metadata": {},
   "source": [
    "### 1.2"
   ]
  },
  {
   "cell_type": "code",
   "execution_count": 4,
   "metadata": {},
   "outputs": [
    {
     "name": "stdout",
     "output_type": "stream",
     "text": [
      "C4\n",
      "E4\n",
      "G4\n",
      "C5\n"
     ]
    }
   ],
   "source": [
    "pitches = ['C4', 'E4', 'G4', 'C5']\n",
    "\n",
    "for pitch in pitches:\n",
    "    print(pitch)"
   ]
  },
  {
   "cell_type": "markdown",
   "metadata": {},
   "source": [
    "### 1.3"
   ]
  },
  {
   "cell_type": "code",
   "execution_count": 7,
   "metadata": {},
   "outputs": [
    {
     "name": "stdout",
     "output_type": "stream",
     "text": [
      "H\n",
      "a\n",
      "r\n",
      "m\n",
      "o\n",
      "n\n",
      "i\n",
      "k\n",
      "a\n"
     ]
    }
   ],
   "source": [
    "instrument = \"Harmonika\"\n",
    "\n",
    "for letter in instrument:\n",
    "    print(letter)"
   ]
  },
  {
   "cell_type": "markdown",
   "metadata": {},
   "source": [
    "### 1.4"
   ]
  },
  {
   "cell_type": "code",
   "execution_count": 11,
   "metadata": {},
   "outputs": [
    {
     "name": "stdout",
     "output_type": "stream",
     "text": [
      "True\n"
     ]
    }
   ],
   "source": [
    "jibberjabber = \"Supercalifragilisticexpialidocious\"\n",
    "\n",
    "letterCount = 0\n",
    "\n",
    "for jj in jibberjabber:\n",
    "    letterCount += 1\n",
    "    \n",
    "print(letterCount == len(jibberjabber))\n"
   ]
  },
  {
   "cell_type": "markdown",
   "metadata": {},
   "source": [
    "### 1.5"
   ]
  },
  {
   "cell_type": "code",
   "execution_count": 14,
   "metadata": {},
   "outputs": [
    {
     "name": "stdout",
     "output_type": "stream",
     "text": [
      "The total duration of these notes is 9.0.\n"
     ]
    }
   ],
   "source": [
    "noteDurations = [1, 1, 0.5, 1.5, 1, 1, 2, 0.5, 0.5]\n",
    "\n",
    "totalDuration = 0\n",
    "\n",
    "for nd in noteDurations:\n",
    "    totalDuration += nd\n",
    "\n",
    "print(\"The total duration of these notes is {}.\" .format(totalDuration))"
   ]
  },
  {
   "cell_type": "markdown",
   "metadata": {},
   "source": [
    "### 1.6\n",
    "This exercise does not output an error, but if you understand what it aims to do, you will spot the mistake."
   ]
  },
  {
   "cell_type": "code",
   "execution_count": 18,
   "metadata": {},
   "outputs": [
    {
     "name": "stdout",
     "output_type": "stream",
     "text": [
      "Today's shopping costed 77.99 Euros.\n"
     ]
    }
   ],
   "source": [
    "expenses = [14.5, 7.99, 3.25, 12, 5.20, 23, 12.05]\n",
    "\n",
    "total = 0\n",
    "\n",
    "for price in expenses:\n",
    "    total += price\n",
    "    \n",
    "print(\"Today's shopping costed {} Euros.\".format(total))"
   ]
  },
  {
   "cell_type": "markdown",
   "metadata": {},
   "source": [
    "### 1.7"
   ]
  },
  {
   "cell_type": "code",
   "execution_count": 20,
   "metadata": {},
   "outputs": [
    {
     "name": "stdout",
     "output_type": "stream",
     "text": [
      "The letter number 1 is U.\n",
      "The letter number 2 is N.\n",
      "The letter number 3 is I.\n",
      "The letter number 4 is C.\n",
      "The letter number 5 is E.\n",
      "The letter number 6 is F.\n"
     ]
    }
   ],
   "source": [
    "institution = \"UNICEF\"\n",
    "\n",
    "letterCount = 0\n",
    "\n",
    "for letter in institution:\n",
    "    letterCount += 1\n",
    "    print(\"The letter number {} is {}.\".format(letterCount, letter))"
   ]
  },
  {
   "cell_type": "markdown",
   "metadata": {},
   "source": [
    "### 1.8"
   ]
  },
  {
   "cell_type": "code",
   "execution_count": 22,
   "metadata": {},
   "outputs": [
    {
     "name": "stdout",
     "output_type": "stream",
     "text": [
      "0\n",
      "1\n",
      "2\n",
      "3\n",
      "4\n",
      "5\n",
      "6\n",
      "7\n",
      "8\n",
      "9\n"
     ]
    }
   ],
   "source": [
    "for i in range(10):\n",
    "    print(i)"
   ]
  },
  {
   "cell_type": "markdown",
   "metadata": {},
   "source": [
    "### 1.9"
   ]
  },
  {
   "cell_type": "code",
   "execution_count": 24,
   "metadata": {},
   "outputs": [
    {
     "name": "stdout",
     "output_type": "stream",
     "text": [
      "2 raised to the power of 0 equals 1\n",
      "2 raised to the power of 1 equals 2\n",
      "2 raised to the power of 2 equals 4\n",
      "2 raised to the power of 3 equals 8\n",
      "2 raised to the power of 4 equals 16\n",
      "2 raised to the power of 5 equals 32\n",
      "2 raised to the power of 6 equals 64\n",
      "2 raised to the power of 7 equals 128\n",
      "2 raised to the power of 8 equals 256\n",
      "2 raised to the power of 9 equals 512\n"
     ]
    }
   ],
   "source": [
    "for exponent in range(10):\n",
    "    print(\"2 raised to the power of {} equals {}\".format(exponent, 2**exponent))"
   ]
  },
  {
   "cell_type": "markdown",
   "metadata": {},
   "source": [
    "### 1.10"
   ]
  },
  {
   "cell_type": "code",
   "execution_count": 25,
   "metadata": {},
   "outputs": [
    {
     "name": "stdout",
     "output_type": "stream",
     "text": [
      "8\n",
      "9\n",
      "10\n",
      "11\n"
     ]
    }
   ],
   "source": [
    "for j in range(8, 12):\n",
    "    print(j)"
   ]
  },
  {
   "cell_type": "markdown",
   "metadata": {},
   "source": [
    "### 1.11"
   ]
  },
  {
   "cell_type": "code",
   "execution_count": 23,
   "metadata": {},
   "outputs": [
    {
     "name": "stdout",
     "output_type": "stream",
     "text": [
      "10\n",
      "20\n",
      "30\n",
      "40\n",
      "50\n",
      "60\n",
      "70\n",
      "80\n",
      "90\n"
     ]
    }
   ],
   "source": [
    "for k in range(10, 100, 10):\n",
    "    print(k)\n",
    "    \n",
    "    "
   ]
  },
  {
   "cell_type": "markdown",
   "metadata": {},
   "source": [
    "### 1.12"
   ]
  },
  {
   "cell_type": "code",
   "execution_count": 31,
   "metadata": {},
   "outputs": [
    {
     "name": "stdout",
     "output_type": "stream",
     "text": [
      "F\n",
      "o\n",
      "r\n",
      "e\n",
      "l\n",
      "l\n",
      "e\n"
     ]
    }
   ],
   "source": [
    "word = \"Forelle\"\n",
    "\n",
    "for i in range(len(word)):\n",
    "    print(word[i])"
   ]
  },
  {
   "cell_type": "markdown",
   "metadata": {},
   "source": [
    "### 1.13"
   ]
  },
  {
   "cell_type": "code",
   "execution_count": 36,
   "metadata": {},
   "outputs": [
    {
     "name": "stdout",
     "output_type": "stream",
     "text": [
      "Index: 6. Letter: m.\n",
      "Index: 7. Letter: a.\n",
      "Index: 8. Letter: n.\n"
     ]
    }
   ],
   "source": [
    "word = \"Spiderman\"\n",
    "\n",
    "for i in range(6, len(word)):\n",
    "    print(\"Index: {}. Letter: {}.\" .format(i, word[i]))"
   ]
  },
  {
   "cell_type": "markdown",
   "metadata": {},
   "source": [
    "### 1.14"
   ]
  },
  {
   "cell_type": "code",
   "execution_count": 38,
   "metadata": {},
   "outputs": [
    {
     "name": "stdout",
     "output_type": "stream",
     "text": [
      "The fun days are:\n",
      "Friday\n",
      "Saturday\n",
      "Sunday\n"
     ]
    }
   ],
   "source": [
    "days = [\"Monday\", \"Tuesday\", \"Wednesday\", \"Thursday\", \"Friday\", \"Saturday\", \"Sunday\"]\n",
    "\n",
    "print(\"The fun days are:\")\n",
    "\n",
    "for j in range(4, len(days)):\n",
    "    print(days[j])"
   ]
  },
  {
   "cell_type": "markdown",
   "metadata": {},
   "source": [
    "### 1.15"
   ]
  },
  {
   "cell_type": "code",
   "execution_count": 39,
   "metadata": {},
   "outputs": [
    {
     "name": "stdout",
     "output_type": "stream",
     "text": [
      "Number 1: Sussanne\n",
      "Number 2: Megana\n",
      "Number 3: Eric\n",
      "Number 4: Ouahiba\n",
      "Number 5: Katsunobu\n"
     ]
    }
   ],
   "source": [
    "arrivalOrder = [\"Sussanne\", \"Megana\", \"Eric\", \"Ouahiba\", \"Katsunobu\"]\n",
    "\n",
    "for i in range(len(arrivalOrder)):\n",
    "    name = arrivalOrder[i]\n",
    "    arrivalNumber = i + 1\n",
    "    print(\"Number {}: {}\" .format(arrivalNumber, name))"
   ]
  },
  {
   "cell_type": "markdown",
   "metadata": {},
   "source": [
    "### 1.16"
   ]
  },
  {
   "cell_type": "code",
   "execution_count": 42,
   "metadata": {},
   "outputs": [
    {
     "name": "stdout",
     "output_type": "stream",
     "text": [
      "The even months are:\n",
      "\tFebruary\n",
      "\tApril\n",
      "\tJune\n",
      "\tSeptember\n",
      "\tNovember\n",
      "\n",
      "The odd months are:\n",
      "\tJanuary\n",
      "\tMarch\n",
      "\tMay\n",
      "\tJuly\n",
      "\tOctober\n",
      "\tDecember\n"
     ]
    }
   ],
   "source": [
    "months = [\"January\", \"February\", \"March\", \"April\", \"May\", \"June\", \"July\", \"September\", \"October\", \"November\", \"December\"]\n",
    "\n",
    "print(\"The even months are:\")\n",
    "\n",
    "for em in range(1, len(months), 2):\n",
    "    print(\"\\t\" + months[em])\n",
    "    \n",
    "print()\n",
    "print(\"The odd months are:\")\n",
    "\n",
    "for om in range(0, len(months), 2):\n",
    "    print(\"\\t\" + months[om])"
   ]
  },
  {
   "cell_type": "markdown",
   "metadata": {},
   "source": [
    "### 1.17"
   ]
  },
  {
   "cell_type": "code",
   "execution_count": 45,
   "metadata": {},
   "outputs": [
    {
     "name": "stdout",
     "output_type": "stream",
     "text": [
      "tut\n",
      "utt\n",
      "tti\n",
      "tif\n",
      "ifr\n",
      "fru\n",
      "rut\n",
      "utt\n",
      "tti\n",
      "\n",
      "pot\n",
      "otp\n",
      "tpo\n",
      "pou\n",
      "our\n",
      "urr\n",
      "rri\n"
     ]
    }
   ],
   "source": [
    "lookAhead = \"tuttifrutti\"\n",
    "\n",
    "for i in range(len(lookAhead)-2): # iterate from the beginning to two to the last\n",
    "    print(lookAhead[i:i+3])       # slice from the letter in the current index to the next two ones\n",
    "    \n",
    "print()\n",
    "    \n",
    "lookBackwards = \"potpourri\"\n",
    "\n",
    "for j in range(2, len(lookBackwards)): # iterate from the 3rd letter to the end\n",
    "    print(lookBackwards[j-2:j+1])       # slice from two letters before to the one in the current index.\n",
    "                                       # REMEMBER: a slice goes from the first given index to the index before the second one\n",
    "                                       # So, if you want the letters from indexes 4 to 6, you have to give the slice [4:7]"
   ]
  },
  {
   "cell_type": "markdown",
   "metadata": {},
   "source": [
    "### 1.18"
   ]
  },
  {
   "cell_type": "code",
   "execution_count": 46,
   "metadata": {},
   "outputs": [
    {
     "name": "stdout",
     "output_type": "stream",
     "text": [
      "dootiki\n",
      "tikinhec\n",
      "nhecstrumpf\n",
      "strumpfaru\n",
      "arumbye\n",
      "mbyecak\n"
     ]
    }
   ],
   "source": [
    "nonsense = [\"doo\", \"tiki\", \"nhec\", \"strumpf\", \"aru\", \"mbye\", \"cak\"]\n",
    "\n",
    "for x in range(len(nonsense)-1):\n",
    "    funnyword = nonsense[x] + nonsense[x+1]\n",
    "    print(funnyword)"
   ]
  },
  {
   "cell_type": "markdown",
   "metadata": {},
   "source": [
    "A `for` loop can be nested in another `for` loop. In these cases, all the iterations of the second loop have to finish before the first loop moves to the next iteration. Try to understand this process in the following two cells:\n",
    "### 1.19"
   ]
  },
  {
   "cell_type": "code",
   "execution_count": 47,
   "metadata": {},
   "outputs": [
    {
     "name": "stdout",
     "output_type": "stream",
     "text": [
      "January has 7 letters\n",
      "February has 8 letters\n",
      "March has 5 letters\n",
      "April has 5 letters\n",
      "May has 3 letters\n",
      "June has 4 letters\n",
      "July has 4 letters\n",
      "September has 9 letters\n",
      "October has 7 letters\n",
      "November has 8 letters\n",
      "December has 8 letters\n"
     ]
    }
   ],
   "source": [
    "# Count (the hard way) how many letters has each month\n",
    "\n",
    "months = [\"January\", \"February\", \"March\", \"April\", \"May\", \"June\", \"July\", \"September\", \"October\", \"November\", \"December\"]\n",
    "\n",
    "for month in months:\n",
    "    # Create a counter\n",
    "    counter = 0 # This counter is created with the value of 0 for each iteration\n",
    "    for letter in month:\n",
    "        counter += 1\n",
    "    print(\"{} has {} letters\".format(month, counter))"
   ]
  },
  {
   "cell_type": "markdown",
   "metadata": {},
   "source": [
    "### 1.20"
   ]
  },
  {
   "cell_type": "code",
   "execution_count": 26,
   "metadata": {},
   "outputs": [
    {
     "name": "stdout",
     "output_type": "stream",
     "text": [
      "1st level: i == 2\n",
      "\t 2nd level: j == 1\n",
      "1st level: i == 5\n",
      "\t 2nd level: j == 1\n",
      "\t 2nd level: j == 2\n",
      "\t\t3rd level: k == 1\n",
      "\t 2nd level: j == 3\n",
      "\t\t3rd level: k == 1\n",
      "\t\t3rd level: k == 2\n",
      "\t 2nd level: j == 4\n",
      "\t\t3rd level: k == 1\n",
      "\t\t3rd level: k == 2\n",
      "\t\t3rd level: k == 3\n",
      "1st level: i == 8\n",
      "\t 2nd level: j == 1\n",
      "\t 2nd level: j == 2\n",
      "\t\t3rd level: k == 1\n",
      "\t 2nd level: j == 3\n",
      "\t\t3rd level: k == 1\n",
      "\t\t3rd level: k == 2\n",
      "\t 2nd level: j == 4\n",
      "\t\t3rd level: k == 1\n",
      "\t\t3rd level: k == 2\n",
      "\t\t3rd level: k == 3\n",
      "\t 2nd level: j == 5\n",
      "\t\t3rd level: k == 1\n",
      "\t\t3rd level: k == 2\n",
      "\t\t3rd level: k == 3\n",
      "\t\t3rd level: k == 4\n",
      "\t 2nd level: j == 6\n",
      "\t\t3rd level: k == 1\n",
      "\t\t3rd level: k == 2\n",
      "\t\t3rd level: k == 3\n",
      "\t\t3rd level: k == 4\n",
      "\t\t3rd level: k == 5\n",
      "\t 2nd level: j == 7\n",
      "\t\t3rd level: k == 1\n",
      "\t\t3rd level: k == 2\n",
      "\t\t3rd level: k == 3\n",
      "\t\t3rd level: k == 4\n",
      "\t\t3rd level: k == 5\n",
      "\t\t3rd level: k == 6\n",
      "1st level: i == 11\n",
      "\t 2nd level: j == 1\n",
      "\t 2nd level: j == 2\n",
      "\t\t3rd level: k == 1\n",
      "\t 2nd level: j == 3\n",
      "\t\t3rd level: k == 1\n",
      "\t\t3rd level: k == 2\n",
      "\t 2nd level: j == 4\n",
      "\t\t3rd level: k == 1\n",
      "\t\t3rd level: k == 2\n",
      "\t\t3rd level: k == 3\n",
      "\t 2nd level: j == 5\n",
      "\t\t3rd level: k == 1\n",
      "\t\t3rd level: k == 2\n",
      "\t\t3rd level: k == 3\n",
      "\t\t3rd level: k == 4\n",
      "\t 2nd level: j == 6\n",
      "\t\t3rd level: k == 1\n",
      "\t\t3rd level: k == 2\n",
      "\t\t3rd level: k == 3\n",
      "\t\t3rd level: k == 4\n",
      "\t\t3rd level: k == 5\n",
      "\t 2nd level: j == 7\n",
      "\t\t3rd level: k == 1\n",
      "\t\t3rd level: k == 2\n",
      "\t\t3rd level: k == 3\n",
      "\t\t3rd level: k == 4\n",
      "\t\t3rd level: k == 5\n",
      "\t\t3rd level: k == 6\n",
      "\t 2nd level: j == 8\n",
      "\t\t3rd level: k == 1\n",
      "\t\t3rd level: k == 2\n",
      "\t\t3rd level: k == 3\n",
      "\t\t3rd level: k == 4\n",
      "\t\t3rd level: k == 5\n",
      "\t\t3rd level: k == 6\n",
      "\t\t3rd level: k == 7\n",
      "\t 2nd level: j == 9\n",
      "\t\t3rd level: k == 1\n",
      "\t\t3rd level: k == 2\n",
      "\t\t3rd level: k == 3\n",
      "\t\t3rd level: k == 4\n",
      "\t\t3rd level: k == 5\n",
      "\t\t3rd level: k == 6\n",
      "\t\t3rd level: k == 7\n",
      "\t\t3rd level: k == 8\n",
      "\t 2nd level: j == 10\n",
      "\t\t3rd level: k == 1\n",
      "\t\t3rd level: k == 2\n",
      "\t\t3rd level: k == 3\n",
      "\t\t3rd level: k == 4\n",
      "\t\t3rd level: k == 5\n",
      "\t\t3rd level: k == 6\n",
      "\t\t3rd level: k == 7\n",
      "\t\t3rd level: k == 8\n",
      "\t\t3rd level: k == 9\n"
     ]
    }
   ],
   "source": [
    "for i in range(2, 12, 3):\n",
    "    print(\"1st level: i ==\", i)\n",
    "    for j in range(1, i):\n",
    "        print(\"\\t 2nd level: j ==\", j)    \n",
    "        for k in range(1, j):\n",
    "            print(\"\\t\\t3rd level: k ==\", k)"
   ]
  },
  {
   "cell_type": "markdown",
   "metadata": {},
   "source": [
    "## Exercise 2. Do your loops!\n",
    "In the following exercises, I describe what your loop has to do over a given string or list, and I give you the output that you have to obtain. Write a loop so that you get the same output as the given one.\n",
    "\n",
    "Some of these exercises have hints. However, try to solve them first without reading the hints."
   ]
  },
  {
   "cell_type": "markdown",
   "metadata": {},
   "source": [
    "### 2.1\n",
    "Write a loop that iterates over a word and prints all the letters.\n",
    "\n",
    "Expected output:\n",
    "\n",
    "    L\n",
    "    o\n",
    "    o\n",
    "    p\n",
    "    l\n",
    "    o\n",
    "    v\n",
    "    e"
   ]
  },
  {
   "cell_type": "code",
   "execution_count": 55,
   "metadata": {},
   "outputs": [
    {
     "name": "stdout",
     "output_type": "stream",
     "text": [
      "L\n",
      "o\n",
      "o\n",
      "p\n",
      "l\n",
      "o\n",
      "v\n",
      "e\n"
     ]
    }
   ],
   "source": [
    "word = \"Looplove\"\n",
    "\n",
    "# Your loop here:\n",
    "\n",
    "for x in word:\n",
    "    print(x)"
   ]
  },
  {
   "cell_type": "markdown",
   "metadata": {},
   "source": [
    "### 2.2\n",
    "Write a loop that iterates over a word and prints the index of each letter.\n",
    "\n",
    "Expected output:\n",
    "\n",
    "    0\n",
    "    1\n",
    "    2\n",
    "    3\n",
    "    4\n",
    "    5\n",
    "    6\n",
    "    7\n",
    "\n",
    "⇒ *Hint*: use the functions `range()` and `len()`"
   ]
  },
  {
   "cell_type": "code",
   "execution_count": 27,
   "metadata": {},
   "outputs": [
    {
     "name": "stdout",
     "output_type": "stream",
     "text": [
      "\n",
      "The word Looplove has 8 letters.\n",
      "\n",
      "0\n",
      "1\n",
      "2\n",
      "3\n",
      "4\n",
      "5\n",
      "6\n",
      "7\n"
     ]
    }
   ],
   "source": [
    "word = \"Looplove\"\n",
    "\n",
    "# Your loop here:\n",
    "\n",
    "counter = 0\n",
    "\n",
    "for x in range(len(word)):\n",
    "    counter += 1\n",
    "print(\"\\nThe word {} has {} letters.\" .format(word, counter))\n",
    "print()\n",
    "    \n",
    "for x in range(8):\n",
    "    print(x)"
   ]
  },
  {
   "cell_type": "markdown",
   "metadata": {},
   "source": [
    "### 2.3\n",
    "Write a loop that iterates over a list and prints each element of the list.\n",
    "\n",
    "Expected output:\n",
    "\n",
    "    apple\n",
    "    pear\n",
    "    mango\n",
    "    strawberry\n",
    "    grape"
   ]
  },
  {
   "cell_type": "code",
   "execution_count": 80,
   "metadata": {},
   "outputs": [
    {
     "name": "stdout",
     "output_type": "stream",
     "text": [
      "apple\n",
      "pear\n",
      "mango\n",
      "strawberry\n",
      "grape\n"
     ]
    }
   ],
   "source": [
    "fruits = [\"apple\", \"pear\", \"mango\", \"strawberry\", \"grape\"]\n",
    "\n",
    "# Your loop here:\n",
    "for fruit in fruits: \n",
    "    print(fruit)\n"
   ]
  },
  {
   "cell_type": "markdown",
   "metadata": {},
   "source": [
    "### 2.4\n",
    "Write a loop that iterates over a list and prints a message with the index of each element, and the element itself.\n",
    "\n",
    "Expected output:\n",
    "\n",
    "    Fruit in index 0 is apple.\n",
    "    Fruit in index 1 is pear.\n",
    "    Fruit in index 2 is mango.\n",
    "    Fruit in index 3 is strawberry.\n",
    "    Fruit in index 4 is grape."
   ]
  },
  {
   "cell_type": "code",
   "execution_count": 29,
   "metadata": {},
   "outputs": [
    {
     "name": "stdout",
     "output_type": "stream",
     "text": [
      "Fruit in index 1 is apple.\n",
      "Fruit in index 2 is pear.\n",
      "Fruit in index 3 is mango.\n",
      "Fruit in index 4 is strawberry.\n",
      "Fruit in index 5 is grape.\n"
     ]
    }
   ],
   "source": [
    "fruits = [\"apple\", \"pear\", \"mango\", \"strawberry\", \"grape\"]\n",
    "\n",
    "# Your loop here:\n",
    "\n",
    "for i in range(len(fruits)):\n",
    "    fruit_number = i + 1\n",
    "    fruit = fruits[i]\n",
    "    print(\"Fruit in index {} is {}.\" .format(fruit_number, fruit))\n",
    "    \n"
   ]
  },
  {
   "cell_type": "markdown",
   "metadata": {},
   "source": [
    "### 2.5\n",
    "Write a loop that iterates over a list a numbers, multiplies each number by 2 and adds 5 to it, and prints the result.\n",
    "\n",
    "Expected output:\n",
    "\n",
    "    11\n",
    "    9\n",
    "    17\n",
    "    15\n",
    "    13"
   ]
  },
  {
   "cell_type": "code",
   "execution_count": 4,
   "metadata": {},
   "outputs": [
    {
     "name": "stdout",
     "output_type": "stream",
     "text": [
      "11\n",
      "9\n",
      "17\n",
      "15\n",
      "13\n"
     ]
    }
   ],
   "source": [
    "numbers = [3, 2, 6, 5, 4]\n",
    "\n",
    "# Your loop here:\n",
    "\n",
    "for i in numbers:\n",
    "    print(i*2+5)\n",
    "    \n"
   ]
  },
  {
   "cell_type": "markdown",
   "metadata": {},
   "source": [
    "### 2.6\n",
    "Write a loop that iterates over a string and prints it from the current index to the end.\n",
    "\n",
    "Expected output:\n",
    "\n",
    "    disappearing\n",
    "    isappearing\n",
    "    sappearing\n",
    "    appearing\n",
    "    ppearing\n",
    "    pearing\n",
    "    earing\n",
    "    aring\n",
    "    ring\n",
    "    ing\n",
    "    ng\n",
    "    g"
   ]
  },
  {
   "cell_type": "code",
   "execution_count": 7,
   "metadata": {},
   "outputs": [
    {
     "name": "stdout",
     "output_type": "stream",
     "text": [
      "disappearing\n",
      "isappearing\n",
      "sappearing\n",
      "appearing\n",
      "ppearing\n",
      "pearing\n",
      "earing\n",
      "aring\n",
      "ring\n",
      "ing\n",
      "ng\n",
      "g\n"
     ]
    }
   ],
   "source": [
    "word = \"disappearing\"\n",
    "\n",
    "# Your loop here:\n",
    "\n",
    "for i in range(len(word)): \n",
    "    print(word[i:])"
   ]
  },
  {
   "cell_type": "markdown",
   "metadata": {},
   "source": [
    "### 2.7\n",
    "Write a loop that iterates over a list of numbers and prints the addition of the number in the current index plus the number in the next index.\n",
    "\n",
    "Expected output:\n",
    "\n",
    "    30.5\n",
    "    33.5\n",
    "    34.7\n",
    "    35.6\n",
    "    39.5\n",
    "    44.0\n",
    "    46.3\n",
    "\n",
    "⇒ *Hint*: if for every iteration you take the number in the current index and the next one, you have to stop iterating one before the last."
   ]
  },
  {
   "cell_type": "code",
   "execution_count": 10,
   "metadata": {},
   "outputs": [
    {
     "name": "stdout",
     "output_type": "stream",
     "text": [
      "30.5\n",
      "33.5\n",
      "34.7\n",
      "35.6\n",
      "39.5\n",
      "44.0\n",
      "46.3\n"
     ]
    }
   ],
   "source": [
    "temperatures = [14.2, 16.3, 17.2, 17.5, 18.1, 21.4, 22.6, 23.7]\n",
    "\n",
    "# Your loop here:\n",
    "for i in range(len(temperatures)-1):\n",
    "    tempNow = temperatures[i] + temperatures [i+1]\n",
    "    print(tempNow)"
   ]
  },
  {
   "cell_type": "markdown",
   "metadata": {},
   "source": [
    "### 2.8\n",
    "Write a loop that iterates over a list of numbers and prints the mean between the number in the current index plus the number in the next index.\n",
    "\n",
    "Expected output:\n",
    "\n",
    "    15.25\n",
    "    16.75\n",
    "    17.35\n",
    "    17.8\n",
    "    19.75\n",
    "    22.0\n",
    "    23.15\n",
    "    \n",
    "⇒ *Hint*: to obtain the mean, sum the two numbers and divide the result by `2`"
   ]
  },
  {
   "cell_type": "code",
   "execution_count": 11,
   "metadata": {},
   "outputs": [
    {
     "name": "stdout",
     "output_type": "stream",
     "text": [
      "15.25\n",
      "16.75\n",
      "17.35\n",
      "17.8\n",
      "19.75\n",
      "22.0\n",
      "23.15\n"
     ]
    }
   ],
   "source": [
    "temperatures = [14.2, 16.3, 17.2, 17.5, 18.1, 21.4, 22.6, 23.7]\n",
    "\n",
    "# Your loop here:\n",
    "for i in range(len(temperatures)-1):\n",
    "    tempNow = (temperatures[i] + temperatures [i+1])/2\n",
    "    print(tempNow)\n"
   ]
  },
  {
   "cell_type": "markdown",
   "metadata": {},
   "source": [
    "### 2.9\n",
    "Write a loop that iterates over a list of numbers from the second one onwards, and prints the difference between the number in the current index and the first one.\n",
    "\n",
    "Expected output:\n",
    "\n",
    "    2.1000000000000014\n",
    "    3.0\n",
    "    3.3000000000000007\n",
    "    3.900000000000002\n",
    "    7.199999999999999\n",
    "    8.400000000000002\n",
    "    9.5\n",
    "\n",
    "⇒ *Hint*: you should start iterating from the second index.\n",
    "\n",
    "⇒ **Note**: these results might seem incorrect to you. However, they are related to how computers handle floating points. If you'd like to understand the issue, here's the [Floating Point Guide](https://floating-point-gui.de/) (good luck with it!). Of course you don't need to understand this for this course. What you need to learn from this is that working with floating points is always tricky, and that the difference between `2.1000000000000014` and `2.1`, and between `7.199999999999999` and `7.2` is insignificant. You can solve this issue with the many options for rounding numbers (and other methods that we will see). And yes, computers can be a little bit imprecise sometimes..."
   ]
  },
  {
   "cell_type": "code",
   "execution_count": 12,
   "metadata": {},
   "outputs": [
    {
     "name": "stdout",
     "output_type": "stream",
     "text": [
      "2.1000000000000014\n",
      "3.0\n",
      "3.3000000000000007\n",
      "3.900000000000002\n",
      "7.199999999999999\n",
      "8.400000000000002\n",
      "9.5\n"
     ]
    }
   ],
   "source": [
    "temperatures = [14.2, 16.3, 17.2, 17.5, 18.1, 21.4, 22.6, 23.7]\n",
    "\n",
    "# Your loop here:\n",
    "\n",
    "for i in range(1, len(temperatures)):\n",
    "    x = temperatures[0]\n",
    "    tempNow = temperatures [i] - x\n",
    "    print(tempNow)"
   ]
  },
  {
   "cell_type": "markdown",
   "metadata": {},
   "source": [
    "### 2.10\n",
    "Write a loop that iterates over a list of numbers and prints the percentage of increase with respect to the previous number (only two decimals).\n",
    "\n",
    "Expected output:\n",
    "\n",
    "    14.79%\n",
    "    5.52%\n",
    "    1.74%\n",
    "    3.43%\n",
    "    18.23%\n",
    "    5.61%\n",
    "    4.87%\n",
    "\n",
    "⇒ *Hint*: if for every iteration you need to take the number in the current index and the one in the previous index, think at what index you should start\n",
    "\n",
    "⇒ *Hint*: to compute the percentage of increase, first subtract the previous number to the current one, and then, divide the difference by the previous number and multiply the result by 100:\n",
    "```Python\n",
    "difference = currentNumber - previousNumber\n",
    "percentage = difference / previousNumber * 100```"
   ]
  },
  {
   "cell_type": "code",
   "execution_count": 13,
   "metadata": {},
   "outputs": [
    {
     "name": "stdout",
     "output_type": "stream",
     "text": [
      "14.79%\n",
      "5.52%\n",
      "1.74%\n",
      "3.43%\n",
      "18.23%\n",
      "5.61%\n",
      "4.87%\n"
     ]
    }
   ],
   "source": [
    "temperatures = [14.2, 16.3, 17.2, 17.5, 18.1, 21.4, 22.6, 23.7]\n",
    "\n",
    "# Your loop here:\n",
    "for i in range(1, len(temperatures)):\n",
    "    difference = temperatures[i] - temperatures [i-1]\n",
    "    percentage = difference / temperatures [i-1] * 100\n",
    "    print(\"{:.2f}%\" .format(percentage))\n",
    "\n",
    "\n"
   ]
  },
  {
   "cell_type": "markdown",
   "metadata": {},
   "source": [
    "### 2.11\n",
    "Write a loop that iterates over a string and prints a slice from the letter at the current index plus the following two letters.\n",
    "\n",
    "Expected output:\n",
    "\n",
    "    arc\n",
    "    rch\n",
    "    chi\n",
    "    hit\n",
    "    ite\n",
    "    tec\n",
    "    ect\n",
    "    ctu\n",
    "    tur\n",
    "    ure\n",
    "\n",
    "⇒ *Hint*: if for every iteration you print the letter in the current index plus the following two, think at what point you should stop iterating."
   ]
  },
  {
   "cell_type": "code",
   "execution_count": 18,
   "metadata": {},
   "outputs": [
    {
     "name": "stdout",
     "output_type": "stream",
     "text": [
      "arc\n",
      "rch\n",
      "chi\n",
      "hit\n",
      "ite\n",
      "tec\n",
      "ect\n",
      "ctu\n",
      "tur\n",
      "ure\n"
     ]
    }
   ],
   "source": [
    "word = \"architecture\"\n",
    "\n",
    "# Your loop here:\n",
    "\n",
    "for i in range(1, len(word)-1):\n",
    "    print(word[i-1:i+2])"
   ]
  },
  {
   "cell_type": "markdown",
   "metadata": {},
   "source": [
    "### 2.12\n",
    "Write a loop that iterates over a string, but jumping 3 letters in every iteration, and prints the letter in the current index, plus the next two.\n",
    "\n",
    "Expected output:\n",
    "\n",
    "    arc\n",
    "    hit\n",
    "    ect\n",
    "    ure\n",
    "\n",
    "⇒ *Hint*: You need to use the `range()` function with 3 parameters."
   ]
  },
  {
   "cell_type": "code",
   "execution_count": 19,
   "metadata": {},
   "outputs": [
    {
     "name": "stdout",
     "output_type": "stream",
     "text": [
      "arc\n",
      "hit\n",
      "ect\n",
      "ure\n"
     ]
    }
   ],
   "source": [
    "word = \"architecture\"\n",
    "\n",
    "# Your loop here:\n",
    "for i in range(0, len(word), 3):\n",
    "    print(word[i:i+3])\n"
   ]
  },
  {
   "cell_type": "markdown",
   "metadata": {},
   "source": [
    "### 2.13\n",
    "Write a loop that iterates over a string, and prints the slice from the letter at the ***previous*** index to the current one to the letter at the ***next*** index to the current one.\n",
    "\n",
    "Expected output:\n",
    "\n",
    "    con\n",
    "    ong\n",
    "    ngr\n",
    "    gra\n",
    "    rat\n",
    "    atu\n",
    "    tul\n",
    "    ula\n",
    "    lat\n",
    "    ati\n",
    "    tio\n",
    "    ion\n",
    "    ons\n",
    "\n",
    "⇒ *Hint*: for the word `music`, if the index is `2` (letter `s`), what should be printed is `usi`\n",
    "\n",
    "⇒ *Hint*: pay attention where you have to start and stop the iteration"
   ]
  },
  {
   "cell_type": "code",
   "execution_count": 20,
   "metadata": {},
   "outputs": [
    {
     "name": "stdout",
     "output_type": "stream",
     "text": [
      "con\n",
      "ong\n",
      "ngr\n",
      "gra\n",
      "rat\n",
      "atu\n",
      "tul\n",
      "ula\n",
      "lat\n",
      "ati\n",
      "tio\n",
      "ion\n",
      "ons\n"
     ]
    }
   ],
   "source": [
    "word = \"congratulations\"\n",
    "\n",
    "# Your loop here:\n",
    "for i in range(1, len(word)-1):\n",
    "    print(word[i-1:i+2])\n"
   ]
  },
  {
   "cell_type": "markdown",
   "metadata": {},
   "source": [
    "### 2.14\n",
    "Write a loop that iterates over a list of durations of songs in seconds and prints a message with the track number and the duration in minutes and seconds.\n",
    "\n",
    "Expected result:\n",
    "\n",
    "    Track 1 - 5:19\n",
    "    Track 2 - 6:44\n",
    "    Track 3 - 1:30\n",
    "    Track 4 - 5:54\n",
    "    Track 5 - 3:01\n",
    "    Track 6 - 6:23\n",
    "    Track 7 - 3:57\n",
    "    Track 8 - 5:48\n",
    "    Track 9 - 5:07\n",
    "    Track 10 - 4:50\n",
    "    Track 11 - 9:13\n",
    "    Track 12 - 5:14\n",
    "    Track 13 - 11:42\n",
    "    Track 14 - 0:55\n",
    "    Track 15 - 6:21\n",
    "    Track 16 - 4:11\n",
    "\n",
    "⇒ *Hint*: for printing the track number, remember that indexing in Python starts at 0\n",
    "\n",
    "⇒ *Hint*: when you have a track of several minutes plus less than 10 seconds, you might want to add a `0` to the left of the seconds. For that, you can use `{:02d}` within the `print()` function and the `.format()` method.\n",
    "\n",
    "⇒ **Note**: the given list contains the real durations of the tracks of [this album](https://open.spotify.com/album/4VQ0BLFIn4gCFDBFCpnN1l?si=lZPOkY_lQaWuH6-dzJ_wyg)."
   ]
  },
  {
   "cell_type": "code",
   "execution_count": 33,
   "metadata": {},
   "outputs": [
    {
     "name": "stdout",
     "output_type": "stream",
     "text": [
      "Track 1 - 5:19\n",
      "Track 2 - 6:44\n",
      "Track 3 - 1:30\n",
      "Track 4 - 5:54\n",
      "Track 5 - 3:01\n",
      "Track 6 - 6:23\n",
      "Track 7 - 3:57\n",
      "Track 8 - 5:48\n",
      "Track 9 - 5:07\n",
      "Track 10 - 4:50\n",
      "Track 11 - 9:13\n",
      "Track 12 - 5:14\n",
      "Track 13 - 11:42\n",
      "Track 14 - 0:55\n",
      "Track 15 - 6:21\n",
      "Track 16 - 4:11\n"
     ]
    }
   ],
   "source": [
    "cd_tracks = [319, 404, 90, 354, 181, 383, 237, 348, 307, 290, 553, 314, 702, 55, 381, 251]\n",
    "\n",
    "# Your loop here:\n",
    "\n",
    "for i in range(len(cd_tracks)):\n",
    "    print(\"Track {} - {}:{:02d}\".format(i+1, cd_tracks[i]//60, cd_tracks[i]%60)) \n",
    "    \n",
    "# Track {number} - {minutes}:{seconds}\n"
   ]
  },
  {
   "cell_type": "markdown",
   "metadata": {},
   "source": [
    "### 2.15\n",
    "Write a loop that iterates over a list of words. For each word, it should print the message `\"The word {} is spelled like this:\"`. Then, another loop should iterate over the letters of that word and print each letter preceded by a tab `\"\\t\"`\n",
    "\n",
    "Expected output:\n",
    "\n",
    "    The word misspell is spelled like this:\n",
    "        m\n",
    "        i\n",
    "        s\n",
    "        s\n",
    "        p\n",
    "        e\n",
    "        l\n",
    "        l\n",
    "    The word pharaoh is spelled like this:\n",
    "        p\n",
    "        h\n",
    "        a\n",
    "        r\n",
    "        a\n",
    "        o\n",
    "        h\n",
    "    The word weird is spelled like this:\n",
    "        w\n",
    "        e\n",
    "        i\n",
    "        r\n",
    "        d\n",
    "    The word intelligence is spelled like this:\n",
    "        i\n",
    "        n\n",
    "        t\n",
    "        e\n",
    "        l\n",
    "        l\n",
    "        i\n",
    "        g\n",
    "        e\n",
    "        n\n",
    "        c\n",
    "        e\n",
    "    The word pronunciation is spelled like this:\n",
    "        p\n",
    "        r\n",
    "        o\n",
    "        n\n",
    "        u\n",
    "        n\n",
    "        c\n",
    "        i\n",
    "        a\n",
    "        t\n",
    "        i\n",
    "        o\n",
    "        n\n",
    "    The word handkerchief is spelled like this:\n",
    "        h\n",
    "        a\n",
    "        n\n",
    "        d\n",
    "        k\n",
    "        e\n",
    "        r\n",
    "        c\n",
    "        h\n",
    "        i\n",
    "        e\n",
    "        f\n",
    "    The word logorrhea is spelled like this:\n",
    "        l\n",
    "        o\n",
    "        g\n",
    "        o\n",
    "        r\n",
    "        r\n",
    "        h\n",
    "        e\n",
    "        a\n",
    "    The word chiaroscurist is spelled like this:\n",
    "        c\n",
    "        h\n",
    "        i\n",
    "        a\n",
    "        r\n",
    "        o\n",
    "        s\n",
    "        c\n",
    "        u\n",
    "        r\n",
    "        i\n",
    "        s\n",
    "        t\n",
    "    The word pochemuchka is spelled like this:\n",
    "        p\n",
    "        o\n",
    "        c\n",
    "        h\n",
    "        e\n",
    "        m\n",
    "        u\n",
    "        c\n",
    "        h\n",
    "        k\n",
    "        a\n",
    "    The word gobbledegook is spelled like this:\n",
    "        g\n",
    "        o\n",
    "        b\n",
    "        b\n",
    "        l\n",
    "        e\n",
    "        d\n",
    "        e\n",
    "        g\n",
    "        o\n",
    "        o\n",
    "        k\n",
    "\n",
    "⇒ *Hint*: this exercise requires a nested loop. Pay attention to the indentation."
   ]
  },
  {
   "cell_type": "code",
   "execution_count": 36,
   "metadata": {},
   "outputs": [
    {
     "name": "stdout",
     "output_type": "stream",
     "text": [
      "The word misspell is spelled like this:\n",
      "\tm\n",
      "\ti\n",
      "\ts\n",
      "\ts\n",
      "\tp\n",
      "\te\n",
      "\tl\n",
      "\tl\n",
      "The word pharaoh is spelled like this:\n",
      "\tp\n",
      "\th\n",
      "\ta\n",
      "\tr\n",
      "\ta\n",
      "\to\n",
      "\th\n",
      "The word weird is spelled like this:\n",
      "\tw\n",
      "\te\n",
      "\ti\n",
      "\tr\n",
      "\td\n",
      "The word intelligence is spelled like this:\n",
      "\ti\n",
      "\tn\n",
      "\tt\n",
      "\te\n",
      "\tl\n",
      "\tl\n",
      "\ti\n",
      "\tg\n",
      "\te\n",
      "\tn\n",
      "\tc\n",
      "\te\n",
      "The word pronunciation is spelled like this:\n",
      "\tp\n",
      "\tr\n",
      "\to\n",
      "\tn\n",
      "\tu\n",
      "\tn\n",
      "\tc\n",
      "\ti\n",
      "\ta\n",
      "\tt\n",
      "\ti\n",
      "\to\n",
      "\tn\n",
      "The word handkerchief is spelled like this:\n",
      "\th\n",
      "\ta\n",
      "\tn\n",
      "\td\n",
      "\tk\n",
      "\te\n",
      "\tr\n",
      "\tc\n",
      "\th\n",
      "\ti\n",
      "\te\n",
      "\tf\n",
      "The word logorrhea is spelled like this:\n",
      "\tl\n",
      "\to\n",
      "\tg\n",
      "\to\n",
      "\tr\n",
      "\tr\n",
      "\th\n",
      "\te\n",
      "\ta\n",
      "The word chiaroscurist is spelled like this:\n",
      "\tc\n",
      "\th\n",
      "\ti\n",
      "\ta\n",
      "\tr\n",
      "\to\n",
      "\ts\n",
      "\tc\n",
      "\tu\n",
      "\tr\n",
      "\ti\n",
      "\ts\n",
      "\tt\n",
      "The word pochemuchka is spelled like this:\n",
      "\tp\n",
      "\to\n",
      "\tc\n",
      "\th\n",
      "\te\n",
      "\tm\n",
      "\tu\n",
      "\tc\n",
      "\th\n",
      "\tk\n",
      "\ta\n",
      "The word gobbledegook is spelled like this:\n",
      "\tg\n",
      "\to\n",
      "\tb\n",
      "\tb\n",
      "\tl\n",
      "\te\n",
      "\td\n",
      "\te\n",
      "\tg\n",
      "\to\n",
      "\to\n",
      "\tk\n"
     ]
    }
   ],
   "source": [
    "spellingNightmares  = [\"misspell\", \"pharaoh\", \"weird\", \"intelligence\", \"pronunciation\", \"handkerchief\", \"logorrhea\", \"chiaroscurist\", \"pochemuchka\", \"gobbledegook\"]\n",
    "\n",
    "# Your loops here:\n",
    "\n",
    "for i in range(len(spellingNightmares)):\n",
    "    print(\"The word {} is spelled like this:\" .format(spellingNightmares[i])) #not [i + 1] because then your spelled word is the next word after the one you actually want to get looped\n",
    "    for x in spellingNightmares[i]:\n",
    "        print(\"\\t\" + x)\n",
    "\n",
    "\n"
   ]
  },
  {
   "cell_type": "code",
   "execution_count": null,
   "metadata": {},
   "outputs": [],
   "source": []
  }
 ],
 "metadata": {
  "kernelspec": {
   "display_name": "Python 3",
   "language": "python",
   "name": "python3"
  },
  "language_info": {
   "codemirror_mode": {
    "name": "ipython",
    "version": 3
   },
   "file_extension": ".py",
   "mimetype": "text/x-python",
   "name": "python",
   "nbconvert_exporter": "python",
   "pygments_lexer": "ipython3",
   "version": "3.8.1"
  }
 },
 "nbformat": 4,
 "nbformat_minor": 2
}
