{
 "cells": [
  {
   "cell_type": "markdown",
   "metadata": {},
   "source": [
    "# Functions and lists\n",
    "Functions and lists is what really enables our programming work to scale up. Functions allows us to wrap pieces of code into small (or big) packages, that can be conveniently reused in the same or other scripts. Lists are the most common and flexible way of grouping data, so that they can be accessed in a convenient and organized way. Knowing how to use loops, conditionals, functions and lists is the basic core of programming."
   ]
  },
  {
   "cell_type": "markdown",
   "metadata": {},
   "source": [
    "## Functions\n",
    "You will have surely noticed that some Python expressions are always followed by parenthesis, such as `print()`, `len()`, `range()`, etc. This is the format that Pyhon uses to indicate that those expressions are functions.\n",
    "\n",
    "A function is just a piece of code containing a series of operations, that is wrapped in a reusable package. They can be called by their name, always followed by parenthesis, and they return some values as a result of the peformed operations.\n",
    "\n",
    "Besides the built-in functions in Python (those we have been using until now, such as `print()`, `len()`, `range()`, etc.), we can define our own functions. This is how a function is defined (by now, the following schema should be familiar to you):\n",
    "\n",
    "```Python\n",
    "def myFunctionName():\n",
    "    operation1\n",
    "    operation2\n",
    "    operation3\n",
    "```\n",
    "\n",
    "The first line starts with the keyword `def`, followed by the name we want to give to our function and the parenthesis, and finally by colon ( `:` ). The following lines are the body of the function, and contain the operations that we want our function to do. The only thing that you have to consider is that function names follow the same rules as variable names: shouldn't start with numbers or capital letters.\n",
    "\n",
    "Let's start writing our first function. We will define a function called `greetings()`, which prints `\"Good morning!\"` to the console."
   ]
  },
  {
   "cell_type": "code",
   "execution_count": null,
   "metadata": {},
   "outputs": [],
   "source": [
    "def greetings():\n",
    "    print(\"Good morning!\")"
   ]
  },
  {
   "cell_type": "markdown",
   "metadata": {},
   "source": [
    "As you see, when you run the previous cell no output is returned. This is bacuse what the last cell did is defining the function, and have it ready to be used. (The same way when we create a variable, like `name = \"John\"`, nothing is returned; instead, the variable is created and ready to use.)\n",
    "\n",
    "So, if we want to use our function, we just need to call it by its name (don't forget the parenthesis!):"
   ]
  },
  {
   "cell_type": "code",
   "execution_count": null,
   "metadata": {},
   "outputs": [],
   "source": [
    "greetings()"
   ]
  },
  {
   "cell_type": "markdown",
   "metadata": {},
   "source": [
    "Once a function is defined, we can use it as many times as we want."
   ]
  },
  {
   "cell_type": "code",
   "execution_count": null,
   "metadata": {},
   "outputs": [],
   "source": [
    "greetings()\n",
    "greetings()\n",
    "greetings()"
   ]
  },
  {
   "cell_type": "markdown",
   "metadata": {},
   "source": [
    "Great! So now let's start making our functions more interesting.\n",
    "\n",
    "Why do functions need the parenthesis? Because it is through these parenthesis how we can input some data to our function. Let's make our `greetings()` function more personal, so that it prints personalised greetings. For that, we need to input our function someone's name, that will be printed together with the greeting. That name would be the function's parameter, and it has to be included in the functions definition. So, let's redefine our function:"
   ]
  },
  {
   "cell_type": "code",
   "execution_count": 2,
   "metadata": {},
   "outputs": [],
   "source": [
    "def greetings(name):\n",
    "    print(\"Good morning, {}!\".format(name))"
   ]
  },
  {
   "cell_type": "markdown",
   "metadata": {},
   "source": [
    "In the previous function definition, `name` is a variable that has no value assigned to it yet. It's value will be assigned everytime the function is called. So, you can understand this variable `name` as an internal variable of the function, that we use in the function definition to let the function know when and how has to use it.\n",
    "\n",
    "Let's see our function in action! Let's wish John good morning:"
   ]
  },
  {
   "cell_type": "code",
   "execution_count": 3,
   "metadata": {},
   "outputs": [
    {
     "name": "stdout",
     "output_type": "stream",
     "text": [
      "Good morning, John!\n"
     ]
    }
   ],
   "source": [
    "greetings(\"John\")"
   ]
  },
  {
   "cell_type": "markdown",
   "metadata": {},
   "source": [
    "When the `greetings()` function was called in the previous cell, the string `\"John\"` was assigned to the function's variable `name`, and the function could use it for printing.\n",
    "\n",
    "Let's greet more people now!"
   ]
  },
  {
   "cell_type": "code",
   "execution_count": 4,
   "metadata": {},
   "outputs": [
    {
     "name": "stdout",
     "output_type": "stream",
     "text": [
      "Good morning, James!\n",
      "Good morning, Anna!\n",
      "Good morning, Mary!\n"
     ]
    }
   ],
   "source": [
    "greetings(\"James\")\n",
    "greetings(\"Anna\")\n",
    "greetings(\"Mary\")"
   ]
  },
  {
   "cell_type": "markdown",
   "metadata": {},
   "source": [
    "What if it is 7pm? Maybe we don't want to print `\"Good morning\"` then. No problem, we can redefine our function with two parameters:"
   ]
  },
  {
   "cell_type": "code",
   "execution_count": 5,
   "metadata": {},
   "outputs": [],
   "source": [
    "def greetings(time, name):\n",
    "    print(\"Good {}, {}!\".format(time, name))"
   ]
  },
  {
   "cell_type": "markdown",
   "metadata": {},
   "source": [
    "Let's try the new function out!"
   ]
  },
  {
   "cell_type": "code",
   "execution_count": 6,
   "metadata": {},
   "outputs": [
    {
     "name": "stdout",
     "output_type": "stream",
     "text": [
      "Good evening, Susane!\n",
      "Good morning, Erik!\n",
      "Good afternoon, mom!\n",
      "Good night, darling!\n"
     ]
    }
   ],
   "source": [
    "greetings(\"evening\", \"Susane\")\n",
    "greetings(\"morning\", \"Erik\")\n",
    "greetings(\"afternoon\", \"mom\")\n",
    "greetings(\"night\", \"darling\")"
   ]
  },
  {
   "cell_type": "markdown",
   "metadata": {},
   "source": [
    "Hopefully you are starting to get an idea of how functions work.\n",
    "\n",
    "Let's go back to some previous code. Remember?\n",
    "\n",
    "```Python\n",
    "name = \"James\"\n",
    "birth = 1991\n",
    "age = 2020 - birth\n",
    "\n",
    "print(\"{} was born in {}.\".format(name, birth))\n",
    "print(\"{} is {} years old.\".format(name, 2020 - birth))\n",
    "print(\"{} was born {} years after Beethoven.\".format(name, birth - 1770))\n",
    "print(\"In lunar years, {} is {} years old.\".format(name, age * 1.03))\n",
    "print(\"If {} were a dog, he would be {:.2f} years old.\".format(name, age / 7))\n",
    "print(\"If {} were a Martian, he would be {:.2f} years old.\".format(name, age / 1.88))\n",
    "```\n",
    "\n",
    "We can now convert all this into a function, let's call it `yourManyAges()`, which takes two parameters, `name` and `birth`:"
   ]
  },
  {
   "cell_type": "code",
   "execution_count": 7,
   "metadata": {},
   "outputs": [],
   "source": [
    "def yourManyAges(name, birth):\n",
    "    \n",
    "    # First, variable age is defined\n",
    "    age = 2020 - birth\n",
    "\n",
    "    print(\"{} was born in {}.\".format(name, birth))\n",
    "    print(\"{} is {} years old.\".format(name, 2020 - birth))\n",
    "    print(\"{} was born {} years after Beethoven.\".format(name, birth - 1770))\n",
    "    print(\"In lunar years, {} is {} years old.\".format(name, age * 1.03))\n",
    "    print(\"If {} were a dog, he would be {:.2f} years old.\".format(name, age / 7))\n",
    "    print(\"If {} were a Martian, he would be {:.2f} years old.\".format(name, age / 1.88))"
   ]
  },
  {
   "cell_type": "markdown",
   "metadata": {},
   "source": [
    "Ok! Now let's try it for `\"James\"`, born in `1991`."
   ]
  },
  {
   "cell_type": "code",
   "execution_count": 8,
   "metadata": {},
   "outputs": [
    {
     "name": "stdout",
     "output_type": "stream",
     "text": [
      "James was born in 1991.\n",
      "James is 29 years old.\n",
      "James was born 221 years after Beethoven.\n",
      "In lunar years, James is 29.87 years old.\n",
      "If James were a dog, he would be 4.14 years old.\n",
      "If James were a Martian, he would be 15.43 years old.\n"
     ]
    }
   ],
   "source": [
    "yourManyAges(\"James\", 1991)"
   ]
  },
  {
   "cell_type": "markdown",
   "metadata": {},
   "source": [
    "Cool! What about some other people?"
   ]
  },
  {
   "cell_type": "code",
   "execution_count": 9,
   "metadata": {},
   "outputs": [
    {
     "name": "stdout",
     "output_type": "stream",
     "text": [
      "Rudolf was born in 2014.\n",
      "Rudolf is 6 years old.\n",
      "Rudolf was born 244 years after Beethoven.\n",
      "In lunar years, Rudolf is 6.18 years old.\n",
      "If Rudolf were a dog, he would be 0.86 years old.\n",
      "If Rudolf were a Martian, he would be 3.19 years old.\n",
      "\n",
      "Rosa was born in 1962.\n",
      "Rosa is 58 years old.\n",
      "Rosa was born 192 years after Beethoven.\n",
      "In lunar years, Rosa is 59.74 years old.\n",
      "If Rosa were a dog, he would be 8.29 years old.\n",
      "If Rosa were a Martian, he would be 30.85 years old.\n",
      "\n",
      "Rafael was born in 1981.\n",
      "Rafael is 39 years old.\n",
      "Rafael was born 211 years after Beethoven.\n",
      "In lunar years, Rafael is 40.17 years old.\n",
      "If Rafael were a dog, he would be 5.57 years old.\n",
      "If Rafael were a Martian, he would be 20.74 years old.\n"
     ]
    }
   ],
   "source": [
    "yourManyAges(\"Rudolf\", 2014)\n",
    "print() # Print an empty line for better readability\n",
    "yourManyAges(\"Rosa\", 1962)\n",
    "print()\n",
    "yourManyAges(\"Rafael\", 1981)"
   ]
  },
  {
   "cell_type": "markdown",
   "metadata": {},
   "source": [
    "I hope you started realizing the power of functions.\n",
    "\n",
    "Our first two functions, `greetings()` and `yourManyAges()`, were used to print some message on the console. However, most of the functions are used to make some operations and return an output. For example, let's write a function to convert degrees Fahrenheit into degrees Celsius. In this case, we do not need to print the result out, but use it for some other task. To let the function know what do we want to return, we have to use the keyword `return` at the end of the function, followed by what the output should be, in this way:\n",
    "\n",
    "```Python\n",
    "def myFunctionName():\n",
    "    operation1\n",
    "    operation2\n",
    "    operation3\n",
    "    return output\n",
    "```\n",
    "\n",
    "Let's put this into practice with the function `f2c()` (Fahrenheit to Celsius)\n",
    "\n",
    "⇒ **Note**: the formula for converting degrees Fahrenheit to degrees Celsius is: $(x - 32) / 1.8$"
   ]
  },
  {
   "cell_type": "code",
   "execution_count": 10,
   "metadata": {},
   "outputs": [],
   "source": [
    "def f2c(f):             # We need to input the degrees Fahrenheit, for which we will use the variable f\n",
    "    c = (f - 32) / 1.8  # The degrees Celsius are assigned to the variable c\n",
    "    return c            # The value assigned to the variable c will be returned"
   ]
  },
  {
   "cell_type": "markdown",
   "metadata": {},
   "source": [
    "Let's try our function out. We know that 32ºF are equal to 0ºC and that 212ºF are equal to 100ºC."
   ]
  },
  {
   "cell_type": "code",
   "execution_count": 11,
   "metadata": {},
   "outputs": [
    {
     "name": "stdout",
     "output_type": "stream",
     "text": [
      "32ºF are equal to 0.0ºC\n",
      "212ºF are equal to 100.0ºC\n"
     ]
    }
   ],
   "source": [
    "print(\"32ºF are equal to {}ºC\".format(f2c(32)))\n",
    "print(\"212ºF are equal to {}ºC\".format(f2c(212)))"
   ]
  },
  {
   "cell_type": "markdown",
   "metadata": {},
   "source": [
    "Great!\n",
    "\n",
    "Let's now write the opposite function, `c2f()`.\n",
    "\n",
    "⇒ **Note**: now the formula is $1.8x+32$"
   ]
  },
  {
   "cell_type": "code",
   "execution_count": 12,
   "metadata": {},
   "outputs": [
    {
     "name": "stdout",
     "output_type": "stream",
     "text": [
      "0ºC are equal to 32.0ºF\n",
      "100ºC are equal to 212.0ºF\n"
     ]
    }
   ],
   "source": [
    "def c2f(c):\n",
    "    f = 1.8 * c + 32\n",
    "    return f\n",
    "\n",
    "print(\"0ºC are equal to {}ºF\".format(c2f(0)))\n",
    "print(\"100ºC are equal to {}ºF\".format(c2f(100)))"
   ]
  },
  {
   "cell_type": "markdown",
   "metadata": {},
   "source": [
    "The output returned by a function can be saved in a variable. Let's use this to check that our functions work properly"
   ]
  },
  {
   "cell_type": "code",
   "execution_count": 13,
   "metadata": {},
   "outputs": [
    {
     "name": "stdout",
     "output_type": "stream",
     "text": [
      "True\n"
     ]
    }
   ],
   "source": [
    "# These are the input degrees Fahrenheit\n",
    "originalF = 150\n",
    "\n",
    "# First, we convert the degrees F into degrees C using the f2c function\n",
    "# The returned output is assigned to the variable computedC\n",
    "computedC = f2c(originalF)\n",
    "\n",
    "# Now let's convert the degrees C back to F, using the c2f function\n",
    "# The returned output is assigned to the variable computedF\n",
    "computedF = c2f(computedC)\n",
    "\n",
    "# The value of computedF should be the same as the originalF\n",
    "# Let's compare them using a conditional expression\n",
    "print(originalF == computedF)"
   ]
  },
  {
   "cell_type": "markdown",
   "metadata": {},
   "source": [
    "It worked!\n",
    "\n",
    "As our last example, let's make a function that takes a string and a target letter as parameters, and counts in which percentage the target letter occurs in the given string. Let's call our function `letterOccurrence()`."
   ]
  },
  {
   "cell_type": "code",
   "execution_count": 14,
   "metadata": {},
   "outputs": [],
   "source": [
    "def letterOccurrence(phrase, letter):\n",
    "    \n",
    "    # First, count how many times letter occurs in phrase\n",
    "    counter = 0\n",
    "    for l in phrase:  # CAREFUL! Do not use letter in the for loop, because that is the name we gave to the parameter!\n",
    "        if l == letter:\n",
    "            counter += 1\n",
    "    \n",
    "    # Second, calculate the percentage\n",
    "    total = len(phrase)  # In order to compute the percentage, we need to know how many letters are present\n",
    "    percentage = counter / total * 100\n",
    "    \n",
    "    return percentage    "
   ]
  },
  {
   "cell_type": "markdown",
   "metadata": {},
   "source": [
    "Great! Let's study the percentage of occurrence of the letter `\"a\"` in different phrases."
   ]
  },
  {
   "cell_type": "code",
   "execution_count": 15,
   "metadata": {},
   "outputs": [
    {
     "name": "stdout",
     "output_type": "stream",
     "text": [
      "The percentage of a in phrase_01 is 38.5%\n",
      "The percentage of a in phrase_02 is 2.3%\n",
      "The percentage of a in phrase_03 is 4.8%\n"
     ]
    }
   ],
   "source": [
    "phrase_01 = \"Hakuna Matata\"\n",
    "phrase_02 = \"The quick brown fox jumps over the lazy dog\"\n",
    "phrase_03 = \"Any object, totally or partially immersed in a fluid or liquid, is buoyed up by a force equal to the weight of the fluid displaced by the object.\"\n",
    "\n",
    "target_letter = \"a\"\n",
    "\n",
    "# We call our function here, and save the output in variables\n",
    "occurrence_01 = letterOccurrence(phrase_01, target_letter)\n",
    "occurrence_02 = letterOccurrence(phrase_02, target_letter)\n",
    "occurrence_03 = letterOccurrence(phrase_03, target_letter)\n",
    "\n",
    "print(\"The percentage of {} in phrase_01 is {:.1f}%\".format(target_letter, occurrence_01))\n",
    "print(\"The percentage of {} in phrase_02 is {:.1f}%\".format(target_letter, occurrence_02))\n",
    "print(\"The percentage of {} in phrase_03 is {:.1f}%\".format(target_letter, occurrence_03))"
   ]
  },
  {
   "cell_type": "markdown",
   "metadata": {},
   "source": [
    "Let's add two improvements to our `letterOccurrence()` function. Imagine you are researching the behaviour of letter `\"a\"` in English. So it is probable that most of the time you will be using this function with `\"a\"` as target letter. However, you still want to keep the possibility of using the function with other letters, just for comparison. For these cases, you can set default parameters. Let's set `\"a\"` as the default parameter for the target letter. It can be done like this:"
   ]
  },
  {
   "cell_type": "code",
   "execution_count": 16,
   "metadata": {},
   "outputs": [],
   "source": [
    "def letterOccurrence(phrase, letter=\"a\"):\n",
    "    \n",
    "    # First, count how many times letter occurs in phrase\n",
    "    counter = 0\n",
    "    for l in phrase:  # CAREFUL! Do not use letter in the for loop, because that is the name we gave to the parameter!\n",
    "        if l == letter:\n",
    "            counter += 1\n",
    "    \n",
    "    # Second, colculate the percentage\n",
    "    total = len(phrase)  # In order to compute the percentage, we need to know how many letters are present\n",
    "    percentage = counter / total * 100\n",
    "    \n",
    "    return percentage"
   ]
  },
  {
   "cell_type": "markdown",
   "metadata": {},
   "source": [
    "Now, if you only input only one value to this function, the function automatically will understand that this value corresponds to the first parameter (`phrase`), and for the second parameter it will take the default value `\"a\"`."
   ]
  },
  {
   "cell_type": "code",
   "execution_count": null,
   "metadata": {},
   "outputs": [],
   "source": [
    "# Varible phrase_01 is used here. Make sure to run the cell where this variable is defined before running this one\n",
    "\n",
    "# Since only one parameter is given, the function takes the default value (\"a\") for the second parameter\n",
    "occurrence = letterOccurrence(phrase_01)\n",
    "\n",
    "print(\"The percentage of a in phrase_01 is {:.1f}%\".format(occurrence))"
   ]
  },
  {
   "cell_type": "markdown",
   "metadata": {},
   "source": [
    "Now, if we want to change the default value of the second parameter, we call the function in the following way:"
   ]
  },
  {
   "cell_type": "code",
   "execution_count": 17,
   "metadata": {},
   "outputs": [
    {
     "name": "stdout",
     "output_type": "stream",
     "text": [
      "The percentage of a in phrase_03 is 4.8%\n",
      "The percentage of i in phrase_03 is 6.9%\n",
      "The percentage of u in phrase_03 is 4.1%\n"
     ]
    }
   ],
   "source": [
    "# Varible phrase_03 is used here. Make sure to run the cell where this variable is defined before running this one\n",
    "\n",
    "occurrence_a = letterOccurrence(phrase_03) # Default value for the second parameter used here\n",
    "occurrence_i = letterOccurrence(phrase_03, letter=\"i\")\n",
    "occurrence_u = letterOccurrence(phrase_03, letter=\"u\")\n",
    "\n",
    "print(\"The percentage of a in phrase_03 is {:.1f}%\".format(occurrence_a))\n",
    "print(\"The percentage of i in phrase_03 is {:.1f}%\".format(occurrence_i))\n",
    "print(\"The percentage of u in phrase_03 is {:.1f}%\".format(occurrence_u))"
   ]
  },
  {
   "cell_type": "markdown",
   "metadata": {},
   "source": [
    "Finally, imagine you met in a conference a researcher from Melbourne who is also researching `\"a\"` in English, and you want to share your code with her. You send her the link to your GitHub repo, she clones it, opens it, looks at your `letterOccurrence()` function (and to the many others you'll have in your code), but she wouldn't know what do they do or how to use them. She would need to start reading your code line by line to figure out your thinking. There is a way to ease her understanding of your code: **docstrings**!\n",
    "\n",
    "**Docstrings** are, well, strings that describe how a function works. This is part of the **documentation** of the code, and it is very, very, very important for the reusability of your code. Not only by someone else, but even by you a couple of years (or weeks!) after you wrote it.\n",
    "\n",
    "These docstrings are just free text written after the function definition and before the body, enclosed in triple quotation marks:\n",
    "\n",
    "```Python\n",
    "def myFunctionName():\n",
    "    \"\"\"\n",
    "    Docstring1\n",
    "    Docstring2\n",
    "    \"\"\"\n",
    "    operation1\n",
    "    operation2\n",
    "    operation3\n",
    "    return output\n",
    "```\n",
    "\n",
    "As said, they are free text and you can write whatever you want. However, there are some conventions that most (good) programmers follow. You can find many guidelines of good practices for docstrings on the web. I personally prefer the [Python Style Guide by Google](http://google.github.io/styleguide/pyguide.html#38-comments-and-docstrings) (Python is a language, and as every language, you can have a writing style). In any case, the docstrings generally should include the following elements:\n",
    "- A brief description of what the function does\n",
    "- `Args`: A description of each of the parameters, indicating which data type they should be (to avoid errors)\n",
    "- `Returns`: A description of what the function returns, indicating also the data type\n",
    "- Optional: one or several examples\n",
    "\n",
    "Ok, so let's document our `letterOccurrence()` functon with docstrings:"
   ]
  },
  {
   "cell_type": "code",
   "execution_count": null,
   "metadata": {},
   "outputs": [],
   "source": [
    "def letterOccurrence(phrase, letter=\"a\"):\n",
    "    \"\"\"\n",
    "    Returns the percentage of a target letter in a given phrase\n",
    "    \n",
    "    Args:\n",
    "        phrase (str): the given phrase\n",
    "        letter (str): the target letter\n",
    "    \n",
    "    Returns:\n",
    "        occurrence (float): occurrence as percentage\n",
    "        \n",
    "    >>> letterOccurrence(\"Hakuna Matata\")\n",
    "    38.46153846153847\n",
    "    \n",
    "    >>> letterOccurrence(\"Hakuna Matata\", letter=\"u\")\n",
    "    7.6923076923076925\n",
    "    \"\"\"\n",
    "    \n",
    "    # First, count how many times letter occurs in phrase\n",
    "    counter = 0\n",
    "    for l in phrase:  # CAREFUL! Do not use letter in the for loop, because that is the name we gave to the parameter!\n",
    "        if l == letter:\n",
    "            counter += 1\n",
    "    \n",
    "    # Second, colculate the percentage\n",
    "    total = len(phrase)  # In order to compute the percentage, we need to know how many letters are present\n",
    "    percentage = counter / total * 100\n",
    "    \n",
    "    return percentage"
   ]
  },
  {
   "cell_type": "markdown",
   "metadata": {},
   "source": [
    "The documentation do not affect at all how a function works. A function will work equally well (or bad) with or without documentation. But acquiring the habit of documenting your functions will save someone else and, more importantly, yourself a lot of time trying to understand your code. In our example, the documentation might seem a lot of work for such a simple function. Bur for functions with several tens, or even hundreds of lines, it is really, really useful.\n",
    "\n",
    "Documenting code is a big topic, and we will be talking about it during the course. Here, just the documentation of functions has been introduced. It can be done in two ways, with the docstrings, but also with the comments inside the function (those preceded by `#`). Both are equally useful, but docstrings have a special functionality. They are printed out if you call the built-in function `help()`!"
   ]
  },
  {
   "cell_type": "code",
   "execution_count": null,
   "metadata": {},
   "outputs": [],
   "source": [
    "help(letterOccurrence)  # The parenthesis of the function of which we want help are omitted"
   ]
  },
  {
   "cell_type": "markdown",
   "metadata": {},
   "source": [
    "When you use Jupyter Notebooks is even more interesting. Jupyter Notebooks are based in [iPython](https://ipython.org/) (that's why the extension of the notebook files is `ipynb`, the abbreviation of *iPy*thon *N*ote*b*ooks), which is an interactive architecture for easing working directly with Python. So, with iPython, and therefore, with Jupyter Notebooks, you can call the docstrings by simply adding a question mark `?` after the function name (without parenthesis):"
   ]
  },
  {
   "cell_type": "code",
   "execution_count": null,
   "metadata": {},
   "outputs": [],
   "source": [
    "letterOccurrence?"
   ]
  },
  {
   "cell_type": "markdown",
   "metadata": {},
   "source": [
    "Notice that an extra box is open at the botton, and it stays there while you continue working. You can regulate its height, and close it whenever you want (by clicking the `x` button at the right).\n",
    "\n",
    "By the way, all the Python built-in functions are, well, functions, and you can check their documentation, for example, by running `print?`, `len?` or `range?`, etc."
   ]
  },
  {
   "cell_type": "markdown",
   "metadata": {},
   "source": [
    "## Lists"
   ]
  },
  {
   "cell_type": "markdown",
   "metadata": {},
   "source": [
    "So far, we have been working with single units of data, like one string, one integer or one floating point. However, one of the main purposes of programming is being able to work with groups of data. Python offers different types of, what it calls, data structures, such as `tuples`, `lists` and `dictionaries`. All of them are equally used in programming. However, `lists` arguably are the most intuitive and flexible, so let's start with them.\n",
    "\n",
    "A list is just an **ordered** group of data, enclosed in square brackets (`[  ]`) and separated by commas. They are usually assigned to a variable, and are manipulated through that variable.\n",
    "\n",
    "Let's create a list with the weekdays."
   ]
  },
  {
   "cell_type": "code",
   "execution_count": 2,
   "metadata": {},
   "outputs": [],
   "source": [
    "weekdays = ['Monday', 'Tuesday', 'Wednesday', 'Thursday', 'Friday', 'Saturday', 'Sunday']"
   ]
  },
  {
   "cell_type": "markdown",
   "metadata": {},
   "source": [
    "If we input the variable `weekdays` to the function `type()`, the one that we used before to know if a piece of data was a string (`str`), an integer (`int`), a floating point (`float`) or a boolean (`bool`), it will return that the element assigned to it is indeed a list:"
   ]
  },
  {
   "cell_type": "code",
   "execution_count": 3,
   "metadata": {},
   "outputs": [
    {
     "name": "stdout",
     "output_type": "stream",
     "text": [
      "<class 'list'>\n"
     ]
    }
   ],
   "source": [
    "print(type(weekdays))"
   ]
  },
  {
   "cell_type": "markdown",
   "metadata": {},
   "source": [
    "With lists, we can use many of the operations we learnt before, so little explanation should be needed for the following cells:\n",
    "\n",
    "- Indexing:"
   ]
  },
  {
   "cell_type": "code",
   "execution_count": 23,
   "metadata": {},
   "outputs": [
    {
     "name": "stdout",
     "output_type": "stream",
     "text": [
      "The first day of the week is Monday\n",
      "The third day of the week is Wednesday\n",
      "The last day of the week is Sunday\n"
     ]
    }
   ],
   "source": [
    "print(\"The first day of the week is\", weekdays[0])\n",
    "print(\"The third day of the week is\", weekdays[2])\n",
    "print(\"The last day of the week is\", weekdays[-1])"
   ]
  },
  {
   "cell_type": "markdown",
   "metadata": {},
   "source": [
    "- Slicing:\n",
    "\n",
    "⇒ **Note**: if the slice of a `string` is another `string`, the slice of a `list` is also a `list`"
   ]
  },
  {
   "cell_type": "code",
   "execution_count": 24,
   "metadata": {},
   "outputs": [
    {
     "name": "stdout",
     "output_type": "stream",
     "text": [
      "<class 'list'>\n",
      "The weekend consists of Saturday and Sunday.\n"
     ]
    }
   ],
   "source": [
    "weekend = weekdays[-2:]  # Remember: when slicing, if we omit the second index, the slice goes until the end.\n",
    "\n",
    "print(type(weekend))\n",
    "\n",
    "# Since weekend is also a list, we can access its content by indexing\n",
    "print(\"The weekend consists of {} and {}.\".format(weekend[0], weekend[1]))"
   ]
  },
  {
   "cell_type": "markdown",
   "metadata": {},
   "source": [
    "- `len()`, to count how many elements are contained in a list:"
   ]
  },
  {
   "cell_type": "code",
   "execution_count": 25,
   "metadata": {},
   "outputs": [
    {
     "name": "stdout",
     "output_type": "stream",
     "text": [
      "A week has 7 days.\n",
      "A weekend has 2 days.\n"
     ]
    }
   ],
   "source": [
    "print(\"A week has {} days.\".format(len(weekdays)))\n",
    "print(\"A weekend has {} days.\".format(len(weekend)))"
   ]
  },
  {
   "cell_type": "markdown",
   "metadata": {},
   "source": [
    "- `for` loops:"
   ]
  },
  {
   "cell_type": "code",
   "execution_count": 26,
   "metadata": {},
   "outputs": [
    {
     "name": "stdout",
     "output_type": "stream",
     "text": [
      "Monday\n",
      "Tuesday\n",
      "Wednesday\n",
      "Thursday\n",
      "Friday\n",
      "Saturday\n",
      "Sunday\n"
     ]
    }
   ],
   "source": [
    "for day in weekdays:\n",
    "    print(day)"
   ]
  },
  {
   "cell_type": "markdown",
   "metadata": {},
   "source": [
    "- `for` loops through indexing (using `range()` and `len()`):"
   ]
  },
  {
   "cell_type": "code",
   "execution_count": 27,
   "metadata": {},
   "outputs": [
    {
     "name": "stdout",
     "output_type": "stream",
     "text": [
      "Day 1: Monday\n",
      "Day 2: Tuesday\n",
      "Day 3: Wednesday\n",
      "Day 4: Thursday\n",
      "Day 5: Friday\n",
      "Day 6: Saturday\n",
      "Day 7: Sunday\n"
     ]
    }
   ],
   "source": [
    "for i in range(len(weekdays)):\n",
    "    day_number = i + 1  # 1 is added because, remember, indexes start at 0\n",
    "    day = weekdays[i]\n",
    "    print(\"Day {}: {}\".format(day_number, day))"
   ]
  },
  {
   "cell_type": "markdown",
   "metadata": {},
   "source": [
    "All these operations should be familiar to you by now. However, `lists` have a lot of more functionalities. They have, so to say, \"internal functions,\" functions that are predefined by Python to be used specifically with lists. They can be called \"from within\" the list. These internal functions are called **methods**.\n",
    "\n",
    "A commonly used list method is `.index()`. Methods are called by writing them next to a list (or to the variable that stores a list), joined to it by a period (`.`). As all functions, methods are followed by parenthesis, and they also can take parameters. This method, `.index()` is used to return the index of a giving element within a list. Let's for example find out the index of `\"Thursday\"` within the list `weekdays`.\n",
    "\n",
    "⇒ **Note**: Don't methods look familiar to you? Yes! We have been using one particular method since the first session: `.format()`! Right! Strings also have methods in Python. In fact, most elements in Python have methods. This is because Python is an [Object Oriented Programming](https://en.wikipedia.org/wiki/Object-oriented_programming) language. But understanding this is beyond the scope of our course."
   ]
  },
  {
   "cell_type": "code",
   "execution_count": 28,
   "metadata": {},
   "outputs": [
    {
     "name": "stdout",
     "output_type": "stream",
     "text": [
      "3\n"
     ]
    }
   ],
   "source": [
    "print(weekdays.index(\"Thursday\"))"
   ]
  },
  {
   "cell_type": "markdown",
   "metadata": {},
   "source": [
    "Let's check that the returned index is correct"
   ]
  },
  {
   "cell_type": "code",
   "execution_count": 29,
   "metadata": {},
   "outputs": [
    {
     "name": "stdout",
     "output_type": "stream",
     "text": [
      "Thursday\n"
     ]
    }
   ],
   "source": [
    "thursday_index = weekdays.index(\"Thursday\")\n",
    "\n",
    "print(weekdays[thursday_index])"
   ]
  },
  {
   "cell_type": "markdown",
   "metadata": {},
   "source": [
    "Take into account that `.index()` returns only the first occurrence of the given element in the list.\n",
    "\n",
    "Consider a list where you keep the temperature of each day. It might happen that the same temperature occurs in different days, so that that list will contain several instances of the same value. If you call the `.index()` method, only the index of the first occurrence will be retrieved."
   ]
  },
  {
   "cell_type": "code",
   "execution_count": 30,
   "metadata": {},
   "outputs": [
    {
     "name": "stdout",
     "output_type": "stream",
     "text": [
      "2\n"
     ]
    }
   ],
   "source": [
    "# In our measurements, three days had a temperature of 21º\n",
    "temp_history = [19.3, 20, 21, 22.5, 23, 22.7, 21, 18.3, 19, 21, 23, 25.2]\n",
    "\n",
    "# Calling .index() returns only the index of the first occurrence\n",
    "print(temp_history.index(21))"
   ]
  },
  {
   "cell_type": "markdown",
   "metadata": {},
   "source": [
    "First of all, notice that a list can contain all sort of data types. `temp_history` contains integers and floating points. But lists can also contain strings, booleans, even other strings! And other elements we still don't know. But we'll come to that later on in the course.\n",
    "\n",
    "Back to our exapmle, the method `.index()` only returned the index of the first occurrence of `21`, ignoring the occurrences at indexes `6` and `9`. If we want to know the indexes of all the occurrences of `21`, we can use another list method. And this is probably the most frequently used one among all list methods: `.append()`. This method appends the input parameter at the end of the list. So let's try it out. We forgot to add the measurements of the last three days to our `temp_history` list. Let's add them now:"
   ]
  },
  {
   "cell_type": "code",
   "execution_count": 33,
   "metadata": {},
   "outputs": [
    {
     "name": "stdout",
     "output_type": "stream",
     "text": [
      "I had taken 15 measurements:\n",
      "[19.3, 20, 21, 22.5, 23, 22.7, 21, 18.3, 19, 21, 23, 25.2, 26, 24, 23]\n",
      "\n",
      "Now I have 16 measurements:\n",
      "[19.3, 20, 21, 22.5, 23, 22.7, 21, 18.3, 19, 21, 23, 25.2, 26, 24, 23, 26]\n",
      "\n",
      "Now I have 17 measurements:\n",
      "[19.3, 20, 21, 22.5, 23, 22.7, 21, 18.3, 19, 21, 23, 25.2, 26, 24, 23, 26, 24]\n",
      "\n",
      "Now I have 18 measurements:\n",
      "[19.3, 20, 21, 22.5, 23, 22.7, 21, 18.3, 19, 21, 23, 25.2, 26, 24, 23, 26, 24, 23]\n"
     ]
    }
   ],
   "source": [
    "# Let's see first the current status of our list\n",
    "print(\"I had taken {} measurements:\".format(len(temp_history)))\n",
    "print(temp_history)\n",
    "print() # Print an empty line for better readability\n",
    "\n",
    "# Let's add a new measurement: 26\n",
    "temp_history.append(26)\n",
    "print(\"Now I have {} measurements:\".format(len(temp_history)))\n",
    "print(temp_history)\n",
    "print()\n",
    "\n",
    "# New measurement: 24\n",
    "temp_history.append(24)\n",
    "print(\"Now I have {} measurements:\".format(len(temp_history)))\n",
    "print(temp_history)\n",
    "print()\n",
    "\n",
    "# New measurement: 23\n",
    "temp_history.append(23)\n",
    "print(\"Now I have {} measurements:\".format(len(temp_history)))\n",
    "print(temp_history)"
   ]
  },
  {
   "cell_type": "markdown",
   "metadata": {},
   "source": [
    "Now, in order to obtain the indexes for all occurrences of the measurement `21`, I will create an empty list, I will loop over `temp_history` using indexes, and every time I encounter a `21`, I will add the index to that empty list:"
   ]
  },
  {
   "cell_type": "code",
   "execution_count": 34,
   "metadata": {},
   "outputs": [
    {
     "name": "stdout",
     "output_type": "stream",
     "text": [
      "I have encountered 3 occurrences of 21º.\n",
      "They occurred in the indexes:\n",
      "[2, 6, 9]\n"
     ]
    }
   ],
   "source": [
    "# Create an empty list\n",
    "index_21 = []\n",
    "\n",
    "# Iterate over temp_history by indexes\n",
    "for i in range(len(temp_history)):\n",
    "    # Check if the element in the current index is equal to 21\n",
    "    if temp_history[i] == 21:\n",
    "        # If it is equal to 21, I add the index to index_21\n",
    "        index_21.append(i)\n",
    "\n",
    "print(\"I have encountered {} occurrences of 21º.\".format(len(index_21)))\n",
    "print(\"They occurred in the indexes:\")\n",
    "print(index_21)"
   ]
  },
  {
   "cell_type": "markdown",
   "metadata": {},
   "source": [
    "A very useful conditional operator used with lists is `in`. It can be used to evaluate if a given element is contained in a list:"
   ]
  },
  {
   "cell_type": "code",
   "execution_count": 35,
   "metadata": {},
   "outputs": [
    {
     "name": "stdout",
     "output_type": "stream",
     "text": [
      "Have I already taken water?\n",
      "True\n",
      "\n",
      "Have I already taken toilet paper?\n",
      "False\n"
     ]
    }
   ],
   "source": [
    "# We are shopping\n",
    "# Let's have a list with the products that we added to our basket\n",
    "myBasket = [\"potatoes\", \"water\", \"eggs\", \"soap\", \"chocolate\", \"dark chocolate\", \"chocolate with almonds\"]\n",
    "\n",
    "# Now, let's check if we need something else\n",
    "print(\"Have I already taken water?\")\n",
    "print(\"water\" in myBasket)\n",
    "print()\n",
    "print(\"Have I already taken toilet paper?\")\n",
    "print(\"toilet paper\" in myBasket)"
   ]
  },
  {
   "cell_type": "markdown",
   "metadata": {},
   "source": [
    "As a last example, consider that you were given a list with the first names of the students in a course. For some reason, you want to knwo how many of those names start by `\"M\"`."
   ]
  },
  {
   "cell_type": "code",
   "execution_count": 36,
   "metadata": {},
   "outputs": [
    {
     "name": "stdout",
     "output_type": "stream",
     "text": [
      "Among the students, 8 names were found that start with \"M\":\n",
      "\tMaria\n",
      "\tMasako\n",
      "\tMaria\n",
      "\tMohammed\n",
      "\tManuel\n",
      "\tMaoxiong\n",
      "\tMohammed\n",
      "\tMaria\n"
     ]
    }
   ],
   "source": [
    "students = [\"Albert\", \"Baewon\", \"Shefali\", \"Anna\", \"Fatima\", \"Maria\", \"Jack\", \"Gopala\", \"Zacharias\", \"Masako\", \"Victoria\", \"Jiayun\", \"Maria\", \"John\", \"Mohammed\", \"Toumami\", \"Ajay\", \"Andrea\", \"Klaus\", \"Manuel\", \"Bernhard\", \"Maoxiong\", \"Ivonne\", \"Svelovod\", \"Mohammed\", \"Maria\", \"John\", \"Anna\", \"Yimin\", \"Francesca\", \"Jaqueline\", \"Sarah\", \"Christine\"]\n",
    "\n",
    "# Empty list for storing names that start with M\n",
    "m_names = []\n",
    "\n",
    "for name in students:\n",
    "    # Stores the first letter of the name\n",
    "    initial = name[0]\n",
    "    # Evaluates if the initial is M\n",
    "    if initial == \"M\":\n",
    "        # Add the name to m_names\n",
    "        m_names.append(name)\n",
    "        \n",
    "print('Among the students, {} names were found that start with \"M\":'.format(len(m_names)))\n",
    "# Print name by name, preceded by a tab\n",
    "for m_name in m_names:\n",
    "    print('\\t' + m_name)"
   ]
  },
  {
   "cell_type": "markdown",
   "metadata": {},
   "source": [
    "The previous output is not totally correct. The goal was to know how many names start with `\"M\"`, but you have several students with the same name. In order to avoid repetitions, you can modify the previous code, checking if the name to be added to the `m_names` list is already there or not:"
   ]
  },
  {
   "cell_type": "code",
   "execution_count": 37,
   "metadata": {},
   "outputs": [
    {
     "name": "stdout",
     "output_type": "stream",
     "text": [
      "Among the students, 5 names were found that start with \"M\":\n",
      "\tMaria\n",
      "\tMasako\n",
      "\tMohammed\n",
      "\tManuel\n",
      "\tMaoxiong\n"
     ]
    }
   ],
   "source": [
    "# Create a new empty list. Otherwise, it will contain the results of the previous cell\n",
    "m_names = []\n",
    "\n",
    "for name in students:\n",
    "    # Stores the first letter of the name\n",
    "    initial = name[0]\n",
    "    # Evaluates if the initial is M\n",
    "    if initial == \"M\":\n",
    "        # Check if the name is NOT in m_names\n",
    "        if name not in m_names:\n",
    "            # Since the name is not in m_names, it can be added\n",
    "            m_names.append(name)\n",
    "        \n",
    "print('Among the students, {} names were found that start with \"M\":'.format(len(m_names)))\n",
    "# Print name by name, preceded by a tab\n",
    "for m_name in m_names:\n",
    "    print('\\t' + m_name)"
   ]
  },
  {
   "cell_type": "markdown",
   "metadata": {},
   "source": [
    "## Exercises\n",
    "### Exercise 1. Debugging\n",
    "You know what to do..."
   ]
  },
  {
   "cell_type": "code",
   "execution_count": 6,
   "metadata": {},
   "outputs": [
    {
     "name": "stdout",
     "output_type": "stream",
     "text": [
      "honpyt\n",
      "aelraf\n",
      "sicologyehtnomu\n"
     ]
    }
   ],
   "source": [
    "# The word reverser function\n",
    "\n",
    "# First, define the function\n",
    "def word_reverser(word):\n",
    "    \"\"\"\n",
    "    Returns the given word with their halves inverted\n",
    "    \n",
    "    Args:\n",
    "        name (str)\n",
    "        \n",
    "    Returns:\n",
    "        reversed word (str)\n",
    "    \n",
    "    >>> word_reverser(\"python\")\n",
    "    honpyt\n",
    "    \"\"\"\n",
    "    \n",
    "    first_half = word[:len(word)//2]\n",
    "    second_half = word[len(word)//2:]\n",
    "    reversed_word = second_half + first_half\n",
    "\n",
    "    return reversed_word\n",
    "\n",
    "# Now, try it out\n",
    "print(word_reverser (\"python\"))\n",
    "print(word_reverser(\"rafael\"))\n",
    "print(word_reverser(\"ehtnomusicology\"))"
   ]
  },
  {
   "cell_type": "code",
   "execution_count": 33,
   "metadata": {},
   "outputs": [
    {
     "name": "stdout",
     "output_type": "stream",
     "text": [
      "In the first run, 3 matches were found for Mario:\n",
      "\tMarc\n",
      "\tMaria\n",
      "\tManuel\n",
      "\n",
      "In the second run, 2 matches were found for Mario:\n",
      "\tMarc\n",
      "\tMaria\n"
     ]
    }
   ],
   "source": [
    "# The match maker\n",
    "# Search for a match to a given suitor from a list of candidates\n",
    "\n",
    "# First, define the match making function\n",
    "def makeMatch(suitor, candidates, threshold = 2):\n",
    "    \n",
    "    \"\"\"\n",
    "    Returns a list with the candidates which share the same common initial letters with the suitor\n",
    "        \t\n",
    "    Args:\n",
    "        suitor (str): the reference string\n",
    "        candidates (list): a list with candidates (str)\n",
    "        threshold (int): the number of initial letters to compare\n",
    "    \n",
    "    >>> makeMatch(\"Mario\", [\"Marc\", \"Albert\", \"Maria\", \"Anna\", \"Manuel\"])\n",
    "    [\"Marc\", \"Maria\", \"Manuel\"]\n",
    "    \n",
    "    >>> makeMatch(\"Mario\", [\"Marc\", \"Albert\", \"Maria\", \"Anna\", \"Manuel\"], threshold=3)\n",
    "    [\"Marc\", \"Maria\"]\n",
    "    \"\"\"\n",
    "    \n",
    "    # Create a empty list to store the matches\n",
    "    matches = []\n",
    "    \n",
    "    # Takes as many letters as indicated by the threshold from the beginning of the suitor\n",
    "    matching_reference = suitor[:threshold]\n",
    "    \n",
    "    # Compare the reference with the beginning of all the names in the list\n",
    "    for name in candidates:\n",
    "        possible_match = name[:threshold]\n",
    "        # Compare the reference with the possible match\n",
    "        if matching_reference == possible_match:\n",
    "        #Add the name to the matches list\n",
    "            matches.append(name)\n",
    "    \n",
    "    # Return the list of matches\n",
    "    return matches\n",
    "\n",
    "# Check that the function works\n",
    "# Define the variables\n",
    "myFriend = \"Mario\"\n",
    "coworkers  = [\"Marc\", \"Albert\", \"Maria\", \"Anna\", \"Manuel\"]\n",
    "\n",
    "# First try with the default threshold\n",
    "results = makeMatch(myFriend, coworkers)\n",
    "print(\"In the first run, {} matches were found for {}:\".format(len(results), myFriend))\n",
    "for name in results:\n",
    "    print(\"\\t\" + name)\n",
    "    \n",
    "print()  # Empty line for readability\n",
    "\n",
    "# Second try with a more restrictive threshold\n",
    "results = makeMatch(myFriend, coworkers, 3)\n",
    "print(\"In the second run, {} matches were found for {}:\".format(len(results), myFriend))\n",
    "for name in results:\n",
    "    print(\"\\t\" + name)"
   ]
  },
  {
   "cell_type": "markdown",
   "metadata": {},
   "source": [
    "### Exercise 2. Find your way\n",
    "As you can imagine, in this course we won't learn all Python. Actually, I don't know if anyone can ever know all Python... Learning to program and programming itself requires a lot of autonomous learning and continuous searching. I've seen how the most advanced programmers continuosly google their daily programming problems. So, from now on, you will have exercises in which you will need to find the answer yourself, in a semi-guided way. If you don't find the answer, do not worry! We are here to learn, and the important thing is just trying.\n",
    "\n",
    "In this exercise you will search for specific functions and methods, read their documentation, and try to use them. Remember, if you want to access the documentation (that is, the instructions manual) of a function that you never used, in a Jupyter Notebook (thanks to iPython) you can use the question mark after the function name without parenthesis. And if that is not clear enough, you can always google it. The most common used website for asking questions and finding answers about programming is [Stack Overflow](https://stackoverflow.com/).\n",
    "\n",
    "⇒ **Note**: if you need extra cells to try out code, you can add them by clicking the `+` button in the upper menu. "
   ]
  },
  {
   "cell_type": "code",
   "execution_count": 42,
   "metadata": {},
   "outputs": [
    {
     "name": "stdout",
     "output_type": "stream",
     "text": [
      "Numbers with two decimals:\n",
      "12.56\n",
      "34.13\n",
      "41.89\n",
      "72.61\n",
      "28.23\n",
      "\n",
      "Numbers with four decimals:\n",
      "12.5635\n",
      "34.1341\n",
      "41.8923\n",
      "72.6123\n",
      "28.2341\n",
      "\n",
      "Numbers without decimals:\n",
      "13\n",
      "34\n",
      "42\n",
      "73\n",
      "28\n"
     ]
    }
   ],
   "source": [
    "# Use the round() function to print the numbers in the given list, with different decimals\n",
    "# Hint: you can learn about the round() function by running round? in an extra cell (or by googling it)\n",
    "\n",
    "numbers = [12.56347234, 34.1341034, 41.89234123, 72.61233432, 28.2341234]\n",
    "\n",
    "# Print the numbers with two decimals\n",
    "print(\"Numbers with two decimals:\")\n",
    "for number in numbers:\n",
    "    rounded_number = round(number, 2) # Use the round() function here\n",
    "    print(rounded_number)\n",
    "\n",
    "print() # Empty line for readability\n",
    "\n",
    "# Print the numbers with four decimals\n",
    "print(\"Numbers with four decimals:\")\n",
    "for number in numbers:\n",
    "    rounded_number = round(number, 4) # Use the round() function here\n",
    "    print(rounded_number)\n",
    "    \n",
    "print() # Empty line for readability\n",
    "\n",
    "# Print the numbers without decimals\n",
    "print(\"Numbers without decimals:\")\n",
    "for number in numbers:\n",
    "    rounded_number = round(number) # Use the round() function here\n",
    "    print(rounded_number)"
   ]
  },
  {
   "cell_type": "markdown",
   "metadata": {},
   "source": [
    "You can access the documentation of methods the same way as with functions. In the following exercise, you have to use a string method, `.split()`. To access its documenation, you need to assign a string to a variable, call the method (without parenthesis) from the variable, and add `?`:\n",
    "\n",
    "```Python\n",
    "myString = \"example\"\n",
    "myString.split?\n",
    "```"
   ]
  },
  {
   "cell_type": "code",
   "execution_count": 48,
   "metadata": {},
   "outputs": [
    {
     "name": "stdout",
     "output_type": "stream",
     "text": [
      "To\n",
      "program,\n",
      "or\n",
      "not\n",
      "to\n",
      "program,\n",
      "that\n",
      "is\n",
      "the\n",
      "question.\n",
      "\n",
      "To program\n",
      " or not to program\n",
      " that is the question.\n",
      "\n",
      "To program, or no\n",
      " \n",
      "o program, \n",
      "ha\n",
      " is \n",
      "he ques\n",
      "ion.\n"
     ]
    }
   ],
   "source": [
    "myMotto = \"To program, or not to program, that is the question.\"\n",
    "\n",
    "# Segment myMotto using \" \" (blank space) as delimiter\n",
    "segmented_string = myMotto.split( )  # your code here\n",
    "\n",
    "# Check the result\n",
    "for segment in segmented_string:\n",
    "    print(segment)\n",
    "    \n",
    "print()\n",
    "    \n",
    "# Segment myMotto using \",\" as delimiter\n",
    "segmented_string = myMotto.split(\",\")  # your code here\n",
    "\n",
    "# Check the result\n",
    "for segment in segmented_string:\n",
    "    print(segment)\n",
    "    \n",
    "print()\n",
    "    \n",
    "# Segment myMotto using \"t\" as delimiter\n",
    "segmented_string = myMotto.split(\"t\")  # your code here\n",
    "\n",
    "# Check the result\n",
    "for segment in segmented_string:\n",
    "    print(segment)"
   ]
  },
  {
   "cell_type": "markdown",
   "metadata": {},
   "source": [
    "Jupyter Notebooks (actually, iPython) offers a very convenient way to see all the methods available for a Python element. Just assign that element to a variable, write the name of the variable followed by period, and press the Tab key. A menu will appear with all the available methods (it might take 2 or 3 seconds to appear):\n",
    "\n",
    "```Python\n",
    "myList = []\n",
    "myList. #and press Tab\n",
    "```\n",
    "\n",
    "We have learnt how to append new elements to a list at the end of that list. But what about if we want to insert an element in a given position? And what about taking out elements from a list? There are specific list methods to do that. Try to find them out!"
   ]
  },
  {
   "cell_type": "code",
   "execution_count": 59,
   "metadata": {},
   "outputs": [
    {
     "name": "stdout",
     "output_type": "stream",
     "text": [
      "['apple', 'banana', 'mango', 'orange', 'pear', 'strawberry', 'tomato']\n",
      "['apple', 'orange', 'tomato', 'mango', 'strawberry']\n"
     ]
    }
   ],
   "source": [
    "fruits = [\"apple\", \"banana\", \"orange\", \"pear\", \"tomato\"]\n",
    "\n",
    "# Add to that list \"mango\" and \"strawberry\", but keeping the alphabetical order.\n",
    "# Hint: you need to find a list method for that, so that you can call it like: fruits.method()\n",
    "# Hint: write fruits. and hit tab, a menu with all methods will appear.\n",
    "# Otherwise, you'll always have google.\n",
    "# Hint: you need to call the method twice, once for each new fruit\n",
    "# Your code here\n",
    "fruits.append(\"mango\")\n",
    "fruits.append(\"strawberry\")\n",
    "print(sorted(fruits))\n",
    "\n",
    "\n",
    "# Take out from that list \"banana\" and \"pear\" using a list method\n",
    "# Hint: you need to call the method twice, once for each fruit to be removed\n",
    "# Your code here\n",
    "fruits.remove(\"banana\")\n",
    "fruits.remove(\"pear\")\n",
    "print(fruits)\n",
    "\n"
   ]
  },
  {
   "cell_type": "markdown",
   "metadata": {},
   "source": [
    "### Exercise 3. Write your code\n"
   ]
  },
  {
   "cell_type": "markdown",
   "metadata": {},
   "source": [
    "I grade all the assignments for my courses in a 100 points scale. However, the grading system used in KUG is from 5 to 1. My conversion policy is as follows:\n",
    "- From 90 to 100 ⇒ 1\n",
    "- From 80 up to, but excluding 90 ⇒ 2\n",
    "- From 70 up to, but excluding 80 ⇒ 3\n",
    "- From 60 up to, but excluding 70 ⇒ 4\n",
    "- Less than 60 ⇒ 5\n",
    "\n",
    "Please, help me write a script that converts a list of grades from the 100 points scale to the KUG system following the aforementioned policy. And since you are so good at programming, why don't you help me get some statistics about these grades? For example, the percentage of students for each grade."
   ]
  },
  {
   "cell_type": "code",
   "execution_count": 62,
   "metadata": {},
   "outputs": [
    {
     "name": "stdout",
     "output_type": "stream",
     "text": [
      "The new grades for my students are:\n",
      "[3, 4, 3, 1, 5, 3, 4, 2, 1, 3, 4, 2, 3, 4, 5, 2, 3, 3, 2, 4]\n"
     ]
    }
   ],
   "source": [
    "# List with the students grades:\n",
    "grades = [72.8, 64.5, 79.9, 92, 53.2, 70, 65, 87.5, 98, 74.3, 68.9, 82, 75.2, 67.3, 42, 84, 73, 71.2, 89, 60]\n",
    "\n",
    "# Write a function that takes a grade in the 100 points scale and returns its equivalent in the KUG system\n",
    "# Read the function's docstrings to understand what it should do.\n",
    "def grade_converter(grade):\n",
    "    \"\"\"\n",
    "    Converts a grade in the 100 point scale to the 5-1 system.\n",
    "    \n",
    "    Args:\n",
    "        grade (int or float): the grade in the 100 point scale system.\n",
    "    \n",
    "    Returns:\n",
    "        new_grade (int): the grade in the 5-1 system.\n",
    "        \n",
    "    >>> grade_converter(78.5)\n",
    "    3\n",
    "    \n",
    "    >>> grade_converter(65)\n",
    "    4\n",
    "    \"\"\"\n",
    "    # Your code here (hint: transform my policy into if, elif and else conditionals)\n",
    " \n",
    "    grade_now = 0\n",
    "    if grade >= 90 and grade <= 100:\n",
    "        grade_now = 1\n",
    "    elif grade >= 80 and grade <= 89.9:\n",
    "        grade_now = 2\n",
    "    elif grade >= 70 and grade <=79.9:\n",
    "        grade_now = 3\n",
    "    elif grade >= 60 and grade <= 69.9:\n",
    "        grade_now = 4\n",
    "    else:\n",
    "        grade_now = 5\n",
    "    return grade_now\n",
    "    \n",
    "    \n",
    "# Loop over the grades, convert them using the grade_converter function, and save them in a new list\n",
    "## First, create an empty list to save the new grades\n",
    "\n",
    "grades_now = []\n",
    "\n",
    "## Second, loop over the grades, run the grade_converter function on them, and append the output to the list you just created\n",
    "\n",
    "for i in grades:\n",
    "    grades_now.append(grade_converter(i))\n",
    "\n",
    "\n",
    "# Let's print the results:\n",
    "print(\"The new grades for my students are:\")\n",
    "print(grades_now)   # Print the list of the new grades"
   ]
  },
  {
   "cell_type": "code",
   "execution_count": 69,
   "metadata": {},
   "outputs": [
    {
     "name": "stdout",
     "output_type": "stream",
     "text": [
      "A 10% of the students obtained grade 1.\n",
      "A 20% of the students obtained grade 2.\n",
      "A 35% of the students obtained grade 3.\n",
      "A 25% of the students obtained grade 4.\n",
      "A 10% of the students obtained grade 5.\n"
     ]
    }
   ],
   "source": [
    "# Let's now compute the statistics:\n",
    "## Create a variable for counting each grade (such as counter_1, counter_2, etc.)\n",
    "\n",
    "counter_1 = 0\n",
    "counter_2 = 0\n",
    "counter_3 = 0\n",
    "counter_4 = 0\n",
    "counter_5 = 0\n",
    "all_grades = len(grades_now)\n",
    "\n",
    "\n",
    "## Loop over the list of new grades (created in the previous cell), and update the counters for each grade\n",
    "\n",
    "for i in grades_now:\n",
    "    if i == 1:\n",
    "        counter_1 += 1\n",
    "    elif i == 2:\n",
    "        counter_2 += 1\n",
    "    elif i == 3:\n",
    "        counter_3 += 1\n",
    "    elif i == 4:\n",
    "        counter_4 += 1\n",
    "    else:\n",
    "        counter_5 += 1\n",
    "\n",
    "\n",
    "## Write a function for computing percentage.\n",
    "### It should take two parameters, a total and a quantity\n",
    "### It should return the percentage of the quantity with respect to the total\n",
    "### For example, if the total is 200 and the quantity is 20, the function should return 10 (20 is 10% of 200)\n",
    "\n",
    "def percentage(total, quantity):\n",
    "    return (quantity / total) * 100\n",
    "\n",
    "\n",
    "\n",
    "## Use the just created function to compute the percentage for each grade.\n",
    "### Use the counters you created at the beginning of this cell as quantities\n",
    "### Create a variable for the percentage of each grade (such as percentage_a, percentage_b, etc.)\n",
    "\n",
    "percentage_1 = percentage(all_grades, counter_1)\n",
    "percentage_2 = percentage(all_grades, counter_2)\n",
    "percentage_3 = percentage(all_grades, counter_3)\n",
    "percentage_4 = percentage(all_grades, counter_4)\n",
    "percentage_5 = percentage(all_grades, counter_5)\n",
    "\n",
    "\n",
    "\n",
    "\n",
    "## Now print the results.\n",
    "### You should print lines like: \"A 15% of the students obtained grade 1\"\n",
    "\n",
    "print(\"A {:.0f}% of the students obtained grade 1.\" .format(percentage_1))\n",
    "print(\"A {:.0f}% of the students obtained grade 2.\" .format(percentage_2))\n",
    "print(\"A {:.0f}% of the students obtained grade 3.\" .format(percentage_3))\n",
    "print(\"A {:.0f}% of the students obtained grade 4.\" .format(percentage_4))\n",
    "print(\"A {:.0f}% of the students obtained grade 5.\" .format(percentage_5))\n",
    "\n"
   ]
  },
  {
   "cell_type": "code",
   "execution_count": null,
   "metadata": {},
   "outputs": [],
   "source": []
  },
  {
   "cell_type": "code",
   "execution_count": null,
   "metadata": {},
   "outputs": [],
   "source": []
  }
 ],
 "metadata": {
  "kernelspec": {
   "display_name": "Python 3",
   "language": "python",
   "name": "python3"
  },
  "language_info": {
   "codemirror_mode": {
    "name": "ipython",
    "version": 3
   },
   "file_extension": ".py",
   "mimetype": "text/x-python",
   "name": "python",
   "nbconvert_exporter": "python",
   "pygments_lexer": "ipython3",
   "version": "3.8.1"
  }
 },
 "nbformat": 4,
 "nbformat_minor": 2
}
