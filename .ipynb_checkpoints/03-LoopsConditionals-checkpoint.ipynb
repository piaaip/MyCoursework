{
 "cells": [
  {
   "cell_type": "markdown",
   "metadata": {},
   "source": [
    "# Loops and conditionals\n",
    "Looping and conditional statements arguably are the more powerful operations in programming. Most codes, at the end, basically consist in iterating over a series of data, evaluating whether given conditions are met or not, and proceed consequently. Every programming language has its own ways for performing these two operations, and in Python they are really intuitive and easy to use!"
   ]
  },
  {
   "cell_type": "markdown",
   "metadata": {},
   "source": [
    "## Loops\n",
    "Loops simply are iterations over a series of data. Take for example this string, `\"ethnomusicology\"`. It can be understood as a series of characters (concretely 15). Looping over this string is the procedure of going character by character and performing a given operation every time. Therefore, looping itself does not produce any output, is just a way to iteratively access data one by one from a sequence, so that a set of operations can be performed for each access. For example, we can iterate over the 15 characters of the string `\"ethnomusicology\"` and print each of them out. So let's do that!\n",
    "\n",
    "Python uses two types of loops, `for` loops and `while` loops. We will be looking at the `for` loops in this notebook, which are the most common ones.\n",
    "\n",
    "Evey `for` loop statement has two parts:\n",
    "- the declaration of the loop, which is a line that starts with `for` and must end with colon ( `:` ).\n",
    "- the body of the loop, which contains the operations to be performed in each iteration. These can be written in as many lines as needed, but they all **must be indented**. Indentation is just a series of blank spaces at the beginning of the line. You can decide how many spaces you want to use (minimum one), but you have to be always consistent. The most generally used indentations are 2 or 4 spaces. Jupyter Notebooks automatically set indentation to 4 spaces.\n",
    "\n",
    "So, the basic structure of a `for` statement looks like this:\n",
    "\n",
    "```Python\n",
    "for [iteration]:   # [iteration] is defined below\n",
    "    operation1\n",
    "    operation2\n",
    "    operation3\n",
    "```\n",
    "\n",
    "Remember that the colon ( `:` ) at the end of the `for` line and the indenation in the lines of the body are compulsory (otherwise, you will get an error). In fact, programming editors automatically indent the lines following a `for` declaration.\n",
    "\n",
    "The `[iteration]` between `for` and `:` also has two parts: \n",
    "- a variable, where the data units in each iteration are saved, so that they can be used later in the consequent operations\n",
    "- the data to be iterated over, introduced by `in`\n",
    "\n",
    "Therefore, if we want to iterate over the string `\"ethnomusicology\"` and save the character that is retrieved in each iteration in a variable called `letter`, the whole `for` statement looks like this:\n",
    "\n",
    "```Python\n",
    "for letter in \"ethnomusicology\":\n",
    "    operation1\n",
    "    operation2\n",
    "    operation3\n",
    "```\n",
    "\n",
    "So, let's try this out! Let's just iterate over the string `\"ethnomusicology\"`, that will be assigned to the variable `word`, and let's print each character out:"
   ]
  },
  {
   "cell_type": "code",
   "execution_count": 3,
   "metadata": {},
   "outputs": [
    {
     "name": "stdout",
     "output_type": "stream",
     "text": [
      "e\n",
      "t\n",
      "h\n",
      "n\n",
      "o\n",
      "m\n",
      "u\n",
      "s\n",
      "i\n",
      "c\n",
      "o\n",
      "l\n",
      "o\n",
      "g\n",
      "y\n"
     ]
    }
   ],
   "source": [
    "word = \"ethnomusicology\"\n",
    "\n",
    "for x in word:\n",
    "    print(x)"
   ]
  },
  {
   "cell_type": "markdown",
   "metadata": {},
   "source": [
    "What happened here is that, with the `for` loop, each character of the string assigned to the variable `word` was assigned, one by one, to the variable `letter`, and in each iteration the operation `print(letter)` is executed. Notice that in each iteration, the value of the variable `letter` is changed, following the sequence of characters in the variable `word`.\n",
    "\n",
    "Looping can be combined with slicing:"
   ]
  },
  {
   "cell_type": "code",
   "execution_count": 2,
   "metadata": {},
   "outputs": [
    {
     "name": "stdout",
     "output_type": "stream",
     "text": [
      "n\n",
      "o\n",
      "m\n",
      "u\n",
      "s\n",
      "i\n",
      "c\n"
     ]
    }
   ],
   "source": [
    "for letter in word[3:10]:  # Iterates from the character in index 3 to the character in the index previous to 10 (that is, 9)\n",
    "    print(letter)"
   ]
  },
  {
   "cell_type": "markdown",
   "metadata": {},
   "source": [
    "We can use looping, for example, for counting how many characters a string contains.\n",
    "\n",
    "For that, we will use the concatenation operator `+=`. What this operator does is adding to the value stored in a variable a new given value:"
   ]
  },
  {
   "cell_type": "code",
   "execution_count": 3,
   "metadata": {},
   "outputs": [
    {
     "name": "stdout",
     "output_type": "stream",
     "text": [
      "10\n",
      "15\n",
      "17\n",
      "20\n"
     ]
    }
   ],
   "source": [
    "x = 10\n",
    "print(x)\n",
    "\n",
    "# Now we add 5 to the value stored in x\n",
    "x += 5\n",
    "# The resulting value (10 + 5 = 15), is assigned back to the variable x\n",
    "print(x)\n",
    "\n",
    "# Now we add 2 to the new value of x (15)\n",
    "x += 2\n",
    "# Ass a result, the value of x is now 17\n",
    "print(x)\n",
    "\n",
    "# And finally we add 3\n",
    "x += 3\n",
    "print(x)"
   ]
  },
  {
   "cell_type": "markdown",
   "metadata": {},
   "source": [
    "With the operator `+=` what we do is summing a new value to the one previously assigned to a variable. That is, `x += 5` is the same as `x = x + 5`.\n",
    "\n",
    "It can be also used with strings!"
   ]
  },
  {
   "cell_type": "code",
   "execution_count": 3,
   "metadata": {},
   "outputs": [
    {
     "name": "stdout",
     "output_type": "stream",
     "text": [
      "Ethno\n",
      "Ethnomusic\n",
      "Ethnomusicology\n"
     ]
    }
   ],
   "source": [
    "w = \"Ethno\"\n",
    "print(w)\n",
    "\n",
    "w += \"music\"\n",
    "print(w)\n",
    "\n",
    "w += \"ology\"\n",
    "print(w)"
   ]
  },
  {
   "cell_type": "markdown",
   "metadata": {},
   "source": [
    "So, this is how a `for` loop can be used for counting the characters in a string:"
   ]
  },
  {
   "cell_type": "code",
   "execution_count": 4,
   "metadata": {},
   "outputs": [
    {
     "name": "stdout",
     "output_type": "stream",
     "text": [
      "The word ethnomusicology has 15 letters.\n"
     ]
    }
   ],
   "source": [
    "# The variable word is used here. Make sure that the cell were this variable is defined has already been run\n",
    "\n",
    "# We set a counter to 0. This counter will be updated for each character\n",
    "counter = 0\n",
    "\n",
    "for letter in word:   # This for loop iterates over each character of the string stored in the variable word\n",
    "    counter += 1      # For every iteration, 1 is added to the counter\n",
    "    \n",
    "# Once the looping is over, I print the result\n",
    "print(\"The word {} has {} letters.\".format(word, counter))"
   ]
  },
  {
   "cell_type": "markdown",
   "metadata": {},
   "source": [
    "Now you can try the previous code with any string you want! (For example, how many characters are there in the string `\"In the jungle, the mighty jungle, the lion sleeps tonight.\"`?)\n",
    "\n",
    "Notice that the line with the `print()` function in the previous cell is not indented. This indicates that it is outside the `for` loop, and it is executed only once, when the iterations of the `for` loop are finished.\n",
    "\n",
    "Let's now combine the previous two pieces of code:"
   ]
  },
  {
   "cell_type": "code",
   "execution_count": 5,
   "metadata": {},
   "outputs": [
    {
     "name": "stdout",
     "output_type": "stream",
     "text": [
      "Letter 'e' is number 1\n",
      "Letter 't' is number 2\n",
      "Letter 'h' is number 3\n",
      "Letter 'n' is number 4\n",
      "Letter 'o' is number 5\n",
      "Letter 'm' is number 6\n",
      "Letter 'u' is number 7\n",
      "Letter 's' is number 8\n",
      "Letter 'i' is number 9\n",
      "Letter 'c' is number 10\n",
      "Letter 'o' is number 11\n",
      "Letter 'l' is number 12\n",
      "Letter 'o' is number 13\n",
      "Letter 'g' is number 14\n",
      "Letter 'y' is number 15\n",
      "\n",
      "The word ethnomusicology has 15 letters.\n"
     ]
    }
   ],
   "source": [
    "# The variable word is used here. Make sure that the cell were this variable is defined has already been run\n",
    "\n",
    "counter = 0 # The counter is set back to 0, otherwise it will have the result of the previous cell\n",
    "\n",
    "for l in word:      # The variable l is used instead of letter just to show that you can use any variable you want.\n",
    "    counter += 1    # The counter is updated in each iteration\n",
    "    print(\"Letter '{}' is number {}\".format(l, counter)) # This is printed in each iteration\n",
    "\n",
    "# Once looping is over, the result is printed\n",
    "print(\"\\nThe word {} has {} letters.\".format(word, counter))  # The escape sequence \"\\n\" is used to add a new line at the beginning"
   ]
  },
  {
   "cell_type": "markdown",
   "metadata": {},
   "source": [
    "In the previous cell the function `print()` is called twice. The first time is after a `for` statement and in an indented line, what means that it is part of the `for` loop, and is executed for each iteration. The second time is in a non indented line, what means that it is outside of the `for` loop, and therefore is executed just once.\n",
    "\n",
    "By the way, knowing the length of our data is so important, that Python has a built-in function for that: `len()`. Now that we now that `\"ethnomusicology\"` has 15 characters, lets try this function out:"
   ]
  },
  {
   "cell_type": "code",
   "execution_count": 4,
   "metadata": {},
   "outputs": [
    {
     "data": {
      "text/plain": [
       "15"
      ]
     },
     "execution_count": 4,
     "metadata": {},
     "output_type": "execute_result"
    }
   ],
   "source": [
    "# The variable word is used here. Make sure that the cell were this variable is defined has already been run\n",
    "\n",
    "len(word)"
   ]
  },
  {
   "cell_type": "markdown",
   "metadata": {},
   "source": [
    "In many occasions you might want to iterate over your data not by each data unit, but by their indexes. With that purpose, Python conveniently has the built-in function `range()`. It can take one, two or three parameters, but they **always have to be integers**. Let's see what they do.\n",
    "\n",
    "If we only give one parameter, `range()` will return a list of integers from `0` up to, but excluding, the given parameter:"
   ]
  },
  {
   "cell_type": "code",
   "execution_count": 7,
   "metadata": {},
   "outputs": [
    {
     "name": "stdout",
     "output_type": "stream",
     "text": [
      "0\n",
      "1\n",
      "2\n",
      "3\n",
      "4\n",
      "5\n",
      "6\n",
      "7\n",
      "8\n",
      "9\n"
     ]
    }
   ],
   "source": [
    "for i in range(10):  # It is common to use the variable i in these cases, as a short form for index\n",
    "    print(i)"
   ]
  },
  {
   "cell_type": "markdown",
   "metadata": {},
   "source": [
    "If we give two parameters, `range()` will return a list of integers starting in the first one and going up to, but excluding, the second one:"
   ]
  },
  {
   "cell_type": "code",
   "execution_count": 8,
   "metadata": {},
   "outputs": [
    {
     "name": "stdout",
     "output_type": "stream",
     "text": [
      "5\n",
      "6\n",
      "7\n",
      "8\n",
      "9\n"
     ]
    }
   ],
   "source": [
    "for i in range(5, 10):\n",
    "    print(i)"
   ]
  },
  {
   "cell_type": "markdown",
   "metadata": {},
   "source": [
    "If we give three parameters, the third parameter indicates how many integers are jumped in each iteration:"
   ]
  },
  {
   "cell_type": "code",
   "execution_count": null,
   "metadata": {},
   "outputs": [],
   "source": [
    "for i in range(9, 31, 3): # returns a list of indexes from 9 to 30, jumping 3 integers at a time\n",
    "    print(i)"
   ]
  },
  {
   "cell_type": "markdown",
   "metadata": {},
   "source": [
    "If we input the length of our data, using the function `len()`, to the function `range()`, it will return a list of integers coinciding with the indexes of each data unit:"
   ]
  },
  {
   "cell_type": "code",
   "execution_count": 9,
   "metadata": {},
   "outputs": [
    {
     "name": "stdout",
     "output_type": "stream",
     "text": [
      "Letter e has the index 0\n",
      "Letter t has the index 1\n",
      "Letter h has the index 2\n",
      "Letter n has the index 3\n",
      "Letter o has the index 4\n",
      "Letter m has the index 5\n",
      "Letter u has the index 6\n",
      "Letter s has the index 7\n",
      "Letter i has the index 8\n",
      "Letter c has the index 9\n",
      "Letter o has the index 10\n",
      "Letter l has the index 11\n",
      "Letter o has the index 12\n",
      "Letter g has the index 13\n",
      "Letter y has the index 14\n"
     ]
    }
   ],
   "source": [
    "# The variable word is used here. Make sure that the cell were this variable is defined has already been run\n",
    "\n",
    "for i in range(len(word)):\n",
    "    letter = word[i]  # We use the current integer as index\n",
    "    print(\"Letter {} has the index {}\".format(letter, i))"
   ]
  },
  {
   "cell_type": "markdown",
   "metadata": {},
   "source": [
    "Using indexes instead of iterating directly over data allows us a lot flexibility. For example, if I want to print each character in the word `\"ethnomusicology\"` together with its previous and following characters, I can use indexes:"
   ]
  },
  {
   "cell_type": "code",
   "execution_count": 5,
   "metadata": {},
   "outputs": [
    {
     "name": "stdout",
     "output_type": "stream",
     "text": [
      "eth\n",
      "thn\n",
      "hno\n",
      "nom\n",
      "omu\n",
      "mus\n",
      "usi\n",
      "sic\n",
      "ico\n",
      "col\n",
      "olo\n",
      "log\n",
      "ogy\n"
     ]
    }
   ],
   "source": [
    "# The variable word is used here. Make sure that you run the cell were this variable is defined\n",
    "\n",
    "for i in range(1, len(word)-1): # This returns the indexes from the second character (index 1) to the penultimate (len(word)-1)\n",
    "    print(word[i-1:i+2])        # This prints a slice from the previous character (i-1) to the following one (i+2)"
   ]
  },
  {
   "cell_type": "markdown",
   "metadata": {},
   "source": [
    "This last piece of code might look confusing at the fisrt sight. (If you are not sure about something, just make some changes and see what happens.) But do not worry, you will be working with loops almost in very piece of code from now on, so you will get used to it very soon!"
   ]
  },
  {
   "cell_type": "markdown",
   "metadata": {},
   "source": [
    "## Conditionals\n",
    "Together with loops, conditionals are one of the most powerful operations in programming, and they are almost always used together. The core element of a conditional statement is a conditional expression. So let's look at these first:\n",
    "\n",
    "A conditional expression consists simply in evaluating if a given condition is met. The result of this evaluation is quite obvious, either `True` or `False`. In Python, conditional expressions use the following operators: `==`, `!=`, `>`, `<`, `>=` and `<=`. They are quite self-explanatory, so let's just see them in use:"
   ]
  },
  {
   "cell_type": "code",
   "execution_count": 10,
   "metadata": {},
   "outputs": [
    {
     "name": "stdout",
     "output_type": "stream",
     "text": [
      "True\n",
      "True\n",
      "False\n",
      "True\n",
      "True\n",
      "True\n"
     ]
    }
   ],
   "source": [
    "print(5 == 5)  # Evaluates if the two terms are equal. Notice the use of double '=='\n",
    "print(5 != 10) # Evaluates if the two terms are different\n",
    "print(5 > 10)  # Evaluates if the first term is greater than the second\n",
    "print(5 < 10)  # Evaluates if the first term is less than the second\n",
    "print(5 >= 5)  # Evaluates if the first term is greater than or equal to the second\n",
    "print(5 <= 10) # Evaluates if the first term is greater than or equal to the second"
   ]
  },
  {
   "cell_type": "markdown",
   "metadata": {},
   "source": [
    "⇒ **Note**: Pay special attention to the equality operator `==`, different from `=`, which is used for defining variables\n",
    "\n",
    "The result of a conditional expression is a new data type, known as **boolean**, whose short form is `bool`:"
   ]
  },
  {
   "cell_type": "code",
   "execution_count": null,
   "metadata": {},
   "outputs": [],
   "source": [
    "t = True\n",
    "f = False\n",
    "\n",
    "print(\"The data type of variable t is {}\".format(type(t)))\n",
    "print(\"The data type of variable f is {}\".format(type(f)))"
   ]
  },
  {
   "cell_type": "markdown",
   "metadata": {},
   "source": [
    "Notice that booleans are written in capital letters, `True` and `False`.\n",
    "\n",
    "The aforementioned conditional expressions can be combined with the operators `and` and `or`. The combination of conditional expressions using `and` will retrun `True` only if **all** the individual expressions return `True`. The combination of conditional expressions using `or` will retrun `True` if **at least one** of the individual expressions return `True`. "
   ]
  },
  {
   "cell_type": "code",
   "execution_count": 17,
   "metadata": {},
   "outputs": [
    {
     "name": "stdout",
     "output_type": "stream",
     "text": [
      "The first expression is True\n",
      "The second expression is False\n",
      "The third expression is True\n",
      "The fourth expression is True\n"
     ]
    }
   ],
   "source": [
    "exp_01 = 'Hello' == \"Hello\" and 15 == 10 + 5\n",
    "exp_02 = 'Hello' == \"Hello\" and 15 < 10 + 5\n",
    "exp_03 = 'Hello' == \"Hello\" or 15 < 10 + 5\n",
    "exp_04 = 'Hello' != \"Hello\" or 15 < 10 + 5 or 10 <= 1+2+3+4\n",
    "\n",
    "print(\"The first expression is \" + str(exp_01))\n",
    "print(\"The second expression is \" + str(exp_02))\n",
    "print(\"The third expression is \" + str(exp_03))\n",
    "print(\"The fourth expression is \" + str(exp_04))"
   ]
  },
  {
   "cell_type": "markdown",
   "metadata": {},
   "source": [
    "The operator `not` can be used to return the opposite of a conditional expression's evaluation. It affects only to the conditional expression that follows it. However, conditional expressions can be grouped with parenthesis:"
   ]
  },
  {
   "cell_type": "code",
   "execution_count": 18,
   "metadata": {},
   "outputs": [
    {
     "name": "stdout",
     "output_type": "stream",
     "text": [
      "The first expression is False\n",
      "The second expression is True\n",
      "The third expression is False\n"
     ]
    }
   ],
   "source": [
    "exp_01 = not 'Hello' == \"Hello\"\n",
    "exp_02 = 'Hello' == \"Hello\" and not 10 > 15   # Affects to the second conditional expression\n",
    "exp_03 = not ('Hello' != \"Hello\" or 15 > 10)  # Parenthesis can be used to group conditional expressions\n",
    "\n",
    "print(\"The first expression is \" + str(exp_01))\n",
    "print(\"The second expression is \" + str(exp_02))\n",
    "print(\"The third expression is \" + str(exp_03))"
   ]
  },
  {
   "cell_type": "markdown",
   "metadata": {},
   "source": [
    "Finally, the operator `in` evaluates if a given element is contained in a second one. To evaluate if an element is *not* contained in a second one, the combination of operators `not in` can be used."
   ]
  },
  {
   "cell_type": "code",
   "execution_count": 19,
   "metadata": {},
   "outputs": [
    {
     "name": "stdout",
     "output_type": "stream",
     "text": [
      "The first expression is True\n",
      "The second expression is True\n"
     ]
    }
   ],
   "source": [
    "word = \"ethnomusicology\"\n",
    "\n",
    "exp_01 = \"music\" in word\n",
    "exp_02 = \"boredom\" not in word\n",
    "\n",
    "print(\"The first expression is \" + str(exp_01))\n",
    "print(\"The second expression is \" + str(exp_02))"
   ]
  },
  {
   "cell_type": "markdown",
   "metadata": {},
   "source": [
    "Now that we know about conditional expressions, let's start using conditional statements!\n",
    "\n",
    "The conditional staments are also called `if` statements. They are used with the same format as `for` statements, so the following schema should be now easily understood:\n",
    "\n",
    "```Python\n",
    "if [conditional expresion]:\n",
    "    operation1\n",
    "    operation2\n",
    "    operation3\n",
    "```\n",
    "\n",
    "Pay attention to the colon ( `:` ) in the first line and the indentation of the following ones.\n",
    "\n",
    "The operations in the body of the statement will only be executed if the conditional expression in the `if` statement returns `True`:  "
   ]
  },
  {
   "cell_type": "code",
   "execution_count": 20,
   "metadata": {},
   "outputs": [
    {
     "name": "stdout",
     "output_type": "stream",
     "text": [
      "The second expression is True\n",
      "The fourth expression is True\n"
     ]
    }
   ],
   "source": [
    "if \"music\" != \"music\":\n",
    "    print(\"The first expression is True\")\n",
    "    \n",
    "if 10 < 15:\n",
    "    print(\"The second expression is True\")\n",
    "    \n",
    "if \"music\" != \"music\" and 10 < 15:\n",
    "    print(\"The third expression is True\")\n",
    "    \n",
    "if \"music\" != \"music\" or 10 < 15:\n",
    "    print(\"The fourth expression is True\")"
   ]
  },
  {
   "cell_type": "markdown",
   "metadata": {},
   "source": [
    "As you can see, only the messages from the second and fourth `if` statements were printed out, because their conditional expressions returned `True`. Since in the case of the first and third statemes their conditional expressions returned `False`, the `print()` command was not executed.\n",
    "\n",
    "An `if` statement can be followed by an `else` statement:\n",
    "\n",
    "```Python\n",
    "if [conditional expression]:\n",
    "    operation1\n",
    "    operation2\n",
    "    operation3\n",
    "else:\n",
    "    operation4\n",
    "    operation5\n",
    "    operation6\n",
    "```\n",
    "\n",
    "Notice that the `else` statement should be at the same level of indentation as its corresponding `if` statement.\n",
    "\n",
    "If the conditional expression of the `if` statement returns `False`, meaning that the operations in the body of the `if` statement won't be excuted, then the operations of the `else` statement's body are executed. So let's complete the previous piece of code with `else` statements:"
   ]
  },
  {
   "cell_type": "code",
   "execution_count": null,
   "metadata": {},
   "outputs": [],
   "source": [
    "if \"music\" != \"music\":\n",
    "    print(\"The first expression is True\")\n",
    "else:\n",
    "    print(\"The first expression is False\")\n",
    "    \n",
    "if 10 < 15:\n",
    "    print(\"The second expression is True\")\n",
    "else:\n",
    "    print(\"The second expression is False\")\n",
    "    \n",
    "if \"music\" != \"music\" and 10 < 15:\n",
    "    print(\"The third expression is True\")\n",
    "else:\n",
    "    print(\"The third expression is False\")\n",
    "    \n",
    "if \"music\" != \"music\" or 10 < 15:\n",
    "    print(\"The fourth expression is True\")\n",
    "else:\n",
    "    print(\"The fourth expression is False\")"
   ]
  },
  {
   "cell_type": "markdown",
   "metadata": {},
   "source": [
    "Combining `if` and `else` statements allows us to execute some operations if a condition is met, and others if not. However, in many occasions decisions are not binary, and many different conditions should be considered. For these occasions, Python offers the `elif` statements, used in this way:\n",
    "\n",
    "```Python\n",
    "if [condition1]:\n",
    "    operation1\n",
    "    operation2\n",
    "elif [condition2]:\n",
    "    operation3\n",
    "    operation4\n",
    "elif [condition3]:\n",
    "    operation5\n",
    "    operation6\n",
    "else:\n",
    "    operation7\n",
    "    operation8\n",
    "```\n",
    "\n",
    "This code is run sequentially. First, the `condition1` is evaluated. If it returns `True`, the operations in the `if` statement's body are executed, and the rest of the `elif` and `else` statements are ignored. If it returns `False` though, the `condition2` is evaluated. If this `condition2` returns `True`, the operations of the first `elif` statement are executed, and the rest of `elif` and `else` statements ignored. Otherwise, the condition of the following `elif` statement is evaluated. If neither the condition of the `if` statement, nor any of the conditions of the `elif` statements are evaluated as `True`, the operations of the `else` statement are executed.\n",
    "\n",
    "⇒ **Note**: Since the `else` statement is evaluated only when all the previous `if` and `elif` statements return `False`, which is the same as saying that it is the last resource, the `else` statement do *not* need a conditional expression. It can be understood as: \"if nothing of the previous conditions are met, then do the following operations anyway...\" \n",
    "\n",
    "⇒ **Note**: `else` statements are *not* compulsory. You can set an `if` statement, followed, or not, by one or several `elif` statements. And if you only want to perform certain operations when the given conditions are met, but nothing else if they are not met, then the `else` statement can be ignored."
   ]
  },
  {
   "cell_type": "code",
   "execution_count": 22,
   "metadata": {},
   "outputs": [
    {
     "name": "stdout",
     "output_type": "stream",
     "text": [
      "It’s going to be tough\n"
     ]
    }
   ],
   "source": [
    "mySalary = 15\n",
    "\n",
    "if mySalary >= 5000:\n",
    "    print(\"I’m rich!!!\")\n",
    "elif mySalary < 5000 and mySalary >= 2500:\n",
    "    print(\"Good life!\")\n",
    "elif mySalary < 2500 and mySalary >= 1000:\n",
    "    print(\"That’s fine\")\n",
    "else:\n",
    "    print(\"It’s going to be tough\")"
   ]
  },
  {
   "cell_type": "markdown",
   "metadata": {},
   "source": [
    "Now that we can use `for` loops and `if` statements, let's try the power of their combined used.\n",
    "\n",
    "Haven't you always wondered how many times the vowel \"a\" occurs in the first verse of John Lennon's \"Imagine\"? Let's count it!\n",
    "\n",
    "By now, I hope that you can understand the following code:"
   ]
  },
  {
   "cell_type": "code",
   "execution_count": 24,
   "metadata": {},
   "outputs": [
    {
     "name": "stdout",
     "output_type": "stream",
     "text": [
      "The first verse of John Lennon's \"Imagine\" contains 7 a's\n"
     ]
    }
   ],
   "source": [
    "imagine_01 = \"Imagine there's no heaven. It's easy if you try. No hell below us. Above us only sky. Imagine all the people living for today.\"\n",
    "\n",
    "a_counter = 0\n",
    "\n",
    "for letter in imagine_01:               # Iterates over the lyrics, and assigns a charater to the variable letter at a time\n",
    "    if letter == \"a\" or letter == \"A\":  # Evaluates if the character assigned to letter is either a or A\n",
    "        a_counter += 1                  # If letter is equal to a or A, the a_counter is increased in 1\n",
    "\n",
    "print('The first verse of John Lennon\\'s \"Imagine\" contains {} a\\'s'.format(a_counter))"
   ]
  },
  {
   "cell_type": "markdown",
   "metadata": {},
   "source": [
    "And how about how many vowels and consonants?"
   ]
  },
  {
   "cell_type": "code",
   "execution_count": 25,
   "metadata": {},
   "outputs": [
    {
     "name": "stdout",
     "output_type": "stream",
     "text": [
      "The first verse of John Lennon's \"Imagine\" contains 40 vowels, 58 consonants, and 28 other characters.\n"
     ]
    }
   ],
   "source": [
    "vowels = 'aeiouAEIOU'   # This variable stores all possible vowels\n",
    "punctuation = '.,;:!?'  # This variable stores all possible punctuation marks\n",
    "\n",
    "v_counter = 0\n",
    "c_counter = 0\n",
    "others = 0\n",
    "\n",
    "for letter in imagine_01:\n",
    "    if letter in vowels:  # Evaluates if the current character assigned to l is contained in the vowels variable\n",
    "        v_counter += 1\n",
    "    # If letter is not a vowel, then it has to be either a consonant, a punctuation mark, or a blank space\n",
    "    # The following statement evaluates if it is NOT a punctuation mark NOR a blank space\n",
    "    elif letter not in punctuation and letter != \" \":\n",
    "        c_counter += 1\n",
    "    \n",
    "    # If letter is neither a vowel nor a consonant, it has to be 'other' character\n",
    "    else:\n",
    "        others += 1\n",
    "        \n",
    "print('The first verse of John Lennon\\'s \"Imagine\" contains {} vowels, {} consonants, and {} other characters.'.format(v_counter, c_counter, others))"
   ]
  },
  {
   "cell_type": "markdown",
   "metadata": {},
   "source": [
    "To finish this notebook, let's have a look to a slightly more complex code. It analyses the context of a target letter in the first verse of John Lennon's \"Imagine\". Let's try, for example, letter \"i,\" either lowercase or uppercase. The code searches for this letter, and it prints it out together with the previous and next letters, if they exist (that is, if the targe letter is not the first or the last one of the string), or if they are not a punctuation mark nor a blank space.\n",
    "\n",
    "This code just puts into practice most the content explained in this notebook. The purpose is to give you a glimpse of how algorithms are built. Just try to understand it. Pay attention to the three levels of conditional statements."
   ]
  },
  {
   "cell_type": "code",
   "execution_count": 26,
   "metadata": {},
   "outputs": [
    {
     "name": "stdout",
     "output_type": "stream",
     "text": [
      "Im\n",
      "gin\n",
      "It\n",
      "if\n",
      "Im\n",
      "gin\n",
      "liv\n",
      "vin\n"
     ]
    }
   ],
   "source": [
    "# The previous variables imagine_01, vowels and punctuation are used here.\n",
    "# Make sure that the cells were this variables are defined are run\n",
    "\n",
    "target = \"iI\"  # A variable that contains the two possible versions of the same letter, lowercase and uppercase\n",
    "\n",
    "for i in range(len(imagine_01)):  # Iteration over the indexes of the string assigned to imagine_01:\n",
    "    letter = imagine_01[i]        # Retrives the letter in the current index, and assigns it to the variable letter\n",
    "    if letter in target:          # Evaluates if the current letter is our target\n",
    "        # All the following conditions will be evaluated only if the previous condition returned True\n",
    "        # First, let's check first if it is the first letter in the string (index == 0)\n",
    "        if i == 0:\n",
    "            # If this condition returns True, the following code is run. Otherwise, it jumps to the next elif statement\n",
    "            # If it is the first letter, we can only print it together with the following letter (there is no previous one)\n",
    "            next_letter = imagine_01[i+1]  # Retrieves the following letter to the current one (index + 1)\n",
    "            # Now, let's check that this letter is not a punctuation mark nor a blank space\n",
    "            if next_letter not in punctuation and next_letter != \" \":\n",
    "                print(letter + next_letter)\n",
    "        \n",
    "        # If it is not the first letter, let's check if it is the last one\n",
    "        # The function len(imagine_01) returns the number of characters. But since indexes start at 0,\n",
    "        # the last index is len(imagine_01)-1\n",
    "        elif i == len(imagine_01)-1:\n",
    "            # If this condition returns True, the following code is run. Otherwise, it jumps to the else statement\n",
    "            # If it is the last letter, we can only print the previous letter (index - 1)\n",
    "            previous_letter = imagine_01[i-1]\n",
    "            # Now, let's check that this letter is not a punctuation mark nor a blank space\n",
    "            if next_letter not in punctuation and next_letter != \" \":\n",
    "                print(previous_letter + letter)\n",
    "        # If it is neither the first nor the last letter, it has to be a central letter:\n",
    "        else:\n",
    "            previous_letter = imagine_01[i-1]\n",
    "            next_letter = imagine_01[i+1]\n",
    "            # Let's check that neither the previous nor the next letter are neiter punctuation mark nor blanck space\n",
    "            if (previous_letter not in punctuation and previous_letter != \" \") and (next_letter not in punctuation and next_letter != \" \"):\n",
    "                # If the previous conditional expression is True, we can print both the previous and next letters\n",
    "                print(previous_letter + letter + next_letter)\n",
    "            # If the previous conditional expression is False,\n",
    "            # either the previous or the next letter are either a punctuation mark or a blank space.\n",
    "            # Let's check first if the previous letter is either a punctuation mark or a blank space, but not the next one\n",
    "            elif (previous_letter in punctuation or previous_letter == \" \") and (next_letter not in punctuation and next_letter != \" \"):\n",
    "                # If so, we print only the current letter and the next one\n",
    "                print(letter + next_letter)\n",
    "            # Now, let's check the opposite situation\n",
    "            elif (previous_letter not in punctuation and previous_letter != \" \") and (next_letter in punctuation or next_letter == \" \"):\n",
    "                # If so, we print only the previous letter and the current one\n",
    "                print(previous_letter + letter)\n",
    "            # In the case that both previous and next letters are either a punctuation mark or a blank space,\n",
    "            # we just print the current letter\n",
    "            else:\n",
    "                print(letter)"
   ]
  },
  {
   "cell_type": "markdown",
   "metadata": {},
   "source": [
    "I hope you understood how this code works! Now, you can test it with other letters (for example, with letter \"e\"), just by changing the target. Remember to include both uppercase and lowercase variants."
   ]
  },
  {
   "cell_type": "markdown",
   "metadata": {},
   "source": [
    "## Exercises\n",
    "### Exercise 1. Debugging\n",
    "Fix the errors in the following cells"
   ]
  },
  {
   "cell_type": "code",
   "execution_count": 76,
   "metadata": {},
   "outputs": [
    {
     "name": "stdout",
     "output_type": "stream",
     "text": [
      "I love you so so so  much!\n"
     ]
    }
   ],
   "source": [
    "# The love intensifier algorithm\n",
    "\n",
    "intensity = \"\"   # This is an empty string, to add some value later\n",
    "\n",
    "love_intensifier = 3\n",
    "\n",
    "for i in range(love_intensifier):\n",
    "    intensity += \"so \"\n",
    "\n",
    "print(\"I love you {} much!\".format(intensity))"
   ]
  },
  {
   "cell_type": "code",
   "execution_count": 6,
   "metadata": {},
   "outputs": [
    {
     "name": "stdout",
     "output_type": "stream",
     "text": [
      "It's very cold\n"
     ]
    }
   ],
   "source": [
    "# The temperature evaluator\n",
    "\n",
    "degrees = 15\n",
    "\n",
    "if degrees < 5:\n",
    "    print(\"It's freezing!\")\n",
    "elif degrees > 5 and degrees <= 16:\n",
    "    print(\"It's very cold\")\n",
    "elif degrees > 16 and degrees < 24:\n",
    "    print(\"It's cool\")\n",
    "elif degrees == 24:\n",
    "    print(\"It's my perfect temperature!\")\n",
    "elif degrees > 24 and degrees <= 35:\n",
    "    print(\"It's quite warm\")\n",
    "else: \n",
    "    print(\"This is an oven!\")"
   ]
  },
  {
   "cell_type": "code",
   "execution_count": 77,
   "metadata": {},
   "outputs": [
    {
     "name": "stdout",
     "output_type": "stream",
     "text": [
      "Phrase1 and phrase2 have 6 letters in common:\n",
      "1. a\n",
      "2. n\n",
      "3. i\n",
      "4. c\n",
      "5. e\n",
      "6. m\n"
     ]
    }
   ],
   "source": [
    "# The word comparison algorithm\n",
    "\n",
    "phrase1 = \"Computational methods in ethnomusicology\"\n",
    "phrase2 = \"Banana ice cream\"\n",
    "\n",
    "common_letters = \"\"\n",
    "\n",
    "for letter in phrase2:\n",
    "    # Check that the letter is also contained in phrase1 but it is not a blank space\n",
    "    if letter in phrase1 and letter != \" \":\n",
    "        # Now check that it has not already been added to the variable common_letters:\n",
    "        if letter not in common_letters:\n",
    "            common_letters += letter\n",
    "\n",
    "print(\"Phrase1 and phrase2 have \" + str(len(common_letters)) + \" letters in common:\")\n",
    "\n",
    "for i in range(len(common_letters)):\n",
    "    print(\"{}. {}\".format(i+1, common_letters[i]))  # Add 1 to index, not to start in 0"
   ]
  },
  {
   "cell_type": "markdown",
   "metadata": {},
   "source": [
    "### Exercise 2\n",
    "Write a piece of code that, given a string, it counts the occurrences of each vowels and it prints the percentage of each of them.\n",
    "\n",
    "⇒ Optional: if you want to do your code more interesting, everytime it retrieves a vowel \"u\", check if the previous letter is a \"q.\" If so, that occurrence should not be counted."
   ]
  },
  {
   "cell_type": "code",
   "execution_count": 5,
   "metadata": {},
   "outputs": [
    {
     "name": "stdout",
     "output_type": "stream",
     "text": [
      "The phrase contains 14 a-vowels, 39 e-vowels, 20 i-vowels, 25 o-vowels and 10 u-vowels.\n",
      "This phrase contains 108 vowels:\n",
      "- Vowel 'a' accounts for a 12.96%\n",
      "- Vowel 'e' accounts for a 36.11%\n",
      "- Vowel 'i' accounts for a 18.52%\n",
      "- Vowel 'o' accounts for a 23.15%\n",
      "- Vowel 'u' accounts for a 9.26%\n"
     ]
    }
   ],
   "source": [
    "phrase = \"We the People of the United States, in Order to form a more perfect Union, establish Justice, insure domestic Tranquility, provide for the common defence, promote the general Welfare, and secure the Blessings of Liberty to ourselves and our Posterity, do ordain and establish this Constitution for the United States of America.\"\n",
    "\n",
    "# Set a counter for each vowel\n",
    "a_counter = 0\n",
    "e_counter = 0\n",
    "i_counter = 0\n",
    "o_counter = 0\n",
    "u_counter = 0\n",
    "\n",
    "# Now count the occurrences for each vowel\n",
    "# Write your code here\n",
    "\n",
    "vowels = 'aeiouAEIOU'\n",
    "\n",
    "for letter in phrase:\n",
    "    if letter == \"a\" or letter == \"A\":  # Evaluates if the current character assigned to l is contained in the vowels variable\n",
    "        a_counter += 1\n",
    "    elif letter == \"e\" or letter == \"E\":\n",
    "        e_counter += 1\n",
    "    elif letter == \"i\" or letter == \"I\":\n",
    "        i_counter += 1\n",
    "    elif letter == \"o\" or letter == \"O\":\n",
    "        o_counter += 1\n",
    "    elif letter == \"u\" or letter == \"U\":\n",
    "        u_counter += 1\n",
    "        \n",
    "print('The phrase contains {} a-vowels, {} e-vowels, {} i-vowels, {} o-vowels and {} u-vowels.'.format(a_counter, e_counter, i_counter, o_counter, u_counter))        \n",
    "        \n",
    "# Once you have counted the occurrences of each value, compute its percentage for the total of vowels\n",
    "# Hint: multiply each vowel's occurrence by 100 and divide it by the total number of vowels\n",
    "# Write your code here\n",
    "\n",
    "vowel_sum = a_counter + e_counter + i_counter + o_counter + u_counter\n",
    "if vowel_sum != 0:\n",
    "    percentage_of_a = a_counter * 100/vowel_sum\n",
    "    percentage_of_e = e_counter * 100/vowel_sum\n",
    "    percentage_of_i = i_counter * 100/vowel_sum\n",
    "    percentage_of_o = o_counter * 100/vowel_sum\n",
    "    percentage_of_u = u_counter * 100/vowel_sum\n",
    "\n",
    "else:\n",
    "    percentage_of_a = 0\n",
    "    percentage_of_e = 0\n",
    "    percentage_of_i = 0\n",
    "    percentage_of_o = 0\n",
    "    percentage_of_u = 0\n",
    "\n",
    "# Finally, let's print the results\n",
    "print(\"This phrase contains {} vowels:\".format(vowel_sum)) # Complete this line\n",
    "print(\"- Vowel 'a' accounts for a {:.2f}%\".format(percentage_of_a))  # Complete this line\n",
    "print(\"- Vowel 'e' accounts for a {:.2f}%\".format(percentage_of_e))  # Complete this line\n",
    "print(\"- Vowel 'i' accounts for a {:.2f}%\".format(percentage_of_i))  # Complete this line\n",
    "print(\"- Vowel 'o' accounts for a {:.2f}%\".format(percentage_of_o))  # Complete this line\n",
    "print(\"- Vowel 'u' accounts for a {:.2f}%\".format(percentage_of_u))  # Complete this line"
   ]
  },
  {
   "cell_type": "markdown",
   "metadata": {},
   "source": [
    "### Exercise 3"
   ]
  },
  {
   "cell_type": "markdown",
   "metadata": {},
   "source": [
    "Write a pice of code that searches for periods ( `.` ) and commas ( `,`) in a given string, and prints out the period or comma together with the previous two letters.\n",
    "\n",
    "For example, if the given string is `\"To be, or not to be, that is the question.\"`, the output of your code shoud be:\n",
    "\n",
    "```\n",
    "be,\n",
    "be,\n",
    "on.\n",
    "```"
   ]
  },
  {
   "cell_type": "code",
   "execution_count": 9,
   "metadata": {},
   "outputs": [
    {
     "name": "stdout",
     "output_type": "stream",
     "text": [
      "in,\n",
      "in,\n",
      "ay,\n",
      "ay.\n"
     ]
    }
   ],
   "source": [
    "# Your code here\n",
    "phrase = \"Rain, rain, go away, come again another day.\"\n",
    "\n",
    "for i in range(2, len(phrase)):\n",
    "    if phrase[i] == \",\" or phrase [i] == \".\":\n",
    "        print(phrase[i-2:i+1])\n",
    "\n"
   ]
  },
  {
   "cell_type": "code",
   "execution_count": null,
   "metadata": {},
   "outputs": [],
   "source": []
  }
 ],
 "metadata": {
  "kernelspec": {
   "display_name": "Python 3",
   "language": "python",
   "name": "python3"
  },
  "language_info": {
   "codemirror_mode": {
    "name": "ipython",
    "version": 3
   },
   "file_extension": ".py",
   "mimetype": "text/x-python",
   "name": "python",
   "nbconvert_exporter": "python",
   "pygments_lexer": "ipython3",
   "version": "3.8.1"
  }
 },
 "nbformat": 4,
 "nbformat_minor": 2
}
