{
 "cells": [
  {
   "cell_type": "markdown",
   "metadata": {},
   "source": [
    "# Music21: offsets, intervals, rests | Intro to pyplot\n",
    "This notebook presents new functionalities of music21, regarding the use of offsets for retrieving objects, the creation of and work with interval objects, and retrieval of information about rests. Besides it introduces **pyplot**, a collection of functions from the **Matplotlib** library for the creation of plots.\n",
    "\n",
    "In this notebook, we will work with the vocal part of our `lsxp-WoBenShi-KongChengJi.xml` score."
   ]
  },
  {
   "cell_type": "code",
   "execution_count": 1,
   "metadata": {},
   "outputs": [],
   "source": [
    "from music21 import *"
   ]
  },
  {
   "cell_type": "code",
   "execution_count": 2,
   "metadata": {},
   "outputs": [],
   "source": [
    "# Path of the folder that contains the score to be loaded\n",
    "path = './lsxp-WoBenShi-KongChengJi/'\n",
    "\n",
    "# Name of the score\n",
    "file_name = 'lsxp-WoBenShi-KongChengJi.xml'\n",
    "\n",
    "# Join the path of the folder with the file name to get the full path\n",
    "fn = path + file_name"
   ]
  },
  {
   "cell_type": "code",
   "execution_count": 3,
   "metadata": {},
   "outputs": [],
   "source": [
    "# Load the score\n",
    "s = converter.parse(fn)\n",
    "\n",
    "# Retrieve the vocal part\n",
    "p_vocal = s.parts[1]"
   ]
  },
  {
   "cell_type": "markdown",
   "metadata": {},
   "source": [
    "## Using offsets\n",
    "In notebook 8 we learnt how to retrieve the offset of music21 objects. Now, we will learn the opposite operation, that is, retrieving the object(s) located in a specific offset.\n",
    "\n",
    "To practice this function let's focus on the first line of the vocal part. It is the line with the lyrics \"我本是卧龙岗散淡的人，\" which starts in measure 8 and finishes in measure 16. The aim is retrieving this line according to the starting and ending offsets. But first, let's find out which these offsets are.\n",
    "\n",
    "Since the start and end of this line do not coincide with full measures, we would need to find the offsets of the first and last notes of the line. So, first of all, let's have all the notes of the vocal part in one variable."
   ]
  },
  {
   "cell_type": "code",
   "execution_count": 4,
   "metadata": {},
   "outputs": [],
   "source": [
    "nn_vocal = p_vocal.flat.notes.stream()"
   ]
  },
  {
   "cell_type": "markdown",
   "metadata": {},
   "source": [
    "The first note of the vocal part is precisely the first note of the first line. So the first note of the first line is the note in index `0` in the stream of all the notes of the vocal part. Let's retrieve it, and print its measure number and beat anyway to double check that it is the note we want."
   ]
  },
  {
   "cell_type": "code",
   "execution_count": 5,
   "metadata": {},
   "outputs": [
    {
     "name": "stdout",
     "output_type": "stream",
     "text": [
      "Phrase 1 starts at measure 8, beat 3.0.\n"
     ]
    }
   ],
   "source": [
    "# First note of the vocal part\n",
    "line_01_first = nn_vocal[0]\n",
    "\n",
    "# Print measure and beat to verify that we retrieved the correct note\n",
    "print(\"Phrase 1 starts at measure {}, beat {}.\".format(line_01_first.measureNumber, line_01_first.beat))"
   ]
  },
  {
   "cell_type": "markdown",
   "metadata": {},
   "source": [
    "The last note of the first line is the one with index `56` (I counted it). Let's retrieve it too and also print its measure number and beat to verify that we got the correct one."
   ]
  },
  {
   "cell_type": "code",
   "execution_count": 6,
   "metadata": {},
   "outputs": [
    {
     "name": "stdout",
     "output_type": "stream",
     "text": [
      "Phrase 1 ends at measure 16, beat 2.0.\n"
     ]
    }
   ],
   "source": [
    "# Last note of the vocal part\n",
    "line_01_last = nn_vocal[56]\n",
    "\n",
    "# Print measure and beat to verify that we retrieved the correct note\n",
    "print(\"Phrase 1 ends at measure {}, beat {}.\".format(line_01_last.measureNumber, line_01_last.beat))"
   ]
  },
  {
   "cell_type": "markdown",
   "metadata": {},
   "source": [
    "Now that we have found the first and last note of the first line, we can know in which offsets the first line starts and end."
   ]
  },
  {
   "cell_type": "code",
   "execution_count": 7,
   "metadata": {},
   "outputs": [
    {
     "name": "stdout",
     "output_type": "stream",
     "text": [
      "Phrase 1 starts at offset 32.0 and ends at offset 63.0.\n"
     ]
    }
   ],
   "source": [
    "print(\"Phrase 1 starts at offset {} and ends at offset {}.\".format(line_01_first.offset, line_01_last.offset))"
   ]
  },
  {
   "cell_type": "markdown",
   "metadata": {},
   "source": [
    "So, now we know that the first line starts at offset `32.0` and ends at offset `63.0`.\n",
    "\n",
    "It is common in computational research to work with annotated data. In the case of music related tasks, annotated datasets usually consist of files of audio or symbolic data (the latter basically are midi files or machine readable scores), accompanied with annotations in different formats of text files (in the case of symbolic data, the annotations might be included in the files). In the particular case of the dataset from which our score is taken, the [Jingju Music Scores Collection](https://zenodo.org/record/1464653), the machine reable scores are accompanied by a spreadsheet containing information about the starting and ending offsets of all the lines and line sections for all the scores of the dataset, including descriptions of the musical features of each line and section. Therefore, you can automatically retrieve from that annoations file all the melodic lines that correspond to the particular musical features you are interested in. So, knowing how to use these annotations is a very useful skill.\n",
    "\n",
    "In order to retrieve the object(s) located in a specific offset, music21 provides the `.getElementsByOffset()` method, which can be called on the stream from where you want to retrieve objects. Let's use it first with only one parameter, the starting offset of the first line in our score, that is, `32`. We will call it on the `nn_vocal` variable, which contains a stream with all the notes from the vocal part. And as always, the retrieved object(s) will be saved in a stream, which will be assigned to a variable. Finally, let's print the elements contained in the retrieved stream."
   ]
  },
  {
   "cell_type": "code",
   "execution_count": 8,
   "metadata": {},
   "outputs": [
    {
     "name": "stdout",
     "output_type": "stream",
     "text": [
      "(<music21.note.Note G#>, <music21.note.Note B>, <music21.note.Note G#>)\n"
     ]
    }
   ],
   "source": [
    "# Retrive objects at offset 32 from the stream of notes of the vocal part\n",
    "offset_32 = nn_vocal.getElementsByOffset(32).stream()\n",
    "\n",
    "print(offset_32.elements)"
   ]
  },
  {
   "cell_type": "markdown",
   "metadata": {},
   "source": [
    "The resulting stream contains three notes, which means that there are three notes on offset `32`. How is that possible? If you look at the score, the first note of the first line has two grace notes. And if you remember, grace notes are located in the same offset as the following main note.\n",
    "\n",
    "Just to double-check that the method worked, let's print the measure number and beat of the last of these three notes, which is the main note."
   ]
  },
  {
   "cell_type": "code",
   "execution_count": 9,
   "metadata": {},
   "outputs": [
    {
     "name": "stdout",
     "output_type": "stream",
     "text": [
      "The main note in offset 32 is in measure 8, beat 3.0.\n"
     ]
    }
   ],
   "source": [
    "print(\"The main note in offset 32 is in measure {}, beat {}.\".format(offset_32[-1].measureNumber, offset_32[-1].beat))"
   ]
  },
  {
   "cell_type": "markdown",
   "metadata": {},
   "source": [
    "Now, let's do the same for the last note of the first line, in offset `63`."
   ]
  },
  {
   "cell_type": "code",
   "execution_count": 10,
   "metadata": {},
   "outputs": [
    {
     "name": "stdout",
     "output_type": "stream",
     "text": [
      "(<music21.note.Note E>, <music21.note.Note F#>)\n"
     ]
    }
   ],
   "source": [
    "# Retrive objects at offset 63 from the stream of notes of the vocal part\n",
    "offset_63 = nn_vocal.getElementsByOffset(63).stream()\n",
    "\n",
    "print(offset_63.elements)"
   ]
  },
  {
   "cell_type": "markdown",
   "metadata": {},
   "source": [
    "Now, we retrieved two notes, because the last note has a grace note. But let's print the measure number and beat of the main note (the second one) to double-check the result."
   ]
  },
  {
   "cell_type": "code",
   "execution_count": 11,
   "metadata": {},
   "outputs": [
    {
     "name": "stdout",
     "output_type": "stream",
     "text": [
      "The main note in offset 63 is in measure 16, beat 2.0.\n"
     ]
    }
   ],
   "source": [
    "print(\"The main note in offset 63 is in measure {}, beat {}.\".format(offset_63[-1].measureNumber, offset_63[-1].beat))"
   ]
  },
  {
   "cell_type": "markdown",
   "metadata": {},
   "source": [
    "So, as you can see, if we input one offset to the `.getElementsByOffset()` method, we can retrieve all the objects positioned at that offset in the stream on which we call the method.\n",
    "\n",
    "However, we can also input two offsets to the `.getElementsByOffset()` method. In this case, it retrieves all the objects positioned between the first given offset and the second one from the stream on which we call the method. So, if we know that the first line in the vocal part starts at offset `32` and ends at offset `63`, we can call the `.getElementsByOffset()` on the stream where we saved all the notes of the vocal part, giving the starting and ending offsets as parameters. As always, the output will be saved as a stream. To check what we retrieved, let's open it in our score editor."
   ]
  },
  {
   "cell_type": "code",
   "execution_count": 12,
   "metadata": {},
   "outputs": [
    {
     "name": "stdout",
     "output_type": "stream",
     "text": [
      "The first line contains 57 notes.\n"
     ]
    }
   ],
   "source": [
    "# Retrive objects between offsets 32 and 63 from the stream of notes of the vocal part\n",
    "nn_line_01 = nn_vocal.getElementsByOffset(32, 63).stream()\n",
    "\n",
    "# Print how many notes have been retrieved\n",
    "print(\"The first line contains {} notes.\".format(len(nn_line_01.elements)))\n",
    "\n",
    "# Open the line in a score editor\n",
    "nn_line_01.show()"
   ]
  },
  {
   "cell_type": "markdown",
   "metadata": {},
   "source": [
    "Since we called the `.getElementsByOffset()` method on a stream of notes, what we retrieved are only notes. However, if we are interested in retrieving the measures that contain the first line, we can also call the `.getElementsByOffset()` method on the vocal part, which is the stream containing the measures."
   ]
  },
  {
   "cell_type": "code",
   "execution_count": 13,
   "metadata": {},
   "outputs": [],
   "source": [
    "# Retrive measures between offsets 32 and 63 from the vocal part\n",
    "mm_line_01 = p_vocal.getElementsByOffset(32, 63).stream()\n",
    "\n",
    "# Open the line in a score editor\n",
    "mm_line_01.show()"
   ]
  },
  {
   "cell_type": "markdown",
   "metadata": {},
   "source": [
    "If you noticed, something didn't work properly. The first measure is missing! Why is that? Let's check the docstrings of this method to see how it works."
   ]
  },
  {
   "cell_type": "code",
   "execution_count": 14,
   "metadata": {},
   "outputs": [],
   "source": [
    "p_vocal.getElementsByOffset?"
   ]
  },
  {
   "cell_type": "markdown",
   "metadata": {},
   "source": [
    "As you can see, the `.getElementsByOffset()` method, as most methods in music21 (and other modules) contains a list of default parameters. Luckily, the names of these parameters are quite self-explanatory. But if they are not clear enough, the docstrings give a good explanation.\n",
    "\n",
    "In our case, it seems that the problem is the `mustBeginInSpan` parameter. According to the docstrings description, this parameter \"determines whether notes or other objects that do not begin in the region but are still sounding at the beginning of the region are excluded.\" That is, the first line starts at offset `32`, which happens to be in measure 8. But measure 8 does not start in offset `32`, but in offset `30` (two quarter notes earlier). Therefore, since the `mustBeginInSpan` parameter is set to `True` this measure is not retrieved. The solution is simple: call the `.getElementsByOffset()` method by setting the `mustBeginInSpan` parameter to `False`."
   ]
  },
  {
   "cell_type": "code",
   "execution_count": 15,
   "metadata": {},
   "outputs": [],
   "source": [
    "# Retrive measures between offsets 32 and 63 from the vocal part\n",
    "mm_line_01 = p_vocal.getElementsByOffset(32, 63, mustBeginInSpan=False).stream()\n",
    "\n",
    "# Open the line in a score editor\n",
    "mm_line_01.show()"
   ]
  },
  {
   "cell_type": "markdown",
   "metadata": {},
   "source": [
    "And now it's solved! So bear in mind that most music21 methods contain a series of default parameters. So, if something didn't work quite as you expected, just give a look to the docstrings, by calling the method on an appropriate object without parenthesis and followed by question mark `?`."
   ]
  },
  {
   "cell_type": "markdown",
   "metadata": {},
   "source": [
    "## Intervals\n",
    "So far we have been working with objects already present in the score. However, in our analytical work, we might want to work with elements that are not explicitly present in the score, but that we have to create ourselves. A good example of this are intervals. An interval is the distance between two pitches. We can find the pitches in the score, but this distance is something that we measure. In order to work with intervals, music21 has an interval object, that can be easily created from two given pitches or notes (remember that in music21 pitch is an independent object contained in a note).\n",
    "\n",
    "So, let's create an interval object using the first two notes of the vocal part. First, let's retrieve these notes and print their name with octave to know which interval to expect."
   ]
  },
  {
   "cell_type": "code",
   "execution_count": 16,
   "metadata": {},
   "outputs": [
    {
     "name": "stdout",
     "output_type": "stream",
     "text": [
      "Note 1: G#4\n",
      "Note 2: B4\n"
     ]
    }
   ],
   "source": [
    "n1 = nn_vocal[0] # First note of the vocal part\n",
    "n2 = nn_vocal[1] # Second note of the vocal part\n",
    "\n",
    "# Print notes' name with octave\n",
    "print(\"Note 1:\", n1.nameWithOctave)\n",
    "print(\"Note 2:\", n2.nameWithOctave)"
   ]
  },
  {
   "cell_type": "markdown",
   "metadata": {},
   "source": [
    "Now, we can cretate an interval by calling `interval.Interval()` and giving the previous two notes as parameters. We will save the interval object in a variable and just print it out."
   ]
  },
  {
   "cell_type": "code",
   "execution_count": 17,
   "metadata": {},
   "outputs": [
    {
     "name": "stdout",
     "output_type": "stream",
     "text": [
      "<music21.interval.Interval m3>\n"
     ]
    }
   ],
   "source": [
    "itvl_1 = interval.Interval(n1, n2)\n",
    "\n",
    "print(itvl_1)"
   ]
  },
  {
   "cell_type": "markdown",
   "metadata": {},
   "source": [
    "An interval object is nothing explicit in the score. So, if we try to open it in our score editor, nothing will be shown."
   ]
  },
  {
   "cell_type": "code",
   "execution_count": 18,
   "metadata": {},
   "outputs": [],
   "source": [
    "itvl_1.show()"
   ]
  },
  {
   "cell_type": "markdown",
   "metadata": {},
   "source": [
    "Now that we have created this interval object, we can retrieve a lot of information about it. The next cell shows just some information that can be retrieved from an interval object. Pay attention to the used attributes."
   ]
  },
  {
   "cell_type": "code",
   "execution_count": 19,
   "metadata": {},
   "outputs": [
    {
     "name": "stdout",
     "output_type": "stream",
     "text": [
      "Interval name: m3\n",
      "Interval 'nice' name: Minor Third\n",
      "Interval class: 3\n",
      "Interval directed name: m3\n",
      "Interval directed 'nice' name: Ascending Minor Third\n",
      "Interval direction: ASCENDING\n",
      "Interval semitones: 3\n",
      "Interval cents: 300.0\n"
     ]
    }
   ],
   "source": [
    "print(\"Interval name:\", itvl_1.name)\n",
    "print(\"Interval 'nice' name:\", itvl_1.niceName)\n",
    "print(\"Interval class:\", itvl_1.intervalClass)\n",
    "print(\"Interval directed name:\", itvl_1.directedName)\n",
    "print(\"Interval directed 'nice' name:\", itvl_1.directedNiceName)\n",
    "print(\"Interval direction:\", itvl_1.direction.name)\n",
    "print(\"Interval semitones:\", itvl_1.semitones)\n",
    "print(\"Interval cents:\", itvl_1.cents)"
   ]
  },
  {
   "cell_type": "markdown",
   "metadata": {},
   "source": [
    "Now pay attention to the interval's name. It has two parts, a letter and a number. The number refers to the interval's number, and the letter refers to the interval's quality: `m` for minor, `M` for major, `P` for perfect, `A` for augmented, and `d` for diminished. In this case, `m3` represents a minor third.\n",
    "\n",
    "We can even retrieve the notes that form the interval that we created, by calling the `.noteStart` and `.noteEnd` attributes."
   ]
  },
  {
   "cell_type": "code",
   "execution_count": 20,
   "metadata": {},
   "outputs": [
    {
     "name": "stdout",
     "output_type": "stream",
     "text": [
      "This interval starts with G#4 in measure 8, beat 3.0.\n",
      "This interval ends with B4 in measure 8, beat 3.0.\n"
     ]
    }
   ],
   "source": [
    "itvl_1_n1 = itvl_1.noteStart  # First note of the interval\n",
    "itvl_1_n2 = itvl_1.noteEnd    # Second note of the interval\n",
    "\n",
    "# Print information about the notes\n",
    "print(\"This interval starts with {} in measure {}, beat {}.\".format(itvl_1_n1.nameWithOctave, itvl_1_n1.measureNumber, itvl_1_n1.beat))\n",
    "print(\"This interval ends with {} in measure {}, beat {}.\".format(itvl_1_n2.nameWithOctave, itvl_1_n2.measureNumber, itvl_1_n2.beat))"
   ]
  },
  {
   "cell_type": "markdown",
   "metadata": {},
   "source": [
    "Let's now create an interval object for the second and third notes of the vocal part. Since we already have the second note, let's retrieve the third one."
   ]
  },
  {
   "cell_type": "code",
   "execution_count": 21,
   "metadata": {},
   "outputs": [
    {
     "name": "stdout",
     "output_type": "stream",
     "text": [
      "Note 2: B4\n",
      "Note 3: G#4\n"
     ]
    }
   ],
   "source": [
    "n3 = nn_vocal[2] # Third note of the vocal part\n",
    "\n",
    "# Print notes' name with octave\n",
    "print(\"Note 2:\", n2.nameWithOctave)\n",
    "print(\"Note 3:\", n3.nameWithOctave)"
   ]
  },
  {
   "cell_type": "markdown",
   "metadata": {},
   "source": [
    "Now, let's create the interval object and retrieve information about it."
   ]
  },
  {
   "cell_type": "code",
   "execution_count": 22,
   "metadata": {},
   "outputs": [
    {
     "name": "stdout",
     "output_type": "stream",
     "text": [
      "Interval name: m3\n",
      "Interval 'nice' name: Minor Third\n",
      "Interval class: 3\n",
      "Interval directed name: m-3\n",
      "Interval directed 'nice' name: Descending Minor Third\n",
      "Interval direction: DESCENDING\n",
      "Interval semitones: -3\n",
      "Interval cents: -300.0\n"
     ]
    }
   ],
   "source": [
    "# Create the interval object\n",
    "itvl_2 = interval.Interval(n2, n3)\n",
    "\n",
    "# Print information\n",
    "print(\"Interval name:\", itvl_2.name)\n",
    "print(\"Interval 'nice' name:\", itvl_2.niceName)\n",
    "print(\"Interval class:\", itvl_2.intervalClass)\n",
    "print(\"Interval directed name:\", itvl_2.directedName)\n",
    "print(\"Interval directed 'nice' name:\", itvl_2.directedNiceName)\n",
    "print(\"Interval direction:\", itvl_2.direction.name)\n",
    "print(\"Interval semitones:\", itvl_2.semitones)\n",
    "print(\"Interval cents:\", itvl_2.cents)"
   ]
  },
  {
   "cell_type": "markdown",
   "metadata": {},
   "source": [
    "This second interval is also a minor third, but differently from the first one, this is a descending interval. Notice how you can find the direction information from the `.directedName` attribute with the inclusion of a minus sign `-`. Consequently, if the direction of the interval is important for us, we should call the `.directedName` attribute. If not, the `.name` attribute will retrieve the same name for intervals with the same number and quality, regardless of their direction."
   ]
  },
  {
   "cell_type": "markdown",
   "metadata": {},
   "source": [
    "Now we are ready to anlyse our score in terms of intervals. For example, let's count how many perfect fourths are present in the vocal line of this score, regardless of its direction. To do that, we will create an interval between each note and the following one. So, we will iterate over the indexes of all the notes, and create an interval between the note in the current index and the note in the following index. Therefore, we need to iterate over all the indexes up to the penultimate one. Since we are not interested in the interval's direction, we will retrieve the name of the interval using the `.name` attribute. If it is a perfect fourth, `P4`, we will update a previously created counter.\n",
    "\n",
    "To verify that the code is working properly, we will change the color of the notes that form the found perfect fourth intervals, using the `.style.color` attribute, so that we can easily find them in the score when we open it in our score editor."
   ]
  },
  {
   "cell_type": "code",
   "execution_count": 23,
   "metadata": {},
   "outputs": [
    {
     "name": "stdout",
     "output_type": "stream",
     "text": [
      "The vocal part contains 32 perfect fourths.\n"
     ]
    }
   ],
   "source": [
    "### Perfect fourths analysis ###\n",
    "\n",
    "# Initiate a counter\n",
    "p4_counter = 0\n",
    "\n",
    "# Iterate over the indexes of the notes until the penultimate one\n",
    "for i in range(len(nn_vocal)-1):\n",
    "    # Note in the current index\n",
    "    n_start = nn_vocal[i]\n",
    "    # Note in the following index\n",
    "    n_end = nn_vocal[i+1]\n",
    "    # Create interval between the previous two notes\n",
    "    itvl = interval.Interval(n_start, n_end)\n",
    "    # Check if the name of the interval is a perfect fourth 'P4'\n",
    "    if itvl.name == 'P4':\n",
    "        # Update the counter\n",
    "        p4_counter += 1\n",
    "        # Change the color of the starting note to green\n",
    "        itvl.noteStart.style.color = 'green'\n",
    "        # Change the color of the ending note to red\n",
    "        itvl.noteEnd.style.color = 'red'\n",
    "\n",
    "# Print the result\n",
    "print('The vocal part contains {} perfect fourths.'.format(p4_counter))\n",
    "\n",
    "# Open the whole vocal part in a score editor\n",
    "p_vocal.show()"
   ]
  },
  {
   "cell_type": "markdown",
   "metadata": {},
   "source": [
    "All the found intervals, as it can be seen in the score, are indeed perfect fourths. However, if you look closely, our code has detected perfect fourths in dubious cases, like the one starting with the last note of measure 11, `E4`, and ending with the first note of measure 13, `B3`. The interval between these two notes is indeed a perfect fourth. However, there is a whole empty measure between these two notes (a time during which the instrumental acompaniment plays a melodic filling). So it seems dubious that this case could be considered a valid interval from a perceptual point of view. Therefore, we could discard all cases in which there is a rest between the two candidate notes to form an interval. Consequently, we would need to work with rests."
   ]
  },
  {
   "cell_type": "markdown",
   "metadata": {},
   "source": [
    "## Rests\n",
    "Rests are specific objects in music21, and can be handled as all the other music21 objects. For retrieving rests together with the notes of a stream, instead of the attribute `.notes`, we can use the attribute `.notesAndRests` in the same way as `.notes`. This attribute retrieves all the notes and rests, and only notes and rests, from the stream on which it is called.\n",
    "\n",
    "So, let's call the `.notesAndRests` attribute on the vocal part, the exact same way as the attribute `.notes` is used. Let's compare how many elements are retrieved from both of these attributes."
   ]
  },
  {
   "cell_type": "code",
   "execution_count": 24,
   "metadata": {},
   "outputs": [
    {
     "name": "stdout",
     "output_type": "stream",
     "text": [
      "The vocal part has 404 notes.\n",
      "The vocal part has 541 notes and rests.\n"
     ]
    }
   ],
   "source": [
    "# Retrieve notes and rests from vocal part\n",
    "nr_vocal = p_vocal.flat.notesAndRests.stream()\n",
    "\n",
    "# Compare length of notes and notes-and-rests\n",
    "print(\"The vocal part has {} notes.\".format(len(nn_vocal.elements)))\n",
    "print(\"The vocal part has {} notes and rests.\".format(len(nr_vocal.elements)))"
   ]
  },
  {
   "cell_type": "markdown",
   "metadata": {},
   "source": [
    "Now that we have both notes and rests in the same stream, we might face a problem. If we do our usual iteration over all the elements of a stream with notes and rests, and our loop retrieves the pitch of each element, it will raise an error with the first rest (because rests, obviously, do not contain a pitch object), and the code will stop. Luckily both note and rest objects contain a `.isNote` and `.isRest` attribute which returns `True` if the element on which it is called is respectively a note or a rest.\n",
    "\n",
    "So, let's take the first element of the stream that contains all the notes and rests of the vocal part. Since we don't know if it is a note or a rest, we will save it in an `x` variable. And we will call the `.isNote` and `.isRest` methods on it."
   ]
  },
  {
   "cell_type": "code",
   "execution_count": 25,
   "metadata": {},
   "outputs": [
    {
     "name": "stdout",
     "output_type": "stream",
     "text": [
      "The first element of 'nr_vocal' is NOT a note.\n",
      "The first element of 'nr_vocal' is a rest.\n"
     ]
    }
   ],
   "source": [
    "# First element of the stream with notes and rests\n",
    "x = nr_vocal[0]\n",
    "\n",
    "# Check if it is a note\n",
    "if x.isNote:\n",
    "    print(\"The first element of 'nr_vocal' is a note.\")\n",
    "else:\n",
    "    print(\"The first element of 'nr_vocal' is NOT a note.\")\n",
    "\n",
    "# Check if it is a rest\n",
    "if x.isRest:\n",
    "    print(\"The first element of 'nr_vocal' is a rest.\")\n",
    "else:\n",
    "    print(\"The first element of 'nr_vocal' is NOT a rest.\")"
   ]
  },
  {
   "cell_type": "markdown",
   "metadata": {},
   "source": [
    "So, the first element of vocal part is a rest. Let's see now what kind of information we can retrieve from a rest."
   ]
  },
  {
   "cell_type": "code",
   "execution_count": 26,
   "metadata": {},
   "outputs": [
    {
     "name": "stdout",
     "output_type": "stream",
     "text": [
      "Name: rest\n",
      "Full name: Half Rest\n",
      "Duration as quarter length: 2.0\n",
      "Dots: 0\n"
     ]
    }
   ],
   "source": [
    "print('Name:', x.name)\n",
    "print('Full name:', x.fullName)\n",
    "print('Duration as quarter length:', x.quarterLength)\n",
    "print('Dots:', x.duration.dots)"
   ]
  },
  {
   "cell_type": "markdown",
   "metadata": {},
   "source": [
    "Let's go back now to our previous task, the analysis of perfect fourths. We will iterate over the indexes of the stream with all notes and rests, and we will create an interval object only if the element in the current index and the one in the next index are both of them notes. The rest of the code, would just be the same."
   ]
  },
  {
   "cell_type": "code",
   "execution_count": 29,
   "metadata": {},
   "outputs": [
    {
     "name": "stdout",
     "output_type": "stream",
     "text": [
      "The vocal part contains 27 perfect fourths.\n"
     ]
    }
   ],
   "source": [
    "### Perfect fourths analysis 2.0 ###\n",
    "\n",
    "# Initiate a counter\n",
    "p4_counter = 0\n",
    "\n",
    "# Iterate over the indexes of the notes and rests until the penultimate element\n",
    "for i in range(len(nr_vocal)-1):\n",
    "    # Element in the current index\n",
    "    n_start = nr_vocal[i]\n",
    "    # Element in the following index\n",
    "    n_end = nr_vocal[i+1]\n",
    "    if n_start.isNote and n_end.isNote:\n",
    "        # Create interval between the previous two notes\n",
    "        itvl = interval.Interval(n_start, n_end)\n",
    "        # Check if the name of the interval is a perfect fourth 'P4'\n",
    "        if itvl.name == 'P4':\n",
    "            # Update the counter\n",
    "            p4_counter += 1\n",
    "            # Change the color of the starting note to green\n",
    "            itvl.noteStart.style.color = 'green'\n",
    "            # Change the color of the ending note to red\n",
    "            itvl.noteEnd.style.color = 'red'\n",
    "\n",
    "# Print the result\n",
    "print('The vocal part contains {} perfect fourths.'.format(p4_counter))\n",
    "\n",
    "# Open the whole vocal part in a score editor\n",
    "p_vocal.show()"
   ]
  },
  {
   "cell_type": "markdown",
   "metadata": {},
   "source": [
    "The first version of our code found 32 perfect fourths. This new version finds 27, so it seems that it returns a more precise result. However, if we look at the score, the last note of measure 11 and the first note of measure 13 are respectively colored in green and red, indicating that they respectively are starting and ending notes of an interval. So, why is that? Well, these notes were colored the first time we run the code, and since we didn't modify their color, they are still colored.\n",
    "\n",
    "We have to keep in mind the permanent changes that our code makes, in case we want to reverse them. We could do two things: coloring all notes back to black, or reload the score. None of the changes we make with our code affect the original file (unless we explicitly program that). Therefore, if we reload a score in the same variable as before, we will get a new \"clean\" version. So let's do that. Of course, we will need to retrieve the corresponding part and the stream of notes and rests again (otherwise, we will be still using the previous ones)."
   ]
  },
  {
   "cell_type": "code",
   "execution_count": 28,
   "metadata": {},
   "outputs": [],
   "source": [
    "# Reload the score\n",
    "s = converter.parse(fn)\n",
    "\n",
    "# Retrieve vocal part\n",
    "p_vocal = s.parts[1]\n",
    "\n",
    "# Retrieve notes and rests\n",
    "nr_vocal = p_vocal.flat.notesAndRests.stream()"
   ]
  },
  {
   "cell_type": "markdown",
   "metadata": {},
   "source": [
    "If you run now the cell with the \"Perfect fourths analysis 2.0\" code, those two notes will be now not colored."
   ]
  },
  {
   "cell_type": "markdown",
   "metadata": {},
   "source": [
    "## Introduction to pyplot\n",
    "Doing science do not only consists in obtaining sound results. An important aspect of doing science is the communication in an effective way of these results. When working with quantitative methods, as the ones that the programming that we are learning allows us to do, a very effective resource for communicating results are plots and charts. [**Matplotlib**](https://matplotlib.org), as it defines itself, \"is a comprehensive library for creating static, animated, and interactive visualizations in Python.\" You can see a series of examples of plots that can be created with **Matplotlib** in the following page: [https://matplotlib.org/gallery/index.html](https://matplotlib.org/gallery/index.html). Within **Matplotlib**, **pyplot** arguably is the most commonly used collection of functions for the creation of plots. In the following cells, an introductory glimpse to **pyplot** is offered.\n",
    "\n",
    "However, to produce a plot, we need results to be plotted. Let's do a pitch analysis of the vocal part of our score. We will count the aggregated duration of the pitches present in our score and we will plot a bar chart to better interpret the results. Since we don't know *a priori* which pitches are present in the vocal part, we will count them using a dictionary, as it was exemplified in notebook 8. Therefore, the following code is a replica of what was explained there."
   ]
  },
  {
   "cell_type": "code",
   "execution_count": 30,
   "metadata": {},
   "outputs": [
    {
     "name": "stdout",
     "output_type": "stream",
     "text": [
      "- G#4: 35.25\n",
      "- B4: 7.0\n",
      "- F#4: 43.25\n",
      "- E4: 40.75\n",
      "- C#4: 37.75\n",
      "- B3: 32.25\n",
      "- G#3: 13.0\n",
      "- D#4: 12.5\n",
      "- A3: 0.5\n",
      "- F#3: 2.5\n",
      "- A4: 3.0\n"
     ]
    }
   ],
   "source": [
    "# Empty dictionary\n",
    "pitch_count = {}\n",
    "\n",
    "# Iterate over all notes and rests\n",
    "for n in nr_vocal:\n",
    "    # Check if current element is a note\n",
    "    if n.isNote:\n",
    "        # Retrieve pitch name with octave\n",
    "        n_pitch = n.nameWithOctave\n",
    "        # Retrieve duration\n",
    "        n_dur = n.quarterLength\n",
    "        # Check if the pitch of the current note is NOT yet among the keys of our dictionary\n",
    "        if n_pitch not in pitch_count.keys():\n",
    "            # Add this pitch as key with an initial value of the duration of the current note\n",
    "            pitch_count[n_pitch] = n_dur\n",
    "        else:\n",
    "            # Update the value of the current pitch by adding the duration of the current note\n",
    "            pitch_count[n_pitch] += n_dur\n",
    "\n",
    "# Print restuls\n",
    "# Iterate over the dictionary's keys:\n",
    "for k in pitch_count.keys():\n",
    "    # Print the key and its value\n",
    "    print(\"- {}: {}\".format(k, pitch_count[k]))"
   ]
  },
  {
   "cell_type": "markdown",
   "metadata": {},
   "source": [
    "These are our results. So now let's create a bar chart using **pyplot** to better interpret them.\n",
    "\n",
    "In order to do that, the first think that we need to do is importing **pyplot**, which is a part of **Matplotlib**. A common convention, suggested in the **Matplotlib** webpage itself, is giving this module an abbreviated name as `plt`. So, the conventional way of importing **pyplot** is like this:"
   ]
  },
  {
   "cell_type": "code",
   "execution_count": 31,
   "metadata": {},
   "outputs": [],
   "source": [
    "import matplotlib.pyplot as plt"
   ]
  },
  {
   "cell_type": "markdown",
   "metadata": {},
   "source": [
    "⇒ **Note**: if you don't have **Matplotlib** installed you will get an error. In that case, you just need to install it in the same Anaconda environment from where you are running this notebook. To do that, close the notebook and quit Jupyter, and run, in the corresponding environment, the following command\n",
    "\n",
    "    conda install matplotlib"
   ]
  },
  {
   "cell_type": "markdown",
   "metadata": {},
   "source": [
    "Most plots consist in a represantion of a series of values over a bidimensional space, which **pyplot** considers as a Cartesian plane. So, most of **pyplot** graphs requires information about the positions in the horizontal dimension (x axis) and their corresponding values in the vertical dimension (y axis). The horizontal positions and the vertical values can be given as lists to the **pyplot** functions (of course, these two lists have to be of the same length). All **pyplot** graphs are initiated with a first command that indicates the type of graph, and is closed when it is displyed using the `.show()` function (or saved as an image file).\n",
    "\n",
    "In our case, we want to create a bar chart. So we need to use the `.bar()` function. This will initiate the creation of our plot. To this function, we have to input a list of horizontal positions and a list with their corresponding values to be displayed in the vertical dimension. Luckily, we already have all this information in our `pitch_count` dictionary. The horizontal positions are the found pitches, which are the keys of our dictionary. And these can be retrieved with the `.keys()` method. The values to be displayed in the vertical dimension are the values of the dictionary, which can be retrieved using the `.values()` method. To close and visualize our plot, we just need to call the `.show()` function.\n",
    "\n",
    "⇒ **Note**: all **pyplot** commands should be preceded by the module's abbreviation `plt`."
   ]
  },
  {
   "cell_type": "code",
   "execution_count": 32,
   "metadata": {},
   "outputs": [
    {
     "data": {
      "image/png": "[encoded data removed]",
      "text/plain": [
       "<Figure size 432x288 with 1 Axes>"
      ]
     },
     "metadata": {
      "image/png": {
       "height": 248,
       "width": 369
      },
      "needs_background": "light"
     },
     "output_type": "display_data"
    }
   ],
   "source": [
    "# Initiate the bar chart\n",
    "plt.bar(pitch_count.keys(), pitch_count.values())\n",
    "# Close and display the plot\n",
    "plt.show()"
   ]
  },
  {
   "cell_type": "markdown",
   "metadata": {},
   "source": [
    "Great! And just with two lines of code! However, the plot is not very intuitive, because the pitches are not organized along the horizontal dimension (x axis). So, let's try to improve our plot.\n",
    "\n",
    "We can order the keys of our dictionary using the `sorted()` function."
   ]
  },
  {
   "cell_type": "code",
   "execution_count": 33,
   "metadata": {},
   "outputs": [
    {
     "name": "stdout",
     "output_type": "stream",
     "text": [
      "['A3', 'A4', 'B3', 'B4', 'C#4', 'D#4', 'E4', 'F#3', 'F#4', 'G#3', 'G#4']\n"
     ]
    }
   ],
   "source": [
    "sorted_keys = sorted(pitch_count.keys())\n",
    "\n",
    "print(sorted_keys)"
   ]
  },
  {
   "cell_type": "markdown",
   "metadata": {},
   "source": [
    "Yes, now the pitches are ordered, but since they are strings, they are ordered alphabetically. But we would like to order them in terms of pitch height.\n",
    "\n",
    "A possible solution for that is using music21 to retrieve a numeric pitch height value for this pitch names. With music21 we can retrieve frequencies in Hertz or midi values. Since midi values are just integers, it would simplify a bit the task. So, having a string with a pitch name, how do hay retrieve its midi value?\n",
    "\n",
    "To do that, we have to create a pitch object in music21 using that string (this is one example of using pitch as independent from notes). Then, we can retrieve the midi value from this object. Let's test this process first with an example. We know that the midi value of C4 is 60. So let's use this for this example."
   ]
  },
  {
   "cell_type": "code",
   "execution_count": 34,
   "metadata": {},
   "outputs": [
    {
     "name": "stdout",
     "output_type": "stream",
     "text": [
      "The midi value of C4 is 60.\n"
     ]
    }
   ],
   "source": [
    "# Create a pitch object\n",
    "myPitch = pitch.Pitch('C4')\n",
    "\n",
    "# Print the midi value\n",
    "print(\"The midi value of C4 is {}.\".format(myPitch.midi))"
   ]
  },
  {
   "cell_type": "markdown",
   "metadata": {},
   "source": [
    "Great! So now, let's do this for all the pitch names in our `pitch_count` dictionary, that is, for all its keys.\n",
    "\n",
    "We will use the midi values to order the pitch names. But we do not want to display the midi values in our plot, but the pitch names. So, in order to go back to these names, we will create a dictionary which will have the midi values as keys and the pitch names as values."
   ]
  },
  {
   "cell_type": "code",
   "execution_count": 35,
   "metadata": {},
   "outputs": [
    {
     "name": "stdout",
     "output_type": "stream",
     "text": [
      "{68: 'G#4', 71: 'B4', 66: 'F#4', 64: 'E4', 61: 'C#4', 59: 'B3', 56: 'G#3', 63: 'D#4', 57: 'A3', 54: 'F#3', 69: 'A4'}\n"
     ]
    }
   ],
   "source": [
    "# Create empty dictionary\n",
    "pitch_midi = {}\n",
    "\n",
    "# Iterate over the keys of the pitch_count dictionary\n",
    "for pitch_name in pitch_count.keys():\n",
    "    # Create a pitch object using the current pitch name\n",
    "    pitch_object = pitch.Pitch(pitch_name)\n",
    "    # Retrieve the midi value\n",
    "    midi_value = pitch_object.midi\n",
    "    # Add the midi value as key in the new dictionary, with the pitch name as value\n",
    "    pitch_midi[midi_value] = pitch_name\n",
    "\n",
    "# Print the obtained dictionary    \n",
    "print(pitch_midi)"
   ]
  },
  {
   "cell_type": "markdown",
   "metadata": {},
   "source": [
    "Since the midi values, that is, the keys of our `pitch_midi` dictionary, are integers, they can be sorted in an increasing way."
   ]
  },
  {
   "cell_type": "code",
   "execution_count": 36,
   "metadata": {},
   "outputs": [
    {
     "name": "stdout",
     "output_type": "stream",
     "text": [
      "[54, 56, 57, 59, 61, 63, 64, 66, 68, 69, 71]\n"
     ]
    }
   ],
   "source": [
    "# Sort the midi values, which are the keys of the pitch_midi dictionary\n",
    "sorted_midi = sorted(pitch_midi.keys())\n",
    "\n",
    "# Print the results\n",
    "print(sorted_midi)"
   ]
  },
  {
   "cell_type": "markdown",
   "metadata": {},
   "source": [
    "However, we do not want midi values in our plot, but the pitch names. So let's create a list of ordered pitch names using the now sorted midi values and the `pitch_midi` dictionary."
   ]
  },
  {
   "cell_type": "code",
   "execution_count": 37,
   "metadata": {},
   "outputs": [
    {
     "name": "stdout",
     "output_type": "stream",
     "text": [
      "['F#3', 'G#3', 'A3', 'B3', 'C#4', 'D#4', 'E4', 'F#4', 'G#4', 'A4', 'B4']\n"
     ]
    }
   ],
   "source": [
    "# Empty list for storing the ordered pitch names\n",
    "sorted_pitch = []\n",
    "\n",
    "# Iterate over the ordered midi values\n",
    "for m in sorted_midi:\n",
    "    # Retrieve the corresponding pitch name from the pitch_midi dictionary, and\n",
    "    # append it to the sorted_pitch list\n",
    "    sorted_pitch.append(pitch_midi[m])\n",
    "\n",
    "# Print the obtained list    \n",
    "print(sorted_pitch)"
   ]
  },
  {
   "cell_type": "markdown",
   "metadata": {},
   "source": [
    "Finally! Now we have the order of pitch names we wanted. Now we are just missing the corresponding ordered list of duration values, which we can retrieve from the first `pitch_count` dictionary, by iterating over the list of ordered pitch names, `sorted_pitch`."
   ]
  },
  {
   "cell_type": "code",
   "execution_count": 38,
   "metadata": {},
   "outputs": [
    {
     "name": "stdout",
     "output_type": "stream",
     "text": [
      "[2.5, 13.0, 0.5, 32.25, 37.75, 12.5, 40.75, 43.25, 35.25, 3.0, 7.0]\n"
     ]
    }
   ],
   "source": [
    "# Empty list for storing the ordered duration values\n",
    "sorted_values = []\n",
    "\n",
    "# Iterate over the ordered pitch names\n",
    "for p in sorted_pitch:\n",
    "    # Retrieve the corresponding duration value from the pitch_count dictionary, and\n",
    "    # append it to the sorted_values list\n",
    "    sorted_values.append(pitch_count[p])\n",
    "\n",
    "# Print the obtained list\n",
    "print(sorted_values)"
   ]
  },
  {
   "cell_type": "markdown",
   "metadata": {},
   "source": [
    "So, now we can create our bar chart again, using now the list `sorted_pitch` as parameter for the horizontal dimension (x axis) and the list `sorted_values` as parameter for the verstical dimension (y axis)"
   ]
  },
  {
   "cell_type": "code",
   "execution_count": 39,
   "metadata": {},
   "outputs": [
    {
     "data": {
      "image/png": "[encoded data removed]",
      "text/plain": [
       "<Figure size 432x288 with 1 Axes>"
      ]
     },
     "metadata": {
      "image/png": {
       "height": 248,
       "width": 369
      },
      "needs_background": "light"
     },
     "output_type": "display_data"
    }
   ],
   "source": [
    "# Initiate the bar chart\n",
    "plt.bar(sorted_pitch, sorted_values)\n",
    "# Close and display the plot\n",
    "plt.show()"
   ]
  },
  {
   "cell_type": "markdown",
   "metadata": {},
   "source": [
    "This looks much better, and intuitively makes much more sense!\n",
    "\n",
    "However, we can improve even more this graph, so that pitches are separated according to a distance of tone and semitone between them (that is, the distance between E4 and F#4, which is a tone, should be the double of the distance between D#4 and E4, which is a semitone). The problem is that `sorted_pitch` is just a list of strings, with no numerical information, and **pyplot** displays them just one after the other. However, we do have a sorted list with numerical information: `sorted_midi`. So, let's use this list as the parameter for the horizontal dimension (x axis) and see what happens."
   ]
  },
  {
   "cell_type": "code",
   "execution_count": 40,
   "metadata": {},
   "outputs": [
    {
     "data": {
      "image/png": "[encoded data removed]",
      "text/plain": [
       "<Figure size 432x288 with 1 Axes>"
      ]
     },
     "metadata": {
      "image/png": {
       "height": 248,
       "width": 369
      },
      "needs_background": "light"
     },
     "output_type": "display_data"
    }
   ],
   "source": [
    "# Initiate the bar chart\n",
    "plt.bar(sorted_midi, sorted_values)\n",
    "# Close and display the plot\n",
    "plt.show()"
   ]
  },
  {
   "cell_type": "markdown",
   "metadata": {},
   "source": [
    "Now the position of the bars is more meaningful. However, the information in the x axis is midi values, and this is not what we wanted. Even more, **pyplot** considered the x axis as a continuous scale (and, in fact, midi values are a continuous scale) and automatically decided to just show labels at regular steps. Luckily, **pyplot** allows us to keep this distribution over the x axis, and, at the same time, decide for ourselves which labels we want to display along that axis. And the labels we want to display are the ordered pitch names that we have in the `sorted_pitch` list.\n",
    "\n",
    "To add this modification to the previous plot, we have to understand how **pyplot** creates plots. As previously mentioned, plots are initiated with a command that defines the type of plot and are closed when the `.show()` function is called (or saved to an image file). This means that after closing the plot, no further changes can be made. Therefore, all the changes we want to apply to a plot should be called between the intiation and closing statements. In this case, we will use the `.xticks()` function, for specifying the labels (called \"ticks\") of the x axis. This function takes two parameters, a list with the positions of the ticks and the list of ticks to be displayed. Since in our plot the x axis is the scale of midi values, we want to display the pitch names in the midi positions to which they correspond, which are saved in the `sorted_midi` list. And the ticks to be displayed are the pitch names themselves, saved in the `sorted_pitch` list."
   ]
  },
  {
   "cell_type": "code",
   "execution_count": 41,
   "metadata": {},
   "outputs": [
    {
     "data": {
      "image/png": "[encoded data removed]",
      "text/plain": [
       "<Figure size 432x288 with 1 Axes>"
      ]
     },
     "metadata": {
      "image/png": {
       "height": 248,
       "width": 369
      },
      "needs_background": "light"
     },
     "output_type": "display_data"
    }
   ],
   "source": [
    "# Initiate the bar chart\n",
    "plt.bar(sorted_midi, sorted_values)\n",
    "# Define ticks for the x axis\n",
    "plt.xticks(sorted_midi, sorted_pitch)\n",
    "# Close and display the plot\n",
    "plt.show()"
   ]
  },
  {
   "cell_type": "markdown",
   "metadata": {},
   "source": [
    "Finally! This plot shows our results in a very intuitive and meaningful way.\n",
    "\n",
    "The power of **pyplot** is the enourmous versatility that it offers for customizing your plots. The options are endless. The next cell just shows few of them, improving the visual aspect of the plot for its use in a publication. You can find a lot of more options in the [**pyplot** documentation](https://matplotlib.org/contents.html). Besides, its webpage offers a very useful [**pyplot** tutorial](https://matplotlib.org/tutorials/introductory/pyplot.html#sphx-glr-tutorials-introductory-pyplot-py). "
   ]
  },
  {
   "cell_type": "code",
   "execution_count": 42,
   "metadata": {},
   "outputs": [
    {
     "data": {
      "image/png": "[encoded data removed]",
      "text/plain": [
       "<Figure size 432x288 with 1 Axes>"
      ]
     },
     "metadata": {
      "image/png": {
       "height": 301,
       "width": 387
      },
      "needs_background": "light"
     },
     "output_type": "display_data"
    }
   ],
   "source": [
    "# Initiate the bar chart\n",
    "plt.bar(sorted_midi, sorted_values, color='gray') # Gray bars for black and white printing\n",
    "\n",
    "# Define ticks for the x axis\n",
    "plt.xticks(sorted_midi, sorted_pitch, rotation=45) # Give a 45º rotation to the ticks for clearer display\n",
    "\n",
    "# Define the title of the plot\n",
    "plt.title(\"Pitch histogram\", size=20) # Fontsize of 20\n",
    "\n",
    "# Define a label for the x axis\n",
    "plt.xlabel(\"pitch\", size=15) # Fontsize of 15\n",
    "\n",
    "# Define a label for the y axis\n",
    "plt.ylabel(\"duration (quarter notes)\", size=15)  # Fontsize of 15\n",
    "\n",
    "# Close and display the plot\n",
    "plt.show()"
   ]
  },
  {
   "cell_type": "markdown",
   "metadata": {},
   "source": [
    "## Exercises"
   ]
  },
  {
   "cell_type": "markdown",
   "metadata": {},
   "source": [
    "### Exercise 1. Debugging"
   ]
  },
  {
   "cell_type": "markdown",
   "metadata": {},
   "source": [
    "### 1.1"
   ]
  },
  {
   "cell_type": "code",
   "execution_count": 45,
   "metadata": {},
   "outputs": [
    {
     "name": "stdout",
     "output_type": "stream",
     "text": [
      "<music21.meter.TimeSignature 2/4>\n",
      "<music21.note.Rest rest>\n"
     ]
    }
   ],
   "source": [
    "# This cell uses the p_vocal variable previously defined\n",
    "\n",
    "offset_530 = p_vocal.flat.getElementsByOffset(530).stream()\n",
    "\n",
    "for e in offset_530.elements:\n",
    "    print(e)"
   ]
  },
  {
   "cell_type": "markdown",
   "metadata": {},
   "source": [
    "### 1.2"
   ]
  },
  {
   "cell_type": "code",
   "execution_count": 47,
   "metadata": {},
   "outputs": [
    {
     "name": "stdout",
     "output_type": "stream",
     "text": [
      "Between the fourth and fifth notes of the vocal part there is a Ascending Perfect Fourth\n"
     ]
    }
   ],
   "source": [
    "# This cell uses the nn_vocal variable previously defined\n",
    "\n",
    "n4 = nn_vocal[3]\n",
    "n5 = nn_vocal[4]\n",
    "\n",
    "itvl = interval.Interval(n4, n5)\n",
    "\n",
    "print(\"Between the fourth and fifth notes of the vocal part there is a\", itvl.directedNiceName)"
   ]
  },
  {
   "cell_type": "markdown",
   "metadata": {},
   "source": [
    "### 1.3"
   ]
  },
  {
   "cell_type": "code",
   "execution_count": 51,
   "metadata": {},
   "outputs": [
    {
     "name": "stdout",
     "output_type": "stream",
     "text": [
      "The vocal part contains 8 major thirds.\n"
     ]
    }
   ],
   "source": [
    "# This cell uses the nr_vocal variable previously defined\n",
    "\n",
    "# Counter for major thirds\n",
    "count_M3 = 0\n",
    "\n",
    "# Iterate over indexes\n",
    "for i in range(len(nr_vocal)-1):\n",
    "    # Current element\n",
    "    n1 = nr_vocal[i]\n",
    "    # Next element\n",
    "    n2 = nr_vocal[i+1]\n",
    "    # Create interval\n",
    "    if n1.isNote and n2.isNote:\n",
    "        itvl = interval.Interval(n1, n2)\n",
    "    # Check major third\n",
    "        if itvl.name == 'M3':\n",
    "        # Update counter\n",
    "            count_M3 += 1\n",
    "        \n",
    "# Print results\n",
    "print(\"The vocal part contains {} major thirds.\".format(count_M3))"
   ]
  },
  {
   "cell_type": "markdown",
   "metadata": {},
   "source": [
    "### 1.4"
   ]
  },
  {
   "cell_type": "code",
   "execution_count": 52,
   "metadata": {},
   "outputs": [
    {
     "name": "stdout",
     "output_type": "stream",
     "text": [
      "The vocal part contains 5 minor seconds.\n"
     ]
    }
   ],
   "source": [
    "# This cell uses the nr_vocal variable previously defined\n",
    "\n",
    "# Counter for minor seconds\n",
    "count_m2 = 0\n",
    "\n",
    "# Iterate over indexes\n",
    "for i in range(len(nr_vocal)-1):\n",
    "    # Current element\n",
    "    n1 = nr_vocal[i]\n",
    "    # Next element\n",
    "    n2 = nr_vocal[i+1]\n",
    "    # Check both elements are notes\n",
    "    if n1.isNote and n2.isNote:\n",
    "        # Create interval\n",
    "        itvl = interval.Interval(n1, n2)\n",
    "        # Check major third\n",
    "        if itvl.name == 'm2':\n",
    "            # Update counter\n",
    "            count_m2 += 1\n",
    "        \n",
    "# Print results\n",
    "print(\"The vocal part contains {} minor seconds.\".format(count_m2))"
   ]
  },
  {
   "cell_type": "markdown",
   "metadata": {},
   "source": [
    "### 1.5\n",
    "Distribution of the Austrian population according to age.\n",
    "\n",
    "(Data from [https://www.indexmundi.com/austria/age_structure.html](https://www.indexmundi.com/austria/age_structure.html) for 2019)"
   ]
  },
  {
   "cell_type": "code",
   "execution_count": 53,
   "metadata": {},
   "outputs": [
    {
     "data": {
      "image/png": "[encoded data removed]",
      "text/plain": [
       "<Figure size 432x288 with 1 Axes>"
      ]
     },
     "metadata": {
      "image/png": {
       "height": 248,
       "width": 369
      },
      "needs_background": "light"
     },
     "output_type": "display_data"
    }
   ],
   "source": [
    "age_range = ['0-14', '15-24', '25-54', '55-64', 'over 65']\n",
    "population_percentage = [14, 10.82, 42.1, 13.63, 19.44]\n",
    "\n",
    "plt.bar(age_range, population_percentage)\n",
    "plt.show()"
   ]
  },
  {
   "cell_type": "markdown",
   "metadata": {},
   "source": [
    "### Exercise 2. Flawed logic"
   ]
  },
  {
   "cell_type": "markdown",
   "metadata": {},
   "source": [
    "### 2.1\n",
    "Count how many notes and rests are present in the transcription of the first line of the vocal part.\n",
    "\n",
    "Expected result:\n",
    "\n",
    "    The first line of the vocal part contains 57 notes and 3 rests."
   ]
  },
  {
   "cell_type": "code",
   "execution_count": 56,
   "metadata": {},
   "outputs": [
    {
     "name": "stdout",
     "output_type": "stream",
     "text": [
      "The first line of the vocal part contains 57 notes and 3 rests.\n"
     ]
    }
   ],
   "source": [
    "# This cell uses the variables nn_vocal and nr_vocal previously defined\n",
    "\n",
    "# Retrieve first line\n",
    "line_1 = nr_vocal.getElementsByOffset(32, 63).stream()\n",
    "\n",
    "# Counters\n",
    "count_notes = 0\n",
    "count_rests = 0\n",
    "\n",
    "# Iterate over elements \n",
    "for e in line_1.elements:\n",
    "    # Check if it is note\n",
    "    if e.isNote:\n",
    "        count_notes += 1\n",
    "    else:\n",
    "        count_rests += 1\n",
    "\n",
    "# Print result\n",
    "print(\"The first line of the vocal part contains {} notes and {} rests.\".format(count_notes, count_rests))"
   ]
  },
  {
   "cell_type": "markdown",
   "metadata": {},
   "source": [
    "### 2.2\n",
    "Previously we analyzed the occurrences of perfect fourths in the vocal part. Let's now count if this interval is more frequent with ascendent or descendent direction.\n",
    "\n",
    "Expected result:\n",
    "\n",
    "    Among the perfect fourths in the vocal part, 17 are ascending and 10 are descending."
   ]
  },
  {
   "cell_type": "code",
   "execution_count": 60,
   "metadata": {},
   "outputs": [
    {
     "name": "stdout",
     "output_type": "stream",
     "text": [
      "Among the perfect fourths in the vocal part, 17 are ascending and 10 are descending.\n"
     ]
    }
   ],
   "source": [
    "# This cell uses the variable nr_vocal previously defined\n",
    "\n",
    "# Counters\n",
    "p4_asc = 0 # ascending perfect fourths\n",
    "p4_des = 0 # descending perfect fourths\n",
    "\n",
    "# Iterate over elements\n",
    "for i in range(len(nr_vocal)-1):\n",
    "    n1 = nr_vocal[i]\n",
    "    n2 = nr_vocal[i+1]\n",
    "    # Check both elements are notes\n",
    "    if n1.isNote and n2.isNote:\n",
    "        # Create interval\n",
    "        itvl = interval.Interval(n1, n2)\n",
    "        # Check ascending perfect fourth\n",
    "        if itvl.directedName == 'P4':\n",
    "            p4_asc += 1\n",
    "        # Check descending perfect fourth\n",
    "        elif itvl.directedName == 'P-4':\n",
    "            p4_des += 1\n",
    "\n",
    "# Print results\n",
    "print(\"Among the perfect fourths in the vocal part, {} are ascending and {} are descending.\".format(p4_asc, p4_des))"
   ]
  },
  {
   "cell_type": "markdown",
   "metadata": {},
   "source": [
    "### 2.3\n",
    "Let's analyze the intervalic structure of the vocal part. Since we don't know a priori what kind of intervals are pressent in the vocal part, we will count them using a dictionary.\n",
    "\n",
    "Expected result:\n",
    "\n",
    "    The distribution of intervals in the vocal part is as follows:\n",
    "    - m3: 114\n",
    "    - M2: 167\n",
    "    - P4: 27\n",
    "    - P1: 28\n",
    "    - M3: 8\n",
    "    - P5: 9\n",
    "    - m6: 2\n",
    "    - m2: 5\n",
    "    - m7: 2\n",
    "    - M6: 2\n",
    "    - m10: 1\n",
    "\n",
    "⇒ **Note**: this exercise follows the same logic as exercises 2.3, 2.4 and 3.5 from notebook 8."
   ]
  },
  {
   "cell_type": "code",
   "execution_count": 61,
   "metadata": {},
   "outputs": [
    {
     "name": "stdout",
     "output_type": "stream",
     "text": [
      "The distribution of intervals in the vocal part is as follows:\n",
      "- m3: 114\n",
      "- M2: 167\n",
      "- P4: 27\n",
      "- P1: 28\n",
      "- M3: 8\n",
      "- P5: 9\n",
      "- m6: 2\n",
      "- m2: 5\n",
      "- m7: 2\n",
      "- M6: 2\n",
      "- m10: 1\n"
     ]
    }
   ],
   "source": [
    "# This cell uses the variable nr_vocal previously defined\n",
    "\n",
    "# Empty dictionary\n",
    "itvls_vocal = {}\n",
    "\n",
    "# Iterate over elements\n",
    "for i in range(len(nr_vocal)-1):\n",
    "    n1 = nr_vocal[i]\n",
    "    n2 = nr_vocal[i+1]\n",
    "    # Check both elements are notes\n",
    "    if n1.isNote and n2.isNote:\n",
    "        # Create interval\n",
    "        itvl = interval.Interval(n1, n2)\n",
    "        # Check if itvl.name is NOT yet among the keys of itvls_vocal\n",
    "        if itvl.name not in itvls_vocal.keys():\n",
    "            # Not there yet: add itvl.name as key with 1 as starting value\n",
    "            itvls_vocal[itvl.name] = 1\n",
    "        else:\n",
    "            # Already there: update the value for the key itvl.name by one\n",
    "            itvls_vocal[itvl.name] += 1\n",
    "\n",
    "# Print results\n",
    "print(\"The distribution of intervals in the vocal part is as follows:\")\n",
    "for k in itvls_vocal.keys():\n",
    "    print(\"- {}: {}\".format(k, itvls_vocal[k]))"
   ]
  },
  {
   "cell_type": "markdown",
   "metadata": {},
   "source": [
    "### 2.4\n",
    "What if we do the same analysis as in the previous cell, but now considering the direction of the intervals?\n",
    "\n",
    "Expected results:\n",
    "\n",
    "    The distribution of intervals in the vocal part is as follows:\n",
    "    - m3: 54\n",
    "    - m-3: 60\n",
    "    - M-2: 98\n",
    "    - P4: 17\n",
    "    - M2: 69\n",
    "    - P1: 28\n",
    "    - M-3: 5\n",
    "    - P-4: 10\n",
    "    - P5: 5\n",
    "    - m-6: 1\n",
    "    - m-2: 5\n",
    "    - m7: 2\n",
    "    - M6: 2\n",
    "    - M3: 3\n",
    "    - P-5: 4\n",
    "    - m6: 1\n",
    "    - m10: 1"
   ]
  },
  {
   "cell_type": "code",
   "execution_count": 63,
   "metadata": {},
   "outputs": [
    {
     "name": "stdout",
     "output_type": "stream",
     "text": [
      "The distribution of intervals in the vocal part is as follows:\n",
      "- m3: 54\n",
      "- m-3: 60\n",
      "- M-2: 98\n",
      "- P4: 17\n",
      "- M2: 69\n",
      "- P1: 28\n",
      "- M-3: 5\n",
      "- P-4: 10\n",
      "- P5: 5\n",
      "- m-6: 1\n",
      "- m-2: 5\n",
      "- m7: 2\n",
      "- M6: 2\n",
      "- M3: 3\n",
      "- P-5: 4\n",
      "- m6: 1\n",
      "- m10: 1\n"
     ]
    }
   ],
   "source": [
    "# This cell uses the variable nr_vocal previously defined\n",
    "\n",
    "# Empty dictionary\n",
    "itvls_vocal = {}\n",
    "\n",
    "# Iterate over elements\n",
    "for i in range(len(nr_vocal)-1):\n",
    "    n1 = nr_vocal[i]\n",
    "    n2 = nr_vocal[i+1]\n",
    "    # Check both elements are notes\n",
    "    if n1.isNote and n2.isNote:\n",
    "        # Create interval\n",
    "        itvl = interval.Interval(n1, n2)\n",
    "        # Check if interval is NOT yet among the keys of itvls_vocal\n",
    "        if itvl.directedName not in itvls_vocal.keys():\n",
    "            # Not there yet: add interval as key with 1 as starting value\n",
    "            itvls_vocal[itvl.directedName] = 1\n",
    "        else:\n",
    "            # Already there: update the value for the key itvl.name by one\n",
    "            itvls_vocal[itvl.directedName] += 1\n",
    "\n",
    "# Print results\n",
    "print(\"The distribution of intervals in the vocal part is as follows:\")\n",
    "for k in itvls_vocal.keys():\n",
    "    print(\"- {}: {}\".format(k, itvls_vocal[k]))"
   ]
  },
  {
   "cell_type": "markdown",
   "metadata": {},
   "source": [
    "### 2.5\n",
    "Let's plot a bar chart with the results of the previous cell using **pyplot**.\n",
    "\n",
    "Expected result:\n",
    "\n",
    "<img src=\"./img/09-2.5-IntervalsHistogram.png\"  style=\"height:19em; float:left;\">"
   ]
  },
  {
   "cell_type": "code",
   "execution_count": 65,
   "metadata": {},
   "outputs": [
    {
     "data": {
      "image/png": "[encoded data removed]",
      "text/plain": [
       "<Figure size 432x288 with 1 Axes>"
      ]
     },
     "metadata": {
      "image/png": {
       "height": 263,
       "width": 375
      },
      "needs_background": "light"
     },
     "output_type": "display_data"
    }
   ],
   "source": [
    "# This cell uses the itvls_vocal dictionary from exercise 2.4\n",
    "\n",
    "# Import pyplot\n",
    "import matplotlib.pyplot as plt\n",
    "\n",
    "# Create the plot\n",
    "plt.bar(itvls_vocal.keys(), itvls_vocal.values())\n",
    "plt.title(\"Intervals histogram\")\n",
    "plt.show()"
   ]
  },
  {
   "cell_type": "markdown",
   "metadata": {},
   "source": [
    "### Exercise 3. Write your own code\n",
    "\n",
    "All the exercises in Exercise 3 are parts of one single task: analyzing the intervalic distribution of the instrumental part in our score, and plot a bar chart with intervals organized along the x axis from smaller to larger distance. Each of the following exercises are the required steps for achieving this goal. Therefore, you won't be able to solve one exercise until you solved the previous one.\n",
    "\n",
    "Expected result at the end of all the exercises in Exercise 3:\n",
    "\n",
    "<img src=\"./img/09-3.7-OrderedIntervalsHistogram.png\"  style=\"height:19em; float:left;\">"
   ]
  },
  {
   "cell_type": "markdown",
   "metadata": {},
   "source": [
    "⇒ **Note**: the whole Exercise 3 follows the same logic as the pitch histogram computed earlier in this notebook in the \"Introduction to pyplot\" section."
   ]
  },
  {
   "cell_type": "markdown",
   "metadata": {},
   "source": [
    "### 3.1\n",
    "First of all, if we want to analyze intervals in the instrumental part, we need to retrieve all the notes from this part. However, since we won't like to consider intervals with a rest between the two notes that form the interval, we will like to retrieve the notes AND rests from the instrumental part.\n",
    "\n",
    "To avoid any effect of previous coding let's start from scratch. Therefore,\n",
    "\n",
    "- import music21\n",
    "- import pyplot\n",
    "- load the score (you can use the variable `fn` from the second cell of this notebook, so make sure that you run that cell before this one)\n",
    "- retrieve the instrumental part\n",
    "- retrieve the notes and rests of the instrumental part\n",
    "- print the amount of notes and rests retrieved\n",
    "- optional: to double check the result, open the stream containing the notes and rests of the instrumental in your score editor\n",
    "\n",
    "Expected result:\n",
    "\n",
    "    There are 1397 notes and rests in the instrumental part."
   ]
  },
  {
   "cell_type": "code",
   "execution_count": 70,
   "metadata": {},
   "outputs": [
    {
     "name": "stdout",
     "output_type": "stream",
     "text": [
      "The vocal part has 1397 notes and rests.\n"
     ]
    }
   ],
   "source": [
    "# Import music21 and pyplot\n",
    "\n",
    "from music21 import *\n",
    "\n",
    "import matplotlib.pyplot as plt\n",
    "\n",
    "# Load the score (you can use the variable fn from the 2nd cell of this notebook)\n",
    "\n",
    "s = converter.parse(fn)\n",
    "\n",
    "# Retrieve the instrumental part\n",
    "\n",
    "p_instr = s.parts[0]\n",
    "\n",
    "# Retrieve the notes and rests of the instrumental part\n",
    "\n",
    "nr_instr = p_instr.flat.notesAndRests.stream()\n",
    "\n",
    "# Print the amount of notes and rests retrieved\n",
    "print(\"The vocal part has {} notes and rests.\".format(len(nr_instr.elements)))\n",
    "\n",
    "# OPTIONAL: open the stream of notes and rests in your score editor\n",
    "nr_instr.show()"
   ]
  },
  {
   "cell_type": "markdown",
   "metadata": {},
   "source": [
    "### 3.2\n",
    "Now, let's count the occurrence of each of the intervals present in the instrumental part. Since we don't know a priori which intervals are there, we will use a dictionary for that. Therefore:\n",
    "\n",
    "- create an empty dictionary. Call it `itvl_count`\n",
    "\n",
    "\n",
    "- iterate over the indexes of the stream of notes and rests up to the penultimate. For each iteration:\n",
    "    - retrieve the element in the current index and the one in the next index\n",
    "    - check if both of them are notes. If so,\n",
    "    - create an interval with the previous two notes\n",
    "    - check if the name of the interval is NOT yet among the keys of `itvl_count`. If still not there:\n",
    "    - add the name of the interval as key of the `itvl_count` dictionary with an initial value of 1. However, if it is already there:\n",
    "    - update the value of the key corresponding to the interval name by one\n",
    "\n",
    "\n",
    "- after all the iterations are finished, print the `itvl_count` dictionary\n",
    "\n",
    "Expected result:\n",
    "\n",
    "    {'M2': 492, 'm3': 380, 'P5': 52, 'P4': 158, 'P1': 110, 'm6': 30, 'm2': 42, 'M3': 35, 'd5': 8, 'm7': 25, 'P8': 4, 'M6': 3}\n",
    "    \n",
    "⇒ **Note**: this exercise follows the same logic as exercises 2.3 and 2.4 in this notebook."
   ]
  },
  {
   "cell_type": "code",
   "execution_count": 74,
   "metadata": {
    "scrolled": true
   },
   "outputs": [
    {
     "name": "stdout",
     "output_type": "stream",
     "text": [
      "{'M2': 492, 'm3': 380, 'P5': 52, 'P4': 158, 'P1': 110, 'm6': 30, 'm2': 42, 'M3': 35, 'd5': 8, 'm7': 25, 'P8': 4, 'M6': 3}\n"
     ]
    }
   ],
   "source": [
    "# Create the itvl_count empty dictionary\n",
    "\n",
    "itvl_count = {}\n",
    "\n",
    "# Iterate over indexes of notes and rests to the penultimate one. Retrieve elements in current index and\n",
    "# next one. Check if they are notes. If so, create interval. Check if interval name NOT yet among the keys\n",
    "# of itvl_count. If so, add interval name as key with value 1. If already there, update the value of the\n",
    "# key of the interval name by 1\n",
    "\n",
    "\n",
    "for i in range(len(nr_instr)-1):\n",
    "    n1 = nr_instr[i]\n",
    "    n2 = nr_instr[i+1]\n",
    "    if n1.isNote and n2.isNote:\n",
    "        itvl = interval.Interval(n1, n2)\n",
    "        if itvl.name not in itvl_count.keys():\n",
    "            itvl_count[itvl.name] = 1\n",
    "        else: \n",
    "            itvl_count[itvl.name] += 1\n",
    "\n",
    "\n",
    "# Print the itvl_count dictionary\n",
    "print(itvl_count)"
   ]
  },
  {
   "cell_type": "markdown",
   "metadata": {},
   "source": [
    "### 3.3\n",
    "Let's just plot a preliminary bar chart using the keys of the `itvl_count` dictionary as positions in the x axis (horizontal dimension) and the values of the `itvl_count` dictionary as values in the y axis (vertical dimension).\n",
    "\n",
    "Expected result:\n",
    "\n",
    "<img src=\"./img/09-3.3-UnorderedIntervalsHistogram.png\"  style=\"height:19em; float:left;\">"
   ]
  },
  {
   "cell_type": "code",
   "execution_count": 75,
   "metadata": {},
   "outputs": [
    {
     "data": {
      "image/png": "[encoded data removed]",
      "text/plain": [
       "<Figure size 432x288 with 1 Axes>"
      ]
     },
     "metadata": {
      "image/png": {
       "height": 248,
       "width": 375
      },
      "needs_background": "light"
     },
     "output_type": "display_data"
    }
   ],
   "source": [
    "# Initiate the bar chart with the keys of itvl_count and the values of itvl_count as parameters\n",
    "#itvl_count keys as positions in x axis & itvl_count values as positions in y axis\n",
    "\n",
    "itvl_keys = ['M2', 'm3', 'P5', 'P4', 'P1', 'm6', 'm2', 'M3', 'd5', 'm7', 'P8', 'M6']\n",
    "\n",
    "itvl_values = [492, 380, 52, 158, 110, 30, 42, 35, 8, 25, 4, 3]\n",
    "\n",
    "# Close and display the plot\n",
    "plt.bar(itvl_keys, itvl_values)\n",
    "plt.show()"
   ]
  },
  {
   "cell_type": "markdown",
   "metadata": {},
   "source": [
    "### 3.4\n",
    "We already have the data that we want to plot and we checked that they are nicely plotted. What we need to do in the next exercises is ordering the intervals along the x axis (horizontal dimension) from the smallest to the largest distance.\n",
    "\n",
    "If we directly use the `sorted()` function with the keys of the `itvl_count` dictionary, since they are strings, the result will be an alphabetical order. So, to order the intervals in terms of their distance, we can use music21. Luckily, besides creating an interval with two pitches or two notes, we can also create an interval by calling `interval.Interval()` and giving an interval name as input (precisely as the keys of our `itvl_count`). Once we have created the interval, we can retrieve its distance either as semitones or cents. In this case, we can use semitones.\n",
    "\n",
    "Before using this method for all the keys of the `itvl_count` dictionary, let's test the creation of an interval from the string of an interval name, for example, `m3` (minor third). Print the \"nice name\" of the interval, and its number of semitones, to check that it worked.\n",
    "\n",
    "Expected result:\n",
    "\n",
    "    This interval is a Minor Third\n",
    "    This interval has 3 semitones."
   ]
  },
  {
   "cell_type": "code",
   "execution_count": 76,
   "metadata": {},
   "outputs": [
    {
     "name": "stdout",
     "output_type": "stream",
     "text": [
      "This interval is a Minor Third.\n",
      "This interval has 3 semitones.\n"
     ]
    }
   ],
   "source": [
    "# Create an interval object calling interval.Interval() and giving 'm3' as parameter. Save the output in a variable\n",
    "\n",
    "m3_itvl = interval.Interval('m3')\n",
    "\n",
    "# Print the nice name of the interval\n",
    "\n",
    "print(\"This interval is a {}.\".format(m3_itvl.niceName))\n",
    "\n",
    "# Print the number of semitones by calling the .semitones attribute on the variable where you saved the interval object.\n",
    "\n",
    "print(\"This interval has {} semitones.\".format(m3_itvl.semitones))"
   ]
  },
  {
   "cell_type": "markdown",
   "metadata": {},
   "source": [
    "### 3.5\n",
    "So, now we can apply that method to all the keys of the `itvl_count` dictionary. However, in the final plot, we wouldn't like to display number of semitones in the x axis, but the interval names. So, in order to keep a reference between semitones and interval names, we will create a dictionary in which the keys will be the semitones, and their respective values the interval name. Therefore:\n",
    "\n",
    "- create an empty dictionary. Call it `itvl_semitones`\n",
    "\n",
    "\n",
    "- iterate over all the keys of the `itvl_count` dictionary. For each iteration:\n",
    "    - create an interval object calling `interval.Interval` and using the current key as parameter. Save the interval object in a variable\n",
    "    - call the `.semitones` attribute on the variable where you saved the interval object and save the output in a new variable\n",
    "    - add the variable where you saved the semitones to the `itvl_semitones` dictionary as a new key, and assign as its value the current key of the iteration (from the `itvl_count` dictionary)\n",
    "    \n",
    "    \n",
    "- after all the iterations are finished, print the `itvl_semitones` dictionary\n",
    "\n",
    "Expected result:\n",
    "\n",
    "    {2: 'M2', 3: 'm3', 7: 'P5', 5: 'P4', 0: 'P1', 8: 'm6', 1: 'm2', 4: 'M3', 6: 'd5', 10: 'm7', 12: 'P8', 9: 'M6'}"
   ]
  },
  {
   "cell_type": "code",
   "execution_count": 78,
   "metadata": {},
   "outputs": [
    {
     "name": "stdout",
     "output_type": "stream",
     "text": [
      "{2: 'M2', 3: 'm3', 7: 'P5', 5: 'P4', 0: 'P1', 8: 'm6', 1: 'm2', 4: 'M3', 6: 'd5', 10: 'm7', 12: 'P8', 9: 'M6'}\n"
     ]
    }
   ],
   "source": [
    "# Create the empty dictionary itvl_semitones\n",
    "\n",
    "itvl_semitones = {}\n",
    "\n",
    "# Iterate over the keys of itvl_count. Call interval.Interval with the current key as parameter and\n",
    "# save the interval object in a variable. Retrieve its semitones and save it in a variable. Then,\n",
    "# add the semitones as key of itvl_semitones with the current key of the iteration as value\n",
    "\n",
    "for i in itvl_count.keys():\n",
    "    interval_object = interval.Interval(i)\n",
    "    interval_semiTones = interval_object.semitones\n",
    "    itvl_semitones[interval_semiTones] = interval_object.name\n",
    "\n",
    "# Print the itvl_semitones dictionary\n",
    "\n",
    "print(itvl_semitones)"
   ]
  },
  {
   "cell_type": "markdown",
   "metadata": {},
   "source": [
    "### 3.6\n",
    "Now we are ready to sort the intervals in terms of their semitones distance. If you remember from the pitch histogram computed in the \"Introduction to pyplot\" section, we need three lists for plotting our bar chart with ordered positions.\n",
    "\n",
    "1. a list with the ordered positions in the x axis. This will be an ordered list of the semitones. We can get that by calling the `sorted()` function on the keys of the `itvl_semitones` dictionary. Save the output in a variable called `sorted_semitones`. Print the list.\n",
    "\n",
    "\n",
    "2. a list with the ordered ticks for the x axis. This will be an ordered list of interval names. We can get that by creating an empty list, called `sorted_itvl`, then iterating over the elements of the `sorted_semitones` list, and for each iteration, calling the current element as key of the `itvl_semitones` dictonary and appending the retrieved value to the `sorted_itvl` list. Print the list.\n",
    "\n",
    "\n",
    "3. a list with ordered values for the y axis. This will be an ordered list of the values corresponding to each of the ordered interval names in `sorted_itvl`. We can get that by creating an empty list, called `sorted_values`, then iterating over the elements of the `sorted_itvl` list, and for each iteration, calling the current element as key of the `itvl_count` dictonary and appending its value to the `sorted_values` list. Print the list.\n",
    "\n",
    "Expected result:\n",
    "\n",
    "    [0, 1, 2, 3, 4, 5, 6, 7, 8, 9, 10, 12]\n",
    "    ['P1', 'm2', 'M2', 'm3', 'M3', 'P4', 'd5', 'P5', 'm6', 'M6', 'm7', 'P8']\n",
    "    [110, 42, 492, 380, 35, 158, 8, 52, 30, 3, 25, 4]"
   ]
  },
  {
   "cell_type": "code",
   "execution_count": 79,
   "metadata": {},
   "outputs": [
    {
     "name": "stdout",
     "output_type": "stream",
     "text": [
      "[0, 1, 2, 3, 4, 5, 6, 7, 8, 9, 10, 12]\n",
      "['P1', 'm2', 'M2', 'm3', 'M3', 'P4', 'd5', 'P5', 'm6', 'M6', 'm7', 'P8']\n",
      "[110, 42, 492, 380, 35, 158, 8, 52, 30, 3, 25, 4]\n"
     ]
    }
   ],
   "source": [
    "# Call the sorted() function giving the keys of itvl_semitones as parameter, and\n",
    "# save the output in a variable called sorted_semitones\n",
    "\n",
    "sorted_semitones = sorted(itvl_semitones.keys())\n",
    "\n",
    "# Print the list sorted_semitones\n",
    "\n",
    "print(sorted_semitones)\n",
    "\n",
    "# Create an empty list called sorted_itvl\n",
    "\n",
    "sorted_itvl = []\n",
    "\n",
    "# Iterate over the elements of sorted_semitones. Use the current element in each iteration as key\n",
    "# of the itvl_semitones dictionary for retrieving its corresponding value. Append that value to\n",
    "# the sorted_itvl list\n",
    "\n",
    "for i in sorted_semitones:\n",
    "    sorted_itvl.append(itvl_semitones[i])\n",
    "\n",
    "# Print the sorted_itvl list\n",
    "\n",
    "print(sorted_itvl)\n",
    "\n",
    "# Create an empty list called sorted_values\n",
    "\n",
    "sorted_values = []\n",
    "\n",
    "# Iterate over the elements of sorted_itvl. Use the current element in each iteration as key\n",
    "# of the itvl_count dictionary for retrieving its corresponding value. Append that value to\n",
    "# the sorted_values list\n",
    "\n",
    "for i in sorted_itvl:\n",
    "    sorted_values.append(itvl_count[i])\n",
    "\n",
    "# Print the sorted_values list\n",
    "print(sorted_values)"
   ]
  },
  {
   "cell_type": "markdown",
   "metadata": {},
   "source": [
    "### 3.7\n",
    "Now we are ready to plot!\n",
    "\n",
    "- Initiate the bar chart plot with the `sorted_semitones` and `sorted_values` lists as parameters.\n",
    "- Define the ticks of the x axis with the `.xticks()` function giving the `sorted_semitones` list as positions and the `sorted_itvl` list as ticks.\n",
    "- Close and display the plot\n",
    "\n",
    "Expected result:\n",
    "\n",
    "<img src=\"./img/09-3.7-OrderedIntervalsHistogram.png\"  style=\"height:19em; float:left;\">"
   ]
  },
  {
   "cell_type": "code",
   "execution_count": 92,
   "metadata": {},
   "outputs": [
    {
     "data": {
      "image/png": "[encoded data removed]",
      "text/plain": [
       "<Figure size 432x288 with 1 Axes>"
      ]
     },
     "metadata": {
      "image/png": {
       "height": 279,
       "width": 388
      },
      "needs_background": "light"
     },
     "output_type": "display_data"
    }
   ],
   "source": [
    "# Initiate the plot with the lists sorted_semitones and sorted_values\n",
    "\n",
    "plt.bar(sorted_semitones, sorted_values)\n",
    "\n",
    "# Define xticks with the lists sorted_semitones and sorted_itvl\n",
    "\n",
    "plt.xticks(sorted_semitones, sorted_itvl)\n",
    "plt.title(\"Interval Histogram\", size=15)\n",
    "plt.xlabel(\"Interval\", size=10)\n",
    "plt.ylabel(\"duration in quarter notes\", size=10)\n",
    "\n",
    "#What is the mistake here? Tried several ways, looked at stakoverflow and codespeedy, but it doesn't work to change the color of the bars\n",
    "#barlist = plt.bar(['P1', 'm2', 'M2', 'm3', 'P4', 'd5', 'P5', 'm6', 'M6', 'm7', 'P8'], [100, 200, 300, 400, 500])\n",
    "#barlist[1].set_color('green')\n",
    "\n",
    "# Close and display the plot\n",
    "plt.show()"
   ]
  },
  {
   "cell_type": "markdown",
   "metadata": {},
   "source": [
    "⇒ **Optional**: could you add a title to the previous plot, and labels to the x and y axis? You can even want to play with different colors for the bars, font sizes for the title, labels and ticks, and many more other features. Think of anything you would like to try out, and try to find it in the [**pyplot** documentation pages](https://matplotlib.org/contents.html)."
   ]
  },
  {
   "cell_type": "markdown",
   "metadata": {},
   "source": [
    "⇒ **Challenge**: could you plot a similar interval histogram as the one we did in Exercise 3, but considering the direction of the intervals?"
   ]
  }
 ],
 "metadata": {
  "kernelspec": {
   "display_name": "Python 3",
   "language": "python",
   "name": "python3"
  },
  "language_info": {
   "codemirror_mode": {
    "name": "ipython",
    "version": 3
   },
   "file_extension": ".py",
   "mimetype": "text/x-python",
   "name": "python",
   "nbconvert_exporter": "python",
   "pygments_lexer": "ipython3",
   "version": "3.8.1"
  }
 },
 "nbformat": 4,
 "nbformat_minor": 4
}
