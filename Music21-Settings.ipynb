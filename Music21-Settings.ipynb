{
 "cells": [
  {
   "cell_type": "markdown",
   "metadata": {},
   "source": [
    "# Setting the music21 environment\n",
    "When working with music21, we will frequently want to have a look to the musical score we are working with or to the partial or final results we are getting at in the form of musical scores. In order to do that, we need to link our score editor with music21. Besides, if we want to access our score editor from a Jupyter Notebook, we also nee to set the music21 environment accordingly.\n",
    "\n",
    "First of all, let's import music21 (make sure that you installed it already and that you are running this notebook from the Conda environment where you installed music21)."
   ]
  },
  {
   "cell_type": "code",
   "execution_count": 3,
   "metadata": {},
   "outputs": [],
   "source": [
    "from music21 import *"
   ]
  },
  {
   "cell_type": "markdown",
   "metadata": {},
   "source": [
    "Sometimes, depending on your OS, the environment is automatically set. So, let's see if this is the case."
   ]
  },
  {
   "cell_type": "code",
   "execution_count": 6,
   "metadata": {},
   "outputs": [],
   "source": [
    "# We load a score from the music21 corpus, and assign it to the variable s\n",
    "s = corpus.parse('bach/bwv244.46')\n",
    "\n",
    "# Now, we call the .show() method to open the score in our score editor\n",
    "# This might take few seconds\n",
    "s.show()"
   ]
  },
  {
   "cell_type": "markdown",
   "metadata": {},
   "source": [
    "If your score editor opened showing the score of BWV 244/46, then everything is working! You can skip the rest of this notebook.\n",
    "\n",
    "If it didn't, or you got an error message, you need to modify some user settings. For that, first of all, you need to find the path to the executable file of your score editor. Then, run the following cell (you have to give the path to your score editor in the third line).\n",
    "\n",
    "⇒ **Note**: if you get the following error message `UserSettingsException: An environment configuration file already exists; simply set values to modify.`, then, comment the second line (by adding a hash symbol before it: `#us.create()`), and run the cell again."
   ]
  },
  {
   "cell_type": "code",
   "execution_count": 5,
   "metadata": {},
   "outputs": [],
   "source": [
    "us = environment.UserSettings()\n",
    "#us.create()\n",
    "us[\"musicxmlPath\"] = \"C:/Program Files (x86)/MuseScore/bin/MuseScore3.exe\" # Write the path to your score editor here within the quotation marks\n",
    "us[\"ipythonShowFormat\"] = \"musicxml\""
   ]
  },
  {
   "cell_type": "markdown",
   "metadata": {},
   "source": [
    "Now, run the second cell (the one containing `s.show()`) again."
   ]
  }
 ],
 "metadata": {
  "kernelspec": {
   "display_name": "Python 3",
   "language": "python",
   "name": "python3"
  },
  "language_info": {
   "codemirror_mode": {
    "name": "ipython",
    "version": 3
   },
   "file_extension": ".py",
   "mimetype": "text/x-python",
   "name": "python",
   "nbconvert_exporter": "python",
   "pygments_lexer": "ipython3",
   "version": "3.8.1"
  }
 },
 "nbformat": 4,
 "nbformat_minor": 2
}
