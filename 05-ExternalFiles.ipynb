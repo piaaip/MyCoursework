{
 "cells": [
  {
   "cell_type": "markdown",
   "metadata": {},
   "source": [
    "# Working with external files\n",
    "So far, all the data and code that we have been using were contained in the same script we were writing. But that will be almost never the case. We will be needing at least to access external data (musical scores, audio recordings, annotations, etc.), stored in different files. And also, we will probably want to use someone else's code in our own code. So let's see how this can be done."
   ]
  },
  {
   "cell_type": "markdown",
   "metadata": {},
   "source": [
    "## Accessing external text files\n",
    "By default, Python comes with functions for accessing text files. To work of other types of files, we will need to use extra code that it is alreay made and available online, but not \"pre-installed\" in Python. In this notebook we will just look at these default functions in Python.\n",
    "\n",
    "We are going to be working with the file `WhatAWonderfulWorld-lyrics.txt`, contained in the `files` folder that you downloaed together with this notebook. Before start working with it, open it and give it a look. You can open it directly in Jupyter, just by double-clicking on it in the Jupyter Dashboard (the Dashboard is the page that is opened in your browser when you run the `jupyter-notebook` command in Conda, with the URL `http://localhost:8888/`). There is a common saying in data driven research: Before start working with them, \"give a look to your data.\"\n",
    "\n",
    "⇒ **Note**: `WhatAWonderfulWorld-lyrics.txt` is a **plain text** file. If you open it with an advanced text editor, it might force some formatting to it. So pay attention when closing the file not to save it as an enriched text file. Python cannot deal with those. Make sure that you don't modify the file format. If you want to be extra sure, open a copy of the file. In any case, the safest way is to open the file directly in Jupyter.\n",
    "\n",
    "As you see, this file contains the lyrics of the classic tune \"[What a wonderful world](https://en.wikipedia.org/wiki/What_a_Wonderful_World).\" Let's work with it!"
   ]
  },
  {
   "cell_type": "markdown",
   "metadata": {},
   "source": [
    "The first requirement for accessing a external file is \"telling\" Python where it is located and how it is called. That is, telling Python the ***path*** to the file and the ***file name***.\n",
    "\n",
    "The file name is just the name of the file including the extension, in this case: `WhatAWonderfulWorld-lyrics.txt`\n",
    "\n",
    "The path to the file can be given in two ways:\n",
    "- **absolute path**: that is the full path from the root drive.\n",
    "    - In Windows, they start with the letter of the drive unit, followed by colon ( `:` ) and then the rest of the path separated by **forward slashes** `/` (not backslashes). So, they should look something like: `C:/Users/MyUser/Documents/MyFolder/`.\n",
    "    - In MacOS, they start simply with a **forward slash** generally followed by `Users` (sometimes it can be `Home`). They should look something like: `/Users/MyUser/Documents/My Folder/`\n",
    "\n",
    "    ⇒ **Note**: Even thought in your computer you might seem the name of system folders in your language (`Benutzer`, `Dokumente`), both Windows and MacOS, internally, name them in English.\n",
    "    \n",
    "\n",
    "- **relative path**: is a path relative to the location of the Python script from which the target file will be accessed. For example, let's assume that this Notebook is saved in (using a Windows path)\n",
    "\n",
    "            C:/Users/MyUser/Documents/CompMethEthno/notebooks/\n",
    "\n",
    "    If I want to access a file saved in\n",
    "            \n",
    "            C:/Users/MyUser/Documents/CompMethEthno/notebooks/files/\n",
    "\n",
    "    that is, a folder that is saved in the same folder as the notebook, I don't need to give the full path of the file starting from `C:/...`, just the relative position with respect to the script. Therefore:    \n",
    "\n",
    "    - If the relative path starts in in the same folder where the script (in our case, our notebook) is saved, we start with `./`. This single period means \"the folder where I am now\". Or looked in a different way, you can understand that `./` replaces the part of the path that is common for the current location of the script and the file we want to access. So, for the previous example, `./` is the same as `C:/Users/MyUser/Documents/CompMethEthno/notebooks/`. Therefore, the relative path we need to give python would be\n",
    "    \n",
    "            ./files\n",
    "            \n",
    "        And if it were the case, we could give consecutive subfolders, like `./files/examples/lyrics/`.\n",
    "        \n",
    "    - If it is required to go through upper folders to get to our target, the double period `../` can be used for very step up. For example, imagine that our script is saved in\n",
    "    \n",
    "            C:/Users/MyUser/Documents/CompMethEthno/notebooks/\n",
    "           \n",
    "     The file we want to acces is saved in\n",
    "     \n",
    "            C:/Users/MyUser/Documents/files/\n",
    "     \n",
    "     That means that we need to go two levels up until reaching the folder that is shared by the two paths (`C:/Users/MyUser/Documents/`, and then, from there, enter `files/`. So, the relative path would be\n",
    "     \n",
    "             ../../files\n",
    "\n",
    "Absolute paths are less preferable, since, when you share code, you wouldn't know which OS the new user will be using. It is a good practice you share your data together with the code, so that you can controll the paths to all the required data. If that is not possible, you should make the user know that s/he has to worry about giving correct paths."
   ]
  },
  {
   "cell_type": "markdown",
   "metadata": {},
   "source": [
    "So now, let's work with our `WhatAWonderfulWorld-lyrics.txt` file."
   ]
  },
  {
   "cell_type": "code",
   "execution_count": 1,
   "metadata": {},
   "outputs": [
    {
     "name": "stdout",
     "output_type": "stream",
     "text": [
      "./files/WhatAWonderfulWorld-lyrics.txt\n"
     ]
    }
   ],
   "source": [
    "# If you downloaded the files folder together with the notebook, the relative path to WhatAWonderfulWorld-lyrics.txt is:\n",
    "path = \"./files/\"  # We save the path in a variable, in case we want to retrieve different files from the same folder\n",
    "\n",
    "# The name of the file\n",
    "fileName = \"WhatAWonderfulWorld-lyrics.txt\"\n",
    "\n",
    "# Now we join the path and the file name in the variable fn\n",
    "fn = path + fileName\n",
    "\n",
    "# Just to check that is correct, print it out\n",
    "print(fn)"
   ]
  },
  {
   "cell_type": "markdown",
   "metadata": {},
   "source": [
    "Now that we have the path and filename joined in the varible `fn` ready to use, let's open the file. The most common way of doing that is as follows:"
   ]
  },
  {
   "cell_type": "code",
   "execution_count": 2,
   "metadata": {},
   "outputs": [],
   "source": [
    "with open(fn, 'r') as f:\n",
    "    lyrics = f.readlines()"
   ]
  },
  {
   "cell_type": "markdown",
   "metadata": {},
   "source": [
    "The `open()` function takes two parameters: first, the file name together with the path, and then a letter indicating if we want to open the file just to read it (`'r'`), or for writing it from scratch (`'w'`), or to append new lines (`'a'`). In this case, we just want to read it, therefore, `'r'`.\n",
    "\n",
    "What `open()` does is creating a handle to the file. Using the `with` statement together with `as`, this handle is saved in the variable `f`. In the next line, we use the `.readlines()` method to read all the lines from the file and save them in the variable `lyrics`.\n",
    "\n",
    "You don't really need to understand this process. If you ever want to open a file to save its content in a variable, just use the code in the cell above, give a correct `path` + `file name` as `fn`, and save the data in the variable you want (in this case `lyrics`, but you can use the name you want)."
   ]
  },
  {
   "cell_type": "markdown",
   "metadata": {},
   "source": [
    "Now, let's see exactly what we have in the variable `lyrics`, just by calling it"
   ]
  },
  {
   "cell_type": "code",
   "execution_count": 3,
   "metadata": {},
   "outputs": [
    {
     "data": {
      "text/plain": [
       "['I see trees of green,\\n',\n",
       " 'red roses too,\\n',\n",
       " 'I see them bloom,\\n',\n",
       " 'for me and you.\\n',\n",
       " 'And I think to myself:\\n',\n",
       " 'what a wonderful world!\\n',\n",
       " '\\n',\n",
       " 'I see skies of blue\\n',\n",
       " 'and clouds of white,\\n',\n",
       " 'the bright blessed day,\\n',\n",
       " 'the dark sacred night.\\n',\n",
       " 'And I think to myself:\\n',\n",
       " 'what a wonderful world!\\n',\n",
       " '\\n',\n",
       " 'The colors of the rainbow,\\n',\n",
       " 'so pretty in the sky,\\n',\n",
       " 'are also on the faces\\n',\n",
       " 'of people going by.\\n',\n",
       " 'I see friends shaking hands,\\n',\n",
       " 'saying: \"How do you do?\"\\n',\n",
       " \"They're really saying:\\n\",\n",
       " '\"I love you!\"\\n',\n",
       " '\\n',\n",
       " 'I hear babies crying,\\n',\n",
       " 'I watch them grow,\\n',\n",
       " \"they'll learn much more\\n\",\n",
       " \"than I'll never know.\\n\",\n",
       " 'And I think to myself:\\n',\n",
       " 'what a wonderful world!\\n',\n",
       " 'Yes, I think to myself:\\n',\n",
       " 'what a wonderful world!']"
      ]
     },
     "execution_count": 3,
     "metadata": {},
     "output_type": "execute_result"
    }
   ],
   "source": [
    "lyrics"
   ]
  },
  {
   "cell_type": "markdown",
   "metadata": {},
   "source": [
    "As you see, the content of the file has been saved as a `list`. This can be known from the square brackets (`[  ]`) enclosing all the lines. Then, each line in the original file is retrieved as an independent `string` in this list.\n",
    "\n",
    "Notice that each string in the list, which, remember, correspond to a line in the original file, ends with a `\\n`. This is the escape sequence for new lines (escape sequences were introduced in Notebook 02). When we write a text file, every time we press `Enter` to finish a paragraph, a `\\n` is automatically created (and hidden to us). You can see that there are strings that consist only of `'\\n'`. These are the empty lines that we add for better readability in our text files.\n",
    "\n",
    "So, as with any list, we can access its content with indexing and slicing:"
   ]
  },
  {
   "cell_type": "code",
   "execution_count": 4,
   "metadata": {},
   "outputs": [
    {
     "name": "stdout",
     "output_type": "stream",
     "text": [
      "what a wonderful world!\n",
      "\n",
      "['I see trees of green,\\n', 'red roses too,\\n', 'I see them bloom,\\n', 'for me and you.\\n', 'And I think to myself:\\n', 'what a wonderful world!\\n']\n",
      "\n",
      "['I hear babies crying,\\n', 'I watch them grow,\\n', \"they'll learn much more\\n\", \"than I'll never know.\\n\", 'And I think to myself:\\n', 'what a wonderful world!\\n', 'Yes, I think to myself:\\n', 'what a wonderful world!']\n"
     ]
    }
   ],
   "source": [
    "# First occurrence of \"What a wonderful world!\"\n",
    "print(lyrics[5])\n",
    "\n",
    "# First verse\n",
    "print(lyrics[:6]) # Remember that the slice of a list is another list\n",
    "print()\n",
    "\n",
    "# Last verse\n",
    "print(lyrics[-8:])"
   ]
  },
  {
   "cell_type": "markdown",
   "metadata": {},
   "source": [
    "Great! So now we are ready to start working with these data."
   ]
  },
  {
   "cell_type": "markdown",
   "metadata": {},
   "source": [
    "## Importing modules\n",
    "I wrote several functions for analysing lyrics. Since I want to use these functions in several projects, I saved them all in a single Python file (that is, a file with the extension `.py`). It is called `lyricsAnalysis.py`, and you downloaded it together with the notebook.\n",
    "\n",
    "As always, the first thing to do is open it and \"give a look to your data.\" (Well, in this case it's not data, but code, but stil...) You can open it directly in Jupyter by doble clicking on it in the Jupyter Dashboard. Or you can also open it with a text editor, but remember, save it in the same `.py` format.\n",
    "\n",
    "You will see that the `lyricsAnalysis.py` file contains, first, three variables, that will be used later in the functions, but most importantly, four functions for performing different analysis. All of them are well documented, both with docstrings and comments. So give them a look and see if you understand what they do and how they can be used. (If you see that any of those functions use a method that is new for you, in the last notebook you learnt how to get information about it.)"
   ]
  },
  {
   "cell_type": "markdown",
   "metadata": {},
   "source": [
    "This file is different from the previous text file. The `WhatAWonderfulWorld-lyrics.txt` file contains data that we want to work on. However, the `lyricsAnalysis.py` file contains code that we want to use in our script to work on the data retrieved from `WhatAWonderfulWorld-lyrics.txt`. If we use the `open()` function, Python will consider the `lyricsAnalysis.py` file as a standard text file, and we will get a list of strings, one string per line. That is not what we want. We want to have the functions ready to use. Therefore, we need to use a different way.\n",
    "\n",
    "These files containing code that we can import to our own code are called **modules**. And the way to import them is by using an `import` statement.\n",
    "\n",
    "⇒ **Note**: the great majority of, let's say, \"professional\" modules have to be installed. In fact, music21, the software that we will be using for analysing music scores, is such a module (or better, group of modules). However, for single files like our `lyricsAnalysis.py` file, the only requirement for them to be imported is that **they have to be in the same folder as our code**. That is, `import` does not allow paths. So, make sure that `lyricsAnalysis.py` is saved in the same folder as this notebook."
   ]
  },
  {
   "cell_type": "code",
   "execution_count": 5,
   "metadata": {},
   "outputs": [],
   "source": [
    "# The extension .py has to be omitted\n",
    "\n",
    "import lyricsAnalysis"
   ]
  },
  {
   "cell_type": "markdown",
   "metadata": {},
   "source": [
    "So now, all the functions contained in `lyricsAnalysis.py` are ready to be used in our code!\n",
    "\n",
    "To call functions from an imported module, we need to give the name of the module first, followed by period ( `.` ) and then the name of the function.\n",
    "\n",
    "Let's start by using the function `countWords()` contained in the `lyricsAnalysis.py` file. And let's start by reading its documentation:"
   ]
  },
  {
   "cell_type": "code",
   "execution_count": null,
   "metadata": {},
   "outputs": [],
   "source": [
    "lyricsAnalysis.countWords?"
   ]
  },
  {
   "cell_type": "markdown",
   "metadata": {},
   "source": [
    "So, now that we know how to use it, let's count how many words are contained in the lyrics of \"What a wonderful world:\""
   ]
  },
  {
   "cell_type": "code",
   "execution_count": null,
   "metadata": {},
   "outputs": [],
   "source": [
    "# Since the countWords() function counts the words of single lines, we need to keep adding the number of words per line.\n",
    "# So, first, create a word counter\n",
    "word_counter = 0\n",
    "\n",
    "# Iterate over the lines in the lyrics\n",
    "for line in lyrics:\n",
    "    # Call the countWords function for each line\n",
    "    line_words = lyricsAnalysis.countWords(line)\n",
    "    # Update the word counter the number of words per line\n",
    "    word_counter += line_words\n",
    "\n",
    "# Print the results\n",
    "print(\"These lyrics have {} words.\".format(word_counter))"
   ]
  },
  {
   "cell_type": "markdown",
   "metadata": {},
   "source": [
    "Excellent!\n",
    "\n",
    "So, everytime we want to use a function from `lyricsAnalysis.py` we need to write the name of the module. And this can be a little bit tiring. Luckily, `import` allows us to give a \"nickname\" to our imported modules, in the following way:"
   ]
  },
  {
   "cell_type": "code",
   "execution_count": null,
   "metadata": {},
   "outputs": [],
   "source": [
    "import lyricsAnalysis as lA"
   ]
  },
  {
   "cell_type": "markdown",
   "metadata": {},
   "source": [
    "In the previous cell we re-imported `lyricsAnalysis.py` and assigned to it the nickname `lA`. Now, when we want to use its functions, we just need to call `lA.` and the name of the function.\n",
    "\n",
    "So, let's do that. Our file `lyricsAnalysis.py` contains functions for counting vowels and consonants. Let's read their documentation first:"
   ]
  },
  {
   "cell_type": "code",
   "execution_count": null,
   "metadata": {},
   "outputs": [],
   "source": [
    "lA.countVowels?"
   ]
  },
  {
   "cell_type": "code",
   "execution_count": null,
   "metadata": {},
   "outputs": [],
   "source": [
    "lA.countConsonants?"
   ]
  },
  {
   "cell_type": "markdown",
   "metadata": {},
   "source": [
    "Now we are ready to use them:"
   ]
  },
  {
   "cell_type": "code",
   "execution_count": null,
   "metadata": {},
   "outputs": [],
   "source": [
    "# These functions count vowels and consonants per line. So, create first counters for vowels and consonants\n",
    "vowel_counter = 0\n",
    "consonant_counter = 0\n",
    "\n",
    "# Iterate over the lines in lyrics\n",
    "for line in lyrics:\n",
    "    # Count vowels\n",
    "    line_vowels = lA.countVowels(line)\n",
    "    # Count consonants\n",
    "    line_consonants = lA.countConsonants(line)\n",
    "    # Update the vowels counter\n",
    "    vowel_counter += line_vowels\n",
    "    # Update the consonants counter\n",
    "    consonant_counter += line_consonants\n",
    "\n",
    "# Print the results\n",
    "print(\"These lyrics have {} vowels and {} consonants.\".format(vowel_counter, consonant_counter))"
   ]
  },
  {
   "cell_type": "markdown",
   "metadata": {},
   "source": [
    "Let's compute some statistics, why not?"
   ]
  },
  {
   "cell_type": "code",
   "execution_count": null,
   "metadata": {},
   "outputs": [],
   "source": [
    "# You might already know what to do...\n",
    "total = vowel_counter + consonant_counter\n",
    "\n",
    "vowels_percentage = vowel_counter / total * 100\n",
    "consonant_percentage = consonant_counter / total * 100\n",
    "\n",
    "print(\"These lyrics have a {}% of vowels and a {}% of consonants.\".format(round(vowels_percentage, 1), round(consonant_percentage, 1)))"
   ]
  },
  {
   "cell_type": "markdown",
   "metadata": {},
   "source": [
    "Finally, `import` allows importing only pieces of big modules:\n",
    "\n",
    "```Python\n",
    "from module import thisPart\n",
    "```\n",
    "\n",
    "Our `lyricsAnalysis.py` file is way too tiny to be used with this functionality. However, we can use a version of this functionality. If we substitute `thisPart` for an asterisk `*`, it means that we are importing everything from that module. So, what is the difference between `import module` and `form module import *`? With this second option, we won't need to call the module's name everytime we call a function in that module. So, in our case, if we run\n",
    "\n",
    "```Python\n",
    "from lyricsAnalysis import *\n",
    "```\n",
    "\n",
    "when we want to use the, for example, the `countWords()` function, we don't need to call `lyricsAnalysis.countWords()`, but just directly `countWords()`\n",
    "\n",
    "⇒ **Note**: I explain this because this is the way how we are going to be importing music21, according to its developer's recommendation. However, this way of importing is not advisable, since it can interfere with Python built-in functions, or functions from other modules or our own code."
   ]
  },
  {
   "cell_type": "markdown",
   "metadata": {},
   "source": [
    "To try this, let's use the fourth function in `lyricsAnalysis.py`, the one called `revowelizer()`. Let's import `lyricsAnalysis.py` using this last method, and then read the documentation of this function."
   ]
  },
  {
   "cell_type": "code",
   "execution_count": null,
   "metadata": {},
   "outputs": [],
   "source": [
    "from lyricsAnalysis import *\n",
    "\n",
    "revowelizer?"
   ]
  },
  {
   "cell_type": "markdown",
   "metadata": {},
   "source": [
    "Now that we know what this function does and how to use it, let's put it at work!"
   ]
  },
  {
   "cell_type": "code",
   "execution_count": null,
   "metadata": {},
   "outputs": [],
   "source": [
    "# Let's revowelize the first verse (lyrics[:6]), using the default target vowel, a\n",
    "\n",
    "for line in lyrics[:6]:\n",
    "    print(lA.revowelizer(line))"
   ]
  },
  {
   "cell_type": "code",
   "execution_count": null,
   "metadata": {},
   "outputs": [],
   "source": [
    "# Let's try the vowel o now, with the second verse\n",
    "for line in lyrics[7:13]:\n",
    "    print(lA.revowelizer(line, vowel=\"oO\"))\n",
    "\n",
    "print()\n",
    "\n",
    "# And, why not ü? Let's use the third verse for that\n",
    "for line in lyrics[14:22]:\n",
    "    print(lA.revowelizer(line, vowel=\"üÜ\"))"
   ]
  },
  {
   "cell_type": "markdown",
   "metadata": {},
   "source": [
    "## Saving output in text files\n",
    "I liked the output of the last cell, and I'd like to save it in a text file, to share it with someone else, or just to reuse it somewhere else. Python allows creating text files, also using the `open()` function. If when we call it we give as second parameter either `'w'`, for writing, or `'a'` for appending new content, if the file given as first parameter doesn't exist, it will be created. The output of the `open()` function is a handle to the newly created file. To add content to it, the method `.write()` can be used. Finally, we have to close the handle to the new file, by running the method `.close()`.\n",
    "\n",
    "Maybe, the better way to understand all this is just seeing it in action. We are going to run the `revowelizer()` function on all the lines of the last verse of the lyrics, to change all their vowels to \"i\" (or \"I\"), and then save the output in a text file:"
   ]
  },
  {
   "cell_type": "code",
   "execution_count": null,
   "metadata": {},
   "outputs": [],
   "source": [
    "# First, create a new file to save the output\n",
    "# This is the name of the new file\n",
    "newFile = 'revowelizedArmstrong.txt'\n",
    "\n",
    "# Use the same path defined at the beginning, ./files, so the new file will be created there\n",
    "new_fn = path + newFile\n",
    "\n",
    "# Second, open the new file.\n",
    "# Since the function revowelizer() will be called line by line, the returned output will be appended every time to the file.\n",
    "# Therefore, we open the file for appending ('a') new content.\n",
    "f = open(new_fn, 'a')\n",
    "\n",
    "# Third, run the code\n",
    "# Iterate over the lines of the last verse (lyrics[23:])\n",
    "for line in lyrics[23:]:\n",
    "    # Run the revowelizer() function in the current line and save it in the variable new_line\n",
    "    new_line = lA.revowelizer(line, vowel=\"iI\")\n",
    "    # Print the new line, just for us to know what the code is doing\n",
    "    print(new_line)\n",
    "    # The revowelizer() function removes the escape sequence for new lines (\"\\n\")\n",
    "    # If we append the output without \"\\n\", everything will be appended to a single line\n",
    "    # Therefore, we add \"\\n\" to each line\n",
    "    new_line += '\\n'\n",
    "    # Now we append the new line to the new file, using the .write() method\n",
    "    f.write(new_line)\n",
    "\n",
    "# Once we are finished, we need to close the handle to the new file.\n",
    "f.close()"
   ]
  },
  {
   "cell_type": "markdown",
   "metadata": {},
   "source": [
    "If you go to the `files` folder, a new `revowelizedArmstrong.txt` should have been created there with the output of our code.\n",
    "\n",
    "⇒ **Note**: When we use the function `open()` at the beginning of this notebook, we did it within a `with` statement. The advantage of this is that, once the content of the file is retrieved, the handle is closed automatically without needing to run the `.close()` method. The disadvantage is that we cannot keep adding content, as we just did.\n",
    "\n",
    "You can use the code of the previous cell as many times you want to try out different vowels or verses and save the output in text files. However, if you don't change the name of the new file, since you are openning it for appending lines (`open(new_fn, 'a')`) you will add the new output to the content alreay saved in that file. If you want to avoid that, you can either change the name of the new file, or delete the file previously created.\n",
    "\n",
    "We will not be using this functionality of writing new files much. I just introduced it here for you to know that it exists. So if you didn't fully get it, don't worry! It is not important for our course"
   ]
  },
  {
   "cell_type": "markdown",
   "metadata": {},
   "source": [
    "## Working with tables (`csv` files)\n",
    "Text files generally contain what is known as *unstructured* (or also *raw*) data. However, for our computational work, most of the time we will need *structured* data. One of the simplest, and most common ways of structuring data are **tables**. A table consists in a collection of data items, arranged in rows, for which we have different types of information, arranged in columns. But the best way of understanding this is just having a look to an example.\n",
    "\n",
    "In the `files` folder that you downloaded with this notebook, you will also find a `top20movies-RottenTomatoes.csv` file. This file contains information about the first 20 of the [\"Top 100 Movies of All Time\"](https://www.rottentomatoes.com/top/bestofrt/) according to the website Rotten Tomatoes.\n",
    "\n",
    "Let's first consider the extension, `.csv`. `csv` is the acronym of \"comma separated values,\" and it is the simplest type of tables. As always, before start working with them, \"give a look to your data.\" First, open this file directly in Jupyter by double-clicking on it in the Jupyter Dashboard (or in a text editor, but taking the aforementioned precautions). You'll probably find all the information confusing. But just read the first line. That is the *heading*, and it describes what type of information is stored in each column: `Title`, `Rating`, `Director`, `Year`, etc. These information types are separated by commas, meaning that each of them is in a different column. Then, if you look at the following lines, you will see that each line is a movie, that is, a data item, and for each of them we have the types of information described in the heading, that is, the title of the movie, the rating (according to the users of Rotten Tomatoes), the director of the movie, etc. And in each line, these pieces of information are also separated by commas.\n",
    "\n",
    "There is a more understandable way of looking at this data, which is opening the `top20movies-RottenTomatoes.csv` file with your spreadsheet software, such as Microsoft Excel, LibreOffice Calc, o Google Sheets. (I uploaded it to my Google Drive, so hopefully you can access it through Google Sheets with [this link](https://docs.google.com/spreadsheets/d/1zYA0puYwwMEPIK__lkQAPUaJpHWwdWfKgM82FO38U5c/edit?usp=sharing)). It might happen that you get a pop-up window asking for some details about how to handle the file. If so, make sure that you select commas as separators. So, if you are looking to this file in a spreadsheet software, hopefully the information is clear! When you close the file, make sure you maintain the `.csv` format and didn't do any format changes.\n",
    "\n",
    "Now that we understand our data, let's start working with them! There are quite sophisticated ways of loading `.csv` files to Python, with different modules. However, in this first approach, we will use the same `open()` function."
   ]
  },
  {
   "cell_type": "code",
   "execution_count": null,
   "metadata": {},
   "outputs": [],
   "source": [
    "# The name of the file\n",
    "fileName = 'top20movies-RottenTomatoes.csv'\n",
    "\n",
    "# This file is in the folder .files/, so we use the same path variable\n",
    "fn = path + fileName\n",
    "\n",
    "# Open the file and retrieve all the lines\n",
    "with open(fn, 'r') as f:\n",
    "    data = f.readlines()"
   ]
  },
  {
   "cell_type": "markdown",
   "metadata": {},
   "source": [
    "Using the `open()` function, the `.csv` file is considered as a standard text file. So let's look what was retrived:"
   ]
  },
  {
   "cell_type": "code",
   "execution_count": null,
   "metadata": {},
   "outputs": [],
   "source": [
    "data"
   ]
  },
  {
   "cell_type": "markdown",
   "metadata": {},
   "source": [
    "As you can see, as with the case of `WhatAWonderfulWorld-lyrics.txt`, the data are retrieved as a list of strings (notice that all of them also end with `\"\\n\"`). However, now each string correspond to a row of the table. And each of them contains all the information separated by commas. The data are structured.\n",
    "\n",
    "So, let's have a closer look. We will skip the first row with the heading (`data[0]`), and we'll have a look to the first data item, in the second row (`data[1]`)."
   ]
  },
  {
   "cell_type": "code",
   "execution_count": null,
   "metadata": {},
   "outputs": [],
   "source": [
    "movie_01 = data[1]\n",
    "\n",
    "print(movie_01)"
   ]
  },
  {
   "cell_type": "markdown",
   "metadata": {},
   "source": [
    "Luckily, we now know a string method that segments a given string according to the separator we decide: `.split()`. So, let's separate this first row using comma `,` as separator:"
   ]
  },
  {
   "cell_type": "code",
   "execution_count": null,
   "metadata": {},
   "outputs": [],
   "source": [
    "# First, use the .rstrip() method to remove the '\\n' at the end\n",
    "movie_01_clean = movie_01.rstrip()\n",
    "\n",
    "# Use .split(',') to segment the string according to commas\n",
    "movie_01_info = movie_01.rstrip().split(',')\n",
    "\n",
    "print(movie_01_info)"
   ]
  },
  {
   "cell_type": "markdown",
   "metadata": {},
   "source": [
    "Now, we have a list with all the information for that movie, and we can access then using indexing"
   ]
  },
  {
   "cell_type": "code",
   "execution_count": null,
   "metadata": {},
   "outputs": [],
   "source": [
    "for i in range(len(movie_01_info)):\n",
    "    print(\"Index {}: {}\".format(i, movie_01_info[i]))"
   ]
  },
  {
   "cell_type": "markdown",
   "metadata": {},
   "source": [
    "Great! So now we know how to access the information we need for each movie using the `.split()` method and indexing. We just need to remember what information type can be retrieved for each index. Let's make a note by looping over heading (first row, `data[0]`):"
   ]
  },
  {
   "cell_type": "code",
   "execution_count": null,
   "metadata": {},
   "outputs": [],
   "source": [
    "# Same logic as the previous cells\n",
    "\n",
    "heading = data[0]\n",
    "\n",
    "heading_clean = heading.rstrip()\n",
    "heading_info = heading_clean.split(',')\n",
    "\n",
    "for i in range(len(heading_info)):\n",
    "    print(\"{} : {}\".format(i, heading_info[i]))"
   ]
  },
  {
   "cell_type": "markdown",
   "metadata": {},
   "source": [
    "We are ready for our data analysis. The rest of this notebook is just some questions about our data that we can answer with the amount of programming you already now."
   ]
  },
  {
   "cell_type": "markdown",
   "metadata": {},
   "source": [
    "**Q1**: Most of these top 20 movies are from the USA. Are there movies from other countries? From which ones?"
   ]
  },
  {
   "cell_type": "code",
   "execution_count": null,
   "metadata": {},
   "outputs": [],
   "source": [
    "# Create an open string to store countries different from USA\n",
    "not_USA = []\n",
    "\n",
    "# Iterate over all movies, ignoring the first row (data[0]), which contains the heading. So: data[1:]\n",
    "for movie in data[1:]:\n",
    "    # Remove '\\n' at the end\n",
    "    movie_clean = movie.rstrip()\n",
    "    # Segment the string according to commas\n",
    "    movie_info = movie_clean.split(',')\n",
    "    # Retrieve the country: index 4\n",
    "    movie_country = movie_info[4]\n",
    "    # Check if the country is different to \"USA\", and also if it is not already in the not_USA list, to avoid repetitions\n",
    "    if movie_country != \"USA\" and movie_country not in not_USA:\n",
    "        # Append to the not_USA list\n",
    "        not_USA.append(movie_country)\n",
    "\n",
    "# Print results\n",
    "print(\"Besides from USA, the top 20 movies by Rotten Tomatoes include movies from:\")\n",
    "for country in not_USA:\n",
    "    print(\"\\t\" + country)"
   ]
  },
  {
   "cell_type": "markdown",
   "metadata": {},
   "source": [
    "**Q2**: Most of the films are from recent years. Which movies reached the top 20 from before the 2000s?"
   ]
  },
  {
   "cell_type": "code",
   "execution_count": null,
   "metadata": {},
   "outputs": [],
   "source": [
    "# Empty list to store years\n",
    "pre2000 = []\n",
    "\n",
    "# Iterate over all movies, excluding heading\n",
    "for movie in data[1:]:\n",
    "    # Concatenate the methods .rstrip().split(',') to remove '\\n' and segment the string at once\n",
    "    movie_info = movie.rstrip().split(',')\n",
    "    # Retrieve the year: index 3. Convert the year into an integer (originally is a string)\n",
    "    movie_year = int(movie_info[3])\n",
    "    # Check if the year is less than 2000\n",
    "    if movie_year < 2000:\n",
    "        # Append to the pre2000 list\n",
    "        pre2000.append(movie_year)\n",
    "\n",
    "print(\"The top 20 movies by Rotten Tomatoes include {} filmed before 2000:\".format(len(pre2000)))\n",
    "# I use the function sorted() to order the list of integers from the lower to the higher\n",
    "for year in sorted(pre2000):\n",
    "    print(\"\\t\" + str(year))"
   ]
  },
  {
   "cell_type": "markdown",
   "metadata": {},
   "source": [
    "**Q3**: To which genres belong these top 20 movies?\n",
    "\n",
    "⇒ **Note**: I hope that by now you are getting used to some of the commong procedures. So I will start reducing the comments."
   ]
  },
  {
   "cell_type": "code",
   "execution_count": null,
   "metadata": {},
   "outputs": [],
   "source": [
    "genres = []\n",
    "\n",
    "for movie in data[1:]:\n",
    "    # Concatenate .rstrip().split(',') and indexing\n",
    "    # Genre: index 6\n",
    "    movie_genre = movie.rstrip().split(',')[6]\n",
    "    if movie_genre not in genres:\n",
    "        genres.append(movie_genre)\n",
    "        \n",
    "print(\"The top 20 movies by Rotten Tomatoes belong to {} genres:\".format(len(genres)))\n",
    "# When used with a list of strings, the sorted() function orders them alphabetically\n",
    "for genre in sorted(genres):\n",
    "    print(\"\\t\" + genre)"
   ]
  },
  {
   "cell_type": "markdown",
   "metadata": {},
   "source": [
    "**Q4**: Which percentage of movies correspond to each genre?"
   ]
  },
  {
   "cell_type": "code",
   "execution_count": null,
   "metadata": {},
   "outputs": [],
   "source": [
    "# Counters\n",
    "action_movies = 0\n",
    "animation_movies = 0\n",
    "comedy_movies = 0\n",
    "drama_movies = 0\n",
    "horror_movies = 0\n",
    "musical_movies = 0\n",
    "\n",
    "for movie in data[1:]:\n",
    "    # Concatenate .rstrip().split(',') and indexing\n",
    "    movie_genre = movie.rstrip().split(',')[6]\n",
    "    if movie_genre == \"Action\":\n",
    "        action_movies += 1\n",
    "    elif movie_genre == \"Animation\":\n",
    "        animation_movies += 1\n",
    "    elif movie_genre == \"Comedy\":\n",
    "        comedy_movies += 1\n",
    "    elif movie_genre == \"Drama\":\n",
    "        drama_movies += 1\n",
    "    elif movie_genre == \"Horror\":\n",
    "        horror_movies += 1\n",
    "    elif movie_genre == \"Musical\":\n",
    "        musical_movies += 1\n",
    "\n",
    "print(\"The distribution of the top 20 movies by Rotten Tomatoes by genre is as follows:\")\n",
    "print(\"- {}% of action movies\".format(action_movies / 20 * 100))\n",
    "print(\"- {}% of animation movies\".format(animation_movies / 20 * 100))\n",
    "print(\"- {}% of comedy movies\".format(comedy_movies / 20 * 100))\n",
    "print(\"- {}% of drama movies\".format(drama_movies / 20 * 100))\n",
    "print(\"- {}% of horror movies\".format(horror_movies / 20 * 100))\n",
    "print(\"- {}% of musical movies\".format(musical_movies / 20 * 100))"
   ]
  },
  {
   "cell_type": "markdown",
   "metadata": {},
   "source": [
    "**Q5**: What is the mean duration of these movies? Which movie is the longest one? And the shortest?"
   ]
  },
  {
   "cell_type": "code",
   "execution_count": null,
   "metadata": {},
   "outputs": [],
   "source": [
    "longest_movie_duration = 0\n",
    "# To look for the longest movie, I will compare the duration of each movie to this variable\n",
    "# If it is longer than this variable, I will update the variable value to the duration of the movie\n",
    "# Therefore, I need to start with a very low value\n",
    "\n",
    "# I want to have information about the longest movie, so I create variables to store them\n",
    "# Since when a variable is defined a value has to be assigned to it, I create them as empty strings (\"\")\n",
    "longest_movie_title = \"\"\n",
    "longest_movie_director = \"\"\n",
    "longest_movie_year = \"\"\n",
    "\n",
    "# The same for the shortest movie\n",
    "shortest_movie_duration = 1000000\n",
    "# Now I will look for movies with shorter duration that this variable, so I start with a very high value\n",
    "\n",
    "# Information about the shortest movie\n",
    "shortest_movie_title = \"\"\n",
    "shortest_movie_director = \"\"\n",
    "shortest_movie_year = \"\"\n",
    "\n",
    "# To compute the mean duration, I need to sum all the durations, and divide it later by the number of movies\n",
    "total_duration = 0\n",
    "\n",
    "for movie in data[1:]:\n",
    "    movie_info = movie.rstrip().split(',')\n",
    "    # Retrieve information about the movie\n",
    "    movie_duration = int(movie_info[5])   # Convert the duration to integer (originally a string)\n",
    "    movie_title = movie_info[0]\n",
    "    movie_director = movie_info[2]\n",
    "    movie_year = movie_info[3]\n",
    "    # Check if the duration of this movie is longer than the duration stored in longest_movie_duration\n",
    "    if movie_duration > longest_movie_duration:\n",
    "        # If so, this duration is the new value for the longest_movie_duration\n",
    "        longest_movie_duration = movie_duration\n",
    "        # And therefore, save the related information of this movie\n",
    "        longest_movie_title = movie_title\n",
    "        longest_movie_director = movie_director\n",
    "        longest_movie_year = movie_year\n",
    "    # Check if the duration of this movie is shorter than the duration stored in shortest_movie_duration\n",
    "    if movie_duration < shortest_movie_duration:\n",
    "        # If so, this duration is the new value for the shortest_movie_duration\n",
    "        shortest_movie_duration = movie_duration\n",
    "        # And therfore, save the related information of this movie\n",
    "        shortest_movie_title = movie_title\n",
    "        shortest_movie_director = movie_director\n",
    "        shortest_movie_year = movie_year\n",
    "    \n",
    "    # In all cases, sum the duration of the current movie to the total duration\n",
    "    total_duration += movie_duration\n",
    "    \n",
    "# Calculate the mean duration\n",
    "mean_duration = total_duration / 20\n",
    "\n",
    "print(\"The mean duration of the top 20 movies by Rotten Tomatoes is {} minutes.\".format(mean_duration))\n",
    "print('The longest movie is \"{}\" by {} ({}), with {} minutes.'.format(longest_movie_title, longest_movie_director, longest_movie_year, longest_movie_duration))\n",
    "print('The shortest movie is \"{}\" by {} ({}), with {} minutes.'.format(shortest_movie_title, shortest_movie_director, shortest_movie_year, shortest_movie_duration))"
   ]
  },
  {
   "cell_type": "markdown",
   "metadata": {},
   "source": [
    "So, do you have any other questions about these movies?"
   ]
  },
  {
   "cell_type": "code",
   "execution_count": null,
   "metadata": {},
   "outputs": [],
   "source": []
  }
 ],
 "metadata": {
  "kernelspec": {
   "display_name": "Python 3",
   "language": "python",
   "name": "python3"
  },
  "language_info": {
   "codemirror_mode": {
    "name": "ipython",
    "version": 3
   },
   "file_extension": ".py",
   "mimetype": "text/x-python",
   "name": "python",
   "nbconvert_exporter": "python",
   "pygments_lexer": "ipython3",
   "version": "3.8.1"
  }
 },
 "nbformat": 4,
 "nbformat_minor": 2
}
