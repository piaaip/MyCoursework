{
 "cells": [
  {
   "cell_type": "code",
   "execution_count": 1,
   "metadata": {},
   "outputs": [
    {
     "name": "stdout",
     "output_type": "stream",
     "text": [
      "James was born in 1997.\n"
     ]
    }
   ],
   "source": [
    "name = \"James\"\n",
    "birth = 1997\n",
    "\n",
    "print(\"{} was born in {}.\".format(name, birth))"
   ]
  },
  {
   "cell_type": "code",
   "execution_count": 2,
   "metadata": {},
   "outputs": [
    {
     "name": "stdout",
     "output_type": "stream",
     "text": [
      "James is 23 years old.\n"
     ]
    }
   ],
   "source": [
    "print(\"{} is {} years old.\".format(name, 2020 - birth))"
   ]
  },
  {
   "cell_type": "markdown",
   "metadata": {},
   "source": [
    "In the following statement, you could have used the variable `birth` instead of the integer `1997`."
   ]
  },
  {
   "cell_type": "code",
   "execution_count": 3,
   "metadata": {},
   "outputs": [
    {
     "name": "stdout",
     "output_type": "stream",
     "text": [
      "James was born 227 years after Beethoven.\n"
     ]
    }
   ],
   "source": [
    "print(\"{} was born {} years after Beethoven.\".format(name, birth-1770))"
   ]
  },
  {
   "cell_type": "markdown",
   "metadata": {},
   "source": [
    "And also here, instead of assigning `23` to the variable `age`, you could have used the variable `birth`. In this way, you only need to change the variable `birth` once in order to update the whole code."
   ]
  },
  {
   "cell_type": "code",
   "execution_count": 4,
   "metadata": {},
   "outputs": [
    {
     "name": "stdout",
     "output_type": "stream",
     "text": [
      "In lunar years, James is 23.69 years old.\n",
      "If James were a dog, he would be 3.29 years old.\n"
     ]
    }
   ],
   "source": [
    "age = 2020 - birth\n",
    "\n",
    "print(\"In lunar years, {} is {} years old.\".format(name, age * 1.03))\n",
    "print(\"If {} were a dog, he would be {:.2f} years old.\".format(name, age / 7))"
   ]
  },
  {
   "cell_type": "code",
   "execution_count": 5,
   "metadata": {},
   "outputs": [
    {
     "name": "stdout",
     "output_type": "stream",
     "text": [
      "If James was a Martian, he would be 12.23404255319149 years old.\n"
     ]
    }
   ],
   "source": [
    "print(\"If {} was a Martian, he would be {} years old.\".format (name, age/1.88))"
   ]
  },
  {
   "cell_type": "code",
   "execution_count": null,
   "metadata": {},
   "outputs": [],
   "source": []
  }
 ],
 "metadata": {
  "kernelspec": {
   "display_name": "Python 3",
   "language": "python",
   "name": "python3"
  },
  "language_info": {
   "codemirror_mode": {
    "name": "ipython",
    "version": 3
   },
   "file_extension": ".py",
   "mimetype": "text/x-python",
   "name": "python",
   "nbconvert_exporter": "python",
   "pygments_lexer": "ipython3",
   "version": "3.8.1"
  }
 },
 "nbformat": 4,
 "nbformat_minor": 2
}
